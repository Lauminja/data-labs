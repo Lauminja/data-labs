{
 "cells": [
  {
   "cell_type": "code",
   "execution_count": 82,
   "metadata": {},
   "outputs": [],
   "source": [
    "%matplotlib inline \n",
    "import matplotlib.pyplot as plt\n",
    "import seaborn as sns\n",
    "\n",
    "import numpy as np\n",
    "import pandas as pd\n",
    "\n",
    "import datetime"
   ]
  },
  {
   "cell_type": "code",
   "execution_count": 83,
   "metadata": {},
   "outputs": [],
   "source": [
    "taxi = pd.read_csv('../data/train.csv')"
   ]
  },
  {
   "cell_type": "code",
   "execution_count": 84,
   "metadata": {},
   "outputs": [
    {
     "data": {
      "text/html": [
       "<div>\n",
       "<style scoped>\n",
       "    .dataframe tbody tr th:only-of-type {\n",
       "        vertical-align: middle;\n",
       "    }\n",
       "\n",
       "    .dataframe tbody tr th {\n",
       "        vertical-align: top;\n",
       "    }\n",
       "\n",
       "    .dataframe thead th {\n",
       "        text-align: right;\n",
       "    }\n",
       "</style>\n",
       "<table border=\"1\" class=\"dataframe\">\n",
       "  <thead>\n",
       "    <tr style=\"text-align: right;\">\n",
       "      <th></th>\n",
       "      <th>id</th>\n",
       "      <th>vendor_id</th>\n",
       "      <th>pickup_datetime</th>\n",
       "      <th>dropoff_datetime</th>\n",
       "      <th>passenger_count</th>\n",
       "      <th>pickup_longitude</th>\n",
       "      <th>pickup_latitude</th>\n",
       "      <th>dropoff_longitude</th>\n",
       "      <th>dropoff_latitude</th>\n",
       "      <th>store_and_fwd_flag</th>\n",
       "      <th>trip_duration</th>\n",
       "    </tr>\n",
       "  </thead>\n",
       "  <tbody>\n",
       "    <tr>\n",
       "      <th>0</th>\n",
       "      <td>id2875421</td>\n",
       "      <td>2</td>\n",
       "      <td>2016-03-14 17:24:55</td>\n",
       "      <td>2016-03-14 17:32:30</td>\n",
       "      <td>1</td>\n",
       "      <td>-73.982155</td>\n",
       "      <td>40.767937</td>\n",
       "      <td>-73.964630</td>\n",
       "      <td>40.765602</td>\n",
       "      <td>N</td>\n",
       "      <td>455</td>\n",
       "    </tr>\n",
       "    <tr>\n",
       "      <th>1</th>\n",
       "      <td>id2377394</td>\n",
       "      <td>1</td>\n",
       "      <td>2016-06-12 00:43:35</td>\n",
       "      <td>2016-06-12 00:54:38</td>\n",
       "      <td>1</td>\n",
       "      <td>-73.980415</td>\n",
       "      <td>40.738564</td>\n",
       "      <td>-73.999481</td>\n",
       "      <td>40.731152</td>\n",
       "      <td>N</td>\n",
       "      <td>663</td>\n",
       "    </tr>\n",
       "    <tr>\n",
       "      <th>2</th>\n",
       "      <td>id3858529</td>\n",
       "      <td>2</td>\n",
       "      <td>2016-01-19 11:35:24</td>\n",
       "      <td>2016-01-19 12:10:48</td>\n",
       "      <td>1</td>\n",
       "      <td>-73.979027</td>\n",
       "      <td>40.763939</td>\n",
       "      <td>-74.005333</td>\n",
       "      <td>40.710087</td>\n",
       "      <td>N</td>\n",
       "      <td>2124</td>\n",
       "    </tr>\n",
       "    <tr>\n",
       "      <th>3</th>\n",
       "      <td>id3504673</td>\n",
       "      <td>2</td>\n",
       "      <td>2016-04-06 19:32:31</td>\n",
       "      <td>2016-04-06 19:39:40</td>\n",
       "      <td>1</td>\n",
       "      <td>-74.010040</td>\n",
       "      <td>40.719971</td>\n",
       "      <td>-74.012268</td>\n",
       "      <td>40.706718</td>\n",
       "      <td>N</td>\n",
       "      <td>429</td>\n",
       "    </tr>\n",
       "    <tr>\n",
       "      <th>4</th>\n",
       "      <td>id2181028</td>\n",
       "      <td>2</td>\n",
       "      <td>2016-03-26 13:30:55</td>\n",
       "      <td>2016-03-26 13:38:10</td>\n",
       "      <td>1</td>\n",
       "      <td>-73.973053</td>\n",
       "      <td>40.793209</td>\n",
       "      <td>-73.972923</td>\n",
       "      <td>40.782520</td>\n",
       "      <td>N</td>\n",
       "      <td>435</td>\n",
       "    </tr>\n",
       "  </tbody>\n",
       "</table>\n",
       "</div>"
      ],
      "text/plain": [
       "          id  vendor_id      pickup_datetime     dropoff_datetime  \\\n",
       "0  id2875421          2  2016-03-14 17:24:55  2016-03-14 17:32:30   \n",
       "1  id2377394          1  2016-06-12 00:43:35  2016-06-12 00:54:38   \n",
       "2  id3858529          2  2016-01-19 11:35:24  2016-01-19 12:10:48   \n",
       "3  id3504673          2  2016-04-06 19:32:31  2016-04-06 19:39:40   \n",
       "4  id2181028          2  2016-03-26 13:30:55  2016-03-26 13:38:10   \n",
       "\n",
       "   passenger_count  pickup_longitude  pickup_latitude  dropoff_longitude  \\\n",
       "0                1        -73.982155        40.767937         -73.964630   \n",
       "1                1        -73.980415        40.738564         -73.999481   \n",
       "2                1        -73.979027        40.763939         -74.005333   \n",
       "3                1        -74.010040        40.719971         -74.012268   \n",
       "4                1        -73.973053        40.793209         -73.972923   \n",
       "\n",
       "   dropoff_latitude store_and_fwd_flag  trip_duration  \n",
       "0         40.765602                  N            455  \n",
       "1         40.731152                  N            663  \n",
       "2         40.710087                  N           2124  \n",
       "3         40.706718                  N            429  \n",
       "4         40.782520                  N            435  "
      ]
     },
     "execution_count": 84,
     "metadata": {},
     "output_type": "execute_result"
    }
   ],
   "source": [
    "taxi.head()"
   ]
  },
  {
   "cell_type": "markdown",
   "metadata": {},
   "source": [
    "Convert pickup and drop off to datetime"
   ]
  },
  {
   "cell_type": "code",
   "execution_count": 85,
   "metadata": {},
   "outputs": [],
   "source": [
    "taxi.pickup_datetime = pd.to_datetime(taxi.pickup_datetime)\n",
    "taxi.dropoff_datetime = pd.to_datetime(taxi.dropoff_datetime)"
   ]
  },
  {
   "cell_type": "markdown",
   "metadata": {},
   "source": [
    "Choose only vendor 2 & month of January to create a subset from which we will take a sample to apply the model"
   ]
  },
  {
   "cell_type": "code",
   "execution_count": 86,
   "metadata": {},
   "outputs": [],
   "source": [
    "subset = taxi[(taxi.vendor_id == 2) & (taxi.pickup_datetime.dt.month == 1)]"
   ]
  },
  {
   "cell_type": "code",
   "execution_count": 87,
   "metadata": {},
   "outputs": [
    {
     "data": {
      "text/plain": [
       "(124105, 11)"
      ]
     },
     "execution_count": 87,
     "metadata": {},
     "output_type": "execute_result"
    }
   ],
   "source": [
    "subset.shape"
   ]
  },
  {
   "cell_type": "code",
   "execution_count": 88,
   "metadata": {},
   "outputs": [],
   "source": [
    "subset2 = subset.copy()"
   ]
  },
  {
   "cell_type": "markdown",
   "metadata": {},
   "source": [
    "### Visualize the Data to Gain Insights"
   ]
  },
  {
   "cell_type": "markdown",
   "metadata": {},
   "source": [
    "Also drop the rows with trip duration > 3h as outliers"
   ]
  },
  {
   "cell_type": "code",
   "execution_count": 89,
   "metadata": {},
   "outputs": [],
   "source": [
    "subset2 = subset2[subset2.trip_duration < 10800]"
   ]
  },
  {
   "cell_type": "markdown",
   "metadata": {},
   "source": [
    "Use a sample of 10k rows for clustering"
   ]
  },
  {
   "cell_type": "code",
   "execution_count": 90,
   "metadata": {},
   "outputs": [],
   "source": [
    "df = subset2.sample(15000)"
   ]
  },
  {
   "cell_type": "markdown",
   "metadata": {},
   "source": [
    "### Cleaning & data engineering for 2nd clustering"
   ]
  },
  {
   "cell_type": "markdown",
   "metadata": {},
   "source": [
    "Drop store_and_fwd_flag & vendor_id columns as they are not significant for the clustering, and drop all latitude & longitude information as it's now represented by the cluster information"
   ]
  },
  {
   "cell_type": "code",
   "execution_count": 91,
   "metadata": {},
   "outputs": [],
   "source": [
    "df_datetime = df.copy()"
   ]
  },
  {
   "cell_type": "code",
   "execution_count": 92,
   "metadata": {},
   "outputs": [],
   "source": [
    "df_datetime.drop(['id','store_and_fwd_flag', 'vendor_id', 'pickup_longitude', 'pickup_latitude',\n",
    "               'dropoff_longitude', 'dropoff_latitude'], inplace=True, axis=1)"
   ]
  },
  {
   "cell_type": "markdown",
   "metadata": {},
   "source": [
    "Feature engineering on datetime: convert pick up and drop off dates to datetime"
   ]
  },
  {
   "cell_type": "code",
   "execution_count": 93,
   "metadata": {},
   "outputs": [],
   "source": [
    "def get_data(dt):\n",
    "    return [dt.day_name(), dt.hour]\n",
    "\n",
    "df_datetime['pickup'] = df_datetime.pickup_datetime.map(get_data)\n",
    "df_datetime['dropoff'] = df_datetime.pickup_datetime.map(get_data)"
   ]
  },
  {
   "cell_type": "code",
   "execution_count": 94,
   "metadata": {},
   "outputs": [
    {
     "data": {
      "text/html": [
       "<div>\n",
       "<style scoped>\n",
       "    .dataframe tbody tr th:only-of-type {\n",
       "        vertical-align: middle;\n",
       "    }\n",
       "\n",
       "    .dataframe tbody tr th {\n",
       "        vertical-align: top;\n",
       "    }\n",
       "\n",
       "    .dataframe thead th {\n",
       "        text-align: right;\n",
       "    }\n",
       "</style>\n",
       "<table border=\"1\" class=\"dataframe\">\n",
       "  <thead>\n",
       "    <tr style=\"text-align: right;\">\n",
       "      <th></th>\n",
       "      <th>pickup_datetime</th>\n",
       "      <th>dropoff_datetime</th>\n",
       "      <th>passenger_count</th>\n",
       "      <th>trip_duration</th>\n",
       "      <th>pickup</th>\n",
       "      <th>dropoff</th>\n",
       "    </tr>\n",
       "  </thead>\n",
       "  <tbody>\n",
       "    <tr>\n",
       "      <th>1020387</th>\n",
       "      <td>2016-01-16 16:41:37</td>\n",
       "      <td>2016-01-16 16:48:37</td>\n",
       "      <td>1</td>\n",
       "      <td>420</td>\n",
       "      <td>[Saturday, 16]</td>\n",
       "      <td>[Saturday, 16]</td>\n",
       "    </tr>\n",
       "    <tr>\n",
       "      <th>1003233</th>\n",
       "      <td>2016-01-06 11:03:06</td>\n",
       "      <td>2016-01-06 11:15:24</td>\n",
       "      <td>1</td>\n",
       "      <td>738</td>\n",
       "      <td>[Wednesday, 11]</td>\n",
       "      <td>[Wednesday, 11]</td>\n",
       "    </tr>\n",
       "    <tr>\n",
       "      <th>1381150</th>\n",
       "      <td>2016-01-11 04:52:30</td>\n",
       "      <td>2016-01-11 04:55:46</td>\n",
       "      <td>1</td>\n",
       "      <td>196</td>\n",
       "      <td>[Monday, 4]</td>\n",
       "      <td>[Monday, 4]</td>\n",
       "    </tr>\n",
       "    <tr>\n",
       "      <th>971935</th>\n",
       "      <td>2016-01-06 22:03:38</td>\n",
       "      <td>2016-01-06 22:20:33</td>\n",
       "      <td>1</td>\n",
       "      <td>1015</td>\n",
       "      <td>[Wednesday, 22]</td>\n",
       "      <td>[Wednesday, 22]</td>\n",
       "    </tr>\n",
       "    <tr>\n",
       "      <th>932714</th>\n",
       "      <td>2016-01-30 02:05:42</td>\n",
       "      <td>2016-01-30 02:23:26</td>\n",
       "      <td>2</td>\n",
       "      <td>1064</td>\n",
       "      <td>[Saturday, 2]</td>\n",
       "      <td>[Saturday, 2]</td>\n",
       "    </tr>\n",
       "  </tbody>\n",
       "</table>\n",
       "</div>"
      ],
      "text/plain": [
       "            pickup_datetime    dropoff_datetime  passenger_count  \\\n",
       "1020387 2016-01-16 16:41:37 2016-01-16 16:48:37                1   \n",
       "1003233 2016-01-06 11:03:06 2016-01-06 11:15:24                1   \n",
       "1381150 2016-01-11 04:52:30 2016-01-11 04:55:46                1   \n",
       "971935  2016-01-06 22:03:38 2016-01-06 22:20:33                1   \n",
       "932714  2016-01-30 02:05:42 2016-01-30 02:23:26                2   \n",
       "\n",
       "         trip_duration           pickup          dropoff  \n",
       "1020387            420   [Saturday, 16]   [Saturday, 16]  \n",
       "1003233            738  [Wednesday, 11]  [Wednesday, 11]  \n",
       "1381150            196      [Monday, 4]      [Monday, 4]  \n",
       "971935            1015  [Wednesday, 22]  [Wednesday, 22]  \n",
       "932714            1064    [Saturday, 2]    [Saturday, 2]  "
      ]
     },
     "execution_count": 94,
     "metadata": {},
     "output_type": "execute_result"
    }
   ],
   "source": [
    "df_datetime.head()"
   ]
  },
  {
   "cell_type": "code",
   "execution_count": 95,
   "metadata": {},
   "outputs": [],
   "source": [
    "df_datetime.drop(['pickup_datetime', 'dropoff_datetime'], inplace=True, axis=1)"
   ]
  },
  {
   "cell_type": "code",
   "execution_count": 96,
   "metadata": {},
   "outputs": [],
   "source": [
    "column_names = ['pickup_day', 'pickup_hour']\n",
    "\n",
    "for i in range(len(column_names)):\n",
    "    df_datetime[column_names[i]] = [x[i] for x in df_datetime['pickup']]"
   ]
  },
  {
   "cell_type": "code",
   "execution_count": 97,
   "metadata": {},
   "outputs": [],
   "source": [
    "column_names = ['dropoff_day', 'dropoff_hour']\n",
    "\n",
    "for i in range(len(column_names)):\n",
    "    df_datetime[column_names[i]] = [x[i] for x in df_datetime['dropoff']]"
   ]
  },
  {
   "cell_type": "code",
   "execution_count": 98,
   "metadata": {},
   "outputs": [
    {
     "data": {
      "text/html": [
       "<div>\n",
       "<style scoped>\n",
       "    .dataframe tbody tr th:only-of-type {\n",
       "        vertical-align: middle;\n",
       "    }\n",
       "\n",
       "    .dataframe tbody tr th {\n",
       "        vertical-align: top;\n",
       "    }\n",
       "\n",
       "    .dataframe thead th {\n",
       "        text-align: right;\n",
       "    }\n",
       "</style>\n",
       "<table border=\"1\" class=\"dataframe\">\n",
       "  <thead>\n",
       "    <tr style=\"text-align: right;\">\n",
       "      <th></th>\n",
       "      <th>passenger_count</th>\n",
       "      <th>trip_duration</th>\n",
       "      <th>pickup_day</th>\n",
       "      <th>pickup_hour</th>\n",
       "      <th>dropoff_day</th>\n",
       "      <th>dropoff_hour</th>\n",
       "    </tr>\n",
       "  </thead>\n",
       "  <tbody>\n",
       "    <tr>\n",
       "      <th>1020387</th>\n",
       "      <td>1</td>\n",
       "      <td>420</td>\n",
       "      <td>Saturday</td>\n",
       "      <td>16</td>\n",
       "      <td>Saturday</td>\n",
       "      <td>16</td>\n",
       "    </tr>\n",
       "    <tr>\n",
       "      <th>1003233</th>\n",
       "      <td>1</td>\n",
       "      <td>738</td>\n",
       "      <td>Wednesday</td>\n",
       "      <td>11</td>\n",
       "      <td>Wednesday</td>\n",
       "      <td>11</td>\n",
       "    </tr>\n",
       "    <tr>\n",
       "      <th>1381150</th>\n",
       "      <td>1</td>\n",
       "      <td>196</td>\n",
       "      <td>Monday</td>\n",
       "      <td>4</td>\n",
       "      <td>Monday</td>\n",
       "      <td>4</td>\n",
       "    </tr>\n",
       "    <tr>\n",
       "      <th>971935</th>\n",
       "      <td>1</td>\n",
       "      <td>1015</td>\n",
       "      <td>Wednesday</td>\n",
       "      <td>22</td>\n",
       "      <td>Wednesday</td>\n",
       "      <td>22</td>\n",
       "    </tr>\n",
       "    <tr>\n",
       "      <th>932714</th>\n",
       "      <td>2</td>\n",
       "      <td>1064</td>\n",
       "      <td>Saturday</td>\n",
       "      <td>2</td>\n",
       "      <td>Saturday</td>\n",
       "      <td>2</td>\n",
       "    </tr>\n",
       "  </tbody>\n",
       "</table>\n",
       "</div>"
      ],
      "text/plain": [
       "         passenger_count  trip_duration pickup_day  pickup_hour dropoff_day  \\\n",
       "1020387                1            420   Saturday           16    Saturday   \n",
       "1003233                1            738  Wednesday           11   Wednesday   \n",
       "1381150                1            196     Monday            4      Monday   \n",
       "971935                 1           1015  Wednesday           22   Wednesday   \n",
       "932714                 2           1064   Saturday            2    Saturday   \n",
       "\n",
       "         dropoff_hour  \n",
       "1020387            16  \n",
       "1003233            11  \n",
       "1381150             4  \n",
       "971935             22  \n",
       "932714              2  "
      ]
     },
     "execution_count": 98,
     "metadata": {},
     "output_type": "execute_result"
    }
   ],
   "source": [
    "df_datetime.drop(['pickup', 'dropoff'], inplace=True, axis=1)\n",
    "df_datetime.head()"
   ]
  },
  {
   "cell_type": "code",
   "execution_count": 99,
   "metadata": {},
   "outputs": [
    {
     "data": {
      "text/plain": [
       "<matplotlib.axes._subplots.AxesSubplot at 0x1a2a981278>"
      ]
     },
     "execution_count": 99,
     "metadata": {},
     "output_type": "execute_result"
    },
    {
     "data": {
      "image/png": "[encoded data removed]",
      "text/plain": [
       "<Figure size 432x288 with 2 Axes>"
      ]
     },
     "metadata": {
      "needs_background": "light"
     },
     "output_type": "display_data"
    }
   ],
   "source": [
    "sns.heatmap(df_datetime.corr())"
   ]
  },
  {
   "cell_type": "markdown",
   "metadata": {},
   "source": [
    "While pickup & drop off are highly correlated, as we're trying to cluster based on trip duration, we will keep this information. We will drop pick up & drop off datetime as we now have the month, hour & day columns"
   ]
  },
  {
   "cell_type": "markdown",
   "metadata": {},
   "source": [
    "Plot trips by day"
   ]
  },
  {
   "cell_type": "code",
   "execution_count": 100,
   "metadata": {},
   "outputs": [
    {
     "data": {
      "image/png": "[encoded data removed]",
      "text/plain": [
       "<Figure size 432x288 with 1 Axes>"
      ]
     },
     "metadata": {
      "needs_background": "light"
     },
     "output_type": "display_data"
    }
   ],
   "source": [
    "days_grouped = df_datetime.groupby(['pickup_day']).count().passenger_count.reset_index()\n",
    "weekdays = ['Monday', 'Tuesday', 'Wednesday','Thursday','Friday','Saturday','Sunday']\n",
    "mapping = {day: i for i, day in enumerate(weekdays)}\n",
    "key = days_grouped['pickup_day'].map(mapping)    \n",
    "days_grouped = days_grouped.iloc[key.argsort()]\n",
    "\n",
    "ax = days_grouped.plot(kind='bar', x='pickup_day', legend = False, color=[\"#212121\",\"#ffb700\"])\n",
    "ax.set_xticklabels(labels=weekdays, rotation=45)\n",
    "ax.patch.set_facecolor('white')\n",
    "plt.xlabel(\"\")\n",
    "plt.show()"
   ]
  },
  {
   "cell_type": "markdown",
   "metadata": {},
   "source": [
    "Plot trips by hour"
   ]
  },
  {
   "cell_type": "code",
   "execution_count": 101,
   "metadata": {},
   "outputs": [
    {
     "data": {
      "image/png": "[encoded data removed]",
      "text/plain": [
       "<Figure size 432x288 with 1 Axes>"
      ]
     },
     "metadata": {
      "needs_background": "light"
     },
     "output_type": "display_data"
    }
   ],
   "source": [
    "h_grouped = df_datetime.groupby(['pickup_hour']).count().passenger_count.reset_index()\n",
    "hours = [0,1,2,3,4,5,6]\n",
    "mapping = {hour: i for i, hour in enumerate(hours)}\n",
    "key = h_grouped['pickup_hour'].map(mapping)    \n",
    "h_grouped = h_grouped.iloc[key.argsort()]\n",
    "\n",
    "ax = h_grouped.plot(kind='bar', x='pickup_hour', legend = False, color=[\"#212121\",\"#ffb700\"])\n",
    "ax.xaxis.set_tick_params(rotation=0)\n",
    "ax.patch.set_facecolor('white')\n",
    "plt.xlabel(\"Pickup hour\")\n",
    "plt.show()"
   ]
  },
  {
   "cell_type": "markdown",
   "metadata": {},
   "source": [
    "Plot pickup hours for working days vs weekend"
   ]
  },
  {
   "cell_type": "code",
   "execution_count": 102,
   "metadata": {},
   "outputs": [
    {
     "name": "stderr",
     "output_type": "stream",
     "text": [
      "/Users/laumaustupa/anaconda3/lib/python3.7/site-packages/ipykernel_launcher.py:3: SettingWithCopyWarning: \n",
      "A value is trying to be set on a copy of a slice from a DataFrame.\n",
      "Try using .loc[row_indexer,col_indexer] = value instead\n",
      "\n",
      "See the caveats in the documentation: http://pandas.pydata.org/pandas-docs/stable/indexing.html#indexing-view-versus-copy\n",
      "  This is separate from the ipykernel package so we can avoid doing imports until\n"
     ]
    },
    {
     "data": {
      "image/png": "[encoded data removed]",
      "text/plain": [
       "<Figure size 432x288 with 1 Axes>"
      ]
     },
     "metadata": {
      "needs_background": "light"
     },
     "output_type": "display_data"
    }
   ],
   "source": [
    "week_vs_wkd = df_datetime[['pickup_day', 'pickup_hour', 'passenger_count']]\n",
    "week_vs_wkd['weekend'] = np.where(week_vs_wkd.pickup_day == 'Saturday', 1, \n",
    "                                  np.where(week_vs_wkd.pickup_day == 'Sunday', 1, 0))\n",
    "h_grouped = week_vs_wkd.groupby(['weekend', 'pickup_hour']).count().passenger_count.reset_index()\n",
    "\n",
    "hours = [0,1,2,3,4,5,6,7,8,9,10,11,12,13,14,15,16,17,18,19,20,21,22,23]\n",
    "mapping = {hour: i for i, hour in enumerate(hours)}\n",
    "key = h_grouped['pickup_hour'].map(mapping)    \n",
    "h_grouped = h_grouped.iloc[key.argsort()]\n",
    "\n",
    "colors = [\"#212121\",\"#ffb700\"]\n",
    "sns.set_palette(sns.color_palette(colors))\n",
    "ax = sns.lineplot(x=\"pickup_hour\", y=\"passenger_count\", hue=\"weekend\", data=h_grouped)\n",
    "plt.xlabel(\"Pickup hour\")\n",
    "plt.ylabel(\"\")\n",
    "ax.patch.set_facecolor('white')\n",
    "ax.set_xticks(range(0,23))\n",
    "plt.show()"
   ]
  },
  {
   "cell_type": "markdown",
   "metadata": {},
   "source": [
    "See if need to add weekend (y/n) column"
   ]
  },
  {
   "cell_type": "code",
   "execution_count": 22,
   "metadata": {},
   "outputs": [],
   "source": [
    "# df_datetime['pickup_weekend_y/n'] = np.where(df_datetime.pickup_day == 'Saturday', 1, \n",
    "#                                   np.where(df_datetime.pickup_day == 'Sunday', 1, 0))\n",
    "# df_datetime['dropoff_weekend_y/n'] = np.where(df_datetime.dropoff_day == 'Saturday', 1, \n",
    "#                                   np.where(df_datetime.dropoff_day == 'Sunday', 1, 0))"
   ]
  },
  {
   "cell_type": "code",
   "execution_count": 27,
   "metadata": {},
   "outputs": [],
   "source": [
    "# Create labels of the day to put hours in 4 bins\n",
    "# day_labels = ['night', 'morning', 'afternoon', 'evening']\n",
    "# cutoffs = [-1, 5, 11, 17, 23]\n",
    "# df_datetime['pickup_timeofday'] = pd.cut(df_datetime['pickup_hour'], cutoffs, labels=day_labels)\n",
    "# df_datetime['dropoff_timeofday'] = pd.cut(df_datetime['dropoff_hour'], cutoffs, labels=day_labels)"
   ]
  },
  {
   "cell_type": "code",
   "execution_count": 28,
   "metadata": {},
   "outputs": [],
   "source": [
    "#df_datetime.drop(['pickup_hour','dropoff_hour'], inplace=True, axis=1)"
   ]
  },
  {
   "cell_type": "code",
   "execution_count": 23,
   "metadata": {},
   "outputs": [],
   "source": [
    "df_datetime.drop(['pickup_day','dropoff_day'], inplace=True, axis=1)"
   ]
  },
  {
   "cell_type": "code",
   "execution_count": 103,
   "metadata": {},
   "outputs": [
    {
     "data": {
      "text/html": [
       "<div>\n",
       "<style scoped>\n",
       "    .dataframe tbody tr th:only-of-type {\n",
       "        vertical-align: middle;\n",
       "    }\n",
       "\n",
       "    .dataframe tbody tr th {\n",
       "        vertical-align: top;\n",
       "    }\n",
       "\n",
       "    .dataframe thead th {\n",
       "        text-align: right;\n",
       "    }\n",
       "</style>\n",
       "<table border=\"1\" class=\"dataframe\">\n",
       "  <thead>\n",
       "    <tr style=\"text-align: right;\">\n",
       "      <th></th>\n",
       "      <th>passenger_count</th>\n",
       "      <th>trip_duration</th>\n",
       "      <th>pickup_day</th>\n",
       "      <th>pickup_hour</th>\n",
       "      <th>dropoff_day</th>\n",
       "      <th>dropoff_hour</th>\n",
       "    </tr>\n",
       "  </thead>\n",
       "  <tbody>\n",
       "    <tr>\n",
       "      <th>1020387</th>\n",
       "      <td>1</td>\n",
       "      <td>420</td>\n",
       "      <td>Saturday</td>\n",
       "      <td>16</td>\n",
       "      <td>Saturday</td>\n",
       "      <td>16</td>\n",
       "    </tr>\n",
       "    <tr>\n",
       "      <th>1003233</th>\n",
       "      <td>1</td>\n",
       "      <td>738</td>\n",
       "      <td>Wednesday</td>\n",
       "      <td>11</td>\n",
       "      <td>Wednesday</td>\n",
       "      <td>11</td>\n",
       "    </tr>\n",
       "    <tr>\n",
       "      <th>1381150</th>\n",
       "      <td>1</td>\n",
       "      <td>196</td>\n",
       "      <td>Monday</td>\n",
       "      <td>4</td>\n",
       "      <td>Monday</td>\n",
       "      <td>4</td>\n",
       "    </tr>\n",
       "    <tr>\n",
       "      <th>971935</th>\n",
       "      <td>1</td>\n",
       "      <td>1015</td>\n",
       "      <td>Wednesday</td>\n",
       "      <td>22</td>\n",
       "      <td>Wednesday</td>\n",
       "      <td>22</td>\n",
       "    </tr>\n",
       "    <tr>\n",
       "      <th>932714</th>\n",
       "      <td>2</td>\n",
       "      <td>1064</td>\n",
       "      <td>Saturday</td>\n",
       "      <td>2</td>\n",
       "      <td>Saturday</td>\n",
       "      <td>2</td>\n",
       "    </tr>\n",
       "  </tbody>\n",
       "</table>\n",
       "</div>"
      ],
      "text/plain": [
       "         passenger_count  trip_duration pickup_day  pickup_hour dropoff_day  \\\n",
       "1020387                1            420   Saturday           16    Saturday   \n",
       "1003233                1            738  Wednesday           11   Wednesday   \n",
       "1381150                1            196     Monday            4      Monday   \n",
       "971935                 1           1015  Wednesday           22   Wednesday   \n",
       "932714                 2           1064   Saturday            2    Saturday   \n",
       "\n",
       "         dropoff_hour  \n",
       "1020387            16  \n",
       "1003233            11  \n",
       "1381150             4  \n",
       "971935             22  \n",
       "932714              2  "
      ]
     },
     "execution_count": 103,
     "metadata": {},
     "output_type": "execute_result"
    }
   ],
   "source": [
    "df_datetime.head()"
   ]
  },
  {
   "cell_type": "markdown",
   "metadata": {},
   "source": [
    "Do one hot encoding on day, time of day & neigbourhood fields to transform the categorical variable"
   ]
  },
  {
   "cell_type": "code",
   "execution_count": 104,
   "metadata": {},
   "outputs": [],
   "source": [
    "df_dummies = pd.get_dummies(data=df_datetime, columns=['pickup_hour', 'dropoff_hour', 'pickup_day','dropoff_day'])"
   ]
  },
  {
   "cell_type": "code",
   "execution_count": 105,
   "metadata": {},
   "outputs": [],
   "source": [
    "df_dummies = pd.get_dummies(data=df_dummies, columns=['passenger_count'])"
   ]
  },
  {
   "cell_type": "code",
   "execution_count": 106,
   "metadata": {},
   "outputs": [
    {
     "data": {
      "text/html": [
       "<div>\n",
       "<style scoped>\n",
       "    .dataframe tbody tr th:only-of-type {\n",
       "        vertical-align: middle;\n",
       "    }\n",
       "\n",
       "    .dataframe tbody tr th {\n",
       "        vertical-align: top;\n",
       "    }\n",
       "\n",
       "    .dataframe thead th {\n",
       "        text-align: right;\n",
       "    }\n",
       "</style>\n",
       "<table border=\"1\" class=\"dataframe\">\n",
       "  <thead>\n",
       "    <tr style=\"text-align: right;\">\n",
       "      <th></th>\n",
       "      <th>trip_duration</th>\n",
       "      <th>pickup_hour_0</th>\n",
       "      <th>pickup_hour_1</th>\n",
       "      <th>pickup_hour_2</th>\n",
       "      <th>pickup_hour_3</th>\n",
       "      <th>pickup_hour_4</th>\n",
       "      <th>pickup_hour_5</th>\n",
       "      <th>pickup_hour_6</th>\n",
       "      <th>pickup_hour_7</th>\n",
       "      <th>pickup_hour_8</th>\n",
       "      <th>...</th>\n",
       "      <th>dropoff_day_Thursday</th>\n",
       "      <th>dropoff_day_Tuesday</th>\n",
       "      <th>dropoff_day_Wednesday</th>\n",
       "      <th>passenger_count_0</th>\n",
       "      <th>passenger_count_1</th>\n",
       "      <th>passenger_count_2</th>\n",
       "      <th>passenger_count_3</th>\n",
       "      <th>passenger_count_4</th>\n",
       "      <th>passenger_count_5</th>\n",
       "      <th>passenger_count_6</th>\n",
       "    </tr>\n",
       "  </thead>\n",
       "  <tbody>\n",
       "    <tr>\n",
       "      <th>1020387</th>\n",
       "      <td>420</td>\n",
       "      <td>0</td>\n",
       "      <td>0</td>\n",
       "      <td>0</td>\n",
       "      <td>0</td>\n",
       "      <td>0</td>\n",
       "      <td>0</td>\n",
       "      <td>0</td>\n",
       "      <td>0</td>\n",
       "      <td>0</td>\n",
       "      <td>...</td>\n",
       "      <td>0</td>\n",
       "      <td>0</td>\n",
       "      <td>0</td>\n",
       "      <td>0</td>\n",
       "      <td>1</td>\n",
       "      <td>0</td>\n",
       "      <td>0</td>\n",
       "      <td>0</td>\n",
       "      <td>0</td>\n",
       "      <td>0</td>\n",
       "    </tr>\n",
       "    <tr>\n",
       "      <th>1003233</th>\n",
       "      <td>738</td>\n",
       "      <td>0</td>\n",
       "      <td>0</td>\n",
       "      <td>0</td>\n",
       "      <td>0</td>\n",
       "      <td>0</td>\n",
       "      <td>0</td>\n",
       "      <td>0</td>\n",
       "      <td>0</td>\n",
       "      <td>0</td>\n",
       "      <td>...</td>\n",
       "      <td>0</td>\n",
       "      <td>0</td>\n",
       "      <td>1</td>\n",
       "      <td>0</td>\n",
       "      <td>1</td>\n",
       "      <td>0</td>\n",
       "      <td>0</td>\n",
       "      <td>0</td>\n",
       "      <td>0</td>\n",
       "      <td>0</td>\n",
       "    </tr>\n",
       "    <tr>\n",
       "      <th>1381150</th>\n",
       "      <td>196</td>\n",
       "      <td>0</td>\n",
       "      <td>0</td>\n",
       "      <td>0</td>\n",
       "      <td>0</td>\n",
       "      <td>1</td>\n",
       "      <td>0</td>\n",
       "      <td>0</td>\n",
       "      <td>0</td>\n",
       "      <td>0</td>\n",
       "      <td>...</td>\n",
       "      <td>0</td>\n",
       "      <td>0</td>\n",
       "      <td>0</td>\n",
       "      <td>0</td>\n",
       "      <td>1</td>\n",
       "      <td>0</td>\n",
       "      <td>0</td>\n",
       "      <td>0</td>\n",
       "      <td>0</td>\n",
       "      <td>0</td>\n",
       "    </tr>\n",
       "    <tr>\n",
       "      <th>971935</th>\n",
       "      <td>1015</td>\n",
       "      <td>0</td>\n",
       "      <td>0</td>\n",
       "      <td>0</td>\n",
       "      <td>0</td>\n",
       "      <td>0</td>\n",
       "      <td>0</td>\n",
       "      <td>0</td>\n",
       "      <td>0</td>\n",
       "      <td>0</td>\n",
       "      <td>...</td>\n",
       "      <td>0</td>\n",
       "      <td>0</td>\n",
       "      <td>1</td>\n",
       "      <td>0</td>\n",
       "      <td>1</td>\n",
       "      <td>0</td>\n",
       "      <td>0</td>\n",
       "      <td>0</td>\n",
       "      <td>0</td>\n",
       "      <td>0</td>\n",
       "    </tr>\n",
       "    <tr>\n",
       "      <th>932714</th>\n",
       "      <td>1064</td>\n",
       "      <td>0</td>\n",
       "      <td>0</td>\n",
       "      <td>1</td>\n",
       "      <td>0</td>\n",
       "      <td>0</td>\n",
       "      <td>0</td>\n",
       "      <td>0</td>\n",
       "      <td>0</td>\n",
       "      <td>0</td>\n",
       "      <td>...</td>\n",
       "      <td>0</td>\n",
       "      <td>0</td>\n",
       "      <td>0</td>\n",
       "      <td>0</td>\n",
       "      <td>0</td>\n",
       "      <td>1</td>\n",
       "      <td>0</td>\n",
       "      <td>0</td>\n",
       "      <td>0</td>\n",
       "      <td>0</td>\n",
       "    </tr>\n",
       "  </tbody>\n",
       "</table>\n",
       "<p>5 rows × 70 columns</p>\n",
       "</div>"
      ],
      "text/plain": [
       "         trip_duration  pickup_hour_0  pickup_hour_1  pickup_hour_2  \\\n",
       "1020387            420              0              0              0   \n",
       "1003233            738              0              0              0   \n",
       "1381150            196              0              0              0   \n",
       "971935            1015              0              0              0   \n",
       "932714            1064              0              0              1   \n",
       "\n",
       "         pickup_hour_3  pickup_hour_4  pickup_hour_5  pickup_hour_6  \\\n",
       "1020387              0              0              0              0   \n",
       "1003233              0              0              0              0   \n",
       "1381150              0              1              0              0   \n",
       "971935               0              0              0              0   \n",
       "932714               0              0              0              0   \n",
       "\n",
       "         pickup_hour_7  pickup_hour_8  ...  dropoff_day_Thursday  \\\n",
       "1020387              0              0  ...                     0   \n",
       "1003233              0              0  ...                     0   \n",
       "1381150              0              0  ...                     0   \n",
       "971935               0              0  ...                     0   \n",
       "932714               0              0  ...                     0   \n",
       "\n",
       "         dropoff_day_Tuesday  dropoff_day_Wednesday  passenger_count_0  \\\n",
       "1020387                    0                      0                  0   \n",
       "1003233                    0                      1                  0   \n",
       "1381150                    0                      0                  0   \n",
       "971935                     0                      1                  0   \n",
       "932714                     0                      0                  0   \n",
       "\n",
       "         passenger_count_1  passenger_count_2  passenger_count_3  \\\n",
       "1020387                  1                  0                  0   \n",
       "1003233                  1                  0                  0   \n",
       "1381150                  1                  0                  0   \n",
       "971935                   1                  0                  0   \n",
       "932714                   0                  1                  0   \n",
       "\n",
       "         passenger_count_4  passenger_count_5  passenger_count_6  \n",
       "1020387                  0                  0                  0  \n",
       "1003233                  0                  0                  0  \n",
       "1381150                  0                  0                  0  \n",
       "971935                   0                  0                  0  \n",
       "932714                   0                  0                  0  \n",
       "\n",
       "[5 rows x 70 columns]"
      ]
     },
     "execution_count": 106,
     "metadata": {},
     "output_type": "execute_result"
    }
   ],
   "source": [
    "df_dummies.head()"
   ]
  },
  {
   "cell_type": "markdown",
   "metadata": {},
   "source": [
    "### K-Means Clustering"
   ]
  },
  {
   "cell_type": "markdown",
   "metadata": {},
   "source": [
    "Do further clustering for the new dataset to search for clusters based on pickup & dropoff time/day"
   ]
  },
  {
   "cell_type": "markdown",
   "metadata": {},
   "source": [
    "Use elbow curve for cluster number"
   ]
  },
  {
   "cell_type": "code",
   "execution_count": 107,
   "metadata": {},
   "outputs": [],
   "source": [
    "df_ML = df_dummies.copy()"
   ]
  },
  {
   "cell_type": "code",
   "execution_count": 108,
   "metadata": {},
   "outputs": [
    {
     "data": {
      "image/png": "[encoded data removed]",
      "text/plain": [
       "<Figure size 432x288 with 2 Axes>"
      ]
     },
     "metadata": {},
     "output_type": "display_data"
    },
    {
     "data": {
      "text/plain": [
       "<matplotlib.axes._subplots.AxesSubplot at 0x1a1d357550>"
      ]
     },
     "execution_count": 108,
     "metadata": {},
     "output_type": "execute_result"
    }
   ],
   "source": [
    "from sklearn.cluster import KMeans\n",
    "from yellowbrick.cluster import KElbowVisualizer\n",
    "\n",
    "model = KMeans()\n",
    "visualizer = KElbowVisualizer(model, k=(3,12), metric='distortion') #distortion=inertia\n",
    "visualizer.fit(df_ML)\n",
    "visualizer.poof()"
   ]
  },
  {
   "cell_type": "code",
   "execution_count": 109,
   "metadata": {},
   "outputs": [],
   "source": [
    "kmeans = KMeans(n_clusters=6, random_state=8)\n",
    "km1_clusters = kmeans.fit(df_ML)\n",
    "labels_km1 = km1_clusters.predict(df_ML)"
   ]
  },
  {
   "cell_type": "code",
   "execution_count": 110,
   "metadata": {},
   "outputs": [],
   "source": [
    "df_ML['clusters_km1'] =km1_clusters.labels_\n",
    "df['clusters_km1'] =km1_clusters.labels_"
   ]
  },
  {
   "cell_type": "code",
   "execution_count": 111,
   "metadata": {},
   "outputs": [
    {
     "data": {
      "text/plain": [
       "0.545930547816134"
      ]
     },
     "execution_count": 111,
     "metadata": {},
     "output_type": "execute_result"
    }
   ],
   "source": [
    "from sklearn.metrics import silhouette_score \n",
    "\n",
    "X_cols = [col for col in df_ML.columns if col != 'clusters_km1']\n",
    "X = df_ML[X_cols]\n",
    "\n",
    "score_km1 = silhouette_score(X, labels_km1, metric='euclidean')\n",
    "score_km1"
   ]
  },
  {
   "cell_type": "code",
   "execution_count": 112,
   "metadata": {},
   "outputs": [
    {
     "data": {
      "text/plain": [
       "<matplotlib.collections.PathCollection at 0x1a2ce826d8>"
      ]
     },
     "execution_count": 112,
     "metadata": {},
     "output_type": "execute_result"
    },
    {
     "data": {
      "image/png": "[encoded data removed]",
      "text/plain": [
       "<Figure size 432x288 with 1 Axes>"
      ]
     },
     "metadata": {
      "needs_background": "light"
     },
     "output_type": "display_data"
    }
   ],
   "source": [
    "plt.scatter(df.index, df.trip_duration, c = df.clusters_km1, cmap=plt.get_cmap('afmhot')) "
   ]
  },
  {
   "cell_type": "markdown",
   "metadata": {},
   "source": [
    "Try plotting with pickup date vs drop off date"
   ]
  },
  {
   "cell_type": "markdown",
   "metadata": {},
   "source": [
    "## Scale vs normalize"
   ]
  },
  {
   "cell_type": "code",
   "execution_count": 113,
   "metadata": {},
   "outputs": [
    {
     "name": "stderr",
     "output_type": "stream",
     "text": [
      "/Users/laumaustupa/anaconda3/lib/python3.7/site-packages/sklearn/preprocessing/data.py:645: DataConversionWarning: Data with input dtype uint8, int64 were all converted to float64 by StandardScaler.\n",
      "  return self.partial_fit(X, y)\n",
      "/Users/laumaustupa/anaconda3/lib/python3.7/site-packages/sklearn/base.py:464: DataConversionWarning: Data with input dtype uint8, int64 were all converted to float64 by StandardScaler.\n",
      "  return self.fit(X, **fit_params).transform(X)\n"
     ]
    }
   ],
   "source": [
    "from sklearn.preprocessing import StandardScaler \n",
    "from sklearn.preprocessing import normalize \n",
    "\n",
    "scaler = StandardScaler() \n",
    "X_scaled = scaler.fit_transform(df_dummies) \n",
    "  \n",
    "# Normalizing the data so that  \n",
    "# the data approximately follows a Gaussian distribution \n",
    "#X_normalized = normalize(X_scaled) \n",
    "  \n",
    "# Converting the numpy array into a pandas DataFrame \n",
    "X_normalized = pd.DataFrame(X_scaled) "
   ]
  },
  {
   "cell_type": "markdown",
   "metadata": {},
   "source": [
    "### Apply PCA to reduce to 2 components"
   ]
  },
  {
   "cell_type": "code",
   "execution_count": 114,
   "metadata": {},
   "outputs": [],
   "source": [
    "#Reducing the dimensionality of the data to make it visualizable\n",
    "from sklearn.decomposition import PCA \n",
    "\n",
    "pca = PCA(n_components = 2) \n",
    "X_principal = pca.fit_transform(X_normalized) \n",
    "X_principal = pd.DataFrame(X_principal) \n",
    "X_principal.columns = ['P1', 'P2']"
   ]
  },
  {
   "cell_type": "markdown",
   "metadata": {},
   "source": [
    "### Apply k-means to PCA dataset"
   ]
  },
  {
   "cell_type": "code",
   "execution_count": 115,
   "metadata": {},
   "outputs": [],
   "source": [
    "df_ML2 = X_principal.copy()"
   ]
  },
  {
   "cell_type": "code",
   "execution_count": 116,
   "metadata": {},
   "outputs": [
    {
     "data": {
      "image/png": "[encoded data removed]",
      "text/plain": [
       "<Figure size 432x288 with 2 Axes>"
      ]
     },
     "metadata": {},
     "output_type": "display_data"
    },
    {
     "data": {
      "text/plain": [
       "<matplotlib.axes._subplots.AxesSubplot at 0x1a1f3c2470>"
      ]
     },
     "execution_count": 116,
     "metadata": {},
     "output_type": "execute_result"
    }
   ],
   "source": [
    "model = KMeans()\n",
    "visualizer = KElbowVisualizer(model, k=(3,12), metric='distortion') #distortion=inertia\n",
    "visualizer.fit(df_ML2)\n",
    "visualizer.poof()"
   ]
  },
  {
   "cell_type": "code",
   "execution_count": 117,
   "metadata": {},
   "outputs": [],
   "source": [
    "kmeans_km2 = KMeans(n_clusters=6)\n",
    "km2_clusters = kmeans_km2.fit(df_ML2)\n",
    "labels_km2 =km2_clusters.predict(df_ML2)"
   ]
  },
  {
   "cell_type": "code",
   "execution_count": 118,
   "metadata": {},
   "outputs": [
    {
     "data": {
      "text/plain": [
       "<matplotlib.collections.PathCollection at 0x1a2438e9b0>"
      ]
     },
     "execution_count": 118,
     "metadata": {},
     "output_type": "execute_result"
    },
    {
     "data": {
      "image/png": "[encoded data removed]",
      "text/plain": [
       "<Figure size 432x288 with 1 Axes>"
      ]
     },
     "metadata": {
      "needs_background": "light"
     },
     "output_type": "display_data"
    }
   ],
   "source": [
    "plt.scatter(df_ML2.P1 , df_ML2.P2, c=labels_km2, s=40, cmap='viridis') "
   ]
  },
  {
   "cell_type": "markdown",
   "metadata": {},
   "source": [
    "Visualizing the clustering with labels for clusters"
   ]
  },
  {
   "cell_type": "code",
   "execution_count": 119,
   "metadata": {},
   "outputs": [
    {
     "data": {
      "image/png": "[encoded data removed]",
      "text/plain": [
       "<Figure size 432x288 with 1 Axes>"
      ]
     },
     "metadata": {
      "needs_background": "light"
     },
     "output_type": "display_data"
    }
   ],
   "source": [
    "# Building the label to colour mapping \n",
    "colours = {} \n",
    "colours[0] = 'r'\n",
    "colours[1] = 'g'\n",
    "colours[2] = 'b'\n",
    "colours[-1] = 'k'\n",
    "colours[3] = 'y'\n",
    "colours[4] = 'c'\n",
    "colours[5] = 'm'\n",
    "  \n",
    "# Building the colour vector for each data point \n",
    "cvec_km2 = [colours[label] for label in labels_km2] \n",
    "  \n",
    "# For the construction of the legend of the plot \n",
    "r = plt.scatter(df_ML2['P1'], df_ML2['P2'], color ='r'); \n",
    "g = plt.scatter(df_ML2['P1'], df_ML2['P2'], color ='g'); \n",
    "b = plt.scatter(df_ML2['P1'], df_ML2['P2'], color ='b'); \n",
    "k = plt.scatter(df_ML2['P1'], df_ML2['P2'], color ='k'); \n",
    "y = plt.scatter(df_ML2['P1'], df_ML2['P2'], color ='y'); \n",
    "c = plt.scatter(df_ML2['P1'], df_ML2['P2'], color ='c'); \n",
    "m = plt.scatter(df_ML2['P1'], df_ML2['P2'], color ='m'); \n",
    "\n",
    "# Plotting P1 on the X-Axis and P2 on the Y-Axis  \n",
    "# according to the colour vector defined \n",
    "# plt.figure(figsize =(9, 9)) \n",
    "plt.scatter(df_ML2['P1'], df_ML2['P2'], c = cvec_km2) \n",
    "  \n",
    "# Building the legend \n",
    "plt.legend((r, g, b, y, c, m, k), ('Label 0', 'Label 1', 'Label 2', 'Label 3', 'Label 4', 'Label 5', 'Label -1')) \n",
    "  \n",
    "plt.show() "
   ]
  },
  {
   "cell_type": "code",
   "execution_count": 120,
   "metadata": {},
   "outputs": [],
   "source": [
    "df_ML2['clusters_km2'] = km2_clusters.labels_"
   ]
  },
  {
   "cell_type": "code",
   "execution_count": 121,
   "metadata": {},
   "outputs": [
    {
     "data": {
      "text/plain": [
       "0.4522258395093216"
      ]
     },
     "execution_count": 121,
     "metadata": {},
     "output_type": "execute_result"
    }
   ],
   "source": [
    "score_km2 = silhouette_score(df_ML2[['P1', 'P2']], labels_km2, metric='euclidean')\n",
    "score_km2"
   ]
  },
  {
   "cell_type": "code",
   "execution_count": 122,
   "metadata": {},
   "outputs": [],
   "source": [
    "df['clusters_km2'] = km2_clusters.labels_"
   ]
  },
  {
   "cell_type": "markdown",
   "metadata": {},
   "source": [
    "### DBscan using PCA df"
   ]
  },
  {
   "cell_type": "code",
   "execution_count": 123,
   "metadata": {},
   "outputs": [],
   "source": [
    "df_ML3 = X_principal.copy()"
   ]
  },
  {
   "cell_type": "code",
   "execution_count": 124,
   "metadata": {},
   "outputs": [],
   "source": [
    "# Building the clustering model\n",
    "from sklearn.cluster import DBSCAN \n",
    "\n",
    "db_clusters = DBSCAN(eps = 0.5, min_samples = 8).fit(df_ML3) \n",
    "labels_db = db_clusters.labels_"
   ]
  },
  {
   "cell_type": "code",
   "execution_count": 125,
   "metadata": {},
   "outputs": [
    {
     "data": {
      "text/plain": [
       "<matplotlib.collections.PathCollection at 0x1a22f1e5c0>"
      ]
     },
     "execution_count": 125,
     "metadata": {},
     "output_type": "execute_result"
    },
    {
     "data": {
      "image/png": "[encoded data removed]",
      "text/plain": [
       "<Figure size 432x288 with 1 Axes>"
      ]
     },
     "metadata": {
      "needs_background": "light"
     },
     "output_type": "display_data"
    }
   ],
   "source": [
    "plt.scatter(df_ML3.P1 , df_ML3.P2, c=labels_db, s=40, cmap='viridis') "
   ]
  },
  {
   "cell_type": "code",
   "execution_count": 126,
   "metadata": {},
   "outputs": [],
   "source": [
    "df_ML3['clusters_db'] = db_clusters.labels_"
   ]
  },
  {
   "cell_type": "code",
   "execution_count": 127,
   "metadata": {},
   "outputs": [
    {
     "data": {
      "text/plain": [
       "0.2860094120516697"
      ]
     },
     "execution_count": 127,
     "metadata": {},
     "output_type": "execute_result"
    }
   ],
   "source": [
    "score_db = silhouette_score(df_ML3[['P1', 'P2']], df_ML3['clusters_db'], metric='euclidean')\n",
    "score_db"
   ]
  },
  {
   "cell_type": "markdown",
   "metadata": {},
   "source": [
    "### Gaussian Mixture using PCA df"
   ]
  },
  {
   "cell_type": "code",
   "execution_count": 128,
   "metadata": {},
   "outputs": [],
   "source": [
    "df_ML4 = X_principal.copy()"
   ]
  },
  {
   "cell_type": "code",
   "execution_count": 133,
   "metadata": {},
   "outputs": [],
   "source": [
    "from sklearn import mixture \n",
    "gmm = mixture.GaussianMixture(n_components=6).fit(df_ML4)\n",
    "labels_gm = gmm.predict(df_ML4)"
   ]
  },
  {
   "cell_type": "code",
   "execution_count": 134,
   "metadata": {},
   "outputs": [
    {
     "data": {
      "text/plain": [
       "<matplotlib.collections.PathCollection at 0x1a323cb0f0>"
      ]
     },
     "execution_count": 134,
     "metadata": {},
     "output_type": "execute_result"
    },
    {
     "data": {
      "image/png": "[encoded data removed]",
      "text/plain": [
       "<Figure size 432x288 with 1 Axes>"
      ]
     },
     "metadata": {
      "needs_background": "light"
     },
     "output_type": "display_data"
    }
   ],
   "source": [
    "plt.scatter(df_ML4.P1 , df_ML4.P2, c=labels_gm, s=40, cmap='viridis')"
   ]
  },
  {
   "cell_type": "code",
   "execution_count": 135,
   "metadata": {},
   "outputs": [],
   "source": [
    "df_ML4['clusters_gm'] = labels_gm"
   ]
  },
  {
   "cell_type": "code",
   "execution_count": 136,
   "metadata": {},
   "outputs": [
    {
     "data": {
      "text/plain": [
       "0.5321300394626891"
      ]
     },
     "execution_count": 136,
     "metadata": {},
     "output_type": "execute_result"
    }
   ],
   "source": [
    "score_gm = silhouette_score(df_ML4, labels_gm, metric='euclidean')\n",
    "score_gm"
   ]
  },
  {
   "cell_type": "code",
   "execution_count": 137,
   "metadata": {},
   "outputs": [],
   "source": [
    "df['clusters_gm'] = labels_gm"
   ]
  },
  {
   "cell_type": "code",
   "execution_count": 138,
   "metadata": {},
   "outputs": [],
   "source": [
    "df_result = df.copy()"
   ]
  },
  {
   "cell_type": "code",
   "execution_count": 175,
   "metadata": {},
   "outputs": [],
   "source": [
    "df_result['trip_duration_min'] = df_result.trip_duration/60"
   ]
  },
  {
   "cell_type": "code",
   "execution_count": 176,
   "metadata": {},
   "outputs": [
    {
     "data": {
      "text/plain": [
       "<matplotlib.axes._subplots.AxesSubplot at 0x1a2c0f0da0>"
      ]
     },
     "execution_count": 176,
     "metadata": {},
     "output_type": "execute_result"
    },
    {
     "data": {
      "image/png": "[encoded data removed]",
      "text/plain": [
       "<Figure size 432x288 with 1 Axes>"
      ]
     },
     "metadata": {
      "needs_background": "light"
     },
     "output_type": "display_data"
    }
   ],
   "source": [
    "df_result['trip_duration_min'].hist()"
   ]
  },
  {
   "cell_type": "code",
   "execution_count": 177,
   "metadata": {},
   "outputs": [],
   "source": [
    "# Create labels for trip duration\n",
    "min_labels = ['<10min', '10-20min', '20-30min', '30-40min', '30-50min', '60-40min', '1-1,5h', '1,5-2h', '>2h']\n",
    "cutoffs = [-1, 10, 20, 30, 40, 50, 60, 90, 120, 300]\n",
    "df_result['duration_labels_min'] = pd.cut(df_result.trip_duration_min, cutoffs, labels=min_labels)"
   ]
  },
  {
   "cell_type": "code",
   "execution_count": 178,
   "metadata": {},
   "outputs": [
    {
     "data": {
      "text/html": [
       "<div>\n",
       "<style scoped>\n",
       "    .dataframe tbody tr th:only-of-type {\n",
       "        vertical-align: middle;\n",
       "    }\n",
       "\n",
       "    .dataframe tbody tr th {\n",
       "        vertical-align: top;\n",
       "    }\n",
       "\n",
       "    .dataframe thead th {\n",
       "        text-align: right;\n",
       "    }\n",
       "</style>\n",
       "<table border=\"1\" class=\"dataframe\">\n",
       "  <thead>\n",
       "    <tr style=\"text-align: right;\">\n",
       "      <th></th>\n",
       "      <th>id</th>\n",
       "      <th>vendor_id</th>\n",
       "      <th>pickup_datetime</th>\n",
       "      <th>dropoff_datetime</th>\n",
       "      <th>passenger_count</th>\n",
       "      <th>pickup_longitude</th>\n",
       "      <th>pickup_latitude</th>\n",
       "      <th>dropoff_longitude</th>\n",
       "      <th>dropoff_latitude</th>\n",
       "      <th>store_and_fwd_flag</th>\n",
       "      <th>trip_duration</th>\n",
       "      <th>clusters_km1</th>\n",
       "      <th>clusters_km2</th>\n",
       "      <th>clusters_gm</th>\n",
       "      <th>trip_duration_h</th>\n",
       "      <th>duration_labels</th>\n",
       "      <th>trip_duration_min</th>\n",
       "      <th>duration_labels_min</th>\n",
       "    </tr>\n",
       "  </thead>\n",
       "  <tbody>\n",
       "    <tr>\n",
       "      <th>1020387</th>\n",
       "      <td>id2585908</td>\n",
       "      <td>2</td>\n",
       "      <td>2016-01-16 16:41:37</td>\n",
       "      <td>2016-01-16 16:48:37</td>\n",
       "      <td>1</td>\n",
       "      <td>-73.970131</td>\n",
       "      <td>40.764992</td>\n",
       "      <td>-73.957108</td>\n",
       "      <td>40.778301</td>\n",
       "      <td>N</td>\n",
       "      <td>420</td>\n",
       "      <td>1</td>\n",
       "      <td>1</td>\n",
       "      <td>1</td>\n",
       "      <td>0.116667</td>\n",
       "      <td>&lt;15min</td>\n",
       "      <td>7.000000</td>\n",
       "      <td>&lt;10min</td>\n",
       "    </tr>\n",
       "    <tr>\n",
       "      <th>1003233</th>\n",
       "      <td>id1822250</td>\n",
       "      <td>2</td>\n",
       "      <td>2016-01-06 11:03:06</td>\n",
       "      <td>2016-01-06 11:15:24</td>\n",
       "      <td>1</td>\n",
       "      <td>-73.959633</td>\n",
       "      <td>40.764488</td>\n",
       "      <td>-73.978889</td>\n",
       "      <td>40.756088</td>\n",
       "      <td>N</td>\n",
       "      <td>738</td>\n",
       "      <td>5</td>\n",
       "      <td>2</td>\n",
       "      <td>4</td>\n",
       "      <td>0.205000</td>\n",
       "      <td>&lt;15min</td>\n",
       "      <td>12.300000</td>\n",
       "      <td>10-20min</td>\n",
       "    </tr>\n",
       "    <tr>\n",
       "      <th>1381150</th>\n",
       "      <td>id2420564</td>\n",
       "      <td>2</td>\n",
       "      <td>2016-01-11 04:52:30</td>\n",
       "      <td>2016-01-11 04:55:46</td>\n",
       "      <td>1</td>\n",
       "      <td>-73.977524</td>\n",
       "      <td>40.764500</td>\n",
       "      <td>-73.993279</td>\n",
       "      <td>40.767849</td>\n",
       "      <td>N</td>\n",
       "      <td>196</td>\n",
       "      <td>1</td>\n",
       "      <td>1</td>\n",
       "      <td>2</td>\n",
       "      <td>0.054444</td>\n",
       "      <td>&lt;15min</td>\n",
       "      <td>3.266667</td>\n",
       "      <td>&lt;10min</td>\n",
       "    </tr>\n",
       "    <tr>\n",
       "      <th>971935</th>\n",
       "      <td>id1608648</td>\n",
       "      <td>2</td>\n",
       "      <td>2016-01-06 22:03:38</td>\n",
       "      <td>2016-01-06 22:20:33</td>\n",
       "      <td>1</td>\n",
       "      <td>-73.986694</td>\n",
       "      <td>40.758018</td>\n",
       "      <td>-73.972610</td>\n",
       "      <td>40.745056</td>\n",
       "      <td>N</td>\n",
       "      <td>1015</td>\n",
       "      <td>4</td>\n",
       "      <td>4</td>\n",
       "      <td>0</td>\n",
       "      <td>0.281944</td>\n",
       "      <td>15-30min</td>\n",
       "      <td>16.916667</td>\n",
       "      <td>10-20min</td>\n",
       "    </tr>\n",
       "    <tr>\n",
       "      <th>932714</th>\n",
       "      <td>id1653056</td>\n",
       "      <td>2</td>\n",
       "      <td>2016-01-30 02:05:42</td>\n",
       "      <td>2016-01-30 02:23:26</td>\n",
       "      <td>2</td>\n",
       "      <td>-73.993317</td>\n",
       "      <td>40.741341</td>\n",
       "      <td>-73.958717</td>\n",
       "      <td>40.815319</td>\n",
       "      <td>N</td>\n",
       "      <td>1064</td>\n",
       "      <td>4</td>\n",
       "      <td>3</td>\n",
       "      <td>5</td>\n",
       "      <td>0.295556</td>\n",
       "      <td>15-30min</td>\n",
       "      <td>17.733333</td>\n",
       "      <td>10-20min</td>\n",
       "    </tr>\n",
       "  </tbody>\n",
       "</table>\n",
       "</div>"
      ],
      "text/plain": [
       "                id  vendor_id     pickup_datetime    dropoff_datetime  \\\n",
       "1020387  id2585908          2 2016-01-16 16:41:37 2016-01-16 16:48:37   \n",
       "1003233  id1822250          2 2016-01-06 11:03:06 2016-01-06 11:15:24   \n",
       "1381150  id2420564          2 2016-01-11 04:52:30 2016-01-11 04:55:46   \n",
       "971935   id1608648          2 2016-01-06 22:03:38 2016-01-06 22:20:33   \n",
       "932714   id1653056          2 2016-01-30 02:05:42 2016-01-30 02:23:26   \n",
       "\n",
       "         passenger_count  pickup_longitude  pickup_latitude  \\\n",
       "1020387                1        -73.970131        40.764992   \n",
       "1003233                1        -73.959633        40.764488   \n",
       "1381150                1        -73.977524        40.764500   \n",
       "971935                 1        -73.986694        40.758018   \n",
       "932714                 2        -73.993317        40.741341   \n",
       "\n",
       "         dropoff_longitude  dropoff_latitude store_and_fwd_flag  \\\n",
       "1020387         -73.957108         40.778301                  N   \n",
       "1003233         -73.978889         40.756088                  N   \n",
       "1381150         -73.993279         40.767849                  N   \n",
       "971935          -73.972610         40.745056                  N   \n",
       "932714          -73.958717         40.815319                  N   \n",
       "\n",
       "         trip_duration  clusters_km1  clusters_km2  clusters_gm  \\\n",
       "1020387            420             1             1            1   \n",
       "1003233            738             5             2            4   \n",
       "1381150            196             1             1            2   \n",
       "971935            1015             4             4            0   \n",
       "932714            1064             4             3            5   \n",
       "\n",
       "         trip_duration_h duration_labels  trip_duration_min  \\\n",
       "1020387         0.116667          <15min           7.000000   \n",
       "1003233         0.205000          <15min          12.300000   \n",
       "1381150         0.054444          <15min           3.266667   \n",
       "971935          0.281944        15-30min          16.916667   \n",
       "932714          0.295556        15-30min          17.733333   \n",
       "\n",
       "        duration_labels_min  \n",
       "1020387              <10min  \n",
       "1003233            10-20min  \n",
       "1381150              <10min  \n",
       "971935             10-20min  \n",
       "932714             10-20min  "
      ]
     },
     "execution_count": 178,
     "metadata": {},
     "output_type": "execute_result"
    }
   ],
   "source": [
    "df_result.head()"
   ]
  },
  {
   "cell_type": "code",
   "execution_count": 179,
   "metadata": {},
   "outputs": [],
   "source": [
    "df_group = df_result[['trip_duration_h', 'duration_labels_min', 'clusters_km2', 'clusters_gm']]"
   ]
  },
  {
   "cell_type": "code",
   "execution_count": 180,
   "metadata": {},
   "outputs": [
    {
     "data": {
      "text/plain": [
       "<10min      1386\n",
       "10-20min    1071\n",
       "20-30min     342\n",
       "30-40min     124\n",
       "30-50min      33\n",
       "60-40min      24\n",
       "1-1,5h        16\n",
       ">2h            0\n",
       "1,5-2h         0\n",
       "Name: duration_labels_min, dtype: int64"
      ]
     },
     "execution_count": 180,
     "metadata": {},
     "output_type": "execute_result"
    }
   ],
   "source": [
    "df_group[df_group.clusters_gm == 0]['duration_labels_min'].value_counts()"
   ]
  },
  {
   "cell_type": "markdown",
   "metadata": {},
   "source": [
    "There's no relation between the clusters and the trip duration or passenger count"
   ]
  },
  {
   "cell_type": "code",
   "execution_count": 182,
   "metadata": {},
   "outputs": [],
   "source": [
    "df_datetime['clusters_km1'] =km1_clusters.labels_\n",
    "df_datetime['clusters_km2'] = km2_clusters.labels_\n",
    "df_datetime['clusters_db'] = db_clusters.labels_\n",
    "df_datetime['clusters_gm'] = labels_gm"
   ]
  },
  {
   "cell_type": "code",
   "execution_count": 183,
   "metadata": {},
   "outputs": [
    {
     "data": {
      "text/html": [
       "<div>\n",
       "<style scoped>\n",
       "    .dataframe tbody tr th:only-of-type {\n",
       "        vertical-align: middle;\n",
       "    }\n",
       "\n",
       "    .dataframe tbody tr th {\n",
       "        vertical-align: top;\n",
       "    }\n",
       "\n",
       "    .dataframe thead th {\n",
       "        text-align: right;\n",
       "    }\n",
       "</style>\n",
       "<table border=\"1\" class=\"dataframe\">\n",
       "  <thead>\n",
       "    <tr style=\"text-align: right;\">\n",
       "      <th></th>\n",
       "      <th>passenger_count</th>\n",
       "      <th>trip_duration</th>\n",
       "      <th>pickup_day</th>\n",
       "      <th>pickup_hour</th>\n",
       "      <th>dropoff_day</th>\n",
       "      <th>dropoff_hour</th>\n",
       "      <th>clusters_km1</th>\n",
       "      <th>clusters_km2</th>\n",
       "      <th>clusters_db</th>\n",
       "      <th>clusters_gm</th>\n",
       "    </tr>\n",
       "  </thead>\n",
       "  <tbody>\n",
       "    <tr>\n",
       "      <th>1020387</th>\n",
       "      <td>1</td>\n",
       "      <td>420</td>\n",
       "      <td>Saturday</td>\n",
       "      <td>16</td>\n",
       "      <td>Saturday</td>\n",
       "      <td>16</td>\n",
       "      <td>1</td>\n",
       "      <td>1</td>\n",
       "      <td>0</td>\n",
       "      <td>1</td>\n",
       "    </tr>\n",
       "    <tr>\n",
       "      <th>1003233</th>\n",
       "      <td>1</td>\n",
       "      <td>738</td>\n",
       "      <td>Wednesday</td>\n",
       "      <td>11</td>\n",
       "      <td>Wednesday</td>\n",
       "      <td>11</td>\n",
       "      <td>5</td>\n",
       "      <td>2</td>\n",
       "      <td>0</td>\n",
       "      <td>4</td>\n",
       "    </tr>\n",
       "    <tr>\n",
       "      <th>1381150</th>\n",
       "      <td>1</td>\n",
       "      <td>196</td>\n",
       "      <td>Monday</td>\n",
       "      <td>4</td>\n",
       "      <td>Monday</td>\n",
       "      <td>4</td>\n",
       "      <td>1</td>\n",
       "      <td>1</td>\n",
       "      <td>0</td>\n",
       "      <td>2</td>\n",
       "    </tr>\n",
       "    <tr>\n",
       "      <th>971935</th>\n",
       "      <td>1</td>\n",
       "      <td>1015</td>\n",
       "      <td>Wednesday</td>\n",
       "      <td>22</td>\n",
       "      <td>Wednesday</td>\n",
       "      <td>22</td>\n",
       "      <td>4</td>\n",
       "      <td>4</td>\n",
       "      <td>0</td>\n",
       "      <td>0</td>\n",
       "    </tr>\n",
       "    <tr>\n",
       "      <th>932714</th>\n",
       "      <td>2</td>\n",
       "      <td>1064</td>\n",
       "      <td>Saturday</td>\n",
       "      <td>2</td>\n",
       "      <td>Saturday</td>\n",
       "      <td>2</td>\n",
       "      <td>4</td>\n",
       "      <td>3</td>\n",
       "      <td>1</td>\n",
       "      <td>5</td>\n",
       "    </tr>\n",
       "  </tbody>\n",
       "</table>\n",
       "</div>"
      ],
      "text/plain": [
       "         passenger_count  trip_duration pickup_day  pickup_hour dropoff_day  \\\n",
       "1020387                1            420   Saturday           16    Saturday   \n",
       "1003233                1            738  Wednesday           11   Wednesday   \n",
       "1381150                1            196     Monday            4      Monday   \n",
       "971935                 1           1015  Wednesday           22   Wednesday   \n",
       "932714                 2           1064   Saturday            2    Saturday   \n",
       "\n",
       "         dropoff_hour  clusters_km1  clusters_km2  clusters_db  clusters_gm  \n",
       "1020387            16             1             1            0            1  \n",
       "1003233            11             5             2            0            4  \n",
       "1381150             4             1             1            0            2  \n",
       "971935             22             4             4            0            0  \n",
       "932714              2             4             3            1            5  "
      ]
     },
     "execution_count": 183,
     "metadata": {},
     "output_type": "execute_result"
    }
   ],
   "source": [
    "df_datetime.head()"
   ]
  },
  {
   "cell_type": "code",
   "execution_count": 152,
   "metadata": {},
   "outputs": [
    {
     "data": {
      "text/plain": [
       "0    295\n",
       "1    239\n",
       "2    207\n",
       "3    127\n",
       "4     80\n",
       "Name: pickup_hour, dtype: int64"
      ]
     },
     "execution_count": 152,
     "metadata": {},
     "output_type": "execute_result"
    }
   ],
   "source": [
    "df_datetime[df_datetime.clusters_db == 1]['pickup_hour'].value_counts()"
   ]
  },
  {
   "cell_type": "code",
   "execution_count": 153,
   "metadata": {},
   "outputs": [
    {
     "data": {
      "text/plain": [
       "0    295\n",
       "1    239\n",
       "2    207\n",
       "3    127\n",
       "4     80\n",
       "Name: pickup_hour, dtype: int64"
      ]
     },
     "execution_count": 153,
     "metadata": {},
     "output_type": "execute_result"
    }
   ],
   "source": [
    "df_datetime[df_datetime.clusters_km2 == 3]['pickup_hour'].value_counts()"
   ]
  },
  {
   "cell_type": "code",
   "execution_count": 155,
   "metadata": {},
   "outputs": [
    {
     "data": {
      "text/plain": [
       "Sunday      487\n",
       "Saturday    461\n",
       "Name: pickup_day, dtype: int64"
      ]
     },
     "execution_count": 155,
     "metadata": {},
     "output_type": "execute_result"
    }
   ],
   "source": [
    "df_datetime[df_datetime.clusters_km2 == 3]['pickup_day'].value_counts()"
   ]
  },
  {
   "cell_type": "code",
   "execution_count": 156,
   "metadata": {},
   "outputs": [
    {
     "data": {
      "text/plain": [
       "Friday      351\n",
       "Saturday    103\n",
       "Name: pickup_day, dtype: int64"
      ]
     },
     "execution_count": 156,
     "metadata": {},
     "output_type": "execute_result"
    }
   ],
   "source": [
    "df_datetime[df_datetime.clusters_km2 == 0]['pickup_day'].value_counts()"
   ]
  },
  {
   "cell_type": "code",
   "execution_count": 157,
   "metadata": {},
   "outputs": [
    {
     "data": {
      "text/plain": [
       "Saturday     1716\n",
       "Sunday       1714\n",
       "Thursday      123\n",
       "Wednesday     104\n",
       "Tuesday       102\n",
       "Monday         89\n",
       "Name: pickup_day, dtype: int64"
      ]
     },
     "execution_count": 157,
     "metadata": {},
     "output_type": "execute_result"
    }
   ],
   "source": [
    "df_datetime[df_datetime.clusters_km2 == 1]['pickup_day'].value_counts()"
   ]
  },
  {
   "cell_type": "code",
   "execution_count": 158,
   "metadata": {},
   "outputs": [
    {
     "data": {
      "text/plain": [
       "Wednesday    1528\n",
       "Tuesday      1079\n",
       "Thursday     1064\n",
       "Monday       1001\n",
       "Saturday       29\n",
       "Sunday         15\n",
       "Name: pickup_day, dtype: int64"
      ]
     },
     "execution_count": 158,
     "metadata": {},
     "output_type": "execute_result"
    }
   ],
   "source": [
    "df_datetime[df_datetime.clusters_km2 == 2]['pickup_day'].value_counts()"
   ]
  },
  {
   "cell_type": "code",
   "execution_count": 159,
   "metadata": {},
   "outputs": [
    {
     "data": {
      "text/plain": [
       "1    3097\n",
       "2     623\n",
       "5     422\n",
       "6     294\n",
       "3     176\n",
       "4     104\n",
       "Name: passenger_count, dtype: int64"
      ]
     },
     "execution_count": 159,
     "metadata": {},
     "output_type": "execute_result"
    }
   ],
   "source": [
    "df_datetime[df_datetime.clusters_km2 == 2]['passenger_count'].value_counts()"
   ]
  },
  {
   "cell_type": "code",
   "execution_count": 165,
   "metadata": {},
   "outputs": [
    {
     "data": {
      "text/html": [
       "<div>\n",
       "<style scoped>\n",
       "    .dataframe tbody tr th:only-of-type {\n",
       "        vertical-align: middle;\n",
       "    }\n",
       "\n",
       "    .dataframe tbody tr th {\n",
       "        vertical-align: top;\n",
       "    }\n",
       "\n",
       "    .dataframe thead th {\n",
       "        text-align: right;\n",
       "    }\n",
       "</style>\n",
       "<table border=\"1\" class=\"dataframe\">\n",
       "  <thead>\n",
       "    <tr style=\"text-align: right;\">\n",
       "      <th></th>\n",
       "      <th>id</th>\n",
       "      <th>vendor_id</th>\n",
       "      <th>pickup_datetime</th>\n",
       "      <th>dropoff_datetime</th>\n",
       "      <th>passenger_count</th>\n",
       "      <th>pickup_longitude</th>\n",
       "      <th>pickup_latitude</th>\n",
       "      <th>dropoff_longitude</th>\n",
       "      <th>dropoff_latitude</th>\n",
       "      <th>store_and_fwd_flag</th>\n",
       "      <th>trip_duration</th>\n",
       "      <th>clusters_km1</th>\n",
       "      <th>clusters_km2</th>\n",
       "      <th>clusters_gm</th>\n",
       "      <th>trip_duration_h</th>\n",
       "      <th>duration_labels</th>\n",
       "    </tr>\n",
       "  </thead>\n",
       "  <tbody>\n",
       "    <tr>\n",
       "      <th>1020387</th>\n",
       "      <td>id2585908</td>\n",
       "      <td>2</td>\n",
       "      <td>2016-01-16 16:41:37</td>\n",
       "      <td>2016-01-16 16:48:37</td>\n",
       "      <td>1</td>\n",
       "      <td>-73.970131</td>\n",
       "      <td>40.764992</td>\n",
       "      <td>-73.957108</td>\n",
       "      <td>40.778301</td>\n",
       "      <td>N</td>\n",
       "      <td>420</td>\n",
       "      <td>1</td>\n",
       "      <td>1</td>\n",
       "      <td>1</td>\n",
       "      <td>0.116667</td>\n",
       "      <td>&lt;15min</td>\n",
       "    </tr>\n",
       "    <tr>\n",
       "      <th>340109</th>\n",
       "      <td>id3594205</td>\n",
       "      <td>2</td>\n",
       "      <td>2016-01-24 19:41:11</td>\n",
       "      <td>2016-01-24 19:52:26</td>\n",
       "      <td>2</td>\n",
       "      <td>-73.972603</td>\n",
       "      <td>40.758743</td>\n",
       "      <td>-73.954720</td>\n",
       "      <td>40.773254</td>\n",
       "      <td>N</td>\n",
       "      <td>675</td>\n",
       "      <td>5</td>\n",
       "      <td>1</td>\n",
       "      <td>1</td>\n",
       "      <td>0.187500</td>\n",
       "      <td>&lt;15min</td>\n",
       "    </tr>\n",
       "    <tr>\n",
       "      <th>482624</th>\n",
       "      <td>id3740704</td>\n",
       "      <td>2</td>\n",
       "      <td>2016-01-10 12:50:03</td>\n",
       "      <td>2016-01-10 12:54:30</td>\n",
       "      <td>1</td>\n",
       "      <td>-74.001389</td>\n",
       "      <td>40.731113</td>\n",
       "      <td>-73.991516</td>\n",
       "      <td>40.744850</td>\n",
       "      <td>N</td>\n",
       "      <td>267</td>\n",
       "      <td>1</td>\n",
       "      <td>1</td>\n",
       "      <td>1</td>\n",
       "      <td>0.074167</td>\n",
       "      <td>&lt;15min</td>\n",
       "    </tr>\n",
       "    <tr>\n",
       "      <th>1090806</th>\n",
       "      <td>id1946685</td>\n",
       "      <td>2</td>\n",
       "      <td>2016-01-10 19:18:57</td>\n",
       "      <td>2016-01-10 19:24:06</td>\n",
       "      <td>2</td>\n",
       "      <td>-73.973839</td>\n",
       "      <td>40.784710</td>\n",
       "      <td>-73.965477</td>\n",
       "      <td>40.800751</td>\n",
       "      <td>N</td>\n",
       "      <td>309</td>\n",
       "      <td>1</td>\n",
       "      <td>1</td>\n",
       "      <td>1</td>\n",
       "      <td>0.085833</td>\n",
       "      <td>&lt;15min</td>\n",
       "    </tr>\n",
       "    <tr>\n",
       "      <th>219516</th>\n",
       "      <td>id0615059</td>\n",
       "      <td>2</td>\n",
       "      <td>2016-01-30 16:50:43</td>\n",
       "      <td>2016-01-30 17:14:13</td>\n",
       "      <td>1</td>\n",
       "      <td>-74.002563</td>\n",
       "      <td>40.744831</td>\n",
       "      <td>-74.000526</td>\n",
       "      <td>40.722149</td>\n",
       "      <td>N</td>\n",
       "      <td>1410</td>\n",
       "      <td>2</td>\n",
       "      <td>1</td>\n",
       "      <td>1</td>\n",
       "      <td>0.391667</td>\n",
       "      <td>15-30min</td>\n",
       "    </tr>\n",
       "    <tr>\n",
       "      <th>800116</th>\n",
       "      <td>id3590300</td>\n",
       "      <td>2</td>\n",
       "      <td>2016-01-30 18:18:35</td>\n",
       "      <td>2016-01-30 18:42:01</td>\n",
       "      <td>6</td>\n",
       "      <td>-73.986214</td>\n",
       "      <td>40.726189</td>\n",
       "      <td>-73.973953</td>\n",
       "      <td>40.778782</td>\n",
       "      <td>N</td>\n",
       "      <td>1406</td>\n",
       "      <td>2</td>\n",
       "      <td>1</td>\n",
       "      <td>1</td>\n",
       "      <td>0.390556</td>\n",
       "      <td>15-30min</td>\n",
       "    </tr>\n",
       "    <tr>\n",
       "      <th>1434271</th>\n",
       "      <td>id0989010</td>\n",
       "      <td>2</td>\n",
       "      <td>2016-01-10 17:03:47</td>\n",
       "      <td>2016-01-10 17:16:51</td>\n",
       "      <td>1</td>\n",
       "      <td>-73.984558</td>\n",
       "      <td>40.721802</td>\n",
       "      <td>-73.976753</td>\n",
       "      <td>40.752213</td>\n",
       "      <td>N</td>\n",
       "      <td>784</td>\n",
       "      <td>5</td>\n",
       "      <td>1</td>\n",
       "      <td>1</td>\n",
       "      <td>0.217778</td>\n",
       "      <td>&lt;15min</td>\n",
       "    </tr>\n",
       "    <tr>\n",
       "      <th>1399842</th>\n",
       "      <td>id2949641</td>\n",
       "      <td>2</td>\n",
       "      <td>2016-01-10 18:51:43</td>\n",
       "      <td>2016-01-10 19:03:50</td>\n",
       "      <td>2</td>\n",
       "      <td>-73.994057</td>\n",
       "      <td>40.751217</td>\n",
       "      <td>-73.963043</td>\n",
       "      <td>40.757965</td>\n",
       "      <td>N</td>\n",
       "      <td>727</td>\n",
       "      <td>5</td>\n",
       "      <td>1</td>\n",
       "      <td>1</td>\n",
       "      <td>0.201944</td>\n",
       "      <td>&lt;15min</td>\n",
       "    </tr>\n",
       "    <tr>\n",
       "      <th>867704</th>\n",
       "      <td>id2007174</td>\n",
       "      <td>2</td>\n",
       "      <td>2016-01-31 10:01:45</td>\n",
       "      <td>2016-01-31 10:24:59</td>\n",
       "      <td>1</td>\n",
       "      <td>-73.988548</td>\n",
       "      <td>40.748711</td>\n",
       "      <td>-73.789902</td>\n",
       "      <td>40.643169</td>\n",
       "      <td>N</td>\n",
       "      <td>1394</td>\n",
       "      <td>2</td>\n",
       "      <td>1</td>\n",
       "      <td>1</td>\n",
       "      <td>0.387222</td>\n",
       "      <td>15-30min</td>\n",
       "    </tr>\n",
       "    <tr>\n",
       "      <th>1090514</th>\n",
       "      <td>id0462508</td>\n",
       "      <td>2</td>\n",
       "      <td>2016-01-03 18:51:28</td>\n",
       "      <td>2016-01-03 19:10:26</td>\n",
       "      <td>1</td>\n",
       "      <td>-73.949669</td>\n",
       "      <td>40.784561</td>\n",
       "      <td>-74.002617</td>\n",
       "      <td>40.728359</td>\n",
       "      <td>N</td>\n",
       "      <td>1138</td>\n",
       "      <td>4</td>\n",
       "      <td>1</td>\n",
       "      <td>1</td>\n",
       "      <td>0.316111</td>\n",
       "      <td>15-30min</td>\n",
       "    </tr>\n",
       "    <tr>\n",
       "      <th>718571</th>\n",
       "      <td>id2142759</td>\n",
       "      <td>2</td>\n",
       "      <td>2016-01-03 13:23:45</td>\n",
       "      <td>2016-01-03 13:28:26</td>\n",
       "      <td>3</td>\n",
       "      <td>-74.000610</td>\n",
       "      <td>40.727421</td>\n",
       "      <td>-73.993790</td>\n",
       "      <td>40.741379</td>\n",
       "      <td>N</td>\n",
       "      <td>281</td>\n",
       "      <td>1</td>\n",
       "      <td>1</td>\n",
       "      <td>1</td>\n",
       "      <td>0.078056</td>\n",
       "      <td>&lt;15min</td>\n",
       "    </tr>\n",
       "    <tr>\n",
       "      <th>421019</th>\n",
       "      <td>id2179833</td>\n",
       "      <td>2</td>\n",
       "      <td>2016-01-17 16:56:45</td>\n",
       "      <td>2016-01-17 16:57:00</td>\n",
       "      <td>2</td>\n",
       "      <td>-73.927658</td>\n",
       "      <td>40.763088</td>\n",
       "      <td>-73.931328</td>\n",
       "      <td>40.765079</td>\n",
       "      <td>N</td>\n",
       "      <td>15</td>\n",
       "      <td>1</td>\n",
       "      <td>1</td>\n",
       "      <td>1</td>\n",
       "      <td>0.004167</td>\n",
       "      <td>&lt;15min</td>\n",
       "    </tr>\n",
       "    <tr>\n",
       "      <th>295037</th>\n",
       "      <td>id0033324</td>\n",
       "      <td>2</td>\n",
       "      <td>2016-01-31 11:55:30</td>\n",
       "      <td>2016-01-31 12:06:03</td>\n",
       "      <td>2</td>\n",
       "      <td>-73.995590</td>\n",
       "      <td>40.733158</td>\n",
       "      <td>-73.976921</td>\n",
       "      <td>40.761421</td>\n",
       "      <td>N</td>\n",
       "      <td>633</td>\n",
       "      <td>5</td>\n",
       "      <td>1</td>\n",
       "      <td>1</td>\n",
       "      <td>0.175833</td>\n",
       "      <td>&lt;15min</td>\n",
       "    </tr>\n",
       "    <tr>\n",
       "      <th>121285</th>\n",
       "      <td>id1406350</td>\n",
       "      <td>2</td>\n",
       "      <td>2016-01-31 18:30:04</td>\n",
       "      <td>2016-01-31 18:34:08</td>\n",
       "      <td>1</td>\n",
       "      <td>-73.983597</td>\n",
       "      <td>40.744064</td>\n",
       "      <td>-73.988495</td>\n",
       "      <td>40.737350</td>\n",
       "      <td>N</td>\n",
       "      <td>244</td>\n",
       "      <td>1</td>\n",
       "      <td>1</td>\n",
       "      <td>1</td>\n",
       "      <td>0.067778</td>\n",
       "      <td>&lt;15min</td>\n",
       "    </tr>\n",
       "    <tr>\n",
       "      <th>442298</th>\n",
       "      <td>id1197074</td>\n",
       "      <td>2</td>\n",
       "      <td>2016-01-03 16:15:13</td>\n",
       "      <td>2016-01-03 16:29:37</td>\n",
       "      <td>2</td>\n",
       "      <td>-73.973938</td>\n",
       "      <td>40.763222</td>\n",
       "      <td>-73.995270</td>\n",
       "      <td>40.733940</td>\n",
       "      <td>N</td>\n",
       "      <td>864</td>\n",
       "      <td>4</td>\n",
       "      <td>1</td>\n",
       "      <td>1</td>\n",
       "      <td>0.240000</td>\n",
       "      <td>&lt;15min</td>\n",
       "    </tr>\n",
       "    <tr>\n",
       "      <th>650616</th>\n",
       "      <td>id1586329</td>\n",
       "      <td>2</td>\n",
       "      <td>2016-01-10 15:43:27</td>\n",
       "      <td>2016-01-10 15:46:42</td>\n",
       "      <td>1</td>\n",
       "      <td>-73.957802</td>\n",
       "      <td>40.773022</td>\n",
       "      <td>-73.951714</td>\n",
       "      <td>40.768002</td>\n",
       "      <td>N</td>\n",
       "      <td>195</td>\n",
       "      <td>1</td>\n",
       "      <td>1</td>\n",
       "      <td>1</td>\n",
       "      <td>0.054167</td>\n",
       "      <td>&lt;15min</td>\n",
       "    </tr>\n",
       "    <tr>\n",
       "      <th>1028723</th>\n",
       "      <td>id2184650</td>\n",
       "      <td>2</td>\n",
       "      <td>2016-01-31 17:25:54</td>\n",
       "      <td>2016-01-31 17:30:13</td>\n",
       "      <td>4</td>\n",
       "      <td>-74.015244</td>\n",
       "      <td>40.714314</td>\n",
       "      <td>-74.008453</td>\n",
       "      <td>40.719906</td>\n",
       "      <td>N</td>\n",
       "      <td>259</td>\n",
       "      <td>1</td>\n",
       "      <td>1</td>\n",
       "      <td>1</td>\n",
       "      <td>0.071944</td>\n",
       "      <td>&lt;15min</td>\n",
       "    </tr>\n",
       "    <tr>\n",
       "      <th>1227607</th>\n",
       "      <td>id3856263</td>\n",
       "      <td>2</td>\n",
       "      <td>2016-01-31 16:47:34</td>\n",
       "      <td>2016-01-31 17:04:23</td>\n",
       "      <td>5</td>\n",
       "      <td>-73.988716</td>\n",
       "      <td>40.763691</td>\n",
       "      <td>-73.958290</td>\n",
       "      <td>40.770412</td>\n",
       "      <td>N</td>\n",
       "      <td>1009</td>\n",
       "      <td>4</td>\n",
       "      <td>1</td>\n",
       "      <td>1</td>\n",
       "      <td>0.280278</td>\n",
       "      <td>15-30min</td>\n",
       "    </tr>\n",
       "    <tr>\n",
       "      <th>1016625</th>\n",
       "      <td>id0202641</td>\n",
       "      <td>2</td>\n",
       "      <td>2016-01-28 02:18:07</td>\n",
       "      <td>2016-01-28 02:43:54</td>\n",
       "      <td>1</td>\n",
       "      <td>-74.003128</td>\n",
       "      <td>40.733158</td>\n",
       "      <td>-73.917442</td>\n",
       "      <td>40.766338</td>\n",
       "      <td>N</td>\n",
       "      <td>1547</td>\n",
       "      <td>2</td>\n",
       "      <td>1</td>\n",
       "      <td>1</td>\n",
       "      <td>0.429722</td>\n",
       "      <td>15-30min</td>\n",
       "    </tr>\n",
       "    <tr>\n",
       "      <th>1100972</th>\n",
       "      <td>id2925456</td>\n",
       "      <td>2</td>\n",
       "      <td>2016-01-16 15:37:31</td>\n",
       "      <td>2016-01-16 15:41:10</td>\n",
       "      <td>1</td>\n",
       "      <td>-73.988121</td>\n",
       "      <td>40.769718</td>\n",
       "      <td>-73.987541</td>\n",
       "      <td>40.762810</td>\n",
       "      <td>N</td>\n",
       "      <td>219</td>\n",
       "      <td>1</td>\n",
       "      <td>1</td>\n",
       "      <td>1</td>\n",
       "      <td>0.060833</td>\n",
       "      <td>&lt;15min</td>\n",
       "    </tr>\n",
       "    <tr>\n",
       "      <th>91769</th>\n",
       "      <td>id2459122</td>\n",
       "      <td>2</td>\n",
       "      <td>2016-01-14 02:48:43</td>\n",
       "      <td>2016-01-14 03:00:14</td>\n",
       "      <td>1</td>\n",
       "      <td>-73.996315</td>\n",
       "      <td>40.723900</td>\n",
       "      <td>-73.953896</td>\n",
       "      <td>40.729427</td>\n",
       "      <td>N</td>\n",
       "      <td>691</td>\n",
       "      <td>5</td>\n",
       "      <td>1</td>\n",
       "      <td>1</td>\n",
       "      <td>0.191944</td>\n",
       "      <td>&lt;15min</td>\n",
       "    </tr>\n",
       "    <tr>\n",
       "      <th>347136</th>\n",
       "      <td>id1289542</td>\n",
       "      <td>2</td>\n",
       "      <td>2016-01-17 17:16:27</td>\n",
       "      <td>2016-01-17 17:26:01</td>\n",
       "      <td>5</td>\n",
       "      <td>-73.975700</td>\n",
       "      <td>40.752129</td>\n",
       "      <td>-73.994217</td>\n",
       "      <td>40.746132</td>\n",
       "      <td>N</td>\n",
       "      <td>574</td>\n",
       "      <td>5</td>\n",
       "      <td>1</td>\n",
       "      <td>1</td>\n",
       "      <td>0.159444</td>\n",
       "      <td>&lt;15min</td>\n",
       "    </tr>\n",
       "    <tr>\n",
       "      <th>814397</th>\n",
       "      <td>id0972821</td>\n",
       "      <td>2</td>\n",
       "      <td>2016-01-31 10:02:59</td>\n",
       "      <td>2016-01-31 10:06:54</td>\n",
       "      <td>1</td>\n",
       "      <td>-73.998520</td>\n",
       "      <td>40.734890</td>\n",
       "      <td>-73.987717</td>\n",
       "      <td>40.749989</td>\n",
       "      <td>N</td>\n",
       "      <td>235</td>\n",
       "      <td>1</td>\n",
       "      <td>1</td>\n",
       "      <td>1</td>\n",
       "      <td>0.065278</td>\n",
       "      <td>&lt;15min</td>\n",
       "    </tr>\n",
       "    <tr>\n",
       "      <th>1138467</th>\n",
       "      <td>id0342681</td>\n",
       "      <td>2</td>\n",
       "      <td>2016-01-02 15:57:40</td>\n",
       "      <td>2016-01-02 16:23:26</td>\n",
       "      <td>6</td>\n",
       "      <td>-73.872131</td>\n",
       "      <td>40.774181</td>\n",
       "      <td>-73.950218</td>\n",
       "      <td>40.825550</td>\n",
       "      <td>N</td>\n",
       "      <td>1546</td>\n",
       "      <td>2</td>\n",
       "      <td>1</td>\n",
       "      <td>1</td>\n",
       "      <td>0.429444</td>\n",
       "      <td>15-30min</td>\n",
       "    </tr>\n",
       "    <tr>\n",
       "      <th>138458</th>\n",
       "      <td>id2436103</td>\n",
       "      <td>2</td>\n",
       "      <td>2016-01-10 16:43:56</td>\n",
       "      <td>2016-01-10 16:48:00</td>\n",
       "      <td>1</td>\n",
       "      <td>-73.982994</td>\n",
       "      <td>40.739056</td>\n",
       "      <td>-73.977638</td>\n",
       "      <td>40.752388</td>\n",
       "      <td>N</td>\n",
       "      <td>244</td>\n",
       "      <td>1</td>\n",
       "      <td>1</td>\n",
       "      <td>1</td>\n",
       "      <td>0.067778</td>\n",
       "      <td>&lt;15min</td>\n",
       "    </tr>\n",
       "    <tr>\n",
       "      <th>46637</th>\n",
       "      <td>id3010501</td>\n",
       "      <td>2</td>\n",
       "      <td>2016-01-10 16:02:11</td>\n",
       "      <td>2016-01-10 16:07:59</td>\n",
       "      <td>1</td>\n",
       "      <td>-73.955376</td>\n",
       "      <td>40.764835</td>\n",
       "      <td>-73.959709</td>\n",
       "      <td>40.773773</td>\n",
       "      <td>N</td>\n",
       "      <td>348</td>\n",
       "      <td>1</td>\n",
       "      <td>1</td>\n",
       "      <td>1</td>\n",
       "      <td>0.096667</td>\n",
       "      <td>&lt;15min</td>\n",
       "    </tr>\n",
       "    <tr>\n",
       "      <th>1269439</th>\n",
       "      <td>id2000443</td>\n",
       "      <td>2</td>\n",
       "      <td>2016-01-10 15:02:27</td>\n",
       "      <td>2016-01-10 15:20:54</td>\n",
       "      <td>1</td>\n",
       "      <td>-73.984062</td>\n",
       "      <td>40.742489</td>\n",
       "      <td>-73.974998</td>\n",
       "      <td>40.777416</td>\n",
       "      <td>N</td>\n",
       "      <td>1107</td>\n",
       "      <td>4</td>\n",
       "      <td>1</td>\n",
       "      <td>1</td>\n",
       "      <td>0.307500</td>\n",
       "      <td>15-30min</td>\n",
       "    </tr>\n",
       "    <tr>\n",
       "      <th>1434370</th>\n",
       "      <td>id0291120</td>\n",
       "      <td>2</td>\n",
       "      <td>2016-01-09 16:00:10</td>\n",
       "      <td>2016-01-09 16:08:02</td>\n",
       "      <td>1</td>\n",
       "      <td>-73.974373</td>\n",
       "      <td>40.754101</td>\n",
       "      <td>-73.975037</td>\n",
       "      <td>40.744400</td>\n",
       "      <td>N</td>\n",
       "      <td>472</td>\n",
       "      <td>5</td>\n",
       "      <td>1</td>\n",
       "      <td>1</td>\n",
       "      <td>0.131111</td>\n",
       "      <td>&lt;15min</td>\n",
       "    </tr>\n",
       "    <tr>\n",
       "      <th>325204</th>\n",
       "      <td>id1554671</td>\n",
       "      <td>2</td>\n",
       "      <td>2016-01-16 12:00:59</td>\n",
       "      <td>2016-01-16 12:08:42</td>\n",
       "      <td>1</td>\n",
       "      <td>-74.008339</td>\n",
       "      <td>40.714531</td>\n",
       "      <td>-73.992508</td>\n",
       "      <td>40.743198</td>\n",
       "      <td>N</td>\n",
       "      <td>463</td>\n",
       "      <td>5</td>\n",
       "      <td>1</td>\n",
       "      <td>1</td>\n",
       "      <td>0.128611</td>\n",
       "      <td>&lt;15min</td>\n",
       "    </tr>\n",
       "    <tr>\n",
       "      <th>892974</th>\n",
       "      <td>id3629400</td>\n",
       "      <td>2</td>\n",
       "      <td>2016-01-07 02:10:21</td>\n",
       "      <td>2016-01-07 02:14:59</td>\n",
       "      <td>1</td>\n",
       "      <td>-73.981461</td>\n",
       "      <td>40.760719</td>\n",
       "      <td>-73.985092</td>\n",
       "      <td>40.766472</td>\n",
       "      <td>N</td>\n",
       "      <td>278</td>\n",
       "      <td>1</td>\n",
       "      <td>1</td>\n",
       "      <td>1</td>\n",
       "      <td>0.077222</td>\n",
       "      <td>&lt;15min</td>\n",
       "    </tr>\n",
       "    <tr>\n",
       "      <th>...</th>\n",
       "      <td>...</td>\n",
       "      <td>...</td>\n",
       "      <td>...</td>\n",
       "      <td>...</td>\n",
       "      <td>...</td>\n",
       "      <td>...</td>\n",
       "      <td>...</td>\n",
       "      <td>...</td>\n",
       "      <td>...</td>\n",
       "      <td>...</td>\n",
       "      <td>...</td>\n",
       "      <td>...</td>\n",
       "      <td>...</td>\n",
       "      <td>...</td>\n",
       "      <td>...</td>\n",
       "      <td>...</td>\n",
       "    </tr>\n",
       "    <tr>\n",
       "      <th>101648</th>\n",
       "      <td>id1789747</td>\n",
       "      <td>2</td>\n",
       "      <td>2016-01-09 18:09:55</td>\n",
       "      <td>2016-01-09 18:23:55</td>\n",
       "      <td>1</td>\n",
       "      <td>-73.970604</td>\n",
       "      <td>40.761265</td>\n",
       "      <td>-73.991150</td>\n",
       "      <td>40.731567</td>\n",
       "      <td>N</td>\n",
       "      <td>840</td>\n",
       "      <td>4</td>\n",
       "      <td>1</td>\n",
       "      <td>1</td>\n",
       "      <td>0.233333</td>\n",
       "      <td>&lt;15min</td>\n",
       "    </tr>\n",
       "    <tr>\n",
       "      <th>1105505</th>\n",
       "      <td>id1770695</td>\n",
       "      <td>2</td>\n",
       "      <td>2016-01-16 15:24:03</td>\n",
       "      <td>2016-01-16 15:37:27</td>\n",
       "      <td>1</td>\n",
       "      <td>-73.966309</td>\n",
       "      <td>40.761768</td>\n",
       "      <td>-73.978523</td>\n",
       "      <td>40.783009</td>\n",
       "      <td>N</td>\n",
       "      <td>804</td>\n",
       "      <td>5</td>\n",
       "      <td>1</td>\n",
       "      <td>1</td>\n",
       "      <td>0.223333</td>\n",
       "      <td>&lt;15min</td>\n",
       "    </tr>\n",
       "    <tr>\n",
       "      <th>320396</th>\n",
       "      <td>id0629674</td>\n",
       "      <td>2</td>\n",
       "      <td>2016-01-24 12:01:39</td>\n",
       "      <td>2016-01-24 12:11:07</td>\n",
       "      <td>1</td>\n",
       "      <td>-73.966377</td>\n",
       "      <td>40.761852</td>\n",
       "      <td>-73.948807</td>\n",
       "      <td>40.783176</td>\n",
       "      <td>N</td>\n",
       "      <td>568</td>\n",
       "      <td>5</td>\n",
       "      <td>1</td>\n",
       "      <td>1</td>\n",
       "      <td>0.157778</td>\n",
       "      <td>&lt;15min</td>\n",
       "    </tr>\n",
       "    <tr>\n",
       "      <th>450328</th>\n",
       "      <td>id1182312</td>\n",
       "      <td>2</td>\n",
       "      <td>2016-01-30 10:45:09</td>\n",
       "      <td>2016-01-30 10:52:37</td>\n",
       "      <td>1</td>\n",
       "      <td>-73.986099</td>\n",
       "      <td>40.759331</td>\n",
       "      <td>-73.994911</td>\n",
       "      <td>40.769100</td>\n",
       "      <td>N</td>\n",
       "      <td>448</td>\n",
       "      <td>1</td>\n",
       "      <td>1</td>\n",
       "      <td>1</td>\n",
       "      <td>0.124444</td>\n",
       "      <td>&lt;15min</td>\n",
       "    </tr>\n",
       "    <tr>\n",
       "      <th>353090</th>\n",
       "      <td>id2765875</td>\n",
       "      <td>2</td>\n",
       "      <td>2016-01-17 10:49:39</td>\n",
       "      <td>2016-01-17 10:59:35</td>\n",
       "      <td>1</td>\n",
       "      <td>-73.997864</td>\n",
       "      <td>40.766018</td>\n",
       "      <td>-73.981819</td>\n",
       "      <td>40.762032</td>\n",
       "      <td>N</td>\n",
       "      <td>596</td>\n",
       "      <td>5</td>\n",
       "      <td>1</td>\n",
       "      <td>1</td>\n",
       "      <td>0.165556</td>\n",
       "      <td>&lt;15min</td>\n",
       "    </tr>\n",
       "    <tr>\n",
       "      <th>275672</th>\n",
       "      <td>id0823425</td>\n",
       "      <td>2</td>\n",
       "      <td>2016-01-17 16:48:28</td>\n",
       "      <td>2016-01-17 16:52:03</td>\n",
       "      <td>1</td>\n",
       "      <td>-73.976624</td>\n",
       "      <td>40.780739</td>\n",
       "      <td>-73.976562</td>\n",
       "      <td>40.785645</td>\n",
       "      <td>N</td>\n",
       "      <td>215</td>\n",
       "      <td>1</td>\n",
       "      <td>1</td>\n",
       "      <td>1</td>\n",
       "      <td>0.059722</td>\n",
       "      <td>&lt;15min</td>\n",
       "    </tr>\n",
       "    <tr>\n",
       "      <th>1201590</th>\n",
       "      <td>id1667635</td>\n",
       "      <td>2</td>\n",
       "      <td>2016-01-31 18:10:29</td>\n",
       "      <td>2016-01-31 18:34:53</td>\n",
       "      <td>5</td>\n",
       "      <td>-73.872948</td>\n",
       "      <td>40.774029</td>\n",
       "      <td>-73.968773</td>\n",
       "      <td>40.764511</td>\n",
       "      <td>N</td>\n",
       "      <td>1464</td>\n",
       "      <td>2</td>\n",
       "      <td>1</td>\n",
       "      <td>1</td>\n",
       "      <td>0.406667</td>\n",
       "      <td>15-30min</td>\n",
       "    </tr>\n",
       "    <tr>\n",
       "      <th>1413331</th>\n",
       "      <td>id3254341</td>\n",
       "      <td>2</td>\n",
       "      <td>2016-01-09 10:10:39</td>\n",
       "      <td>2016-01-09 10:22:13</td>\n",
       "      <td>1</td>\n",
       "      <td>-74.006241</td>\n",
       "      <td>40.734081</td>\n",
       "      <td>-73.982323</td>\n",
       "      <td>40.765518</td>\n",
       "      <td>N</td>\n",
       "      <td>694</td>\n",
       "      <td>5</td>\n",
       "      <td>1</td>\n",
       "      <td>1</td>\n",
       "      <td>0.192778</td>\n",
       "      <td>&lt;15min</td>\n",
       "    </tr>\n",
       "    <tr>\n",
       "      <th>1137501</th>\n",
       "      <td>id0155839</td>\n",
       "      <td>2</td>\n",
       "      <td>2016-01-10 16:45:56</td>\n",
       "      <td>2016-01-10 16:58:35</td>\n",
       "      <td>1</td>\n",
       "      <td>-73.993790</td>\n",
       "      <td>40.745850</td>\n",
       "      <td>-73.991623</td>\n",
       "      <td>40.759892</td>\n",
       "      <td>N</td>\n",
       "      <td>759</td>\n",
       "      <td>5</td>\n",
       "      <td>1</td>\n",
       "      <td>1</td>\n",
       "      <td>0.210833</td>\n",
       "      <td>&lt;15min</td>\n",
       "    </tr>\n",
       "    <tr>\n",
       "      <th>1162712</th>\n",
       "      <td>id3432968</td>\n",
       "      <td>2</td>\n",
       "      <td>2016-01-02 15:41:53</td>\n",
       "      <td>2016-01-02 15:50:51</td>\n",
       "      <td>1</td>\n",
       "      <td>-74.005417</td>\n",
       "      <td>40.740799</td>\n",
       "      <td>-74.006798</td>\n",
       "      <td>40.719872</td>\n",
       "      <td>N</td>\n",
       "      <td>538</td>\n",
       "      <td>5</td>\n",
       "      <td>1</td>\n",
       "      <td>1</td>\n",
       "      <td>0.149444</td>\n",
       "      <td>&lt;15min</td>\n",
       "    </tr>\n",
       "    <tr>\n",
       "      <th>328176</th>\n",
       "      <td>id1820566</td>\n",
       "      <td>2</td>\n",
       "      <td>2016-01-17 15:40:34</td>\n",
       "      <td>2016-01-17 15:47:59</td>\n",
       "      <td>2</td>\n",
       "      <td>-73.988800</td>\n",
       "      <td>40.730919</td>\n",
       "      <td>-74.009720</td>\n",
       "      <td>40.735329</td>\n",
       "      <td>N</td>\n",
       "      <td>445</td>\n",
       "      <td>1</td>\n",
       "      <td>1</td>\n",
       "      <td>1</td>\n",
       "      <td>0.123611</td>\n",
       "      <td>&lt;15min</td>\n",
       "    </tr>\n",
       "    <tr>\n",
       "      <th>1274918</th>\n",
       "      <td>id1100836</td>\n",
       "      <td>2</td>\n",
       "      <td>2016-01-16 12:10:13</td>\n",
       "      <td>2016-01-16 12:17:07</td>\n",
       "      <td>2</td>\n",
       "      <td>-73.989578</td>\n",
       "      <td>40.776131</td>\n",
       "      <td>-73.986526</td>\n",
       "      <td>40.767326</td>\n",
       "      <td>N</td>\n",
       "      <td>414</td>\n",
       "      <td>1</td>\n",
       "      <td>1</td>\n",
       "      <td>1</td>\n",
       "      <td>0.115000</td>\n",
       "      <td>&lt;15min</td>\n",
       "    </tr>\n",
       "    <tr>\n",
       "      <th>1234328</th>\n",
       "      <td>id3048791</td>\n",
       "      <td>2</td>\n",
       "      <td>2016-01-31 12:04:23</td>\n",
       "      <td>2016-01-31 12:57:29</td>\n",
       "      <td>5</td>\n",
       "      <td>-73.985970</td>\n",
       "      <td>40.750107</td>\n",
       "      <td>-73.995239</td>\n",
       "      <td>40.769531</td>\n",
       "      <td>N</td>\n",
       "      <td>3186</td>\n",
       "      <td>0</td>\n",
       "      <td>1</td>\n",
       "      <td>1</td>\n",
       "      <td>0.885000</td>\n",
       "      <td>30-60min</td>\n",
       "    </tr>\n",
       "    <tr>\n",
       "      <th>1290200</th>\n",
       "      <td>id3521673</td>\n",
       "      <td>2</td>\n",
       "      <td>2016-01-31 21:07:48</td>\n",
       "      <td>2016-01-31 21:17:36</td>\n",
       "      <td>2</td>\n",
       "      <td>-73.980415</td>\n",
       "      <td>40.760078</td>\n",
       "      <td>-73.985107</td>\n",
       "      <td>40.778526</td>\n",
       "      <td>N</td>\n",
       "      <td>588</td>\n",
       "      <td>5</td>\n",
       "      <td>1</td>\n",
       "      <td>1</td>\n",
       "      <td>0.163333</td>\n",
       "      <td>&lt;15min</td>\n",
       "    </tr>\n",
       "    <tr>\n",
       "      <th>24568</th>\n",
       "      <td>id0362636</td>\n",
       "      <td>2</td>\n",
       "      <td>2016-01-16 12:15:20</td>\n",
       "      <td>2016-01-16 12:23:28</td>\n",
       "      <td>1</td>\n",
       "      <td>-74.001907</td>\n",
       "      <td>40.735298</td>\n",
       "      <td>-74.015068</td>\n",
       "      <td>40.718220</td>\n",
       "      <td>N</td>\n",
       "      <td>488</td>\n",
       "      <td>5</td>\n",
       "      <td>1</td>\n",
       "      <td>1</td>\n",
       "      <td>0.135556</td>\n",
       "      <td>&lt;15min</td>\n",
       "    </tr>\n",
       "    <tr>\n",
       "      <th>543247</th>\n",
       "      <td>id3467317</td>\n",
       "      <td>2</td>\n",
       "      <td>2016-01-31 13:36:40</td>\n",
       "      <td>2016-01-31 13:45:23</td>\n",
       "      <td>5</td>\n",
       "      <td>-74.000473</td>\n",
       "      <td>40.721027</td>\n",
       "      <td>-74.014061</td>\n",
       "      <td>40.715557</td>\n",
       "      <td>N</td>\n",
       "      <td>523</td>\n",
       "      <td>5</td>\n",
       "      <td>1</td>\n",
       "      <td>1</td>\n",
       "      <td>0.145278</td>\n",
       "      <td>&lt;15min</td>\n",
       "    </tr>\n",
       "    <tr>\n",
       "      <th>840426</th>\n",
       "      <td>id1526846</td>\n",
       "      <td>2</td>\n",
       "      <td>2016-01-10 16:58:05</td>\n",
       "      <td>2016-01-10 17:08:32</td>\n",
       "      <td>1</td>\n",
       "      <td>-73.978317</td>\n",
       "      <td>40.684578</td>\n",
       "      <td>-73.935913</td>\n",
       "      <td>40.676403</td>\n",
       "      <td>N</td>\n",
       "      <td>627</td>\n",
       "      <td>5</td>\n",
       "      <td>1</td>\n",
       "      <td>1</td>\n",
       "      <td>0.174167</td>\n",
       "      <td>&lt;15min</td>\n",
       "    </tr>\n",
       "    <tr>\n",
       "      <th>1155854</th>\n",
       "      <td>id3184154</td>\n",
       "      <td>2</td>\n",
       "      <td>2016-01-12 03:27:43</td>\n",
       "      <td>2016-01-12 03:31:37</td>\n",
       "      <td>1</td>\n",
       "      <td>-74.006538</td>\n",
       "      <td>40.744171</td>\n",
       "      <td>-73.990211</td>\n",
       "      <td>40.761848</td>\n",
       "      <td>N</td>\n",
       "      <td>234</td>\n",
       "      <td>1</td>\n",
       "      <td>1</td>\n",
       "      <td>1</td>\n",
       "      <td>0.065000</td>\n",
       "      <td>&lt;15min</td>\n",
       "    </tr>\n",
       "    <tr>\n",
       "      <th>687690</th>\n",
       "      <td>id3401346</td>\n",
       "      <td>2</td>\n",
       "      <td>2016-01-31 21:13:04</td>\n",
       "      <td>2016-01-31 21:24:02</td>\n",
       "      <td>2</td>\n",
       "      <td>-73.981178</td>\n",
       "      <td>40.759892</td>\n",
       "      <td>-73.966957</td>\n",
       "      <td>40.793659</td>\n",
       "      <td>N</td>\n",
       "      <td>658</td>\n",
       "      <td>5</td>\n",
       "      <td>1</td>\n",
       "      <td>1</td>\n",
       "      <td>0.182778</td>\n",
       "      <td>&lt;15min</td>\n",
       "    </tr>\n",
       "    <tr>\n",
       "      <th>276962</th>\n",
       "      <td>id2316800</td>\n",
       "      <td>2</td>\n",
       "      <td>2016-01-17 15:12:40</td>\n",
       "      <td>2016-01-17 15:16:47</td>\n",
       "      <td>1</td>\n",
       "      <td>-73.982399</td>\n",
       "      <td>40.772511</td>\n",
       "      <td>-73.990967</td>\n",
       "      <td>40.760929</td>\n",
       "      <td>N</td>\n",
       "      <td>247</td>\n",
       "      <td>1</td>\n",
       "      <td>1</td>\n",
       "      <td>1</td>\n",
       "      <td>0.068611</td>\n",
       "      <td>&lt;15min</td>\n",
       "    </tr>\n",
       "    <tr>\n",
       "      <th>693758</th>\n",
       "      <td>id1360383</td>\n",
       "      <td>2</td>\n",
       "      <td>2016-01-28 02:37:26</td>\n",
       "      <td>2016-01-28 02:59:10</td>\n",
       "      <td>1</td>\n",
       "      <td>-73.992363</td>\n",
       "      <td>40.730690</td>\n",
       "      <td>-73.879883</td>\n",
       "      <td>40.758411</td>\n",
       "      <td>N</td>\n",
       "      <td>1304</td>\n",
       "      <td>2</td>\n",
       "      <td>1</td>\n",
       "      <td>1</td>\n",
       "      <td>0.362222</td>\n",
       "      <td>15-30min</td>\n",
       "    </tr>\n",
       "    <tr>\n",
       "      <th>274438</th>\n",
       "      <td>id0684624</td>\n",
       "      <td>2</td>\n",
       "      <td>2016-01-17 11:32:51</td>\n",
       "      <td>2016-01-17 11:39:39</td>\n",
       "      <td>5</td>\n",
       "      <td>-73.978760</td>\n",
       "      <td>40.744827</td>\n",
       "      <td>-73.974571</td>\n",
       "      <td>40.763287</td>\n",
       "      <td>N</td>\n",
       "      <td>408</td>\n",
       "      <td>1</td>\n",
       "      <td>1</td>\n",
       "      <td>1</td>\n",
       "      <td>0.113333</td>\n",
       "      <td>&lt;15min</td>\n",
       "    </tr>\n",
       "    <tr>\n",
       "      <th>1266391</th>\n",
       "      <td>id2926240</td>\n",
       "      <td>2</td>\n",
       "      <td>2016-01-02 10:24:18</td>\n",
       "      <td>2016-01-02 10:29:56</td>\n",
       "      <td>1</td>\n",
       "      <td>-74.003929</td>\n",
       "      <td>40.719910</td>\n",
       "      <td>-73.993568</td>\n",
       "      <td>40.724442</td>\n",
       "      <td>N</td>\n",
       "      <td>338</td>\n",
       "      <td>1</td>\n",
       "      <td>1</td>\n",
       "      <td>1</td>\n",
       "      <td>0.093889</td>\n",
       "      <td>&lt;15min</td>\n",
       "    </tr>\n",
       "    <tr>\n",
       "      <th>462729</th>\n",
       "      <td>id0611423</td>\n",
       "      <td>2</td>\n",
       "      <td>2016-01-30 10:33:25</td>\n",
       "      <td>2016-01-30 10:39:02</td>\n",
       "      <td>1</td>\n",
       "      <td>-74.005836</td>\n",
       "      <td>40.735939</td>\n",
       "      <td>-73.993141</td>\n",
       "      <td>40.736832</td>\n",
       "      <td>N</td>\n",
       "      <td>337</td>\n",
       "      <td>1</td>\n",
       "      <td>1</td>\n",
       "      <td>1</td>\n",
       "      <td>0.093611</td>\n",
       "      <td>&lt;15min</td>\n",
       "    </tr>\n",
       "    <tr>\n",
       "      <th>749003</th>\n",
       "      <td>id3354217</td>\n",
       "      <td>2</td>\n",
       "      <td>2016-01-31 15:18:08</td>\n",
       "      <td>2016-01-31 15:23:06</td>\n",
       "      <td>1</td>\n",
       "      <td>-74.006104</td>\n",
       "      <td>40.734600</td>\n",
       "      <td>-73.993973</td>\n",
       "      <td>40.741699</td>\n",
       "      <td>N</td>\n",
       "      <td>298</td>\n",
       "      <td>1</td>\n",
       "      <td>1</td>\n",
       "      <td>1</td>\n",
       "      <td>0.082778</td>\n",
       "      <td>&lt;15min</td>\n",
       "    </tr>\n",
       "    <tr>\n",
       "      <th>342549</th>\n",
       "      <td>id3140678</td>\n",
       "      <td>2</td>\n",
       "      <td>2016-01-17 17:34:20</td>\n",
       "      <td>2016-01-17 17:46:57</td>\n",
       "      <td>2</td>\n",
       "      <td>-73.850975</td>\n",
       "      <td>40.842812</td>\n",
       "      <td>-73.889641</td>\n",
       "      <td>40.864269</td>\n",
       "      <td>N</td>\n",
       "      <td>757</td>\n",
       "      <td>5</td>\n",
       "      <td>1</td>\n",
       "      <td>1</td>\n",
       "      <td>0.210278</td>\n",
       "      <td>&lt;15min</td>\n",
       "    </tr>\n",
       "    <tr>\n",
       "      <th>720445</th>\n",
       "      <td>id0310722</td>\n",
       "      <td>2</td>\n",
       "      <td>2016-01-03 16:59:54</td>\n",
       "      <td>2016-01-03 17:05:46</td>\n",
       "      <td>1</td>\n",
       "      <td>-74.002190</td>\n",
       "      <td>40.755814</td>\n",
       "      <td>-73.991333</td>\n",
       "      <td>40.743294</td>\n",
       "      <td>N</td>\n",
       "      <td>352</td>\n",
       "      <td>1</td>\n",
       "      <td>1</td>\n",
       "      <td>1</td>\n",
       "      <td>0.097778</td>\n",
       "      <td>&lt;15min</td>\n",
       "    </tr>\n",
       "    <tr>\n",
       "      <th>832889</th>\n",
       "      <td>id1006396</td>\n",
       "      <td>2</td>\n",
       "      <td>2016-01-16 16:25:21</td>\n",
       "      <td>2016-01-16 16:30:40</td>\n",
       "      <td>2</td>\n",
       "      <td>-73.966583</td>\n",
       "      <td>40.772968</td>\n",
       "      <td>-73.956306</td>\n",
       "      <td>40.763481</td>\n",
       "      <td>N</td>\n",
       "      <td>319</td>\n",
       "      <td>1</td>\n",
       "      <td>1</td>\n",
       "      <td>1</td>\n",
       "      <td>0.088611</td>\n",
       "      <td>&lt;15min</td>\n",
       "    </tr>\n",
       "    <tr>\n",
       "      <th>501813</th>\n",
       "      <td>id2155460</td>\n",
       "      <td>2</td>\n",
       "      <td>2016-01-17 16:31:28</td>\n",
       "      <td>2016-01-17 16:36:58</td>\n",
       "      <td>1</td>\n",
       "      <td>-73.968178</td>\n",
       "      <td>40.794010</td>\n",
       "      <td>-73.959343</td>\n",
       "      <td>40.801540</td>\n",
       "      <td>N</td>\n",
       "      <td>330</td>\n",
       "      <td>1</td>\n",
       "      <td>1</td>\n",
       "      <td>1</td>\n",
       "      <td>0.091667</td>\n",
       "      <td>&lt;15min</td>\n",
       "    </tr>\n",
       "    <tr>\n",
       "      <th>905344</th>\n",
       "      <td>id1589416</td>\n",
       "      <td>2</td>\n",
       "      <td>2016-01-31 16:26:04</td>\n",
       "      <td>2016-01-31 16:28:27</td>\n",
       "      <td>1</td>\n",
       "      <td>-73.966049</td>\n",
       "      <td>40.804977</td>\n",
       "      <td>-73.960747</td>\n",
       "      <td>40.807217</td>\n",
       "      <td>N</td>\n",
       "      <td>143</td>\n",
       "      <td>1</td>\n",
       "      <td>1</td>\n",
       "      <td>1</td>\n",
       "      <td>0.039722</td>\n",
       "      <td>&lt;15min</td>\n",
       "    </tr>\n",
       "  </tbody>\n",
       "</table>\n",
       "<p>1555 rows × 16 columns</p>\n",
       "</div>"
      ],
      "text/plain": [
       "                id  vendor_id     pickup_datetime    dropoff_datetime  \\\n",
       "1020387  id2585908          2 2016-01-16 16:41:37 2016-01-16 16:48:37   \n",
       "340109   id3594205          2 2016-01-24 19:41:11 2016-01-24 19:52:26   \n",
       "482624   id3740704          2 2016-01-10 12:50:03 2016-01-10 12:54:30   \n",
       "1090806  id1946685          2 2016-01-10 19:18:57 2016-01-10 19:24:06   \n",
       "219516   id0615059          2 2016-01-30 16:50:43 2016-01-30 17:14:13   \n",
       "800116   id3590300          2 2016-01-30 18:18:35 2016-01-30 18:42:01   \n",
       "1434271  id0989010          2 2016-01-10 17:03:47 2016-01-10 17:16:51   \n",
       "1399842  id2949641          2 2016-01-10 18:51:43 2016-01-10 19:03:50   \n",
       "867704   id2007174          2 2016-01-31 10:01:45 2016-01-31 10:24:59   \n",
       "1090514  id0462508          2 2016-01-03 18:51:28 2016-01-03 19:10:26   \n",
       "718571   id2142759          2 2016-01-03 13:23:45 2016-01-03 13:28:26   \n",
       "421019   id2179833          2 2016-01-17 16:56:45 2016-01-17 16:57:00   \n",
       "295037   id0033324          2 2016-01-31 11:55:30 2016-01-31 12:06:03   \n",
       "121285   id1406350          2 2016-01-31 18:30:04 2016-01-31 18:34:08   \n",
       "442298   id1197074          2 2016-01-03 16:15:13 2016-01-03 16:29:37   \n",
       "650616   id1586329          2 2016-01-10 15:43:27 2016-01-10 15:46:42   \n",
       "1028723  id2184650          2 2016-01-31 17:25:54 2016-01-31 17:30:13   \n",
       "1227607  id3856263          2 2016-01-31 16:47:34 2016-01-31 17:04:23   \n",
       "1016625  id0202641          2 2016-01-28 02:18:07 2016-01-28 02:43:54   \n",
       "1100972  id2925456          2 2016-01-16 15:37:31 2016-01-16 15:41:10   \n",
       "91769    id2459122          2 2016-01-14 02:48:43 2016-01-14 03:00:14   \n",
       "347136   id1289542          2 2016-01-17 17:16:27 2016-01-17 17:26:01   \n",
       "814397   id0972821          2 2016-01-31 10:02:59 2016-01-31 10:06:54   \n",
       "1138467  id0342681          2 2016-01-02 15:57:40 2016-01-02 16:23:26   \n",
       "138458   id2436103          2 2016-01-10 16:43:56 2016-01-10 16:48:00   \n",
       "46637    id3010501          2 2016-01-10 16:02:11 2016-01-10 16:07:59   \n",
       "1269439  id2000443          2 2016-01-10 15:02:27 2016-01-10 15:20:54   \n",
       "1434370  id0291120          2 2016-01-09 16:00:10 2016-01-09 16:08:02   \n",
       "325204   id1554671          2 2016-01-16 12:00:59 2016-01-16 12:08:42   \n",
       "892974   id3629400          2 2016-01-07 02:10:21 2016-01-07 02:14:59   \n",
       "...            ...        ...                 ...                 ...   \n",
       "101648   id1789747          2 2016-01-09 18:09:55 2016-01-09 18:23:55   \n",
       "1105505  id1770695          2 2016-01-16 15:24:03 2016-01-16 15:37:27   \n",
       "320396   id0629674          2 2016-01-24 12:01:39 2016-01-24 12:11:07   \n",
       "450328   id1182312          2 2016-01-30 10:45:09 2016-01-30 10:52:37   \n",
       "353090   id2765875          2 2016-01-17 10:49:39 2016-01-17 10:59:35   \n",
       "275672   id0823425          2 2016-01-17 16:48:28 2016-01-17 16:52:03   \n",
       "1201590  id1667635          2 2016-01-31 18:10:29 2016-01-31 18:34:53   \n",
       "1413331  id3254341          2 2016-01-09 10:10:39 2016-01-09 10:22:13   \n",
       "1137501  id0155839          2 2016-01-10 16:45:56 2016-01-10 16:58:35   \n",
       "1162712  id3432968          2 2016-01-02 15:41:53 2016-01-02 15:50:51   \n",
       "328176   id1820566          2 2016-01-17 15:40:34 2016-01-17 15:47:59   \n",
       "1274918  id1100836          2 2016-01-16 12:10:13 2016-01-16 12:17:07   \n",
       "1234328  id3048791          2 2016-01-31 12:04:23 2016-01-31 12:57:29   \n",
       "1290200  id3521673          2 2016-01-31 21:07:48 2016-01-31 21:17:36   \n",
       "24568    id0362636          2 2016-01-16 12:15:20 2016-01-16 12:23:28   \n",
       "543247   id3467317          2 2016-01-31 13:36:40 2016-01-31 13:45:23   \n",
       "840426   id1526846          2 2016-01-10 16:58:05 2016-01-10 17:08:32   \n",
       "1155854  id3184154          2 2016-01-12 03:27:43 2016-01-12 03:31:37   \n",
       "687690   id3401346          2 2016-01-31 21:13:04 2016-01-31 21:24:02   \n",
       "276962   id2316800          2 2016-01-17 15:12:40 2016-01-17 15:16:47   \n",
       "693758   id1360383          2 2016-01-28 02:37:26 2016-01-28 02:59:10   \n",
       "274438   id0684624          2 2016-01-17 11:32:51 2016-01-17 11:39:39   \n",
       "1266391  id2926240          2 2016-01-02 10:24:18 2016-01-02 10:29:56   \n",
       "462729   id0611423          2 2016-01-30 10:33:25 2016-01-30 10:39:02   \n",
       "749003   id3354217          2 2016-01-31 15:18:08 2016-01-31 15:23:06   \n",
       "342549   id3140678          2 2016-01-17 17:34:20 2016-01-17 17:46:57   \n",
       "720445   id0310722          2 2016-01-03 16:59:54 2016-01-03 17:05:46   \n",
       "832889   id1006396          2 2016-01-16 16:25:21 2016-01-16 16:30:40   \n",
       "501813   id2155460          2 2016-01-17 16:31:28 2016-01-17 16:36:58   \n",
       "905344   id1589416          2 2016-01-31 16:26:04 2016-01-31 16:28:27   \n",
       "\n",
       "         passenger_count  pickup_longitude  pickup_latitude  \\\n",
       "1020387                1        -73.970131        40.764992   \n",
       "340109                 2        -73.972603        40.758743   \n",
       "482624                 1        -74.001389        40.731113   \n",
       "1090806                2        -73.973839        40.784710   \n",
       "219516                 1        -74.002563        40.744831   \n",
       "800116                 6        -73.986214        40.726189   \n",
       "1434271                1        -73.984558        40.721802   \n",
       "1399842                2        -73.994057        40.751217   \n",
       "867704                 1        -73.988548        40.748711   \n",
       "1090514                1        -73.949669        40.784561   \n",
       "718571                 3        -74.000610        40.727421   \n",
       "421019                 2        -73.927658        40.763088   \n",
       "295037                 2        -73.995590        40.733158   \n",
       "121285                 1        -73.983597        40.744064   \n",
       "442298                 2        -73.973938        40.763222   \n",
       "650616                 1        -73.957802        40.773022   \n",
       "1028723                4        -74.015244        40.714314   \n",
       "1227607                5        -73.988716        40.763691   \n",
       "1016625                1        -74.003128        40.733158   \n",
       "1100972                1        -73.988121        40.769718   \n",
       "91769                  1        -73.996315        40.723900   \n",
       "347136                 5        -73.975700        40.752129   \n",
       "814397                 1        -73.998520        40.734890   \n",
       "1138467                6        -73.872131        40.774181   \n",
       "138458                 1        -73.982994        40.739056   \n",
       "46637                  1        -73.955376        40.764835   \n",
       "1269439                1        -73.984062        40.742489   \n",
       "1434370                1        -73.974373        40.754101   \n",
       "325204                 1        -74.008339        40.714531   \n",
       "892974                 1        -73.981461        40.760719   \n",
       "...                  ...               ...              ...   \n",
       "101648                 1        -73.970604        40.761265   \n",
       "1105505                1        -73.966309        40.761768   \n",
       "320396                 1        -73.966377        40.761852   \n",
       "450328                 1        -73.986099        40.759331   \n",
       "353090                 1        -73.997864        40.766018   \n",
       "275672                 1        -73.976624        40.780739   \n",
       "1201590                5        -73.872948        40.774029   \n",
       "1413331                1        -74.006241        40.734081   \n",
       "1137501                1        -73.993790        40.745850   \n",
       "1162712                1        -74.005417        40.740799   \n",
       "328176                 2        -73.988800        40.730919   \n",
       "1274918                2        -73.989578        40.776131   \n",
       "1234328                5        -73.985970        40.750107   \n",
       "1290200                2        -73.980415        40.760078   \n",
       "24568                  1        -74.001907        40.735298   \n",
       "543247                 5        -74.000473        40.721027   \n",
       "840426                 1        -73.978317        40.684578   \n",
       "1155854                1        -74.006538        40.744171   \n",
       "687690                 2        -73.981178        40.759892   \n",
       "276962                 1        -73.982399        40.772511   \n",
       "693758                 1        -73.992363        40.730690   \n",
       "274438                 5        -73.978760        40.744827   \n",
       "1266391                1        -74.003929        40.719910   \n",
       "462729                 1        -74.005836        40.735939   \n",
       "749003                 1        -74.006104        40.734600   \n",
       "342549                 2        -73.850975        40.842812   \n",
       "720445                 1        -74.002190        40.755814   \n",
       "832889                 2        -73.966583        40.772968   \n",
       "501813                 1        -73.968178        40.794010   \n",
       "905344                 1        -73.966049        40.804977   \n",
       "\n",
       "         dropoff_longitude  dropoff_latitude store_and_fwd_flag  \\\n",
       "1020387         -73.957108         40.778301                  N   \n",
       "340109          -73.954720         40.773254                  N   \n",
       "482624          -73.991516         40.744850                  N   \n",
       "1090806         -73.965477         40.800751                  N   \n",
       "219516          -74.000526         40.722149                  N   \n",
       "800116          -73.973953         40.778782                  N   \n",
       "1434271         -73.976753         40.752213                  N   \n",
       "1399842         -73.963043         40.757965                  N   \n",
       "867704          -73.789902         40.643169                  N   \n",
       "1090514         -74.002617         40.728359                  N   \n",
       "718571          -73.993790         40.741379                  N   \n",
       "421019          -73.931328         40.765079                  N   \n",
       "295037          -73.976921         40.761421                  N   \n",
       "121285          -73.988495         40.737350                  N   \n",
       "442298          -73.995270         40.733940                  N   \n",
       "650616          -73.951714         40.768002                  N   \n",
       "1028723         -74.008453         40.719906                  N   \n",
       "1227607         -73.958290         40.770412                  N   \n",
       "1016625         -73.917442         40.766338                  N   \n",
       "1100972         -73.987541         40.762810                  N   \n",
       "91769           -73.953896         40.729427                  N   \n",
       "347136          -73.994217         40.746132                  N   \n",
       "814397          -73.987717         40.749989                  N   \n",
       "1138467         -73.950218         40.825550                  N   \n",
       "138458          -73.977638         40.752388                  N   \n",
       "46637           -73.959709         40.773773                  N   \n",
       "1269439         -73.974998         40.777416                  N   \n",
       "1434370         -73.975037         40.744400                  N   \n",
       "325204          -73.992508         40.743198                  N   \n",
       "892974          -73.985092         40.766472                  N   \n",
       "...                    ...               ...                ...   \n",
       "101648          -73.991150         40.731567                  N   \n",
       "1105505         -73.978523         40.783009                  N   \n",
       "320396          -73.948807         40.783176                  N   \n",
       "450328          -73.994911         40.769100                  N   \n",
       "353090          -73.981819         40.762032                  N   \n",
       "275672          -73.976562         40.785645                  N   \n",
       "1201590         -73.968773         40.764511                  N   \n",
       "1413331         -73.982323         40.765518                  N   \n",
       "1137501         -73.991623         40.759892                  N   \n",
       "1162712         -74.006798         40.719872                  N   \n",
       "328176          -74.009720         40.735329                  N   \n",
       "1274918         -73.986526         40.767326                  N   \n",
       "1234328         -73.995239         40.769531                  N   \n",
       "1290200         -73.985107         40.778526                  N   \n",
       "24568           -74.015068         40.718220                  N   \n",
       "543247          -74.014061         40.715557                  N   \n",
       "840426          -73.935913         40.676403                  N   \n",
       "1155854         -73.990211         40.761848                  N   \n",
       "687690          -73.966957         40.793659                  N   \n",
       "276962          -73.990967         40.760929                  N   \n",
       "693758          -73.879883         40.758411                  N   \n",
       "274438          -73.974571         40.763287                  N   \n",
       "1266391         -73.993568         40.724442                  N   \n",
       "462729          -73.993141         40.736832                  N   \n",
       "749003          -73.993973         40.741699                  N   \n",
       "342549          -73.889641         40.864269                  N   \n",
       "720445          -73.991333         40.743294                  N   \n",
       "832889          -73.956306         40.763481                  N   \n",
       "501813          -73.959343         40.801540                  N   \n",
       "905344          -73.960747         40.807217                  N   \n",
       "\n",
       "         trip_duration  clusters_km1  clusters_km2  clusters_gm  \\\n",
       "1020387            420             1             1            1   \n",
       "340109             675             5             1            1   \n",
       "482624             267             1             1            1   \n",
       "1090806            309             1             1            1   \n",
       "219516            1410             2             1            1   \n",
       "800116            1406             2             1            1   \n",
       "1434271            784             5             1            1   \n",
       "1399842            727             5             1            1   \n",
       "867704            1394             2             1            1   \n",
       "1090514           1138             4             1            1   \n",
       "718571             281             1             1            1   \n",
       "421019              15             1             1            1   \n",
       "295037             633             5             1            1   \n",
       "121285             244             1             1            1   \n",
       "442298             864             4             1            1   \n",
       "650616             195             1             1            1   \n",
       "1028723            259             1             1            1   \n",
       "1227607           1009             4             1            1   \n",
       "1016625           1547             2             1            1   \n",
       "1100972            219             1             1            1   \n",
       "91769              691             5             1            1   \n",
       "347136             574             5             1            1   \n",
       "814397             235             1             1            1   \n",
       "1138467           1546             2             1            1   \n",
       "138458             244             1             1            1   \n",
       "46637              348             1             1            1   \n",
       "1269439           1107             4             1            1   \n",
       "1434370            472             5             1            1   \n",
       "325204             463             5             1            1   \n",
       "892974             278             1             1            1   \n",
       "...                ...           ...           ...          ...   \n",
       "101648             840             4             1            1   \n",
       "1105505            804             5             1            1   \n",
       "320396             568             5             1            1   \n",
       "450328             448             1             1            1   \n",
       "353090             596             5             1            1   \n",
       "275672             215             1             1            1   \n",
       "1201590           1464             2             1            1   \n",
       "1413331            694             5             1            1   \n",
       "1137501            759             5             1            1   \n",
       "1162712            538             5             1            1   \n",
       "328176             445             1             1            1   \n",
       "1274918            414             1             1            1   \n",
       "1234328           3186             0             1            1   \n",
       "1290200            588             5             1            1   \n",
       "24568              488             5             1            1   \n",
       "543247             523             5             1            1   \n",
       "840426             627             5             1            1   \n",
       "1155854            234             1             1            1   \n",
       "687690             658             5             1            1   \n",
       "276962             247             1             1            1   \n",
       "693758            1304             2             1            1   \n",
       "274438             408             1             1            1   \n",
       "1266391            338             1             1            1   \n",
       "462729             337             1             1            1   \n",
       "749003             298             1             1            1   \n",
       "342549             757             5             1            1   \n",
       "720445             352             1             1            1   \n",
       "832889             319             1             1            1   \n",
       "501813             330             1             1            1   \n",
       "905344             143             1             1            1   \n",
       "\n",
       "         trip_duration_h duration_labels  \n",
       "1020387         0.116667          <15min  \n",
       "340109          0.187500          <15min  \n",
       "482624          0.074167          <15min  \n",
       "1090806         0.085833          <15min  \n",
       "219516          0.391667        15-30min  \n",
       "800116          0.390556        15-30min  \n",
       "1434271         0.217778          <15min  \n",
       "1399842         0.201944          <15min  \n",
       "867704          0.387222        15-30min  \n",
       "1090514         0.316111        15-30min  \n",
       "718571          0.078056          <15min  \n",
       "421019          0.004167          <15min  \n",
       "295037          0.175833          <15min  \n",
       "121285          0.067778          <15min  \n",
       "442298          0.240000          <15min  \n",
       "650616          0.054167          <15min  \n",
       "1028723         0.071944          <15min  \n",
       "1227607         0.280278        15-30min  \n",
       "1016625         0.429722        15-30min  \n",
       "1100972         0.060833          <15min  \n",
       "91769           0.191944          <15min  \n",
       "347136          0.159444          <15min  \n",
       "814397          0.065278          <15min  \n",
       "1138467         0.429444        15-30min  \n",
       "138458          0.067778          <15min  \n",
       "46637           0.096667          <15min  \n",
       "1269439         0.307500        15-30min  \n",
       "1434370         0.131111          <15min  \n",
       "325204          0.128611          <15min  \n",
       "892974          0.077222          <15min  \n",
       "...                  ...             ...  \n",
       "101648          0.233333          <15min  \n",
       "1105505         0.223333          <15min  \n",
       "320396          0.157778          <15min  \n",
       "450328          0.124444          <15min  \n",
       "353090          0.165556          <15min  \n",
       "275672          0.059722          <15min  \n",
       "1201590         0.406667        15-30min  \n",
       "1413331         0.192778          <15min  \n",
       "1137501         0.210833          <15min  \n",
       "1162712         0.149444          <15min  \n",
       "328176          0.123611          <15min  \n",
       "1274918         0.115000          <15min  \n",
       "1234328         0.885000        30-60min  \n",
       "1290200         0.163333          <15min  \n",
       "24568           0.135556          <15min  \n",
       "543247          0.145278          <15min  \n",
       "840426          0.174167          <15min  \n",
       "1155854         0.065000          <15min  \n",
       "687690          0.182778          <15min  \n",
       "276962          0.068611          <15min  \n",
       "693758          0.362222        15-30min  \n",
       "274438          0.113333          <15min  \n",
       "1266391         0.093889          <15min  \n",
       "462729          0.093611          <15min  \n",
       "749003          0.082778          <15min  \n",
       "342549          0.210278          <15min  \n",
       "720445          0.097778          <15min  \n",
       "832889          0.088611          <15min  \n",
       "501813          0.091667          <15min  \n",
       "905344          0.039722          <15min  \n",
       "\n",
       "[1555 rows x 16 columns]"
      ]
     },
     "execution_count": 165,
     "metadata": {},
     "output_type": "execute_result"
    }
   ],
   "source": [
    "df_result[df_result.clusters_gm == 1]"
   ]
  },
  {
   "cell_type": "code",
   "execution_count": 173,
   "metadata": {},
   "outputs": [
    {
     "data": {
      "text/plain": [
       "<15min      4931\n",
       ">2h            0\n",
       "1,5-2h         0\n",
       "1-1,5h         0\n",
       "30-60min       0\n",
       "15-30min       0\n",
       "Name: duration_labels, dtype: int64"
      ]
     },
     "execution_count": 173,
     "metadata": {},
     "output_type": "execute_result"
    }
   ],
   "source": [
    "df_result[df_result.clusters_km1 == 1].duration_labels.value_counts()"
   ]
  },
  {
   "cell_type": "code",
   "execution_count": 188,
   "metadata": {},
   "outputs": [
    {
     "data": {
      "text/html": [
       "<div>\n",
       "<style scoped>\n",
       "    .dataframe tbody tr th:only-of-type {\n",
       "        vertical-align: middle;\n",
       "    }\n",
       "\n",
       "    .dataframe tbody tr th {\n",
       "        vertical-align: top;\n",
       "    }\n",
       "\n",
       "    .dataframe thead th {\n",
       "        text-align: right;\n",
       "    }\n",
       "</style>\n",
       "<table border=\"1\" class=\"dataframe\">\n",
       "  <thead>\n",
       "    <tr style=\"text-align: right;\">\n",
       "      <th>clusters_km1</th>\n",
       "      <th>0</th>\n",
       "      <th>1</th>\n",
       "      <th>2</th>\n",
       "      <th>3</th>\n",
       "      <th>4</th>\n",
       "      <th>5</th>\n",
       "    </tr>\n",
       "    <tr>\n",
       "      <th>duration_labels_min</th>\n",
       "      <th></th>\n",
       "      <th></th>\n",
       "      <th></th>\n",
       "      <th></th>\n",
       "      <th></th>\n",
       "      <th></th>\n",
       "    </tr>\n",
       "  </thead>\n",
       "  <tbody>\n",
       "    <tr>\n",
       "      <th>&lt;10min</th>\n",
       "      <td>0</td>\n",
       "      <td>4931</td>\n",
       "      <td>0</td>\n",
       "      <td>0</td>\n",
       "      <td>0</td>\n",
       "      <td>2204</td>\n",
       "    </tr>\n",
       "    <tr>\n",
       "      <th>10-20min</th>\n",
       "      <td>0</td>\n",
       "      <td>0</td>\n",
       "      <td>0</td>\n",
       "      <td>0</td>\n",
       "      <td>2745</td>\n",
       "      <td>2425</td>\n",
       "    </tr>\n",
       "    <tr>\n",
       "      <th>20-30min</th>\n",
       "      <td>0</td>\n",
       "      <td>0</td>\n",
       "      <td>1447</td>\n",
       "      <td>0</td>\n",
       "      <td>269</td>\n",
       "      <td>0</td>\n",
       "    </tr>\n",
       "    <tr>\n",
       "      <th>30-40min</th>\n",
       "      <td>0</td>\n",
       "      <td>0</td>\n",
       "      <td>119</td>\n",
       "      <td>479</td>\n",
       "      <td>0</td>\n",
       "      <td>0</td>\n",
       "    </tr>\n",
       "    <tr>\n",
       "      <th>30-50min</th>\n",
       "      <td>25</td>\n",
       "      <td>0</td>\n",
       "      <td>0</td>\n",
       "      <td>178</td>\n",
       "      <td>0</td>\n",
       "      <td>0</td>\n",
       "    </tr>\n",
       "    <tr>\n",
       "      <th>60-40min</th>\n",
       "      <td>105</td>\n",
       "      <td>0</td>\n",
       "      <td>0</td>\n",
       "      <td>0</td>\n",
       "      <td>0</td>\n",
       "      <td>0</td>\n",
       "    </tr>\n",
       "    <tr>\n",
       "      <th>1-1,5h</th>\n",
       "      <td>68</td>\n",
       "      <td>0</td>\n",
       "      <td>0</td>\n",
       "      <td>0</td>\n",
       "      <td>0</td>\n",
       "      <td>0</td>\n",
       "    </tr>\n",
       "    <tr>\n",
       "      <th>1,5-2h</th>\n",
       "      <td>5</td>\n",
       "      <td>0</td>\n",
       "      <td>0</td>\n",
       "      <td>0</td>\n",
       "      <td>0</td>\n",
       "      <td>0</td>\n",
       "    </tr>\n",
       "  </tbody>\n",
       "</table>\n",
       "</div>"
      ],
      "text/plain": [
       "clusters_km1           0     1     2    3     4     5\n",
       "duration_labels_min                                  \n",
       "<10min                 0  4931     0    0     0  2204\n",
       "10-20min               0     0     0    0  2745  2425\n",
       "20-30min               0     0  1447    0   269     0\n",
       "30-40min               0     0   119  479     0     0\n",
       "30-50min              25     0     0  178     0     0\n",
       "60-40min             105     0     0    0     0     0\n",
       "1-1,5h                68     0     0    0     0     0\n",
       "1,5-2h                 5     0     0    0     0     0"
      ]
     },
     "execution_count": 188,
     "metadata": {},
     "output_type": "execute_result"
    }
   ],
   "source": [
    "pd.crosstab(df_result.duration_labels_min,df_result.clusters_km1)"
   ]
  },
  {
   "cell_type": "code",
   "execution_count": 192,
   "metadata": {},
   "outputs": [
    {
     "ename": "AttributeError",
     "evalue": "'Series' object has no attribute 'day'",
     "output_type": "error",
     "traceback": [
      "\u001b[0;31m---------------------------------------------------------------------------\u001b[0m",
      "\u001b[0;31mAttributeError\u001b[0m                            Traceback (most recent call last)",
      "\u001b[0;32m<ipython-input-192-c5c459bd6233>\u001b[0m in \u001b[0;36m<module>\u001b[0;34m\u001b[0m\n\u001b[0;32m----> 1\u001b[0;31m \u001b[0mdf_result\u001b[0m\u001b[0;34m[\u001b[0m\u001b[0mdf_result\u001b[0m\u001b[0;34m.\u001b[0m\u001b[0mclusters_km1\u001b[0m \u001b[0;34m==\u001b[0m \u001b[0;36m0\u001b[0m\u001b[0;34m]\u001b[0m\u001b[0;34m.\u001b[0m\u001b[0mpickup_datetime\u001b[0m\u001b[0;34m.\u001b[0m\u001b[0mday\u001b[0m\u001b[0;34m(\u001b[0m\u001b[0;34m)\u001b[0m\u001b[0;34m.\u001b[0m\u001b[0mvalue_counts\u001b[0m\u001b[0;34m(\u001b[0m\u001b[0;34m)\u001b[0m\u001b[0;34m\u001b[0m\u001b[0;34m\u001b[0m\u001b[0m\n\u001b[0m",
      "\u001b[0;32m~/anaconda3/lib/python3.7/site-packages/pandas/core/generic.py\u001b[0m in \u001b[0;36m__getattr__\u001b[0;34m(self, name)\u001b[0m\n\u001b[1;32m   5065\u001b[0m             \u001b[0;32mif\u001b[0m \u001b[0mself\u001b[0m\u001b[0;34m.\u001b[0m\u001b[0m_info_axis\u001b[0m\u001b[0;34m.\u001b[0m\u001b[0m_can_hold_identifiers_and_holds_name\u001b[0m\u001b[0;34m(\u001b[0m\u001b[0mname\u001b[0m\u001b[0;34m)\u001b[0m\u001b[0;34m:\u001b[0m\u001b[0;34m\u001b[0m\u001b[0;34m\u001b[0m\u001b[0m\n\u001b[1;32m   5066\u001b[0m                 \u001b[0;32mreturn\u001b[0m \u001b[0mself\u001b[0m\u001b[0;34m[\u001b[0m\u001b[0mname\u001b[0m\u001b[0;34m]\u001b[0m\u001b[0;34m\u001b[0m\u001b[0;34m\u001b[0m\u001b[0m\n\u001b[0;32m-> 5067\u001b[0;31m             \u001b[0;32mreturn\u001b[0m \u001b[0mobject\u001b[0m\u001b[0;34m.\u001b[0m\u001b[0m__getattribute__\u001b[0m\u001b[0;34m(\u001b[0m\u001b[0mself\u001b[0m\u001b[0;34m,\u001b[0m \u001b[0mname\u001b[0m\u001b[0;34m)\u001b[0m\u001b[0;34m\u001b[0m\u001b[0;34m\u001b[0m\u001b[0m\n\u001b[0m\u001b[1;32m   5068\u001b[0m \u001b[0;34m\u001b[0m\u001b[0m\n\u001b[1;32m   5069\u001b[0m     \u001b[0;32mdef\u001b[0m \u001b[0m__setattr__\u001b[0m\u001b[0;34m(\u001b[0m\u001b[0mself\u001b[0m\u001b[0;34m,\u001b[0m \u001b[0mname\u001b[0m\u001b[0;34m,\u001b[0m \u001b[0mvalue\u001b[0m\u001b[0;34m)\u001b[0m\u001b[0;34m:\u001b[0m\u001b[0;34m\u001b[0m\u001b[0;34m\u001b[0m\u001b[0m\n",
      "\u001b[0;31mAttributeError\u001b[0m: 'Series' object has no attribute 'day'"
     ]
    }
   ],
   "source": [
    "df_result[df_result.clusters_km1 == 0].pickup_datetime.day().value_counts()"
   ]
  },
  {
   "cell_type": "code",
   "execution_count": 196,
   "metadata": {},
   "outputs": [
    {
     "name": "stderr",
     "output_type": "stream",
     "text": [
      "/Users/laumaustupa/anaconda3/lib/python3.7/site-packages/ipykernel_launcher.py:1: UserWarning: Pandas doesn't allow columns to be created via a new attribute name - see https://pandas.pydata.org/pandas-docs/stable/indexing.html#attribute-access\n",
      "  \"\"\"Entry point for launching an IPython kernel.\n"
     ]
    }
   ],
   "source": [
    "df_datetime.trip_duration_min = df_datetime.trip_duration/60"
   ]
  },
  {
   "cell_type": "code",
   "execution_count": 197,
   "metadata": {},
   "outputs": [],
   "source": [
    "min_labels = ['<10min', '10-20min', '20-30min', '30-40min', '30-50min', '60-40min', '1-1,5h', '1,5-2h', '>2h']\n",
    "cutoffs = [-1, 10, 20, 30, 40, 50, 60, 90, 120, 300]\n",
    "df_datetime['duration_labels_min'] = pd.cut(df_datetime.trip_duration_min, cutoffs, labels=min_labels)"
   ]
  },
  {
   "cell_type": "code",
   "execution_count": 198,
   "metadata": {},
   "outputs": [
    {
     "data": {
      "text/html": [
       "<div>\n",
       "<style scoped>\n",
       "    .dataframe tbody tr th:only-of-type {\n",
       "        vertical-align: middle;\n",
       "    }\n",
       "\n",
       "    .dataframe tbody tr th {\n",
       "        vertical-align: top;\n",
       "    }\n",
       "\n",
       "    .dataframe thead th {\n",
       "        text-align: right;\n",
       "    }\n",
       "</style>\n",
       "<table border=\"1\" class=\"dataframe\">\n",
       "  <thead>\n",
       "    <tr style=\"text-align: right;\">\n",
       "      <th></th>\n",
       "      <th>passenger_count</th>\n",
       "      <th>trip_duration</th>\n",
       "      <th>pickup_day</th>\n",
       "      <th>pickup_hour</th>\n",
       "      <th>dropoff_day</th>\n",
       "      <th>dropoff_hour</th>\n",
       "      <th>clusters_km1</th>\n",
       "      <th>clusters_km2</th>\n",
       "      <th>clusters_db</th>\n",
       "      <th>clusters_gm</th>\n",
       "      <th>duration_labels_min</th>\n",
       "    </tr>\n",
       "  </thead>\n",
       "  <tbody>\n",
       "    <tr>\n",
       "      <th>1020387</th>\n",
       "      <td>1</td>\n",
       "      <td>420</td>\n",
       "      <td>Saturday</td>\n",
       "      <td>16</td>\n",
       "      <td>Saturday</td>\n",
       "      <td>16</td>\n",
       "      <td>1</td>\n",
       "      <td>1</td>\n",
       "      <td>0</td>\n",
       "      <td>1</td>\n",
       "      <td>&lt;10min</td>\n",
       "    </tr>\n",
       "    <tr>\n",
       "      <th>1003233</th>\n",
       "      <td>1</td>\n",
       "      <td>738</td>\n",
       "      <td>Wednesday</td>\n",
       "      <td>11</td>\n",
       "      <td>Wednesday</td>\n",
       "      <td>11</td>\n",
       "      <td>5</td>\n",
       "      <td>2</td>\n",
       "      <td>0</td>\n",
       "      <td>4</td>\n",
       "      <td>10-20min</td>\n",
       "    </tr>\n",
       "    <tr>\n",
       "      <th>1381150</th>\n",
       "      <td>1</td>\n",
       "      <td>196</td>\n",
       "      <td>Monday</td>\n",
       "      <td>4</td>\n",
       "      <td>Monday</td>\n",
       "      <td>4</td>\n",
       "      <td>1</td>\n",
       "      <td>1</td>\n",
       "      <td>0</td>\n",
       "      <td>2</td>\n",
       "      <td>&lt;10min</td>\n",
       "    </tr>\n",
       "    <tr>\n",
       "      <th>971935</th>\n",
       "      <td>1</td>\n",
       "      <td>1015</td>\n",
       "      <td>Wednesday</td>\n",
       "      <td>22</td>\n",
       "      <td>Wednesday</td>\n",
       "      <td>22</td>\n",
       "      <td>4</td>\n",
       "      <td>4</td>\n",
       "      <td>0</td>\n",
       "      <td>0</td>\n",
       "      <td>10-20min</td>\n",
       "    </tr>\n",
       "    <tr>\n",
       "      <th>932714</th>\n",
       "      <td>2</td>\n",
       "      <td>1064</td>\n",
       "      <td>Saturday</td>\n",
       "      <td>2</td>\n",
       "      <td>Saturday</td>\n",
       "      <td>2</td>\n",
       "      <td>4</td>\n",
       "      <td>3</td>\n",
       "      <td>1</td>\n",
       "      <td>5</td>\n",
       "      <td>10-20min</td>\n",
       "    </tr>\n",
       "  </tbody>\n",
       "</table>\n",
       "</div>"
      ],
      "text/plain": [
       "         passenger_count  trip_duration pickup_day  pickup_hour dropoff_day  \\\n",
       "1020387                1            420   Saturday           16    Saturday   \n",
       "1003233                1            738  Wednesday           11   Wednesday   \n",
       "1381150                1            196     Monday            4      Monday   \n",
       "971935                 1           1015  Wednesday           22   Wednesday   \n",
       "932714                 2           1064   Saturday            2    Saturday   \n",
       "\n",
       "         dropoff_hour  clusters_km1  clusters_km2  clusters_db  clusters_gm  \\\n",
       "1020387            16             1             1            0            1   \n",
       "1003233            11             5             2            0            4   \n",
       "1381150             4             1             1            0            2   \n",
       "971935             22             4             4            0            0   \n",
       "932714              2             4             3            1            5   \n",
       "\n",
       "        duration_labels_min  \n",
       "1020387              <10min  \n",
       "1003233            10-20min  \n",
       "1381150              <10min  \n",
       "971935             10-20min  \n",
       "932714             10-20min  "
      ]
     },
     "execution_count": 198,
     "metadata": {},
     "output_type": "execute_result"
    }
   ],
   "source": [
    "df_datetime.head()"
   ]
  },
  {
   "cell_type": "code",
   "execution_count": 211,
   "metadata": {},
   "outputs": [
    {
     "data": {
      "text/html": [
       "<div>\n",
       "<style scoped>\n",
       "    .dataframe tbody tr th:only-of-type {\n",
       "        vertical-align: middle;\n",
       "    }\n",
       "\n",
       "    .dataframe tbody tr th {\n",
       "        vertical-align: top;\n",
       "    }\n",
       "\n",
       "    .dataframe thead th {\n",
       "        text-align: right;\n",
       "    }\n",
       "</style>\n",
       "<table border=\"1\" class=\"dataframe\">\n",
       "  <thead>\n",
       "    <tr style=\"text-align: right;\">\n",
       "      <th>clusters_km2</th>\n",
       "      <th>0</th>\n",
       "      <th>1</th>\n",
       "      <th>2</th>\n",
       "      <th>3</th>\n",
       "      <th>4</th>\n",
       "      <th>5</th>\n",
       "    </tr>\n",
       "    <tr>\n",
       "      <th>duration_labels_min</th>\n",
       "      <th></th>\n",
       "      <th></th>\n",
       "      <th></th>\n",
       "      <th></th>\n",
       "      <th></th>\n",
       "      <th></th>\n",
       "    </tr>\n",
       "  </thead>\n",
       "  <tbody>\n",
       "    <tr>\n",
       "      <th>&lt;10min</th>\n",
       "      <td>237</td>\n",
       "      <td>2029</td>\n",
       "      <td>2169</td>\n",
       "      <td>452</td>\n",
       "      <td>1115</td>\n",
       "      <td>1133</td>\n",
       "    </tr>\n",
       "    <tr>\n",
       "      <th>10-20min</th>\n",
       "      <td>148</td>\n",
       "      <td>1275</td>\n",
       "      <td>1598</td>\n",
       "      <td>347</td>\n",
       "      <td>913</td>\n",
       "      <td>889</td>\n",
       "    </tr>\n",
       "    <tr>\n",
       "      <th>20-30min</th>\n",
       "      <td>52</td>\n",
       "      <td>379</td>\n",
       "      <td>570</td>\n",
       "      <td>119</td>\n",
       "      <td>288</td>\n",
       "      <td>308</td>\n",
       "    </tr>\n",
       "    <tr>\n",
       "      <th>30-40min</th>\n",
       "      <td>12</td>\n",
       "      <td>105</td>\n",
       "      <td>226</td>\n",
       "      <td>23</td>\n",
       "      <td>112</td>\n",
       "      <td>120</td>\n",
       "    </tr>\n",
       "    <tr>\n",
       "      <th>30-50min</th>\n",
       "      <td>4</td>\n",
       "      <td>40</td>\n",
       "      <td>88</td>\n",
       "      <td>4</td>\n",
       "      <td>28</td>\n",
       "      <td>39</td>\n",
       "    </tr>\n",
       "    <tr>\n",
       "      <th>60-40min</th>\n",
       "      <td>1</td>\n",
       "      <td>15</td>\n",
       "      <td>38</td>\n",
       "      <td>3</td>\n",
       "      <td>23</td>\n",
       "      <td>25</td>\n",
       "    </tr>\n",
       "    <tr>\n",
       "      <th>1-1,5h</th>\n",
       "      <td>0</td>\n",
       "      <td>5</td>\n",
       "      <td>25</td>\n",
       "      <td>0</td>\n",
       "      <td>16</td>\n",
       "      <td>22</td>\n",
       "    </tr>\n",
       "    <tr>\n",
       "      <th>1,5-2h</th>\n",
       "      <td>0</td>\n",
       "      <td>0</td>\n",
       "      <td>2</td>\n",
       "      <td>0</td>\n",
       "      <td>0</td>\n",
       "      <td>3</td>\n",
       "    </tr>\n",
       "  </tbody>\n",
       "</table>\n",
       "</div>"
      ],
      "text/plain": [
       "clusters_km2           0     1     2    3     4     5\n",
       "duration_labels_min                                  \n",
       "<10min               237  2029  2169  452  1115  1133\n",
       "10-20min             148  1275  1598  347   913   889\n",
       "20-30min              52   379   570  119   288   308\n",
       "30-40min              12   105   226   23   112   120\n",
       "30-50min               4    40    88    4    28    39\n",
       "60-40min               1    15    38    3    23    25\n",
       "1-1,5h                 0     5    25    0    16    22\n",
       "1,5-2h                 0     0     2    0     0     3"
      ]
     },
     "execution_count": 211,
     "metadata": {},
     "output_type": "execute_result"
    }
   ],
   "source": [
    "pd.crosstab(df_datetime.duration_labels_min,df_datetime.clusters_km2)"
   ]
  },
  {
   "cell_type": "code",
   "execution_count": 206,
   "metadata": {},
   "outputs": [
    {
     "data": {
      "text/plain": [
       "(811, 1262)"
      ]
     },
     "execution_count": 206,
     "metadata": {},
     "output_type": "execute_result"
    }
   ],
   "source": [
    "df_datetime[df_datetime.clusters_km1 == 4].trip_duration.min(), df_datetime[df_datetime.clusters_km1 == 4].trip_duration.max()"
   ]
  },
  {
   "cell_type": "code",
   "execution_count": 207,
   "metadata": {},
   "outputs": [
    {
     "data": {
      "text/plain": [
       "(1881, 2904)"
      ]
     },
     "execution_count": 207,
     "metadata": {},
     "output_type": "execute_result"
    }
   ],
   "source": [
    "df_datetime[df_datetime.clusters_km1 == 3].trip_duration.min(), df_datetime[df_datetime.clusters_km1 == 3].trip_duration.max()"
   ]
  },
  {
   "cell_type": "code",
   "execution_count": 208,
   "metadata": {},
   "outputs": [
    {
     "data": {
      "text/plain": [
       "(2911, 6934)"
      ]
     },
     "execution_count": 208,
     "metadata": {},
     "output_type": "execute_result"
    }
   ],
   "source": [
    "df_datetime[df_datetime.clusters_km1 == 0].trip_duration.min(), df_datetime[df_datetime.clusters_km1 == 0].trip_duration.max()"
   ]
  },
  {
   "cell_type": "code",
   "execution_count": 209,
   "metadata": {},
   "outputs": [
    {
     "data": {
      "text/plain": [
       "(3, 453)"
      ]
     },
     "execution_count": 209,
     "metadata": {},
     "output_type": "execute_result"
    }
   ],
   "source": [
    "df_datetime[df_datetime.clusters_km1 == 1].trip_duration.min(), df_datetime[df_datetime.clusters_km1 == 1].trip_duration.max()"
   ]
  },
  {
   "cell_type": "code",
   "execution_count": 203,
   "metadata": {},
   "outputs": [
    {
     "data": {
      "text/plain": [
       "(454, 810)"
      ]
     },
     "execution_count": 203,
     "metadata": {},
     "output_type": "execute_result"
    }
   ],
   "source": [
    "df_datetime[df_datetime.clusters_km1 == 5].trip_duration.min(), df_datetime[df_datetime.clusters_km1 == 5].trip_duration.max()"
   ]
  },
  {
   "cell_type": "code",
   "execution_count": 210,
   "metadata": {},
   "outputs": [
    {
     "data": {
      "text/plain": [
       "(1263, 1879)"
      ]
     },
     "execution_count": 210,
     "metadata": {},
     "output_type": "execute_result"
    }
   ],
   "source": [
    "df_datetime[df_datetime.clusters_km1 == 2].trip_duration.min(), df_datetime[df_datetime.clusters_km1 == 2].trip_duration.max()"
   ]
  },
  {
   "cell_type": "code",
   "execution_count": null,
   "metadata": {},
   "outputs": [],
   "source": []
  },
  {
   "cell_type": "markdown",
   "metadata": {},
   "source": [
    "### Hierarchical clustering"
   ]
  },
  {
   "cell_type": "code",
   "execution_count": null,
   "metadata": {},
   "outputs": [],
   "source": []
  },
  {
   "cell_type": "code",
   "execution_count": null,
   "metadata": {},
   "outputs": [],
   "source": []
  },
  {
   "cell_type": "code",
   "execution_count": null,
   "metadata": {},
   "outputs": [],
   "source": []
  },
  {
   "cell_type": "code",
   "execution_count": 96,
   "metadata": {},
   "outputs": [],
   "source": [
    "df_ML5 = df_dummies.copy()"
   ]
  },
  {
   "cell_type": "code",
   "execution_count": 97,
   "metadata": {},
   "outputs": [],
   "source": [
    "from sklearn.cluster import AgglomerativeClustering\n",
    "import scipy.cluster.hierarchy as sch"
   ]
  },
  {
   "cell_type": "code",
   "execution_count": 98,
   "metadata": {},
   "outputs": [
    {
     "data": {
      "image/png": "[encoded data removed]",
      "text/plain": [
       "<Figure size 576x396 with 1 Axes>"
      ]
     },
     "metadata": {},
     "output_type": "display_data"
    }
   ],
   "source": [
    "dendrogram = sch.dendrogram(sch.linkage(df_ML5, method='ward'))"
   ]
  },
  {
   "cell_type": "code",
   "execution_count": null,
   "metadata": {},
   "outputs": [],
   "source": []
  }
 ],
 "metadata": {
  "kernelspec": {
   "display_name": "Python 3",
   "language": "python",
   "name": "python3"
  },
  "language_info": {
   "codemirror_mode": {
    "name": "ipython",
    "version": 3
   },
   "file_extension": ".py",
   "mimetype": "text/x-python",
   "name": "python",
   "nbconvert_exporter": "python",
   "pygments_lexer": "ipython3",
   "version": "3.7.3"
  }
 },
 "nbformat": 4,
 "nbformat_minor": 2
}
