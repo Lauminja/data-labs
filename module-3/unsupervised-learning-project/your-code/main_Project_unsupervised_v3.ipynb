{
 "cells": [
  {
   "cell_type": "markdown",
   "metadata": {},
   "source": [
    "## Overview\n",
    "\n",
    "### External Interface Requirements\n",
    "1. Input requirement: capacity to read a dataset stored on disk.\n",
    "2. Output requirement: report on optimal number of clusters, centroid coordinates and quality metric.\n",
    "3. Output requirement: identifiers of classes corresponding to new instances classified by the model.\n",
    "\n",
    "### Functional Requirements\n",
    "1. The software must learn a clusterization a the dataset.\n",
    "2. The software must use the learned clusterization to classify new problem instances.\n",
    "3. The software must evaluate the quality of a clusterization.\n",
    "4. The software must be flexible to work with different preconfigured amount of clusters.\n",
    "5. The software must compare results using different numbers of clusters and determine which number of clusters is best.\n",
    "\n",
    "\n",
    "### Necessary Deliverables\n",
    "1. Python application that performs ETL, training, and testing.\n",
    "2. Report containing quality metrics, and explanation of the dataset, and the experimental procedure (range of the different number of clusters that were tested, how the range was traversed, etc.).\n",
    "\n",
    "### Further notes\n",
    "\t- Find data & understand it (sometimes need to aggregate rows of data as each line is not unique) \n",
    "    - Perform data cleaning&feature engineering \n",
    "\t- First find all different clusters (types) of clients/products \n",
    "\t- 2nd find their characteristics "
   ]
  },
  {
   "cell_type": "code",
   "execution_count": 94,
   "metadata": {},
   "outputs": [],
   "source": [
    "%matplotlib inline \n",
    "import matplotlib.pyplot as plt\n",
    "import seaborn as sns\n",
    "\n",
    "import numpy as np\n",
    "import pandas as pd"
   ]
  },
  {
   "cell_type": "code",
   "execution_count": 95,
   "metadata": {},
   "outputs": [],
   "source": [
    "taxi = pd.read_csv('../data/train.csv')"
   ]
  },
  {
   "cell_type": "markdown",
   "metadata": {},
   "source": [
    "### Exploring the data & variables"
   ]
  },
  {
   "cell_type": "code",
   "execution_count": 96,
   "metadata": {},
   "outputs": [
    {
     "data": {
      "text/html": [
       "<div>\n",
       "<style scoped>\n",
       "    .dataframe tbody tr th:only-of-type {\n",
       "        vertical-align: middle;\n",
       "    }\n",
       "\n",
       "    .dataframe tbody tr th {\n",
       "        vertical-align: top;\n",
       "    }\n",
       "\n",
       "    .dataframe thead th {\n",
       "        text-align: right;\n",
       "    }\n",
       "</style>\n",
       "<table border=\"1\" class=\"dataframe\">\n",
       "  <thead>\n",
       "    <tr style=\"text-align: right;\">\n",
       "      <th></th>\n",
       "      <th>id</th>\n",
       "      <th>vendor_id</th>\n",
       "      <th>pickup_datetime</th>\n",
       "      <th>dropoff_datetime</th>\n",
       "      <th>passenger_count</th>\n",
       "      <th>pickup_longitude</th>\n",
       "      <th>pickup_latitude</th>\n",
       "      <th>dropoff_longitude</th>\n",
       "      <th>dropoff_latitude</th>\n",
       "      <th>store_and_fwd_flag</th>\n",
       "      <th>trip_duration</th>\n",
       "    </tr>\n",
       "  </thead>\n",
       "  <tbody>\n",
       "    <tr>\n",
       "      <th>0</th>\n",
       "      <td>id2875421</td>\n",
       "      <td>2</td>\n",
       "      <td>2016-03-14 17:24:55</td>\n",
       "      <td>2016-03-14 17:32:30</td>\n",
       "      <td>1</td>\n",
       "      <td>-73.982155</td>\n",
       "      <td>40.767937</td>\n",
       "      <td>-73.964630</td>\n",
       "      <td>40.765602</td>\n",
       "      <td>N</td>\n",
       "      <td>455</td>\n",
       "    </tr>\n",
       "    <tr>\n",
       "      <th>1</th>\n",
       "      <td>id2377394</td>\n",
       "      <td>1</td>\n",
       "      <td>2016-06-12 00:43:35</td>\n",
       "      <td>2016-06-12 00:54:38</td>\n",
       "      <td>1</td>\n",
       "      <td>-73.980415</td>\n",
       "      <td>40.738564</td>\n",
       "      <td>-73.999481</td>\n",
       "      <td>40.731152</td>\n",
       "      <td>N</td>\n",
       "      <td>663</td>\n",
       "    </tr>\n",
       "    <tr>\n",
       "      <th>2</th>\n",
       "      <td>id3858529</td>\n",
       "      <td>2</td>\n",
       "      <td>2016-01-19 11:35:24</td>\n",
       "      <td>2016-01-19 12:10:48</td>\n",
       "      <td>1</td>\n",
       "      <td>-73.979027</td>\n",
       "      <td>40.763939</td>\n",
       "      <td>-74.005333</td>\n",
       "      <td>40.710087</td>\n",
       "      <td>N</td>\n",
       "      <td>2124</td>\n",
       "    </tr>\n",
       "    <tr>\n",
       "      <th>3</th>\n",
       "      <td>id3504673</td>\n",
       "      <td>2</td>\n",
       "      <td>2016-04-06 19:32:31</td>\n",
       "      <td>2016-04-06 19:39:40</td>\n",
       "      <td>1</td>\n",
       "      <td>-74.010040</td>\n",
       "      <td>40.719971</td>\n",
       "      <td>-74.012268</td>\n",
       "      <td>40.706718</td>\n",
       "      <td>N</td>\n",
       "      <td>429</td>\n",
       "    </tr>\n",
       "    <tr>\n",
       "      <th>4</th>\n",
       "      <td>id2181028</td>\n",
       "      <td>2</td>\n",
       "      <td>2016-03-26 13:30:55</td>\n",
       "      <td>2016-03-26 13:38:10</td>\n",
       "      <td>1</td>\n",
       "      <td>-73.973053</td>\n",
       "      <td>40.793209</td>\n",
       "      <td>-73.972923</td>\n",
       "      <td>40.782520</td>\n",
       "      <td>N</td>\n",
       "      <td>435</td>\n",
       "    </tr>\n",
       "  </tbody>\n",
       "</table>\n",
       "</div>"
      ],
      "text/plain": [
       "          id  vendor_id      pickup_datetime     dropoff_datetime  \\\n",
       "0  id2875421          2  2016-03-14 17:24:55  2016-03-14 17:32:30   \n",
       "1  id2377394          1  2016-06-12 00:43:35  2016-06-12 00:54:38   \n",
       "2  id3858529          2  2016-01-19 11:35:24  2016-01-19 12:10:48   \n",
       "3  id3504673          2  2016-04-06 19:32:31  2016-04-06 19:39:40   \n",
       "4  id2181028          2  2016-03-26 13:30:55  2016-03-26 13:38:10   \n",
       "\n",
       "   passenger_count  pickup_longitude  pickup_latitude  dropoff_longitude  \\\n",
       "0                1        -73.982155        40.767937         -73.964630   \n",
       "1                1        -73.980415        40.738564         -73.999481   \n",
       "2                1        -73.979027        40.763939         -74.005333   \n",
       "3                1        -74.010040        40.719971         -74.012268   \n",
       "4                1        -73.973053        40.793209         -73.972923   \n",
       "\n",
       "   dropoff_latitude store_and_fwd_flag  trip_duration  \n",
       "0         40.765602                  N            455  \n",
       "1         40.731152                  N            663  \n",
       "2         40.710087                  N           2124  \n",
       "3         40.706718                  N            429  \n",
       "4         40.782520                  N            435  "
      ]
     },
     "execution_count": 96,
     "metadata": {},
     "output_type": "execute_result"
    }
   ],
   "source": [
    "taxi.head()"
   ]
  },
  {
   "cell_type": "code",
   "execution_count": 97,
   "metadata": {},
   "outputs": [
    {
     "data": {
      "text/plain": [
       "(1458644, 11)"
      ]
     },
     "execution_count": 97,
     "metadata": {},
     "output_type": "execute_result"
    }
   ],
   "source": [
    "taxi.shape"
   ]
  },
  {
   "cell_type": "code",
   "execution_count": 98,
   "metadata": {},
   "outputs": [
    {
     "data": {
      "text/plain": [
       "id                     object\n",
       "vendor_id               int64\n",
       "pickup_datetime        object\n",
       "dropoff_datetime       object\n",
       "passenger_count         int64\n",
       "pickup_longitude      float64\n",
       "pickup_latitude       float64\n",
       "dropoff_longitude     float64\n",
       "dropoff_latitude      float64\n",
       "store_and_fwd_flag     object\n",
       "trip_duration           int64\n",
       "dtype: object"
      ]
     },
     "execution_count": 98,
     "metadata": {},
     "output_type": "execute_result"
    }
   ],
   "source": [
    "taxi.dtypes"
   ]
  },
  {
   "cell_type": "code",
   "execution_count": 99,
   "metadata": {},
   "outputs": [
    {
     "data": {
      "text/html": [
       "<div>\n",
       "<style scoped>\n",
       "    .dataframe tbody tr th:only-of-type {\n",
       "        vertical-align: middle;\n",
       "    }\n",
       "\n",
       "    .dataframe tbody tr th {\n",
       "        vertical-align: top;\n",
       "    }\n",
       "\n",
       "    .dataframe thead th {\n",
       "        text-align: right;\n",
       "    }\n",
       "</style>\n",
       "<table border=\"1\" class=\"dataframe\">\n",
       "  <thead>\n",
       "    <tr style=\"text-align: right;\">\n",
       "      <th></th>\n",
       "      <th>vendor_id</th>\n",
       "      <th>passenger_count</th>\n",
       "      <th>pickup_longitude</th>\n",
       "      <th>pickup_latitude</th>\n",
       "      <th>dropoff_longitude</th>\n",
       "      <th>dropoff_latitude</th>\n",
       "      <th>trip_duration</th>\n",
       "    </tr>\n",
       "  </thead>\n",
       "  <tbody>\n",
       "    <tr>\n",
       "      <th>count</th>\n",
       "      <td>1.458644e+06</td>\n",
       "      <td>1.458644e+06</td>\n",
       "      <td>1.458644e+06</td>\n",
       "      <td>1.458644e+06</td>\n",
       "      <td>1.458644e+06</td>\n",
       "      <td>1.458644e+06</td>\n",
       "      <td>1.458644e+06</td>\n",
       "    </tr>\n",
       "    <tr>\n",
       "      <th>mean</th>\n",
       "      <td>1.534950e+00</td>\n",
       "      <td>1.664530e+00</td>\n",
       "      <td>-7.397349e+01</td>\n",
       "      <td>4.075092e+01</td>\n",
       "      <td>-7.397342e+01</td>\n",
       "      <td>4.075180e+01</td>\n",
       "      <td>9.594923e+02</td>\n",
       "    </tr>\n",
       "    <tr>\n",
       "      <th>std</th>\n",
       "      <td>4.987772e-01</td>\n",
       "      <td>1.314242e+00</td>\n",
       "      <td>7.090186e-02</td>\n",
       "      <td>3.288119e-02</td>\n",
       "      <td>7.064327e-02</td>\n",
       "      <td>3.589056e-02</td>\n",
       "      <td>5.237432e+03</td>\n",
       "    </tr>\n",
       "    <tr>\n",
       "      <th>min</th>\n",
       "      <td>1.000000e+00</td>\n",
       "      <td>0.000000e+00</td>\n",
       "      <td>-1.219333e+02</td>\n",
       "      <td>3.435970e+01</td>\n",
       "      <td>-1.219333e+02</td>\n",
       "      <td>3.218114e+01</td>\n",
       "      <td>1.000000e+00</td>\n",
       "    </tr>\n",
       "    <tr>\n",
       "      <th>25%</th>\n",
       "      <td>1.000000e+00</td>\n",
       "      <td>1.000000e+00</td>\n",
       "      <td>-7.399187e+01</td>\n",
       "      <td>4.073735e+01</td>\n",
       "      <td>-7.399133e+01</td>\n",
       "      <td>4.073588e+01</td>\n",
       "      <td>3.970000e+02</td>\n",
       "    </tr>\n",
       "    <tr>\n",
       "      <th>50%</th>\n",
       "      <td>2.000000e+00</td>\n",
       "      <td>1.000000e+00</td>\n",
       "      <td>-7.398174e+01</td>\n",
       "      <td>4.075410e+01</td>\n",
       "      <td>-7.397975e+01</td>\n",
       "      <td>4.075452e+01</td>\n",
       "      <td>6.620000e+02</td>\n",
       "    </tr>\n",
       "    <tr>\n",
       "      <th>75%</th>\n",
       "      <td>2.000000e+00</td>\n",
       "      <td>2.000000e+00</td>\n",
       "      <td>-7.396733e+01</td>\n",
       "      <td>4.076836e+01</td>\n",
       "      <td>-7.396301e+01</td>\n",
       "      <td>4.076981e+01</td>\n",
       "      <td>1.075000e+03</td>\n",
       "    </tr>\n",
       "    <tr>\n",
       "      <th>max</th>\n",
       "      <td>2.000000e+00</td>\n",
       "      <td>9.000000e+00</td>\n",
       "      <td>-6.133553e+01</td>\n",
       "      <td>5.188108e+01</td>\n",
       "      <td>-6.133553e+01</td>\n",
       "      <td>4.392103e+01</td>\n",
       "      <td>3.526282e+06</td>\n",
       "    </tr>\n",
       "  </tbody>\n",
       "</table>\n",
       "</div>"
      ],
      "text/plain": [
       "          vendor_id  passenger_count  pickup_longitude  pickup_latitude  \\\n",
       "count  1.458644e+06     1.458644e+06      1.458644e+06     1.458644e+06   \n",
       "mean   1.534950e+00     1.664530e+00     -7.397349e+01     4.075092e+01   \n",
       "std    4.987772e-01     1.314242e+00      7.090186e-02     3.288119e-02   \n",
       "min    1.000000e+00     0.000000e+00     -1.219333e+02     3.435970e+01   \n",
       "25%    1.000000e+00     1.000000e+00     -7.399187e+01     4.073735e+01   \n",
       "50%    2.000000e+00     1.000000e+00     -7.398174e+01     4.075410e+01   \n",
       "75%    2.000000e+00     2.000000e+00     -7.396733e+01     4.076836e+01   \n",
       "max    2.000000e+00     9.000000e+00     -6.133553e+01     5.188108e+01   \n",
       "\n",
       "       dropoff_longitude  dropoff_latitude  trip_duration  \n",
       "count       1.458644e+06      1.458644e+06   1.458644e+06  \n",
       "mean       -7.397342e+01      4.075180e+01   9.594923e+02  \n",
       "std         7.064327e-02      3.589056e-02   5.237432e+03  \n",
       "min        -1.219333e+02      3.218114e+01   1.000000e+00  \n",
       "25%        -7.399133e+01      4.073588e+01   3.970000e+02  \n",
       "50%        -7.397975e+01      4.075452e+01   6.620000e+02  \n",
       "75%        -7.396301e+01      4.076981e+01   1.075000e+03  \n",
       "max        -6.133553e+01      4.392103e+01   3.526282e+06  "
      ]
     },
     "execution_count": 99,
     "metadata": {},
     "output_type": "execute_result"
    }
   ],
   "source": [
    "taxi.describe()"
   ]
  },
  {
   "cell_type": "code",
   "execution_count": 100,
   "metadata": {},
   "outputs": [
    {
     "data": {
      "text/plain": [
       "id                    0\n",
       "vendor_id             0\n",
       "pickup_datetime       0\n",
       "dropoff_datetime      0\n",
       "passenger_count       0\n",
       "pickup_longitude      0\n",
       "pickup_latitude       0\n",
       "dropoff_longitude     0\n",
       "dropoff_latitude      0\n",
       "store_and_fwd_flag    0\n",
       "trip_duration         0\n",
       "dtype: int64"
      ]
     },
     "execution_count": 100,
     "metadata": {},
     "output_type": "execute_result"
    }
   ],
   "source": [
    "missing = taxi.isnull().sum()\n",
    "missing"
   ]
  },
  {
   "cell_type": "code",
   "execution_count": 101,
   "metadata": {},
   "outputs": [
    {
     "data": {
      "text/plain": [
       "<matplotlib.axes._subplots.AxesSubplot at 0x1a1ec95978>"
      ]
     },
     "execution_count": 101,
     "metadata": {},
     "output_type": "execute_result"
    },
    {
     "data": {
      "image/png": "[encoded data removed]",
      "text/plain": [
       "<Figure size 432x288 with 2 Axes>"
      ]
     },
     "metadata": {
      "needs_background": "light"
     },
     "output_type": "display_data"
    }
   ],
   "source": [
    "sns.heatmap(taxi.corr())"
   ]
  },
  {
   "cell_type": "code",
   "execution_count": 102,
   "metadata": {},
   "outputs": [
    {
     "data": {
      "text/plain": [
       "array([[<matplotlib.axes._subplots.AxesSubplot object at 0x1a22641d68>,\n",
       "        <matplotlib.axes._subplots.AxesSubplot object at 0x1a34af7fd0>,\n",
       "        <matplotlib.axes._subplots.AxesSubplot object at 0x1a34b1a278>],\n",
       "       [<matplotlib.axes._subplots.AxesSubplot object at 0x1a226fe4e0>,\n",
       "        <matplotlib.axes._subplots.AxesSubplot object at 0x1a22719748>,\n",
       "        <matplotlib.axes._subplots.AxesSubplot object at 0x1a34b2e9b0>],\n",
       "       [<matplotlib.axes._subplots.AxesSubplot object at 0x1a34b4cc18>,\n",
       "        <matplotlib.axes._subplots.AxesSubplot object at 0x1a34b7b208>,\n",
       "        <matplotlib.axes._subplots.AxesSubplot object at 0x1a34b7b240>]],\n",
       "      dtype=object)"
      ]
     },
     "execution_count": 102,
     "metadata": {},
     "output_type": "execute_result"
    },
    {
     "data": {
      "image/png": "[encoded data removed]",
      "text/plain": [
       "<Figure size 576x720 with 9 Axes>"
      ]
     },
     "metadata": {
      "needs_background": "light"
     },
     "output_type": "display_data"
    }
   ],
   "source": [
    "taxi.hist(figsize=(8,10), bins=8)"
   ]
  },
  {
   "cell_type": "code",
   "execution_count": 103,
   "metadata": {},
   "outputs": [
    {
     "data": {
      "text/plain": [
       "1    1033540\n",
       "2     210318\n",
       "5      78088\n",
       "3      59896\n",
       "6      48333\n",
       "4      28404\n",
       "0         60\n",
       "7          3\n",
       "9          1\n",
       "8          1\n",
       "Name: passenger_count, dtype: int64"
      ]
     },
     "execution_count": 103,
     "metadata": {},
     "output_type": "execute_result"
    }
   ],
   "source": [
    "taxi.passenger_count.value_counts()"
   ]
  },
  {
   "cell_type": "code",
   "execution_count": 104,
   "metadata": {},
   "outputs": [
    {
     "data": {
      "text/plain": [
       "(3526282, 1)"
      ]
     },
     "execution_count": 104,
     "metadata": {},
     "output_type": "execute_result"
    }
   ],
   "source": [
    "taxi.trip_duration.max(), taxi.trip_duration.min()"
   ]
  },
  {
   "cell_type": "code",
   "execution_count": 105,
   "metadata": {},
   "outputs": [
    {
     "name": "stdout",
     "output_type": "stream",
     "text": [
      "max hours:  979.5227777777778\n"
     ]
    }
   ],
   "source": [
    "print('max hours: ' , 3526282/60/60)"
   ]
  },
  {
   "cell_type": "markdown",
   "metadata": {},
   "source": [
    "Check for any trips longer than 10 h"
   ]
  },
  {
   "cell_type": "code",
   "execution_count": 106,
   "metadata": {},
   "outputs": [
    {
     "data": {
      "text/html": [
       "<div>\n",
       "<style scoped>\n",
       "    .dataframe tbody tr th:only-of-type {\n",
       "        vertical-align: middle;\n",
       "    }\n",
       "\n",
       "    .dataframe tbody tr th {\n",
       "        vertical-align: top;\n",
       "    }\n",
       "\n",
       "    .dataframe thead th {\n",
       "        text-align: right;\n",
       "    }\n",
       "</style>\n",
       "<table border=\"1\" class=\"dataframe\">\n",
       "  <thead>\n",
       "    <tr style=\"text-align: right;\">\n",
       "      <th></th>\n",
       "      <th>id</th>\n",
       "      <th>vendor_id</th>\n",
       "      <th>pickup_datetime</th>\n",
       "      <th>dropoff_datetime</th>\n",
       "      <th>passenger_count</th>\n",
       "      <th>pickup_longitude</th>\n",
       "      <th>pickup_latitude</th>\n",
       "      <th>dropoff_longitude</th>\n",
       "      <th>dropoff_latitude</th>\n",
       "      <th>store_and_fwd_flag</th>\n",
       "      <th>trip_duration</th>\n",
       "    </tr>\n",
       "  </thead>\n",
       "  <tbody>\n",
       "    <tr>\n",
       "      <th>531</th>\n",
       "      <td>id3307903</td>\n",
       "      <td>2</td>\n",
       "      <td>2016-02-20 04:03:06</td>\n",
       "      <td>2016-02-21 03:33:00</td>\n",
       "      <td>3</td>\n",
       "      <td>-74.008102</td>\n",
       "      <td>40.741489</td>\n",
       "      <td>-74.009956</td>\n",
       "      <td>40.714611</td>\n",
       "      <td>N</td>\n",
       "      <td>84594</td>\n",
       "    </tr>\n",
       "    <tr>\n",
       "      <th>1134</th>\n",
       "      <td>id1091477</td>\n",
       "      <td>2</td>\n",
       "      <td>2016-05-07 18:36:22</td>\n",
       "      <td>2016-05-08 18:32:11</td>\n",
       "      <td>1</td>\n",
       "      <td>-73.990242</td>\n",
       "      <td>40.750919</td>\n",
       "      <td>-73.976280</td>\n",
       "      <td>40.750889</td>\n",
       "      <td>N</td>\n",
       "      <td>86149</td>\n",
       "    </tr>\n",
       "    <tr>\n",
       "      <th>1865</th>\n",
       "      <td>id3431345</td>\n",
       "      <td>2</td>\n",
       "      <td>2016-06-07 12:58:48</td>\n",
       "      <td>2016-06-08 12:58:00</td>\n",
       "      <td>6</td>\n",
       "      <td>-73.954956</td>\n",
       "      <td>40.777649</td>\n",
       "      <td>-73.981033</td>\n",
       "      <td>40.743713</td>\n",
       "      <td>N</td>\n",
       "      <td>86352</td>\n",
       "    </tr>\n",
       "    <tr>\n",
       "      <th>3442</th>\n",
       "      <td>id1487069</td>\n",
       "      <td>2</td>\n",
       "      <td>2016-02-13 00:21:49</td>\n",
       "      <td>2016-02-14 00:19:05</td>\n",
       "      <td>1</td>\n",
       "      <td>-73.968590</td>\n",
       "      <td>40.799217</td>\n",
       "      <td>-73.979584</td>\n",
       "      <td>40.784714</td>\n",
       "      <td>N</td>\n",
       "      <td>86236</td>\n",
       "    </tr>\n",
       "    <tr>\n",
       "      <th>4172</th>\n",
       "      <td>id3674870</td>\n",
       "      <td>2</td>\n",
       "      <td>2016-03-18 11:54:20</td>\n",
       "      <td>2016-03-19 11:34:17</td>\n",
       "      <td>1</td>\n",
       "      <td>-73.989090</td>\n",
       "      <td>40.736992</td>\n",
       "      <td>-73.972336</td>\n",
       "      <td>40.751511</td>\n",
       "      <td>N</td>\n",
       "      <td>85197</td>\n",
       "    </tr>\n",
       "    <tr>\n",
       "      <th>4336</th>\n",
       "      <td>id3632390</td>\n",
       "      <td>2</td>\n",
       "      <td>2016-06-08 08:54:33</td>\n",
       "      <td>2016-06-09 07:58:09</td>\n",
       "      <td>5</td>\n",
       "      <td>-73.980560</td>\n",
       "      <td>40.742466</td>\n",
       "      <td>-73.984718</td>\n",
       "      <td>40.748611</td>\n",
       "      <td>N</td>\n",
       "      <td>83016</td>\n",
       "    </tr>\n",
       "    <tr>\n",
       "      <th>5104</th>\n",
       "      <td>id3354426</td>\n",
       "      <td>2</td>\n",
       "      <td>2016-05-05 15:18:41</td>\n",
       "      <td>2016-05-06 15:11:07</td>\n",
       "      <td>1</td>\n",
       "      <td>-73.989037</td>\n",
       "      <td>40.773514</td>\n",
       "      <td>-73.980682</td>\n",
       "      <td>40.781521</td>\n",
       "      <td>N</td>\n",
       "      <td>85946</td>\n",
       "    </tr>\n",
       "    <tr>\n",
       "      <th>5778</th>\n",
       "      <td>id0773526</td>\n",
       "      <td>2</td>\n",
       "      <td>2016-04-02 14:58:45</td>\n",
       "      <td>2016-04-03 14:19:55</td>\n",
       "      <td>6</td>\n",
       "      <td>-73.987991</td>\n",
       "      <td>40.761341</td>\n",
       "      <td>-74.002922</td>\n",
       "      <td>40.756279</td>\n",
       "      <td>N</td>\n",
       "      <td>84070</td>\n",
       "    </tr>\n",
       "    <tr>\n",
       "      <th>6132</th>\n",
       "      <td>id3617210</td>\n",
       "      <td>2</td>\n",
       "      <td>2016-03-15 17:51:32</td>\n",
       "      <td>2016-03-16 17:18:04</td>\n",
       "      <td>1</td>\n",
       "      <td>-73.965607</td>\n",
       "      <td>40.765781</td>\n",
       "      <td>-73.972649</td>\n",
       "      <td>40.753418</td>\n",
       "      <td>N</td>\n",
       "      <td>84392</td>\n",
       "    </tr>\n",
       "    <tr>\n",
       "      <th>6513</th>\n",
       "      <td>id0067152</td>\n",
       "      <td>2</td>\n",
       "      <td>2016-02-27 21:04:05</td>\n",
       "      <td>2016-02-28 21:03:22</td>\n",
       "      <td>5</td>\n",
       "      <td>-73.993744</td>\n",
       "      <td>40.727444</td>\n",
       "      <td>-74.001335</td>\n",
       "      <td>40.729244</td>\n",
       "      <td>N</td>\n",
       "      <td>86357</td>\n",
       "    </tr>\n",
       "    <tr>\n",
       "      <th>8511</th>\n",
       "      <td>id3013398</td>\n",
       "      <td>2</td>\n",
       "      <td>2016-05-17 12:43:48</td>\n",
       "      <td>2016-05-18 12:38:03</td>\n",
       "      <td>2</td>\n",
       "      <td>-74.002625</td>\n",
       "      <td>40.733620</td>\n",
       "      <td>-73.994484</td>\n",
       "      <td>40.750603</td>\n",
       "      <td>N</td>\n",
       "      <td>86055</td>\n",
       "    </tr>\n",
       "    <tr>\n",
       "      <th>10146</th>\n",
       "      <td>id1148048</td>\n",
       "      <td>2</td>\n",
       "      <td>2016-06-04 14:22:55</td>\n",
       "      <td>2016-06-05 14:19:45</td>\n",
       "      <td>2</td>\n",
       "      <td>-74.002357</td>\n",
       "      <td>40.739872</td>\n",
       "      <td>-74.001556</td>\n",
       "      <td>40.746593</td>\n",
       "      <td>N</td>\n",
       "      <td>86210</td>\n",
       "    </tr>\n",
       "    <tr>\n",
       "      <th>10150</th>\n",
       "      <td>id2500786</td>\n",
       "      <td>2</td>\n",
       "      <td>2016-05-09 18:14:42</td>\n",
       "      <td>2016-05-10 17:44:54</td>\n",
       "      <td>1</td>\n",
       "      <td>-73.863625</td>\n",
       "      <td>40.769665</td>\n",
       "      <td>-73.983864</td>\n",
       "      <td>40.773869</td>\n",
       "      <td>N</td>\n",
       "      <td>84612</td>\n",
       "    </tr>\n",
       "    <tr>\n",
       "      <th>10498</th>\n",
       "      <td>id0843794</td>\n",
       "      <td>2</td>\n",
       "      <td>2016-01-08 08:09:48</td>\n",
       "      <td>2016-01-09 07:23:50</td>\n",
       "      <td>2</td>\n",
       "      <td>-73.995720</td>\n",
       "      <td>40.748940</td>\n",
       "      <td>-73.979897</td>\n",
       "      <td>40.752274</td>\n",
       "      <td>N</td>\n",
       "      <td>83642</td>\n",
       "    </tr>\n",
       "    <tr>\n",
       "      <th>11666</th>\n",
       "      <td>id3375271</td>\n",
       "      <td>2</td>\n",
       "      <td>2016-05-20 11:38:47</td>\n",
       "      <td>2016-05-21 11:24:31</td>\n",
       "      <td>2</td>\n",
       "      <td>-73.969818</td>\n",
       "      <td>40.797249</td>\n",
       "      <td>-73.940460</td>\n",
       "      <td>40.819569</td>\n",
       "      <td>N</td>\n",
       "      <td>85544</td>\n",
       "    </tr>\n",
       "    <tr>\n",
       "      <th>12665</th>\n",
       "      <td>id0614225</td>\n",
       "      <td>2</td>\n",
       "      <td>2016-03-25 20:01:22</td>\n",
       "      <td>2016-03-26 19:39:59</td>\n",
       "      <td>2</td>\n",
       "      <td>-74.001068</td>\n",
       "      <td>40.720123</td>\n",
       "      <td>-73.982193</td>\n",
       "      <td>40.757572</td>\n",
       "      <td>N</td>\n",
       "      <td>85117</td>\n",
       "    </tr>\n",
       "    <tr>\n",
       "      <th>15063</th>\n",
       "      <td>id0222074</td>\n",
       "      <td>2</td>\n",
       "      <td>2016-06-26 11:55:51</td>\n",
       "      <td>2016-06-27 11:54:26</td>\n",
       "      <td>3</td>\n",
       "      <td>-74.015297</td>\n",
       "      <td>40.704903</td>\n",
       "      <td>-73.989761</td>\n",
       "      <td>40.757359</td>\n",
       "      <td>N</td>\n",
       "      <td>86315</td>\n",
       "    </tr>\n",
       "    <tr>\n",
       "      <th>16415</th>\n",
       "      <td>id2891888</td>\n",
       "      <td>2</td>\n",
       "      <td>2016-06-05 10:26:37</td>\n",
       "      <td>2016-06-06 10:18:51</td>\n",
       "      <td>4</td>\n",
       "      <td>-73.955811</td>\n",
       "      <td>40.782352</td>\n",
       "      <td>-73.789894</td>\n",
       "      <td>40.643250</td>\n",
       "      <td>N</td>\n",
       "      <td>85934</td>\n",
       "    </tr>\n",
       "    <tr>\n",
       "      <th>17810</th>\n",
       "      <td>id2647716</td>\n",
       "      <td>2</td>\n",
       "      <td>2016-03-26 22:27:58</td>\n",
       "      <td>2016-03-27 21:36:20</td>\n",
       "      <td>1</td>\n",
       "      <td>-74.000771</td>\n",
       "      <td>40.742290</td>\n",
       "      <td>-73.982498</td>\n",
       "      <td>40.739548</td>\n",
       "      <td>N</td>\n",
       "      <td>83302</td>\n",
       "    </tr>\n",
       "    <tr>\n",
       "      <th>17934</th>\n",
       "      <td>id2538452</td>\n",
       "      <td>2</td>\n",
       "      <td>2016-04-24 01:51:06</td>\n",
       "      <td>2016-04-25 01:40:44</td>\n",
       "      <td>1</td>\n",
       "      <td>-73.990906</td>\n",
       "      <td>40.760845</td>\n",
       "      <td>-73.998161</td>\n",
       "      <td>40.745148</td>\n",
       "      <td>N</td>\n",
       "      <td>85778</td>\n",
       "    </tr>\n",
       "    <tr>\n",
       "      <th>17996</th>\n",
       "      <td>id2090625</td>\n",
       "      <td>2</td>\n",
       "      <td>2016-02-16 15:01:25</td>\n",
       "      <td>2016-02-17 14:31:41</td>\n",
       "      <td>1</td>\n",
       "      <td>-73.964340</td>\n",
       "      <td>40.807751</td>\n",
       "      <td>-73.954910</td>\n",
       "      <td>40.803513</td>\n",
       "      <td>N</td>\n",
       "      <td>84616</td>\n",
       "    </tr>\n",
       "    <tr>\n",
       "      <th>20153</th>\n",
       "      <td>id0463051</td>\n",
       "      <td>2</td>\n",
       "      <td>2016-02-02 01:45:11</td>\n",
       "      <td>2016-02-03 00:00:00</td>\n",
       "      <td>1</td>\n",
       "      <td>-73.870842</td>\n",
       "      <td>40.773754</td>\n",
       "      <td>-73.971695</td>\n",
       "      <td>40.748768</td>\n",
       "      <td>N</td>\n",
       "      <td>80089</td>\n",
       "    </tr>\n",
       "    <tr>\n",
       "      <th>21058</th>\n",
       "      <td>id0587193</td>\n",
       "      <td>2</td>\n",
       "      <td>2016-05-23 18:01:22</td>\n",
       "      <td>2016-05-24 17:56:46</td>\n",
       "      <td>1</td>\n",
       "      <td>-73.997131</td>\n",
       "      <td>40.725399</td>\n",
       "      <td>-73.983231</td>\n",
       "      <td>40.726372</td>\n",
       "      <td>N</td>\n",
       "      <td>86124</td>\n",
       "    </tr>\n",
       "    <tr>\n",
       "      <th>21304</th>\n",
       "      <td>id1428140</td>\n",
       "      <td>2</td>\n",
       "      <td>2016-03-04 08:15:24</td>\n",
       "      <td>2016-03-05 08:14:29</td>\n",
       "      <td>6</td>\n",
       "      <td>-74.002724</td>\n",
       "      <td>40.760632</td>\n",
       "      <td>-73.952957</td>\n",
       "      <td>40.777519</td>\n",
       "      <td>N</td>\n",
       "      <td>86345</td>\n",
       "    </tr>\n",
       "    <tr>\n",
       "      <th>21846</th>\n",
       "      <td>id3244242</td>\n",
       "      <td>2</td>\n",
       "      <td>2016-06-03 17:14:02</td>\n",
       "      <td>2016-06-04 17:13:05</td>\n",
       "      <td>5</td>\n",
       "      <td>-73.999779</td>\n",
       "      <td>40.725471</td>\n",
       "      <td>-73.986832</td>\n",
       "      <td>40.759735</td>\n",
       "      <td>N</td>\n",
       "      <td>86343</td>\n",
       "    </tr>\n",
       "    <tr>\n",
       "      <th>23270</th>\n",
       "      <td>id2354376</td>\n",
       "      <td>2</td>\n",
       "      <td>2016-01-31 10:29:49</td>\n",
       "      <td>2016-02-01 10:18:02</td>\n",
       "      <td>1</td>\n",
       "      <td>-73.984741</td>\n",
       "      <td>40.710239</td>\n",
       "      <td>-73.989548</td>\n",
       "      <td>40.740021</td>\n",
       "      <td>N</td>\n",
       "      <td>85693</td>\n",
       "    </tr>\n",
       "    <tr>\n",
       "      <th>24450</th>\n",
       "      <td>id1237917</td>\n",
       "      <td>2</td>\n",
       "      <td>2016-06-22 01:46:24</td>\n",
       "      <td>2016-06-23 00:49:16</td>\n",
       "      <td>1</td>\n",
       "      <td>-73.976440</td>\n",
       "      <td>40.755257</td>\n",
       "      <td>-73.980293</td>\n",
       "      <td>40.748325</td>\n",
       "      <td>N</td>\n",
       "      <td>82972</td>\n",
       "    </tr>\n",
       "    <tr>\n",
       "      <th>24679</th>\n",
       "      <td>id1907182</td>\n",
       "      <td>2</td>\n",
       "      <td>2016-01-16 00:36:13</td>\n",
       "      <td>2016-01-17 00:16:31</td>\n",
       "      <td>1</td>\n",
       "      <td>-73.987823</td>\n",
       "      <td>40.719940</td>\n",
       "      <td>-73.988014</td>\n",
       "      <td>40.748131</td>\n",
       "      <td>N</td>\n",
       "      <td>85218</td>\n",
       "    </tr>\n",
       "    <tr>\n",
       "      <th>25532</th>\n",
       "      <td>id3234529</td>\n",
       "      <td>2</td>\n",
       "      <td>2016-05-08 14:21:14</td>\n",
       "      <td>2016-05-09 14:08:27</td>\n",
       "      <td>1</td>\n",
       "      <td>-73.966133</td>\n",
       "      <td>40.760872</td>\n",
       "      <td>-73.954399</td>\n",
       "      <td>40.773941</td>\n",
       "      <td>N</td>\n",
       "      <td>85633</td>\n",
       "    </tr>\n",
       "    <tr>\n",
       "      <th>26557</th>\n",
       "      <td>id0868351</td>\n",
       "      <td>2</td>\n",
       "      <td>2016-05-07 01:32:28</td>\n",
       "      <td>2016-05-08 00:00:00</td>\n",
       "      <td>1</td>\n",
       "      <td>-73.989883</td>\n",
       "      <td>40.725674</td>\n",
       "      <td>-74.010094</td>\n",
       "      <td>40.711506</td>\n",
       "      <td>N</td>\n",
       "      <td>80852</td>\n",
       "    </tr>\n",
       "    <tr>\n",
       "      <th>...</th>\n",
       "      <td>...</td>\n",
       "      <td>...</td>\n",
       "      <td>...</td>\n",
       "      <td>...</td>\n",
       "      <td>...</td>\n",
       "      <td>...</td>\n",
       "      <td>...</td>\n",
       "      <td>...</td>\n",
       "      <td>...</td>\n",
       "      <td>...</td>\n",
       "      <td>...</td>\n",
       "    </tr>\n",
       "    <tr>\n",
       "      <th>1435463</th>\n",
       "      <td>id1474449</td>\n",
       "      <td>2</td>\n",
       "      <td>2016-05-21 02:36:14</td>\n",
       "      <td>2016-05-22 02:33:34</td>\n",
       "      <td>1</td>\n",
       "      <td>-74.000931</td>\n",
       "      <td>40.718037</td>\n",
       "      <td>-73.983749</td>\n",
       "      <td>40.762863</td>\n",
       "      <td>N</td>\n",
       "      <td>86240</td>\n",
       "    </tr>\n",
       "    <tr>\n",
       "      <th>1436551</th>\n",
       "      <td>id0582266</td>\n",
       "      <td>2</td>\n",
       "      <td>2016-01-10 11:37:31</td>\n",
       "      <td>2016-01-11 11:35:02</td>\n",
       "      <td>2</td>\n",
       "      <td>-73.978149</td>\n",
       "      <td>40.786018</td>\n",
       "      <td>-73.973610</td>\n",
       "      <td>40.794662</td>\n",
       "      <td>N</td>\n",
       "      <td>86251</td>\n",
       "    </tr>\n",
       "    <tr>\n",
       "      <th>1436716</th>\n",
       "      <td>id1106820</td>\n",
       "      <td>2</td>\n",
       "      <td>2016-05-04 11:38:39</td>\n",
       "      <td>2016-05-05 11:35:55</td>\n",
       "      <td>1</td>\n",
       "      <td>-73.997536</td>\n",
       "      <td>40.725842</td>\n",
       "      <td>-74.001564</td>\n",
       "      <td>40.731018</td>\n",
       "      <td>N</td>\n",
       "      <td>86236</td>\n",
       "    </tr>\n",
       "    <tr>\n",
       "      <th>1436956</th>\n",
       "      <td>id0832272</td>\n",
       "      <td>2</td>\n",
       "      <td>2016-04-27 11:29:23</td>\n",
       "      <td>2016-04-28 10:37:21</td>\n",
       "      <td>6</td>\n",
       "      <td>-74.004135</td>\n",
       "      <td>40.720856</td>\n",
       "      <td>-73.972771</td>\n",
       "      <td>40.760773</td>\n",
       "      <td>N</td>\n",
       "      <td>83278</td>\n",
       "    </tr>\n",
       "    <tr>\n",
       "      <th>1436981</th>\n",
       "      <td>id3357420</td>\n",
       "      <td>2</td>\n",
       "      <td>2016-04-08 07:24:40</td>\n",
       "      <td>2016-04-09 06:55:25</td>\n",
       "      <td>5</td>\n",
       "      <td>-73.968742</td>\n",
       "      <td>40.758339</td>\n",
       "      <td>-73.957100</td>\n",
       "      <td>40.774639</td>\n",
       "      <td>N</td>\n",
       "      <td>84645</td>\n",
       "    </tr>\n",
       "    <tr>\n",
       "      <th>1437110</th>\n",
       "      <td>id3833866</td>\n",
       "      <td>2</td>\n",
       "      <td>2016-05-08 18:42:23</td>\n",
       "      <td>2016-05-09 18:35:34</td>\n",
       "      <td>1</td>\n",
       "      <td>-73.994667</td>\n",
       "      <td>40.736286</td>\n",
       "      <td>-73.981285</td>\n",
       "      <td>40.723598</td>\n",
       "      <td>N</td>\n",
       "      <td>85991</td>\n",
       "    </tr>\n",
       "    <tr>\n",
       "      <th>1437604</th>\n",
       "      <td>id0103586</td>\n",
       "      <td>2</td>\n",
       "      <td>2016-03-11 20:46:00</td>\n",
       "      <td>2016-03-12 20:45:17</td>\n",
       "      <td>1</td>\n",
       "      <td>-73.991409</td>\n",
       "      <td>40.750252</td>\n",
       "      <td>-73.999252</td>\n",
       "      <td>40.728313</td>\n",
       "      <td>N</td>\n",
       "      <td>86357</td>\n",
       "    </tr>\n",
       "    <tr>\n",
       "      <th>1437745</th>\n",
       "      <td>id2960222</td>\n",
       "      <td>2</td>\n",
       "      <td>2016-01-15 14:35:09</td>\n",
       "      <td>2016-01-16 14:07:10</td>\n",
       "      <td>1</td>\n",
       "      <td>-73.981735</td>\n",
       "      <td>40.766766</td>\n",
       "      <td>-73.988411</td>\n",
       "      <td>40.746960</td>\n",
       "      <td>N</td>\n",
       "      <td>84721</td>\n",
       "    </tr>\n",
       "    <tr>\n",
       "      <th>1438063</th>\n",
       "      <td>id3105059</td>\n",
       "      <td>2</td>\n",
       "      <td>2016-03-07 22:09:41</td>\n",
       "      <td>2016-03-08 21:57:04</td>\n",
       "      <td>5</td>\n",
       "      <td>-73.988815</td>\n",
       "      <td>40.720814</td>\n",
       "      <td>-73.967529</td>\n",
       "      <td>40.711147</td>\n",
       "      <td>N</td>\n",
       "      <td>85643</td>\n",
       "    </tr>\n",
       "    <tr>\n",
       "      <th>1439547</th>\n",
       "      <td>id3868852</td>\n",
       "      <td>2</td>\n",
       "      <td>2016-01-11 15:01:51</td>\n",
       "      <td>2016-01-12 14:49:02</td>\n",
       "      <td>6</td>\n",
       "      <td>-73.954109</td>\n",
       "      <td>40.784679</td>\n",
       "      <td>-73.957420</td>\n",
       "      <td>40.775101</td>\n",
       "      <td>N</td>\n",
       "      <td>85631</td>\n",
       "    </tr>\n",
       "    <tr>\n",
       "      <th>1440309</th>\n",
       "      <td>id0997380</td>\n",
       "      <td>2</td>\n",
       "      <td>2016-01-07 10:51:39</td>\n",
       "      <td>2016-01-08 10:17:00</td>\n",
       "      <td>1</td>\n",
       "      <td>-73.976578</td>\n",
       "      <td>40.747776</td>\n",
       "      <td>-73.992943</td>\n",
       "      <td>40.731518</td>\n",
       "      <td>N</td>\n",
       "      <td>84321</td>\n",
       "    </tr>\n",
       "    <tr>\n",
       "      <th>1442072</th>\n",
       "      <td>id1043894</td>\n",
       "      <td>2</td>\n",
       "      <td>2016-06-07 11:25:01</td>\n",
       "      <td>2016-06-08 11:17:10</td>\n",
       "      <td>1</td>\n",
       "      <td>-73.969627</td>\n",
       "      <td>40.761280</td>\n",
       "      <td>-74.001152</td>\n",
       "      <td>40.727699</td>\n",
       "      <td>N</td>\n",
       "      <td>85929</td>\n",
       "    </tr>\n",
       "    <tr>\n",
       "      <th>1442883</th>\n",
       "      <td>id2928125</td>\n",
       "      <td>2</td>\n",
       "      <td>2016-05-20 12:42:21</td>\n",
       "      <td>2016-05-21 12:32:30</td>\n",
       "      <td>6</td>\n",
       "      <td>-73.970253</td>\n",
       "      <td>40.784103</td>\n",
       "      <td>-73.959251</td>\n",
       "      <td>40.760464</td>\n",
       "      <td>N</td>\n",
       "      <td>85809</td>\n",
       "    </tr>\n",
       "    <tr>\n",
       "      <th>1443791</th>\n",
       "      <td>id0996998</td>\n",
       "      <td>2</td>\n",
       "      <td>2016-04-28 17:12:48</td>\n",
       "      <td>2016-04-29 17:11:00</td>\n",
       "      <td>1</td>\n",
       "      <td>-73.975929</td>\n",
       "      <td>40.751373</td>\n",
       "      <td>-73.990356</td>\n",
       "      <td>40.735016</td>\n",
       "      <td>N</td>\n",
       "      <td>86292</td>\n",
       "    </tr>\n",
       "    <tr>\n",
       "      <th>1444045</th>\n",
       "      <td>id1923527</td>\n",
       "      <td>2</td>\n",
       "      <td>2016-04-27 13:04:22</td>\n",
       "      <td>2016-04-28 12:33:57</td>\n",
       "      <td>1</td>\n",
       "      <td>-73.983505</td>\n",
       "      <td>40.758381</td>\n",
       "      <td>-74.004135</td>\n",
       "      <td>40.725517</td>\n",
       "      <td>N</td>\n",
       "      <td>84575</td>\n",
       "    </tr>\n",
       "    <tr>\n",
       "      <th>1444214</th>\n",
       "      <td>id1875762</td>\n",
       "      <td>2</td>\n",
       "      <td>2016-05-19 21:15:05</td>\n",
       "      <td>2016-05-20 21:13:15</td>\n",
       "      <td>1</td>\n",
       "      <td>-73.985123</td>\n",
       "      <td>40.747837</td>\n",
       "      <td>-73.971428</td>\n",
       "      <td>40.756062</td>\n",
       "      <td>N</td>\n",
       "      <td>86290</td>\n",
       "    </tr>\n",
       "    <tr>\n",
       "      <th>1445053</th>\n",
       "      <td>id3376262</td>\n",
       "      <td>2</td>\n",
       "      <td>2016-05-05 10:49:08</td>\n",
       "      <td>2016-05-06 09:21:34</td>\n",
       "      <td>1</td>\n",
       "      <td>-73.977226</td>\n",
       "      <td>40.753418</td>\n",
       "      <td>-73.996399</td>\n",
       "      <td>40.746906</td>\n",
       "      <td>N</td>\n",
       "      <td>81146</td>\n",
       "    </tr>\n",
       "    <tr>\n",
       "      <th>1446506</th>\n",
       "      <td>id0523226</td>\n",
       "      <td>2</td>\n",
       "      <td>2016-04-17 16:47:50</td>\n",
       "      <td>2016-04-18 16:24:32</td>\n",
       "      <td>1</td>\n",
       "      <td>-73.862503</td>\n",
       "      <td>40.769100</td>\n",
       "      <td>-73.963364</td>\n",
       "      <td>40.712070</td>\n",
       "      <td>N</td>\n",
       "      <td>85002</td>\n",
       "    </tr>\n",
       "    <tr>\n",
       "      <th>1446667</th>\n",
       "      <td>id0419910</td>\n",
       "      <td>2</td>\n",
       "      <td>2016-04-23 14:16:15</td>\n",
       "      <td>2016-04-24 13:27:13</td>\n",
       "      <td>6</td>\n",
       "      <td>-73.997131</td>\n",
       "      <td>40.742065</td>\n",
       "      <td>-74.002525</td>\n",
       "      <td>40.756077</td>\n",
       "      <td>N</td>\n",
       "      <td>83458</td>\n",
       "    </tr>\n",
       "    <tr>\n",
       "      <th>1447498</th>\n",
       "      <td>id0026278</td>\n",
       "      <td>2</td>\n",
       "      <td>2016-01-31 01:04:39</td>\n",
       "      <td>2016-02-01 01:00:41</td>\n",
       "      <td>5</td>\n",
       "      <td>-73.953369</td>\n",
       "      <td>40.766369</td>\n",
       "      <td>-73.995171</td>\n",
       "      <td>40.761005</td>\n",
       "      <td>N</td>\n",
       "      <td>86162</td>\n",
       "    </tr>\n",
       "    <tr>\n",
       "      <th>1449707</th>\n",
       "      <td>id1709052</td>\n",
       "      <td>2</td>\n",
       "      <td>2016-02-01 15:45:12</td>\n",
       "      <td>2016-02-02 15:27:48</td>\n",
       "      <td>1</td>\n",
       "      <td>-73.959915</td>\n",
       "      <td>40.779488</td>\n",
       "      <td>-73.972260</td>\n",
       "      <td>40.786655</td>\n",
       "      <td>N</td>\n",
       "      <td>85356</td>\n",
       "    </tr>\n",
       "    <tr>\n",
       "      <th>1449829</th>\n",
       "      <td>id0111323</td>\n",
       "      <td>2</td>\n",
       "      <td>2016-04-09 12:35:23</td>\n",
       "      <td>2016-04-10 12:32:48</td>\n",
       "      <td>2</td>\n",
       "      <td>-73.995789</td>\n",
       "      <td>40.737968</td>\n",
       "      <td>-73.982239</td>\n",
       "      <td>40.766613</td>\n",
       "      <td>N</td>\n",
       "      <td>86245</td>\n",
       "    </tr>\n",
       "    <tr>\n",
       "      <th>1450788</th>\n",
       "      <td>id0595947</td>\n",
       "      <td>2</td>\n",
       "      <td>2016-04-27 21:03:35</td>\n",
       "      <td>2016-04-28 20:15:17</td>\n",
       "      <td>6</td>\n",
       "      <td>-73.971359</td>\n",
       "      <td>40.765320</td>\n",
       "      <td>-73.984688</td>\n",
       "      <td>40.732834</td>\n",
       "      <td>N</td>\n",
       "      <td>83502</td>\n",
       "    </tr>\n",
       "    <tr>\n",
       "      <th>1451365</th>\n",
       "      <td>id0159752</td>\n",
       "      <td>2</td>\n",
       "      <td>2016-02-14 12:16:35</td>\n",
       "      <td>2016-02-15 12:15:16</td>\n",
       "      <td>1</td>\n",
       "      <td>-73.959579</td>\n",
       "      <td>40.779926</td>\n",
       "      <td>-73.963333</td>\n",
       "      <td>40.775173</td>\n",
       "      <td>N</td>\n",
       "      <td>86321</td>\n",
       "    </tr>\n",
       "    <tr>\n",
       "      <th>1454858</th>\n",
       "      <td>id2743253</td>\n",
       "      <td>2</td>\n",
       "      <td>2016-06-23 16:04:53</td>\n",
       "      <td>2016-06-24 16:01:33</td>\n",
       "      <td>1</td>\n",
       "      <td>-74.008759</td>\n",
       "      <td>40.719040</td>\n",
       "      <td>-73.972305</td>\n",
       "      <td>40.749691</td>\n",
       "      <td>N</td>\n",
       "      <td>86200</td>\n",
       "    </tr>\n",
       "    <tr>\n",
       "      <th>1455097</th>\n",
       "      <td>id2798196</td>\n",
       "      <td>2</td>\n",
       "      <td>2016-03-20 03:51:36</td>\n",
       "      <td>2016-03-21 00:00:00</td>\n",
       "      <td>2</td>\n",
       "      <td>-73.969299</td>\n",
       "      <td>40.757301</td>\n",
       "      <td>-73.870277</td>\n",
       "      <td>40.709808</td>\n",
       "      <td>N</td>\n",
       "      <td>72504</td>\n",
       "    </tr>\n",
       "    <tr>\n",
       "      <th>1456458</th>\n",
       "      <td>id2055880</td>\n",
       "      <td>2</td>\n",
       "      <td>2016-02-08 19:11:31</td>\n",
       "      <td>2016-02-09 19:08:44</td>\n",
       "      <td>3</td>\n",
       "      <td>-73.973282</td>\n",
       "      <td>40.760792</td>\n",
       "      <td>-73.988518</td>\n",
       "      <td>40.764210</td>\n",
       "      <td>N</td>\n",
       "      <td>86233</td>\n",
       "    </tr>\n",
       "    <tr>\n",
       "      <th>1457207</th>\n",
       "      <td>id1910950</td>\n",
       "      <td>2</td>\n",
       "      <td>2016-06-08 16:29:12</td>\n",
       "      <td>2016-06-09 16:11:03</td>\n",
       "      <td>1</td>\n",
       "      <td>-73.958061</td>\n",
       "      <td>40.800869</td>\n",
       "      <td>-73.964119</td>\n",
       "      <td>40.805515</td>\n",
       "      <td>N</td>\n",
       "      <td>85311</td>\n",
       "    </tr>\n",
       "    <tr>\n",
       "      <th>1457752</th>\n",
       "      <td>id1215198</td>\n",
       "      <td>2</td>\n",
       "      <td>2016-02-02 11:31:10</td>\n",
       "      <td>2016-02-03 11:29:44</td>\n",
       "      <td>6</td>\n",
       "      <td>-73.972069</td>\n",
       "      <td>40.794220</td>\n",
       "      <td>-73.961014</td>\n",
       "      <td>40.806728</td>\n",
       "      <td>N</td>\n",
       "      <td>86314</td>\n",
       "    </tr>\n",
       "    <tr>\n",
       "      <th>1458076</th>\n",
       "      <td>id2332290</td>\n",
       "      <td>2</td>\n",
       "      <td>2016-04-24 00:58:34</td>\n",
       "      <td>2016-04-25 00:56:16</td>\n",
       "      <td>1</td>\n",
       "      <td>-73.990479</td>\n",
       "      <td>40.760876</td>\n",
       "      <td>-73.983025</td>\n",
       "      <td>40.764557</td>\n",
       "      <td>N</td>\n",
       "      <td>86262</td>\n",
       "    </tr>\n",
       "  </tbody>\n",
       "</table>\n",
       "<p>2012 rows × 11 columns</p>\n",
       "</div>"
      ],
      "text/plain": [
       "                id  vendor_id      pickup_datetime     dropoff_datetime  \\\n",
       "531      id3307903          2  2016-02-20 04:03:06  2016-02-21 03:33:00   \n",
       "1134     id1091477          2  2016-05-07 18:36:22  2016-05-08 18:32:11   \n",
       "1865     id3431345          2  2016-06-07 12:58:48  2016-06-08 12:58:00   \n",
       "3442     id1487069          2  2016-02-13 00:21:49  2016-02-14 00:19:05   \n",
       "4172     id3674870          2  2016-03-18 11:54:20  2016-03-19 11:34:17   \n",
       "4336     id3632390          2  2016-06-08 08:54:33  2016-06-09 07:58:09   \n",
       "5104     id3354426          2  2016-05-05 15:18:41  2016-05-06 15:11:07   \n",
       "5778     id0773526          2  2016-04-02 14:58:45  2016-04-03 14:19:55   \n",
       "6132     id3617210          2  2016-03-15 17:51:32  2016-03-16 17:18:04   \n",
       "6513     id0067152          2  2016-02-27 21:04:05  2016-02-28 21:03:22   \n",
       "8511     id3013398          2  2016-05-17 12:43:48  2016-05-18 12:38:03   \n",
       "10146    id1148048          2  2016-06-04 14:22:55  2016-06-05 14:19:45   \n",
       "10150    id2500786          2  2016-05-09 18:14:42  2016-05-10 17:44:54   \n",
       "10498    id0843794          2  2016-01-08 08:09:48  2016-01-09 07:23:50   \n",
       "11666    id3375271          2  2016-05-20 11:38:47  2016-05-21 11:24:31   \n",
       "12665    id0614225          2  2016-03-25 20:01:22  2016-03-26 19:39:59   \n",
       "15063    id0222074          2  2016-06-26 11:55:51  2016-06-27 11:54:26   \n",
       "16415    id2891888          2  2016-06-05 10:26:37  2016-06-06 10:18:51   \n",
       "17810    id2647716          2  2016-03-26 22:27:58  2016-03-27 21:36:20   \n",
       "17934    id2538452          2  2016-04-24 01:51:06  2016-04-25 01:40:44   \n",
       "17996    id2090625          2  2016-02-16 15:01:25  2016-02-17 14:31:41   \n",
       "20153    id0463051          2  2016-02-02 01:45:11  2016-02-03 00:00:00   \n",
       "21058    id0587193          2  2016-05-23 18:01:22  2016-05-24 17:56:46   \n",
       "21304    id1428140          2  2016-03-04 08:15:24  2016-03-05 08:14:29   \n",
       "21846    id3244242          2  2016-06-03 17:14:02  2016-06-04 17:13:05   \n",
       "23270    id2354376          2  2016-01-31 10:29:49  2016-02-01 10:18:02   \n",
       "24450    id1237917          2  2016-06-22 01:46:24  2016-06-23 00:49:16   \n",
       "24679    id1907182          2  2016-01-16 00:36:13  2016-01-17 00:16:31   \n",
       "25532    id3234529          2  2016-05-08 14:21:14  2016-05-09 14:08:27   \n",
       "26557    id0868351          2  2016-05-07 01:32:28  2016-05-08 00:00:00   \n",
       "...            ...        ...                  ...                  ...   \n",
       "1435463  id1474449          2  2016-05-21 02:36:14  2016-05-22 02:33:34   \n",
       "1436551  id0582266          2  2016-01-10 11:37:31  2016-01-11 11:35:02   \n",
       "1436716  id1106820          2  2016-05-04 11:38:39  2016-05-05 11:35:55   \n",
       "1436956  id0832272          2  2016-04-27 11:29:23  2016-04-28 10:37:21   \n",
       "1436981  id3357420          2  2016-04-08 07:24:40  2016-04-09 06:55:25   \n",
       "1437110  id3833866          2  2016-05-08 18:42:23  2016-05-09 18:35:34   \n",
       "1437604  id0103586          2  2016-03-11 20:46:00  2016-03-12 20:45:17   \n",
       "1437745  id2960222          2  2016-01-15 14:35:09  2016-01-16 14:07:10   \n",
       "1438063  id3105059          2  2016-03-07 22:09:41  2016-03-08 21:57:04   \n",
       "1439547  id3868852          2  2016-01-11 15:01:51  2016-01-12 14:49:02   \n",
       "1440309  id0997380          2  2016-01-07 10:51:39  2016-01-08 10:17:00   \n",
       "1442072  id1043894          2  2016-06-07 11:25:01  2016-06-08 11:17:10   \n",
       "1442883  id2928125          2  2016-05-20 12:42:21  2016-05-21 12:32:30   \n",
       "1443791  id0996998          2  2016-04-28 17:12:48  2016-04-29 17:11:00   \n",
       "1444045  id1923527          2  2016-04-27 13:04:22  2016-04-28 12:33:57   \n",
       "1444214  id1875762          2  2016-05-19 21:15:05  2016-05-20 21:13:15   \n",
       "1445053  id3376262          2  2016-05-05 10:49:08  2016-05-06 09:21:34   \n",
       "1446506  id0523226          2  2016-04-17 16:47:50  2016-04-18 16:24:32   \n",
       "1446667  id0419910          2  2016-04-23 14:16:15  2016-04-24 13:27:13   \n",
       "1447498  id0026278          2  2016-01-31 01:04:39  2016-02-01 01:00:41   \n",
       "1449707  id1709052          2  2016-02-01 15:45:12  2016-02-02 15:27:48   \n",
       "1449829  id0111323          2  2016-04-09 12:35:23  2016-04-10 12:32:48   \n",
       "1450788  id0595947          2  2016-04-27 21:03:35  2016-04-28 20:15:17   \n",
       "1451365  id0159752          2  2016-02-14 12:16:35  2016-02-15 12:15:16   \n",
       "1454858  id2743253          2  2016-06-23 16:04:53  2016-06-24 16:01:33   \n",
       "1455097  id2798196          2  2016-03-20 03:51:36  2016-03-21 00:00:00   \n",
       "1456458  id2055880          2  2016-02-08 19:11:31  2016-02-09 19:08:44   \n",
       "1457207  id1910950          2  2016-06-08 16:29:12  2016-06-09 16:11:03   \n",
       "1457752  id1215198          2  2016-02-02 11:31:10  2016-02-03 11:29:44   \n",
       "1458076  id2332290          2  2016-04-24 00:58:34  2016-04-25 00:56:16   \n",
       "\n",
       "         passenger_count  pickup_longitude  pickup_latitude  \\\n",
       "531                    3        -74.008102        40.741489   \n",
       "1134                   1        -73.990242        40.750919   \n",
       "1865                   6        -73.954956        40.777649   \n",
       "3442                   1        -73.968590        40.799217   \n",
       "4172                   1        -73.989090        40.736992   \n",
       "4336                   5        -73.980560        40.742466   \n",
       "5104                   1        -73.989037        40.773514   \n",
       "5778                   6        -73.987991        40.761341   \n",
       "6132                   1        -73.965607        40.765781   \n",
       "6513                   5        -73.993744        40.727444   \n",
       "8511                   2        -74.002625        40.733620   \n",
       "10146                  2        -74.002357        40.739872   \n",
       "10150                  1        -73.863625        40.769665   \n",
       "10498                  2        -73.995720        40.748940   \n",
       "11666                  2        -73.969818        40.797249   \n",
       "12665                  2        -74.001068        40.720123   \n",
       "15063                  3        -74.015297        40.704903   \n",
       "16415                  4        -73.955811        40.782352   \n",
       "17810                  1        -74.000771        40.742290   \n",
       "17934                  1        -73.990906        40.760845   \n",
       "17996                  1        -73.964340        40.807751   \n",
       "20153                  1        -73.870842        40.773754   \n",
       "21058                  1        -73.997131        40.725399   \n",
       "21304                  6        -74.002724        40.760632   \n",
       "21846                  5        -73.999779        40.725471   \n",
       "23270                  1        -73.984741        40.710239   \n",
       "24450                  1        -73.976440        40.755257   \n",
       "24679                  1        -73.987823        40.719940   \n",
       "25532                  1        -73.966133        40.760872   \n",
       "26557                  1        -73.989883        40.725674   \n",
       "...                  ...               ...              ...   \n",
       "1435463                1        -74.000931        40.718037   \n",
       "1436551                2        -73.978149        40.786018   \n",
       "1436716                1        -73.997536        40.725842   \n",
       "1436956                6        -74.004135        40.720856   \n",
       "1436981                5        -73.968742        40.758339   \n",
       "1437110                1        -73.994667        40.736286   \n",
       "1437604                1        -73.991409        40.750252   \n",
       "1437745                1        -73.981735        40.766766   \n",
       "1438063                5        -73.988815        40.720814   \n",
       "1439547                6        -73.954109        40.784679   \n",
       "1440309                1        -73.976578        40.747776   \n",
       "1442072                1        -73.969627        40.761280   \n",
       "1442883                6        -73.970253        40.784103   \n",
       "1443791                1        -73.975929        40.751373   \n",
       "1444045                1        -73.983505        40.758381   \n",
       "1444214                1        -73.985123        40.747837   \n",
       "1445053                1        -73.977226        40.753418   \n",
       "1446506                1        -73.862503        40.769100   \n",
       "1446667                6        -73.997131        40.742065   \n",
       "1447498                5        -73.953369        40.766369   \n",
       "1449707                1        -73.959915        40.779488   \n",
       "1449829                2        -73.995789        40.737968   \n",
       "1450788                6        -73.971359        40.765320   \n",
       "1451365                1        -73.959579        40.779926   \n",
       "1454858                1        -74.008759        40.719040   \n",
       "1455097                2        -73.969299        40.757301   \n",
       "1456458                3        -73.973282        40.760792   \n",
       "1457207                1        -73.958061        40.800869   \n",
       "1457752                6        -73.972069        40.794220   \n",
       "1458076                1        -73.990479        40.760876   \n",
       "\n",
       "         dropoff_longitude  dropoff_latitude store_and_fwd_flag  trip_duration  \n",
       "531             -74.009956         40.714611                  N          84594  \n",
       "1134            -73.976280         40.750889                  N          86149  \n",
       "1865            -73.981033         40.743713                  N          86352  \n",
       "3442            -73.979584         40.784714                  N          86236  \n",
       "4172            -73.972336         40.751511                  N          85197  \n",
       "4336            -73.984718         40.748611                  N          83016  \n",
       "5104            -73.980682         40.781521                  N          85946  \n",
       "5778            -74.002922         40.756279                  N          84070  \n",
       "6132            -73.972649         40.753418                  N          84392  \n",
       "6513            -74.001335         40.729244                  N          86357  \n",
       "8511            -73.994484         40.750603                  N          86055  \n",
       "10146           -74.001556         40.746593                  N          86210  \n",
       "10150           -73.983864         40.773869                  N          84612  \n",
       "10498           -73.979897         40.752274                  N          83642  \n",
       "11666           -73.940460         40.819569                  N          85544  \n",
       "12665           -73.982193         40.757572                  N          85117  \n",
       "15063           -73.989761         40.757359                  N          86315  \n",
       "16415           -73.789894         40.643250                  N          85934  \n",
       "17810           -73.982498         40.739548                  N          83302  \n",
       "17934           -73.998161         40.745148                  N          85778  \n",
       "17996           -73.954910         40.803513                  N          84616  \n",
       "20153           -73.971695         40.748768                  N          80089  \n",
       "21058           -73.983231         40.726372                  N          86124  \n",
       "21304           -73.952957         40.777519                  N          86345  \n",
       "21846           -73.986832         40.759735                  N          86343  \n",
       "23270           -73.989548         40.740021                  N          85693  \n",
       "24450           -73.980293         40.748325                  N          82972  \n",
       "24679           -73.988014         40.748131                  N          85218  \n",
       "25532           -73.954399         40.773941                  N          85633  \n",
       "26557           -74.010094         40.711506                  N          80852  \n",
       "...                    ...               ...                ...            ...  \n",
       "1435463         -73.983749         40.762863                  N          86240  \n",
       "1436551         -73.973610         40.794662                  N          86251  \n",
       "1436716         -74.001564         40.731018                  N          86236  \n",
       "1436956         -73.972771         40.760773                  N          83278  \n",
       "1436981         -73.957100         40.774639                  N          84645  \n",
       "1437110         -73.981285         40.723598                  N          85991  \n",
       "1437604         -73.999252         40.728313                  N          86357  \n",
       "1437745         -73.988411         40.746960                  N          84721  \n",
       "1438063         -73.967529         40.711147                  N          85643  \n",
       "1439547         -73.957420         40.775101                  N          85631  \n",
       "1440309         -73.992943         40.731518                  N          84321  \n",
       "1442072         -74.001152         40.727699                  N          85929  \n",
       "1442883         -73.959251         40.760464                  N          85809  \n",
       "1443791         -73.990356         40.735016                  N          86292  \n",
       "1444045         -74.004135         40.725517                  N          84575  \n",
       "1444214         -73.971428         40.756062                  N          86290  \n",
       "1445053         -73.996399         40.746906                  N          81146  \n",
       "1446506         -73.963364         40.712070                  N          85002  \n",
       "1446667         -74.002525         40.756077                  N          83458  \n",
       "1447498         -73.995171         40.761005                  N          86162  \n",
       "1449707         -73.972260         40.786655                  N          85356  \n",
       "1449829         -73.982239         40.766613                  N          86245  \n",
       "1450788         -73.984688         40.732834                  N          83502  \n",
       "1451365         -73.963333         40.775173                  N          86321  \n",
       "1454858         -73.972305         40.749691                  N          86200  \n",
       "1455097         -73.870277         40.709808                  N          72504  \n",
       "1456458         -73.988518         40.764210                  N          86233  \n",
       "1457207         -73.964119         40.805515                  N          85311  \n",
       "1457752         -73.961014         40.806728                  N          86314  \n",
       "1458076         -73.983025         40.764557                  N          86262  \n",
       "\n",
       "[2012 rows x 11 columns]"
      ]
     },
     "execution_count": 106,
     "metadata": {},
     "output_type": "execute_result"
    }
   ],
   "source": [
    "taxi[taxi.trip_duration > 36000]"
   ]
  },
  {
   "cell_type": "markdown",
   "metadata": {},
   "source": [
    "There are > 2000 rows with trip duration longer than 10h; will drop as outliers (initially they were kept in the df and when running the model, clustering created 2 clusters with long trip durations and there were only 2-3 values in each cluster, so clearly these values are not helping the model)"
   ]
  },
  {
   "cell_type": "code",
   "execution_count": 107,
   "metadata": {},
   "outputs": [
    {
     "data": {
      "text/plain": [
       "N    1450599\n",
       "Y       8045\n",
       "Name: store_and_fwd_flag, dtype: int64"
      ]
     },
     "execution_count": 107,
     "metadata": {},
     "output_type": "execute_result"
    }
   ],
   "source": [
    "taxi.store_and_fwd_flag.value_counts()"
   ]
  },
  {
   "cell_type": "code",
   "execution_count": 108,
   "metadata": {},
   "outputs": [
    {
     "data": {
      "text/plain": [
       "2    780302\n",
       "1    678342\n",
       "Name: vendor_id, dtype: int64"
      ]
     },
     "execution_count": 108,
     "metadata": {},
     "output_type": "execute_result"
    }
   ],
   "source": [
    "taxi.vendor_id.value_counts()"
   ]
  },
  {
   "cell_type": "markdown",
   "metadata": {},
   "source": [
    "Might drop the 2 columns above as they are not significant for the clustering, along with the id column"
   ]
  },
  {
   "cell_type": "markdown",
   "metadata": {},
   "source": [
    "### Visualize the Data to Gain Insights"
   ]
  },
  {
   "cell_type": "markdown",
   "metadata": {},
   "source": [
    "#### Exploring longitude & latitude"
   ]
  },
  {
   "cell_type": "code",
   "execution_count": 109,
   "metadata": {
    "scrolled": true
   },
   "outputs": [
    {
     "data": {
      "text/plain": [
       "<matplotlib.axes._subplots.AxesSubplot at 0x1a39157b70>"
      ]
     },
     "execution_count": 109,
     "metadata": {},
     "output_type": "execute_result"
    },
    {
     "data": {
      "image/png": "[encoded data removed]",
      "text/plain": [
       "<Figure size 432x288 with 1 Axes>"
      ]
     },
     "metadata": {
      "needs_background": "light"
     },
     "output_type": "display_data"
    }
   ],
   "source": [
    "taxi.plot(kind='scatter', x='pickup_longitude', y='pickup_latitude', alpha=0.4)"
   ]
  },
  {
   "cell_type": "code",
   "execution_count": 110,
   "metadata": {},
   "outputs": [
    {
     "data": {
      "text/plain": [
       "<matplotlib.axes._subplots.AxesSubplot at 0x1a35e277f0>"
      ]
     },
     "execution_count": 110,
     "metadata": {},
     "output_type": "execute_result"
    },
    {
     "data": {
      "image/png": "[encoded data removed]",
      "text/plain": [
       "<Figure size 432x288 with 1 Axes>"
      ]
     },
     "metadata": {
      "needs_background": "light"
     },
     "output_type": "display_data"
    }
   ],
   "source": [
    "taxi.plot(kind='scatter', x='dropoff_longitude', y='dropoff_latitude', alpha=0.4)"
   ]
  },
  {
   "cell_type": "markdown",
   "metadata": {},
   "source": [
    "Remove far away destinations to get more clarity on the data for trips that originated & terminated within New York"
   ]
  },
  {
   "cell_type": "code",
   "execution_count": 111,
   "metadata": {},
   "outputs": [
    {
     "data": {
      "text/plain": [
       "(34.359695434570305, 51.88108444213867)"
      ]
     },
     "execution_count": 111,
     "metadata": {},
     "output_type": "execute_result"
    }
   ],
   "source": [
    "taxi.pickup_latitude.min(), taxi.pickup_latitude.max()"
   ]
  },
  {
   "cell_type": "code",
   "execution_count": 112,
   "metadata": {},
   "outputs": [
    {
     "data": {
      "text/plain": [
       "(-121.93334197998048, -61.33552932739258)"
      ]
     },
     "execution_count": 112,
     "metadata": {},
     "output_type": "execute_result"
    }
   ],
   "source": [
    "taxi.pickup_longitude.min(), taxi.pickup_longitude.max()"
   ]
  },
  {
   "cell_type": "markdown",
   "metadata": {},
   "source": [
    "The area of NYC we will focus is: latitude between 40.6921 and 40.8730, and longitude between -74.0753 and -73.8116"
   ]
  },
  {
   "cell_type": "code",
   "execution_count": 113,
   "metadata": {},
   "outputs": [],
   "source": [
    "taxi_coordinates = taxi[(taxi.pickup_latitude > 40.6921) & (taxi.pickup_latitude < 40.8730) &\n",
    "                        (taxi.pickup_longitude > -74.0753) & (taxi.pickup_longitude < -73.8116) &\n",
    "                       (taxi.dropoff_latitude > 40.6921) & (taxi.dropoff_latitude < 40.8730) &\n",
    "                        (taxi.dropoff_longitude > -74.0753) & (taxi.dropoff_longitude < -73.8116)]"
   ]
  },
  {
   "cell_type": "markdown",
   "metadata": {},
   "source": [
    "Also drop the rows with trip duration > 10h as outliers"
   ]
  },
  {
   "cell_type": "code",
   "execution_count": 114,
   "metadata": {},
   "outputs": [],
   "source": [
    "taxi_coordinates = taxi_coordinates[taxi_coordinates.trip_duration < 36000]"
   ]
  },
  {
   "cell_type": "code",
   "execution_count": 115,
   "metadata": {},
   "outputs": [
    {
     "data": {
      "text/plain": [
       "<matplotlib.axes._subplots.AxesSubplot at 0x1a35dc1ba8>"
      ]
     },
     "execution_count": 115,
     "metadata": {},
     "output_type": "execute_result"
    },
    {
     "data": {
      "image/png": "[encoded data removed]",
      "text/plain": [
       "<Figure size 864x720 with 1 Axes>"
      ]
     },
     "metadata": {
      "needs_background": "light"
     },
     "output_type": "display_data"
    }
   ],
   "source": [
    "taxi_coordinates.plot(kind='scatter', x='pickup_longitude', y='pickup_latitude', alpha=0.4, \n",
    "                      figsize=(12,10), s = 0.03)"
   ]
  },
  {
   "cell_type": "code",
   "execution_count": 116,
   "metadata": {},
   "outputs": [],
   "source": [
    "map_= plt.imread('../NYC.png')"
   ]
  },
  {
   "cell_type": "code",
   "execution_count": 117,
   "metadata": {},
   "outputs": [],
   "source": [
    "# taxi_coordinates.plot(kind='scatter', x='pickup_longitude', y='pickup_latitude', alpha=0.4,\n",
    "#           label='pickup', figsize=(12,10), s = 0.03, c='trip_duration', cmap=plt.get_cmap('Dark2'))\n",
    "\n",
    "# plt.imshow(map_, extent=[-74.0753, -73.8116, 40.6921, 40.8730], alpha=0.5)\n",
    "# plt.ylabel(\"Latitude\", fontsize=14)\n",
    "# plt.xlabel(\"Longitude\", fontsize=14)\n",
    "# plt.legend()\n",
    "# plt.show()"
   ]
  },
  {
   "cell_type": "markdown",
   "metadata": {},
   "source": [
    "We can use this information to cluster NYC based on the taxi pickup & dropoff locations and then use this information for further clustering"
   ]
  },
  {
   "cell_type": "markdown",
   "metadata": {},
   "source": [
    "### K-means clustering for neighborhoods"
   ]
  },
  {
   "cell_type": "code",
   "execution_count": 118,
   "metadata": {},
   "outputs": [],
   "source": [
    "from sklearn.cluster import KMeans\n",
    "\n",
    "\n",
    "kmeans = KMeans(n_clusters=8, random_state=8)\n",
    "neighborhood_clusters = kmeans.fit(taxi_coordinates[['pickup_longitude', 'pickup_latitude', 'dropoff_longitude', 'dropoff_latitude']])"
   ]
  },
  {
   "cell_type": "code",
   "execution_count": 119,
   "metadata": {},
   "outputs": [
    {
     "data": {
      "text/plain": [
       "(array([0, 1, 2, 3, 4, 5, 6, 7], dtype=int32),\n",
       " array([ 40825, 236143, 236828, 273507,  59651,  35213, 244147, 233301]))"
      ]
     },
     "execution_count": 119,
     "metadata": {},
     "output_type": "execute_result"
    }
   ],
   "source": [
    "unique, counts = np.unique(neighborhood_clusters.labels_, return_counts=True)\n",
    "unique, counts"
   ]
  },
  {
   "cell_type": "code",
   "execution_count": 120,
   "metadata": {},
   "outputs": [],
   "source": [
    "taxi_coordinates['labels_neighborhood'] = neighborhood_clusters.labels_"
   ]
  },
  {
   "cell_type": "code",
   "execution_count": 121,
   "metadata": {},
   "outputs": [
    {
     "data": {
      "text/plain": [
       "3    273507\n",
       "6    244147\n",
       "2    236828\n",
       "1    236143\n",
       "7    233301\n",
       "4     59651\n",
       "0     40825\n",
       "5     35213\n",
       "Name: labels, dtype: int64"
      ]
     },
     "execution_count": 121,
     "metadata": {},
     "output_type": "execute_result"
    }
   ],
   "source": [
    "taxi_coordinates.labels_neighborhood.value_counts()"
   ]
  },
  {
   "cell_type": "code",
   "execution_count": 122,
   "metadata": {},
   "outputs": [
    {
     "data": {
      "text/html": [
       "<div>\n",
       "<style scoped>\n",
       "    .dataframe tbody tr th:only-of-type {\n",
       "        vertical-align: middle;\n",
       "    }\n",
       "\n",
       "    .dataframe tbody tr th {\n",
       "        vertical-align: top;\n",
       "    }\n",
       "\n",
       "    .dataframe thead th {\n",
       "        text-align: right;\n",
       "    }\n",
       "</style>\n",
       "<table border=\"1\" class=\"dataframe\">\n",
       "  <thead>\n",
       "    <tr style=\"text-align: right;\">\n",
       "      <th></th>\n",
       "      <th>id</th>\n",
       "      <th>vendor_id</th>\n",
       "      <th>pickup_datetime</th>\n",
       "      <th>dropoff_datetime</th>\n",
       "      <th>passenger_count</th>\n",
       "      <th>pickup_longitude</th>\n",
       "      <th>pickup_latitude</th>\n",
       "      <th>dropoff_longitude</th>\n",
       "      <th>dropoff_latitude</th>\n",
       "      <th>store_and_fwd_flag</th>\n",
       "      <th>trip_duration</th>\n",
       "      <th>labels</th>\n",
       "    </tr>\n",
       "  </thead>\n",
       "  <tbody>\n",
       "    <tr>\n",
       "      <th>0</th>\n",
       "      <td>id2875421</td>\n",
       "      <td>2</td>\n",
       "      <td>2016-03-14 17:24:55</td>\n",
       "      <td>2016-03-14 17:32:30</td>\n",
       "      <td>1</td>\n",
       "      <td>-73.982155</td>\n",
       "      <td>40.767937</td>\n",
       "      <td>-73.964630</td>\n",
       "      <td>40.765602</td>\n",
       "      <td>N</td>\n",
       "      <td>455</td>\n",
       "      <td>7</td>\n",
       "    </tr>\n",
       "    <tr>\n",
       "      <th>1</th>\n",
       "      <td>id2377394</td>\n",
       "      <td>1</td>\n",
       "      <td>2016-06-12 00:43:35</td>\n",
       "      <td>2016-06-12 00:54:38</td>\n",
       "      <td>1</td>\n",
       "      <td>-73.980415</td>\n",
       "      <td>40.738564</td>\n",
       "      <td>-73.999481</td>\n",
       "      <td>40.731152</td>\n",
       "      <td>N</td>\n",
       "      <td>663</td>\n",
       "      <td>1</td>\n",
       "    </tr>\n",
       "    <tr>\n",
       "      <th>2</th>\n",
       "      <td>id3858529</td>\n",
       "      <td>2</td>\n",
       "      <td>2016-01-19 11:35:24</td>\n",
       "      <td>2016-01-19 12:10:48</td>\n",
       "      <td>1</td>\n",
       "      <td>-73.979027</td>\n",
       "      <td>40.763939</td>\n",
       "      <td>-74.005333</td>\n",
       "      <td>40.710087</td>\n",
       "      <td>N</td>\n",
       "      <td>2124</td>\n",
       "      <td>3</td>\n",
       "    </tr>\n",
       "    <tr>\n",
       "      <th>3</th>\n",
       "      <td>id3504673</td>\n",
       "      <td>2</td>\n",
       "      <td>2016-04-06 19:32:31</td>\n",
       "      <td>2016-04-06 19:39:40</td>\n",
       "      <td>1</td>\n",
       "      <td>-74.010040</td>\n",
       "      <td>40.719971</td>\n",
       "      <td>-74.012268</td>\n",
       "      <td>40.706718</td>\n",
       "      <td>N</td>\n",
       "      <td>429</td>\n",
       "      <td>1</td>\n",
       "    </tr>\n",
       "    <tr>\n",
       "      <th>4</th>\n",
       "      <td>id2181028</td>\n",
       "      <td>2</td>\n",
       "      <td>2016-03-26 13:30:55</td>\n",
       "      <td>2016-03-26 13:38:10</td>\n",
       "      <td>1</td>\n",
       "      <td>-73.973053</td>\n",
       "      <td>40.793209</td>\n",
       "      <td>-73.972923</td>\n",
       "      <td>40.782520</td>\n",
       "      <td>N</td>\n",
       "      <td>435</td>\n",
       "      <td>2</td>\n",
       "    </tr>\n",
       "  </tbody>\n",
       "</table>\n",
       "</div>"
      ],
      "text/plain": [
       "          id  vendor_id      pickup_datetime     dropoff_datetime  \\\n",
       "0  id2875421          2  2016-03-14 17:24:55  2016-03-14 17:32:30   \n",
       "1  id2377394          1  2016-06-12 00:43:35  2016-06-12 00:54:38   \n",
       "2  id3858529          2  2016-01-19 11:35:24  2016-01-19 12:10:48   \n",
       "3  id3504673          2  2016-04-06 19:32:31  2016-04-06 19:39:40   \n",
       "4  id2181028          2  2016-03-26 13:30:55  2016-03-26 13:38:10   \n",
       "\n",
       "   passenger_count  pickup_longitude  pickup_latitude  dropoff_longitude  \\\n",
       "0                1        -73.982155        40.767937         -73.964630   \n",
       "1                1        -73.980415        40.738564         -73.999481   \n",
       "2                1        -73.979027        40.763939         -74.005333   \n",
       "3                1        -74.010040        40.719971         -74.012268   \n",
       "4                1        -73.973053        40.793209         -73.972923   \n",
       "\n",
       "   dropoff_latitude store_and_fwd_flag  trip_duration  labels  \n",
       "0         40.765602                  N            455       7  \n",
       "1         40.731152                  N            663       1  \n",
       "2         40.710087                  N           2124       3  \n",
       "3         40.706718                  N            429       1  \n",
       "4         40.782520                  N            435       2  "
      ]
     },
     "execution_count": 122,
     "metadata": {},
     "output_type": "execute_result"
    }
   ],
   "source": [
    "taxi_coordinates.head()"
   ]
  },
  {
   "cell_type": "code",
   "execution_count": 123,
   "metadata": {},
   "outputs": [],
   "source": [
    "# Plot results !!!??"
   ]
  },
  {
   "cell_type": "code",
   "execution_count": null,
   "metadata": {},
   "outputs": [],
   "source": []
  },
  {
   "cell_type": "markdown",
   "metadata": {},
   "source": [
    "### Further cleaning of the data for 2nd clustering"
   ]
  },
  {
   "cell_type": "markdown",
   "metadata": {},
   "source": [
    "Drop id, store_and_fwd_flag & vendor_id columns as they are not significant for the clustering, and drop all latitude & longitude information as it's now represented by the cluster information"
   ]
  },
  {
   "cell_type": "code",
   "execution_count": 124,
   "metadata": {},
   "outputs": [],
   "source": [
    "taxi_coordinates.drop(['id', 'store_and_fwd_flag', 'vendor_id', 'pickup_longitude', 'pickup_latitude',\n",
    "               'dropoff_longitude', 'dropoff_latitude'], inplace=True, axis=1)"
   ]
  },
  {
   "cell_type": "code",
   "execution_count": 125,
   "metadata": {},
   "outputs": [
    {
     "data": {
      "text/html": [
       "<div>\n",
       "<style scoped>\n",
       "    .dataframe tbody tr th:only-of-type {\n",
       "        vertical-align: middle;\n",
       "    }\n",
       "\n",
       "    .dataframe tbody tr th {\n",
       "        vertical-align: top;\n",
       "    }\n",
       "\n",
       "    .dataframe thead th {\n",
       "        text-align: right;\n",
       "    }\n",
       "</style>\n",
       "<table border=\"1\" class=\"dataframe\">\n",
       "  <thead>\n",
       "    <tr style=\"text-align: right;\">\n",
       "      <th></th>\n",
       "      <th>pickup_datetime</th>\n",
       "      <th>dropoff_datetime</th>\n",
       "      <th>passenger_count</th>\n",
       "      <th>trip_duration</th>\n",
       "      <th>labels</th>\n",
       "    </tr>\n",
       "  </thead>\n",
       "  <tbody>\n",
       "    <tr>\n",
       "      <th>0</th>\n",
       "      <td>2016-03-14 17:24:55</td>\n",
       "      <td>2016-03-14 17:32:30</td>\n",
       "      <td>1</td>\n",
       "      <td>455</td>\n",
       "      <td>7</td>\n",
       "    </tr>\n",
       "    <tr>\n",
       "      <th>1</th>\n",
       "      <td>2016-06-12 00:43:35</td>\n",
       "      <td>2016-06-12 00:54:38</td>\n",
       "      <td>1</td>\n",
       "      <td>663</td>\n",
       "      <td>1</td>\n",
       "    </tr>\n",
       "    <tr>\n",
       "      <th>2</th>\n",
       "      <td>2016-01-19 11:35:24</td>\n",
       "      <td>2016-01-19 12:10:48</td>\n",
       "      <td>1</td>\n",
       "      <td>2124</td>\n",
       "      <td>3</td>\n",
       "    </tr>\n",
       "    <tr>\n",
       "      <th>3</th>\n",
       "      <td>2016-04-06 19:32:31</td>\n",
       "      <td>2016-04-06 19:39:40</td>\n",
       "      <td>1</td>\n",
       "      <td>429</td>\n",
       "      <td>1</td>\n",
       "    </tr>\n",
       "    <tr>\n",
       "      <th>4</th>\n",
       "      <td>2016-03-26 13:30:55</td>\n",
       "      <td>2016-03-26 13:38:10</td>\n",
       "      <td>1</td>\n",
       "      <td>435</td>\n",
       "      <td>2</td>\n",
       "    </tr>\n",
       "  </tbody>\n",
       "</table>\n",
       "</div>"
      ],
      "text/plain": [
       "       pickup_datetime     dropoff_datetime  passenger_count  trip_duration  \\\n",
       "0  2016-03-14 17:24:55  2016-03-14 17:32:30                1            455   \n",
       "1  2016-06-12 00:43:35  2016-06-12 00:54:38                1            663   \n",
       "2  2016-01-19 11:35:24  2016-01-19 12:10:48                1           2124   \n",
       "3  2016-04-06 19:32:31  2016-04-06 19:39:40                1            429   \n",
       "4  2016-03-26 13:30:55  2016-03-26 13:38:10                1            435   \n",
       "\n",
       "   labels  \n",
       "0       7  \n",
       "1       1  \n",
       "2       3  \n",
       "3       1  \n",
       "4       2  "
      ]
     },
     "execution_count": 125,
     "metadata": {},
     "output_type": "execute_result"
    }
   ],
   "source": [
    "taxi_coordinates.head()"
   ]
  },
  {
   "cell_type": "markdown",
   "metadata": {},
   "source": [
    "Convert pick up and drop off dates to datetime"
   ]
  },
  {
   "cell_type": "code",
   "execution_count": 126,
   "metadata": {},
   "outputs": [],
   "source": [
    "taxi_coordinates.pickup_datetime = pd.to_datetime(taxi_coordinates.pickup_datetime)\n",
    "taxi_coordinates.dropoff_datetime = pd.to_datetime(taxi_coordinates.dropoff_datetime)"
   ]
  },
  {
   "cell_type": "code",
   "execution_count": 127,
   "metadata": {},
   "outputs": [
    {
     "data": {
      "text/plain": [
       "pickup_datetime     datetime64[ns]\n",
       "dropoff_datetime    datetime64[ns]\n",
       "passenger_count              int64\n",
       "trip_duration                int64\n",
       "labels                       int32\n",
       "dtype: object"
      ]
     },
     "execution_count": 127,
     "metadata": {},
     "output_type": "execute_result"
    }
   ],
   "source": [
    "taxi_coordinates.dtypes"
   ]
  },
  {
   "cell_type": "markdown",
   "metadata": {},
   "source": [
    "Feature engineering on datetime"
   ]
  },
  {
   "cell_type": "code",
   "execution_count": 128,
   "metadata": {},
   "outputs": [],
   "source": [
    "taxi_coordinates['pickup_hour'] = taxi_coordinates.pickup_datetime.dt.hour\n",
    "taxi_coordinates['pickup_day'] = taxi_coordinates.pickup_datetime.dt.day_name()\n",
    "taxi_coordinates['dropoff_hour'] = taxi_coordinates.dropoff_datetime.dt.hour\n",
    "taxi_coordinates['dropoff_day'] = taxi_coordinates.dropoff_datetime.dt.day_name()"
   ]
  },
  {
   "cell_type": "code",
   "execution_count": 129,
   "metadata": {},
   "outputs": [
    {
     "data": {
      "text/plain": [
       "<matplotlib.axes._subplots.AxesSubplot at 0x1a93c18be0>"
      ]
     },
     "execution_count": 129,
     "metadata": {},
     "output_type": "execute_result"
    },
    {
     "data": {
      "image/png": "[encoded data removed]",
      "text/plain": [
       "<Figure size 432x288 with 2 Axes>"
      ]
     },
     "metadata": {
      "needs_background": "light"
     },
     "output_type": "display_data"
    }
   ],
   "source": [
    "sns.heatmap(taxi_coordinates.corr())"
   ]
  },
  {
   "cell_type": "markdown",
   "metadata": {},
   "source": [
    "Will drop all dropoff time information as it's highly correlated to the pickup time and moreover we already have a column with trip duration; drop pick up datetime as well since we now have the hour & day columns"
   ]
  },
  {
   "cell_type": "code",
   "execution_count": 130,
   "metadata": {},
   "outputs": [],
   "source": [
    "taxi_drop = taxi_coordinates.copy()\n",
    "taxi_drop.drop(['dropoff_datetime', 'dropoff_hour', 'dropoff_day', 'pickup_datetime'], inplace=True, axis=1)"
   ]
  },
  {
   "cell_type": "markdown",
   "metadata": {},
   "source": [
    "Check the pick up hour & day values"
   ]
  },
  {
   "cell_type": "code",
   "execution_count": 131,
   "metadata": {},
   "outputs": [
    {
     "data": {
      "text/plain": [
       "Friday       208817\n",
       "Saturday     206015\n",
       "Thursday     204425\n",
       "Wednesday    197131\n",
       "Tuesday      190042\n",
       "Sunday       179389\n",
       "Monday       173796\n",
       "Name: pickup_day, dtype: int64"
      ]
     },
     "execution_count": 131,
     "metadata": {},
     "output_type": "execute_result"
    }
   ],
   "source": [
    "taxi_drop.pickup_day.value_counts()"
   ]
  },
  {
   "cell_type": "code",
   "execution_count": 132,
   "metadata": {},
   "outputs": [
    {
     "data": {
      "text/plain": [
       "18    85676\n",
       "19    85205\n",
       "20    78157\n",
       "21    77630\n",
       "22    73361\n",
       "17    71809\n",
       "14    69569\n",
       "12    68688\n",
       "13    67582\n",
       "15    67109\n",
       "11    65564\n",
       "9     65199\n",
       "8     64186\n",
       "10    63037\n",
       "23    62524\n",
       "16    59892\n",
       "7     52471\n",
       "0     47154\n",
       "1     34506\n",
       "6     30168\n",
       "2     25183\n",
       "3     18682\n",
       "4     13619\n",
       "5     12644\n",
       "Name: pickup_hour, dtype: int64"
      ]
     },
     "execution_count": 132,
     "metadata": {},
     "output_type": "execute_result"
    }
   ],
   "source": [
    "taxi_drop.pickup_hour.value_counts()"
   ]
  },
  {
   "cell_type": "markdown",
   "metadata": {},
   "source": [
    "Do one hot encoding on day field to transfor the categorical variable"
   ]
  },
  {
   "cell_type": "code",
   "execution_count": 133,
   "metadata": {},
   "outputs": [],
   "source": [
    "taxi_days = pd.get_dummies(data=taxi_drop, columns=['pickup_day'])"
   ]
  },
  {
   "cell_type": "code",
   "execution_count": 134,
   "metadata": {},
   "outputs": [],
   "source": [
    "principalDf = taxi_days.copy()"
   ]
  },
  {
   "cell_type": "markdown",
   "metadata": {},
   "source": [
    "### PCA"
   ]
  },
  {
   "cell_type": "markdown",
   "metadata": {},
   "source": [
    "???"
   ]
  },
  {
   "cell_type": "code",
   "execution_count": 135,
   "metadata": {},
   "outputs": [],
   "source": [
    "# from sklearn.decomposition import PCA \n",
    "\n",
    "# pca = PCA(n_components=4) \n",
    "# principalComponents = pca.fit_transform(taxi_days) \n",
    "# principalDf = pd.DataFrame(data = principalComponents ,columns = ['pc1', 'pc2', 'pc3', 'pc4']) \n",
    "# principalDf.head()"
   ]
  },
  {
   "cell_type": "markdown",
   "metadata": {},
   "source": [
    "### K-Means Clustering"
   ]
  },
  {
   "cell_type": "markdown",
   "metadata": {},
   "source": [
    "???"
   ]
  },
  {
   "cell_type": "code",
   "execution_count": 136,
   "metadata": {},
   "outputs": [],
   "source": [
    "kmeans = KMeans(n_clusters=5)\n",
    "taxi_clusters = kmeans.fit(principalDf)"
   ]
  },
  {
   "cell_type": "code",
   "execution_count": 137,
   "metadata": {},
   "outputs": [
    {
     "data": {
      "text/plain": [
       "(array([0, 1, 2, 3, 4], dtype=int32),\n",
       " array([620603, 220990,  46325,     40, 471657]))"
      ]
     },
     "execution_count": 137,
     "metadata": {},
     "output_type": "execute_result"
    }
   ],
   "source": [
    "unique, counts = np.unique(taxi_clusters.labels_, return_counts=True)\n",
    "unique, counts"
   ]
  },
  {
   "cell_type": "code",
   "execution_count": 143,
   "metadata": {},
   "outputs": [],
   "source": [
    "taxi_coordinates['labels_clusters'] = taxi_clusters.labels_"
   ]
  },
  {
   "cell_type": "code",
   "execution_count": 144,
   "metadata": {},
   "outputs": [
    {
     "data": {
      "text/plain": [
       "0    620603\n",
       "4    471657\n",
       "1    220990\n",
       "2     46325\n",
       "3        40\n",
       "Name: labels_clusters, dtype: int64"
      ]
     },
     "execution_count": 144,
     "metadata": {},
     "output_type": "execute_result"
    }
   ],
   "source": [
    "taxi_coordinates.labels_clusters.value_counts()"
   ]
  },
  {
   "cell_type": "code",
   "execution_count": 151,
   "metadata": {},
   "outputs": [
    {
     "ename": "TypeError",
     "evalue": "boxplot() got an unexpected keyword argument 'y'",
     "output_type": "error",
     "traceback": [
      "\u001b[0;31m---------------------------------------------------------------------------\u001b[0m",
      "\u001b[0;31mTypeError\u001b[0m                                 Traceback (most recent call last)",
      "\u001b[0;32m<ipython-input-151-a7f76f03ec37>\u001b[0m in \u001b[0;36m<module>\u001b[0;34m\u001b[0m\n\u001b[1;32m      1\u001b[0m plt.boxplot(x=taxi_coordinates[\"passenger_count\"], y=taxi_coordinates[\"trip_duration\"], \n\u001b[0;32m----> 2\u001b[0;31m             c=taxi_coordinates[\"labels_clusters\"])\n\u001b[0m",
      "\u001b[0;31mTypeError\u001b[0m: boxplot() got an unexpected keyword argument 'y'"
     ]
    }
   ],
   "source": [
    "plt.scatter(x=taxi_coordinates[\"passenger_count\"], y=taxi_coordinates[\"trip_duration\"], \n",
    "            c=taxi_coordinates[\"labels_clusters\"])"
   ]
  },
  {
   "cell_type": "code",
   "execution_count": 156,
   "metadata": {},
   "outputs": [
    {
     "data": {
      "text/plain": [
       "<matplotlib.axes._subplots.AxesSubplot at 0x1a9403dbe0>"
      ]
     },
     "execution_count": 156,
     "metadata": {},
     "output_type": "execute_result"
    },
    {
     "data": {
      "image/png": "[encoded data removed]",
      "text/plain": [
       "<Figure size 432x288 with 1 Axes>"
      ]
     },
     "metadata": {
      "needs_background": "light"
     },
     "output_type": "display_data"
    }
   ],
   "source": [
    "sns.boxplot(x=\"labels_clusters\", y=\"trip_duration\", data=taxi_coordinates)\n"
   ]
  },
  {
   "cell_type": "code",
   "execution_count": 146,
   "metadata": {},
   "outputs": [
    {
     "data": {
      "text/html": [
       "<div>\n",
       "<style scoped>\n",
       "    .dataframe tbody tr th:only-of-type {\n",
       "        vertical-align: middle;\n",
       "    }\n",
       "\n",
       "    .dataframe tbody tr th {\n",
       "        vertical-align: top;\n",
       "    }\n",
       "\n",
       "    .dataframe thead th {\n",
       "        text-align: right;\n",
       "    }\n",
       "</style>\n",
       "<table border=\"1\" class=\"dataframe\">\n",
       "  <thead>\n",
       "    <tr style=\"text-align: right;\">\n",
       "      <th>labels_clusters</th>\n",
       "      <th>0</th>\n",
       "      <th>1</th>\n",
       "      <th>2</th>\n",
       "      <th>3</th>\n",
       "      <th>4</th>\n",
       "    </tr>\n",
       "    <tr>\n",
       "      <th>pickup_hour</th>\n",
       "      <th></th>\n",
       "      <th></th>\n",
       "      <th></th>\n",
       "      <th></th>\n",
       "      <th></th>\n",
       "    </tr>\n",
       "  </thead>\n",
       "  <tbody>\n",
       "    <tr>\n",
       "      <th>0</th>\n",
       "      <td>22999</td>\n",
       "      <td>6729</td>\n",
       "      <td>920</td>\n",
       "      <td>0</td>\n",
       "      <td>16506</td>\n",
       "    </tr>\n",
       "    <tr>\n",
       "      <th>1</th>\n",
       "      <td>17673</td>\n",
       "      <td>4442</td>\n",
       "      <td>504</td>\n",
       "      <td>0</td>\n",
       "      <td>11887</td>\n",
       "    </tr>\n",
       "    <tr>\n",
       "      <th>2</th>\n",
       "      <td>13394</td>\n",
       "      <td>2984</td>\n",
       "      <td>245</td>\n",
       "      <td>0</td>\n",
       "      <td>8560</td>\n",
       "    </tr>\n",
       "    <tr>\n",
       "      <th>3</th>\n",
       "      <td>9976</td>\n",
       "      <td>2245</td>\n",
       "      <td>173</td>\n",
       "      <td>0</td>\n",
       "      <td>6288</td>\n",
       "    </tr>\n",
       "    <tr>\n",
       "      <th>4</th>\n",
       "      <td>7304</td>\n",
       "      <td>1795</td>\n",
       "      <td>144</td>\n",
       "      <td>0</td>\n",
       "      <td>4376</td>\n",
       "    </tr>\n",
       "    <tr>\n",
       "      <th>5</th>\n",
       "      <td>8054</td>\n",
       "      <td>1285</td>\n",
       "      <td>68</td>\n",
       "      <td>0</td>\n",
       "      <td>3237</td>\n",
       "    </tr>\n",
       "    <tr>\n",
       "      <th>6</th>\n",
       "      <td>19989</td>\n",
       "      <td>2173</td>\n",
       "      <td>174</td>\n",
       "      <td>0</td>\n",
       "      <td>7832</td>\n",
       "    </tr>\n",
       "    <tr>\n",
       "      <th>7</th>\n",
       "      <td>27967</td>\n",
       "      <td>6068</td>\n",
       "      <td>1166</td>\n",
       "      <td>0</td>\n",
       "      <td>17270</td>\n",
       "    </tr>\n",
       "    <tr>\n",
       "      <th>8</th>\n",
       "      <td>28737</td>\n",
       "      <td>10893</td>\n",
       "      <td>2548</td>\n",
       "      <td>0</td>\n",
       "      <td>22008</td>\n",
       "    </tr>\n",
       "    <tr>\n",
       "      <th>9</th>\n",
       "      <td>27989</td>\n",
       "      <td>11803</td>\n",
       "      <td>2973</td>\n",
       "      <td>0</td>\n",
       "      <td>22434</td>\n",
       "    </tr>\n",
       "    <tr>\n",
       "      <th>10</th>\n",
       "      <td>27231</td>\n",
       "      <td>11530</td>\n",
       "      <td>2929</td>\n",
       "      <td>1</td>\n",
       "      <td>21346</td>\n",
       "    </tr>\n",
       "    <tr>\n",
       "      <th>11</th>\n",
       "      <td>27254</td>\n",
       "      <td>12535</td>\n",
       "      <td>3155</td>\n",
       "      <td>1</td>\n",
       "      <td>22619</td>\n",
       "    </tr>\n",
       "    <tr>\n",
       "      <th>12</th>\n",
       "      <td>28296</td>\n",
       "      <td>13160</td>\n",
       "      <td>3212</td>\n",
       "      <td>0</td>\n",
       "      <td>24020</td>\n",
       "    </tr>\n",
       "    <tr>\n",
       "      <th>13</th>\n",
       "      <td>28068</td>\n",
       "      <td>12908</td>\n",
       "      <td>3069</td>\n",
       "      <td>1</td>\n",
       "      <td>23536</td>\n",
       "    </tr>\n",
       "    <tr>\n",
       "      <th>14</th>\n",
       "      <td>28252</td>\n",
       "      <td>13190</td>\n",
       "      <td>3769</td>\n",
       "      <td>5</td>\n",
       "      <td>24353</td>\n",
       "    </tr>\n",
       "    <tr>\n",
       "      <th>15</th>\n",
       "      <td>27795</td>\n",
       "      <td>12272</td>\n",
       "      <td>3977</td>\n",
       "      <td>11</td>\n",
       "      <td>23054</td>\n",
       "    </tr>\n",
       "    <tr>\n",
       "      <th>16</th>\n",
       "      <td>26150</td>\n",
       "      <td>10214</td>\n",
       "      <td>3578</td>\n",
       "      <td>7</td>\n",
       "      <td>19943</td>\n",
       "    </tr>\n",
       "    <tr>\n",
       "      <th>17</th>\n",
       "      <td>30749</td>\n",
       "      <td>12681</td>\n",
       "      <td>3905</td>\n",
       "      <td>6</td>\n",
       "      <td>24468</td>\n",
       "    </tr>\n",
       "    <tr>\n",
       "      <th>18</th>\n",
       "      <td>36783</td>\n",
       "      <td>15067</td>\n",
       "      <td>3103</td>\n",
       "      <td>7</td>\n",
       "      <td>30716</td>\n",
       "    </tr>\n",
       "    <tr>\n",
       "      <th>19</th>\n",
       "      <td>39247</td>\n",
       "      <td>13257</td>\n",
       "      <td>1753</td>\n",
       "      <td>1</td>\n",
       "      <td>30947</td>\n",
       "    </tr>\n",
       "    <tr>\n",
       "      <th>20</th>\n",
       "      <td>37457</td>\n",
       "      <td>11019</td>\n",
       "      <td>998</td>\n",
       "      <td>0</td>\n",
       "      <td>28683</td>\n",
       "    </tr>\n",
       "    <tr>\n",
       "      <th>21</th>\n",
       "      <td>36853</td>\n",
       "      <td>11212</td>\n",
       "      <td>1122</td>\n",
       "      <td>0</td>\n",
       "      <td>28443</td>\n",
       "    </tr>\n",
       "    <tr>\n",
       "      <th>22</th>\n",
       "      <td>33494</td>\n",
       "      <td>11552</td>\n",
       "      <td>1392</td>\n",
       "      <td>0</td>\n",
       "      <td>26923</td>\n",
       "    </tr>\n",
       "    <tr>\n",
       "      <th>23</th>\n",
       "      <td>28892</td>\n",
       "      <td>9976</td>\n",
       "      <td>1448</td>\n",
       "      <td>0</td>\n",
       "      <td>22208</td>\n",
       "    </tr>\n",
       "  </tbody>\n",
       "</table>\n",
       "</div>"
      ],
      "text/plain": [
       "labels_clusters      0      1     2   3      4\n",
       "pickup_hour                                   \n",
       "0                22999   6729   920   0  16506\n",
       "1                17673   4442   504   0  11887\n",
       "2                13394   2984   245   0   8560\n",
       "3                 9976   2245   173   0   6288\n",
       "4                 7304   1795   144   0   4376\n",
       "5                 8054   1285    68   0   3237\n",
       "6                19989   2173   174   0   7832\n",
       "7                27967   6068  1166   0  17270\n",
       "8                28737  10893  2548   0  22008\n",
       "9                27989  11803  2973   0  22434\n",
       "10               27231  11530  2929   1  21346\n",
       "11               27254  12535  3155   1  22619\n",
       "12               28296  13160  3212   0  24020\n",
       "13               28068  12908  3069   1  23536\n",
       "14               28252  13190  3769   5  24353\n",
       "15               27795  12272  3977  11  23054\n",
       "16               26150  10214  3578   7  19943\n",
       "17               30749  12681  3905   6  24468\n",
       "18               36783  15067  3103   7  30716\n",
       "19               39247  13257  1753   1  30947\n",
       "20               37457  11019   998   0  28683\n",
       "21               36853  11212  1122   0  28443\n",
       "22               33494  11552  1392   0  26923\n",
       "23               28892   9976  1448   0  22208"
      ]
     },
     "execution_count": 146,
     "metadata": {},
     "output_type": "execute_result"
    }
   ],
   "source": [
    "pd.crosstab(taxi_coordinates.pickup_hour, taxi_coordinates.labels_clusters)"
   ]
  },
  {
   "cell_type": "code",
   "execution_count": 147,
   "metadata": {},
   "outputs": [],
   "source": [
    "taxi_group = taxi_coordinates.groupby('pickup_day').sum() "
   ]
  },
  {
   "cell_type": "code",
   "execution_count": 148,
   "metadata": {},
   "outputs": [
    {
     "data": {
      "text/html": [
       "<div>\n",
       "<style scoped>\n",
       "    .dataframe tbody tr th:only-of-type {\n",
       "        vertical-align: middle;\n",
       "    }\n",
       "\n",
       "    .dataframe tbody tr th {\n",
       "        vertical-align: top;\n",
       "    }\n",
       "\n",
       "    .dataframe thead th {\n",
       "        text-align: right;\n",
       "    }\n",
       "</style>\n",
       "<table border=\"1\" class=\"dataframe\">\n",
       "  <thead>\n",
       "    <tr style=\"text-align: right;\">\n",
       "      <th></th>\n",
       "      <th>passenger_count</th>\n",
       "      <th>trip_duration</th>\n",
       "      <th>labels</th>\n",
       "      <th>pickup_hour</th>\n",
       "      <th>dropoff_hour</th>\n",
       "      <th>labels_clusters</th>\n",
       "    </tr>\n",
       "    <tr>\n",
       "      <th>pickup_day</th>\n",
       "      <th></th>\n",
       "      <th></th>\n",
       "      <th></th>\n",
       "      <th></th>\n",
       "      <th></th>\n",
       "      <th></th>\n",
       "    </tr>\n",
       "  </thead>\n",
       "  <tbody>\n",
       "    <tr>\n",
       "      <th>Friday</th>\n",
       "      <td>346432</td>\n",
       "      <td>163998977</td>\n",
       "      <td>766506</td>\n",
       "      <td>2859496</td>\n",
       "      <td>2842438</td>\n",
       "      <td>345010</td>\n",
       "    </tr>\n",
       "    <tr>\n",
       "      <th>Monday</th>\n",
       "      <td>283565</td>\n",
       "      <td>125402734</td>\n",
       "      <td>656008</td>\n",
       "      <td>2431333</td>\n",
       "      <td>2443166</td>\n",
       "      <td>271949</td>\n",
       "    </tr>\n",
       "    <tr>\n",
       "      <th>Saturday</th>\n",
       "      <td>356049</td>\n",
       "      <td>147049861</td>\n",
       "      <td>744062</td>\n",
       "      <td>2725131</td>\n",
       "      <td>2705286</td>\n",
       "      <td>330829</td>\n",
       "    </tr>\n",
       "    <tr>\n",
       "      <th>Sunday</th>\n",
       "      <td>308037</td>\n",
       "      <td>121392592</td>\n",
       "      <td>656542</td>\n",
       "      <td>2187388</td>\n",
       "      <td>2200231</td>\n",
       "      <td>271208</td>\n",
       "    </tr>\n",
       "    <tr>\n",
       "      <th>Thursday</th>\n",
       "      <td>334585</td>\n",
       "      <td>166512913</td>\n",
       "      <td>761308</td>\n",
       "      <td>2877557</td>\n",
       "      <td>2874362</td>\n",
       "      <td>341909</td>\n",
       "    </tr>\n",
       "  </tbody>\n",
       "</table>\n",
       "</div>"
      ],
      "text/plain": [
       "            passenger_count  trip_duration  labels  pickup_hour  dropoff_hour  \\\n",
       "pickup_day                                                                      \n",
       "Friday               346432      163998977  766506      2859496       2842438   \n",
       "Monday               283565      125402734  656008      2431333       2443166   \n",
       "Saturday             356049      147049861  744062      2725131       2705286   \n",
       "Sunday               308037      121392592  656542      2187388       2200231   \n",
       "Thursday             334585      166512913  761308      2877557       2874362   \n",
       "\n",
       "            labels_clusters  \n",
       "pickup_day                   \n",
       "Friday               345010  \n",
       "Monday               271949  \n",
       "Saturday             330829  \n",
       "Sunday               271208  \n",
       "Thursday             341909  "
      ]
     },
     "execution_count": 148,
     "metadata": {},
     "output_type": "execute_result"
    }
   ],
   "source": [
    "taxi_group.head()"
   ]
  },
  {
   "cell_type": "code",
   "execution_count": 149,
   "metadata": {},
   "outputs": [
    {
     "ename": "AttributeError",
     "evalue": "'DataFrame' object has no attribute 'pickup_day'",
     "output_type": "error",
     "traceback": [
      "\u001b[0;31m---------------------------------------------------------------------------\u001b[0m",
      "\u001b[0;31mAttributeError\u001b[0m                            Traceback (most recent call last)",
      "\u001b[0;32m<ipython-input-149-08aad3fd9b6a>\u001b[0m in \u001b[0;36m<module>\u001b[0;34m\u001b[0m\n\u001b[0;32m----> 1\u001b[0;31m \u001b[0mpd\u001b[0m\u001b[0;34m.\u001b[0m\u001b[0mcrosstab\u001b[0m\u001b[0;34m(\u001b[0m\u001b[0mtaxi_group\u001b[0m\u001b[0;34m.\u001b[0m\u001b[0mpickup_day\u001b[0m\u001b[0;34m,\u001b[0m \u001b[0mtaxi_days\u001b[0m\u001b[0;34m.\u001b[0m\u001b[0mlabels_clusters\u001b[0m\u001b[0;34m)\u001b[0m\u001b[0;34m\u001b[0m\u001b[0;34m\u001b[0m\u001b[0m\n\u001b[0m",
      "\u001b[0;32m~/anaconda3/lib/python3.7/site-packages/pandas/core/generic.py\u001b[0m in \u001b[0;36m__getattr__\u001b[0;34m(self, name)\u001b[0m\n\u001b[1;32m   5065\u001b[0m             \u001b[0;32mif\u001b[0m \u001b[0mself\u001b[0m\u001b[0;34m.\u001b[0m\u001b[0m_info_axis\u001b[0m\u001b[0;34m.\u001b[0m\u001b[0m_can_hold_identifiers_and_holds_name\u001b[0m\u001b[0;34m(\u001b[0m\u001b[0mname\u001b[0m\u001b[0;34m)\u001b[0m\u001b[0;34m:\u001b[0m\u001b[0;34m\u001b[0m\u001b[0;34m\u001b[0m\u001b[0m\n\u001b[1;32m   5066\u001b[0m                 \u001b[0;32mreturn\u001b[0m \u001b[0mself\u001b[0m\u001b[0;34m[\u001b[0m\u001b[0mname\u001b[0m\u001b[0;34m]\u001b[0m\u001b[0;34m\u001b[0m\u001b[0;34m\u001b[0m\u001b[0m\n\u001b[0;32m-> 5067\u001b[0;31m             \u001b[0;32mreturn\u001b[0m \u001b[0mobject\u001b[0m\u001b[0;34m.\u001b[0m\u001b[0m__getattribute__\u001b[0m\u001b[0;34m(\u001b[0m\u001b[0mself\u001b[0m\u001b[0;34m,\u001b[0m \u001b[0mname\u001b[0m\u001b[0;34m)\u001b[0m\u001b[0;34m\u001b[0m\u001b[0;34m\u001b[0m\u001b[0m\n\u001b[0m\u001b[1;32m   5068\u001b[0m \u001b[0;34m\u001b[0m\u001b[0m\n\u001b[1;32m   5069\u001b[0m     \u001b[0;32mdef\u001b[0m \u001b[0m__setattr__\u001b[0m\u001b[0;34m(\u001b[0m\u001b[0mself\u001b[0m\u001b[0;34m,\u001b[0m \u001b[0mname\u001b[0m\u001b[0;34m,\u001b[0m \u001b[0mvalue\u001b[0m\u001b[0;34m)\u001b[0m\u001b[0;34m:\u001b[0m\u001b[0;34m\u001b[0m\u001b[0;34m\u001b[0m\u001b[0m\n",
      "\u001b[0;31mAttributeError\u001b[0m: 'DataFrame' object has no attribute 'pickup_day'"
     ]
    }
   ],
   "source": [
    "pd.crosstab(taxi_group.pickup_day, taxi_days.labels_clusters)"
   ]
  },
  {
   "cell_type": "markdown",
   "metadata": {},
   "source": [
    "### Hierarchical clustering"
   ]
  },
  {
   "cell_type": "code",
   "execution_count": null,
   "metadata": {},
   "outputs": [],
   "source": []
  },
  {
   "cell_type": "markdown",
   "metadata": {},
   "source": [
    "### DBscan"
   ]
  },
  {
   "cell_type": "code",
   "execution_count": null,
   "metadata": {},
   "outputs": [],
   "source": []
  },
  {
   "cell_type": "markdown",
   "metadata": {},
   "source": [
    "### Gausian mixture model"
   ]
  },
  {
   "cell_type": "code",
   "execution_count": null,
   "metadata": {},
   "outputs": [],
   "source": []
  },
  {
   "cell_type": "code",
   "execution_count": null,
   "metadata": {},
   "outputs": [],
   "source": []
  }
 ],
 "metadata": {
  "kernelspec": {
   "display_name": "Python 3",
   "language": "python",
   "name": "python3"
  },
  "language_info": {
   "codemirror_mode": {
    "name": "ipython",
    "version": 3
   },
   "file_extension": ".py",
   "mimetype": "text/x-python",
   "name": "python",
   "nbconvert_exporter": "python",
   "pygments_lexer": "ipython3",
   "version": "3.7.3"
  }
 },
 "nbformat": 4,
 "nbformat_minor": 2
}
