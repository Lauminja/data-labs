{
 "cells": [
  {
   "cell_type": "code",
   "execution_count": null,
   "metadata": {},
   "outputs": [],
   "source": [
    "\"\"\"\n",
    "The code below generates a given number of random strings that consists of numbers and \n",
    "lower case English letters. You can also define the range of the variable lengths of\n",
    "the strings being generated.\n",
    "\n",
    "The code is functional but has a lot of room for improvement. Use what you have learned\n",
    "about simple and efficient code, refactor the code.\n",
    "\"\"\"\n",
    "\n",
    "def RandomStringGenerator(l=12, a=['a','b','c','d','e','f','g','h','i','j','k','l','m','n','o','p','q','r','s','t','u','v','w','x','y','z','0','1','2','3','4','5','6','7','8','9']):\n",
    "    p = 0\n",
    "    s = ''\n",
    "    while p<l:\n",
    "        import random\n",
    "        s += random.choice(a)\n",
    "        p += 1\n",
    "    return s\n",
    "\n",
    "def BatchStringGenerator(n, a=8, b=12):\n",
    "    r = []\n",
    "    for i in range(n):\n",
    "        c = None\n",
    "        if a < b:\n",
    "            import random\n",
    "            c = random.choice(range(a, b))\n",
    "        elif a == b:\n",
    "            c = a\n",
    "        else:\n",
    "            import sys\n",
    "            sys.exit('Incorrect min and max string lengths. Try again.')\n",
    "        r.append(RandomStringGenerator(c))\n",
    "    return r\n",
    "\n",
    "a = input('Enter minimum string length: ')\n",
    "b = input('Enter maximum string length: ')\n",
    "n = input('How many random strings to generate? ')\n",
    "\n",
    "print(BatchStringGenerator(int(n), int(a), int(b)))\n"
   ]
  },
  {
   "cell_type": "code",
   "execution_count": null,
   "metadata": {},
   "outputs": [],
   "source": [
    "import string\n",
    "import random\n",
    "import sys\n",
    "\n",
    "def random_string_generator(len_final):\n",
    "    return ''.join(random.choice(string.ascii_lowercase + string.digits) for i in range(len_final))\n",
    "        \n",
    "def batch_string_generator(num_str, min_len, max_len):\n",
    "    result = []\n",
    "    for string in range(num_str):\n",
    "        if min_len < max_len:\n",
    "            len_final = random.choice(range(min_len, max_len))\n",
    "        elif min_len == max_len:\n",
    "            len_final = min_len\n",
    "        else:\n",
    "            sys.exit('Incorrect min and max string lengths. Try again.')\n",
    "        \n",
    "        result.append(random_string_generator(len_final))\n",
    "        \n",
    "    return result\n",
    "\n",
    "\n",
    "min_len = input('Enter minimum string length: ')\n",
    "max_len = input('Enter maximum string length: ')\n",
    "num_str = input('How many random strings to generate? ')\n",
    "\n",
    "print(batch_string_generator(int(num_str), int(min_len), int(max_len)))\n"
   ]
  },
  {
   "cell_type": "code",
   "execution_count": 3,
   "metadata": {},
   "outputs": [
    {
     "name": "stdout",
     "output_type": "stream",
     "text": [
      "Enter minimum string length: 4\n",
      "Enter maximum string length: 4\n",
      "How many random strings to generate? 2\n",
      "['xooq', 'mq87']\n"
     ]
    }
   ],
   "source": [
    "import string\n",
    "import random\n",
    "import sys\n",
    "\n",
    "def random_string_generator(len_final):\n",
    "    return ''.join([random.choice(string.ascii_lowercase + string.digits) for i in range(len_final)])\n",
    "\n",
    "def batch_string_generator(num_str, min_len, max_len):\n",
    "    result = []\n",
    "    if min_len > max_len:\n",
    "        sys.exit('Incorrect min and max string lengths. Try again.')\n",
    "    for string in range(num_str):\n",
    "        len_final = random.choice(range(min_len, max_len+1))\n",
    "        result.append(random_string_generator(len_final))    \n",
    "    return result\n",
    "\n",
    "\n",
    "min_len = input('Enter minimum string length: ')\n",
    "max_len = input('Enter maximum string length: ')\n",
    "num_str = input('How many random strings to generate? ')\n",
    "\n",
    "print(batch_string_generator(int(num_str), int(min_len), int(max_len)))\n"
   ]
  },
  {
   "cell_type": "code",
   "execution_count": null,
   "metadata": {},
   "outputs": [],
   "source": [
    "#add try??"
   ]
  }
 ],
 "metadata": {
  "kernelspec": {
   "display_name": "Python 3",
   "language": "python",
   "name": "python3"
  },
  "language_info": {
   "codemirror_mode": {
    "name": "ipython",
    "version": 3
   },
   "file_extension": ".py",
   "mimetype": "text/x-python",
   "name": "python",
   "nbconvert_exporter": "python",
   "pygments_lexer": "ipython3",
   "version": "3.7.3"
  }
 },
 "nbformat": 4,
 "nbformat_minor": 2
}
