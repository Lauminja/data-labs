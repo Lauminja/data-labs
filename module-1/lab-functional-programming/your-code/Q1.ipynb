{
 "cells": [
  {
   "cell_type": "markdown",
   "metadata": {},
   "source": [
    "In the cell below, create a Python function that wraps your previous solution for the Bag of Words lab.\n",
    "\n",
    "Requirements:\n",
    "\n",
    "1. Your function should accept the following parameters:\n",
    "    * `docs` [REQUIRED] - array of document paths.\n",
    "    * `stop_words` [OPTIONAL] - array of stop words. The default value is an empty array.\n",
    "\n",
    "1. Your function should return a Python object that contains the following:\n",
    "    * `bag_of_words` - array of strings of normalized unique words in the corpus.\n",
    "    * `term_freq` - array of the term-frequency vectors."
   ]
  },
  {
   "cell_type": "code",
   "execution_count": 3,
   "metadata": {},
   "outputs": [],
   "source": [
    "# Import required libraries\n",
    "\n",
    "# Define function\n",
    "def get_bow_from_docs(docs, stop_words=[]):\n",
    "    \n",
    "    # In the function, first define the variables you will use such as `corpus`, `bag_of_words`, and `term_freq`.\n",
    "    corpus = []\n",
    "    bag_of_words = []\n",
    "    term_freq = []\n",
    "    \n",
    "    \n",
    "    \"\"\"\n",
    "    Loop `docs` and read the content of each doc into a string in `corpus`.\n",
    "    Remember to convert the doc content to lowercases and remove punctuation.\n",
    "    \"\"\"\n",
    "    for doc in docs:\n",
    "        f = open(doc, 'r')\n",
    "        if f.mode == 'r':\n",
    "            contents =f.read()\n",
    "            corpus.append(contents)\n",
    "    import re\n",
    "    corpus = [re.sub(r'[^\\w\\s]', ' ', i.lower()) for i in corpus]\n",
    "    \n",
    "    \"\"\"\n",
    "    Loop `corpus`. Append the terms in each doc into the `bag_of_words` array. The terms in `bag_of_words` \n",
    "    should be unique which means before adding each term you need to check if it's already added to the array.\n",
    "    In addition, check if each term is in the `stop_words` array. Only append the term to `bag_of_words`\n",
    "    if it is not a stop word.\n",
    "    \"\"\"\n",
    "    for phrase in corpus:\n",
    "        for word in phrase.split():\n",
    "            if (word not in bag_of_words) & (word not in stop_words):\n",
    "                bag_of_words.append(word)\n",
    "    \n",
    "    \"\"\"\n",
    "    Loop `corpus` again. For each doc string, count the number of occurrences of each term in `bag_of_words`. \n",
    "    Create an array for each doc's term frequency and append it to `term_freq`.\n",
    "    \"\"\"\n",
    "    for phrase in corpus:\n",
    "        split_phrase = phrase.split()\n",
    "        word_count = []\n",
    "        for word in bag_of_words:\n",
    "            word_count.append(split_phrase.count(word))\n",
    "        term_freq.append(word_count) \n",
    "            \n",
    "    \n",
    "    # Now return your output as an object\n",
    "    return {\n",
    "        \"bag_of_words\": bag_of_words,\n",
    "        \"term_freq\": term_freq\n",
    "    }\n"
   ]
  },
  {
   "cell_type": "markdown",
   "metadata": {},
   "source": [
    "Test your function without stop words. You should see the output like below:\n",
    "\n",
    "```{'bag_of_words': ['ironhack', 'is', 'cool', 'i', 'love', 'am', 'a', 'student', 'at'], 'term_freq': [[1, 1, 1, 0, 0, 0, 0, 0, 0], [1, 0, 0, 1, 1, 0, 0, 0, 0], [1, 0, 0, 1, 0, 1, 1, 1, 1]]}```"
   ]
  },
  {
   "cell_type": "code",
   "execution_count": 4,
   "metadata": {},
   "outputs": [
    {
     "name": "stdout",
     "output_type": "stream",
     "text": [
      "{'bag_of_words': ['ironhack', 'is', 'cool', 'i', 'love', 'am', 'a', 'student', 'at'], 'term_freq': [[1, 1, 1, 0, 0, 0, 0, 0, 0], [1, 0, 0, 1, 1, 0, 0, 0, 0], [1, 0, 0, 1, 0, 1, 1, 1, 1]]}\n"
     ]
    }
   ],
   "source": [
    "# Define doc paths array\n",
    "# ../../ --> means that from current location we are moving up 2 levels in folders and then following the new path to go into folder with files \n",
    "path = (\"../../lab-string-operations/your-code/\")\n",
    "docs = [path + \"doc1.txt\", path + \"doc2.txt\", path + \"doc3.txt\"]\n",
    "\n",
    "# Obtain BoW from your function\n",
    "bow = get_bow_from_docs(docs)\n",
    "\n",
    "# Print BoW\n",
    "print(bow)"
   ]
  },
  {
   "cell_type": "markdown",
   "metadata": {},
   "source": [
    "If your attempt above is successful, nice work done!\n",
    "\n",
    "Now test your function again with the stop words. In the previous lab we defined the stop words in a large array. In this lab, we'll import the stop words from Scikit-Learn."
   ]
  },
  {
   "cell_type": "code",
   "execution_count": 5,
   "metadata": {},
   "outputs": [
    {
     "name": "stdout",
     "output_type": "stream",
     "text": [
      "frozenset({'sometimes', 'con', 'do', 'up', 'very', 'she', 'bottom', 'hundred', 'amount', 'see', 'call', 'to', 'became', 'mine', 'whose', 'who', 'below', 'been', 'neither', 'our', 'am', 'amongst', 'whereupon', 'though', 'find', 'onto', 'twenty', 'your', 'however', 'both', 'five', 'since', 'perhaps', 'everyone', 'take', 'or', 'fill', 'too', 'inc', 'thru', 'you', 'against', 'beyond', 'therein', 'hence', 'its', 'him', 'hasnt', 'fifty', 'six', 'couldnt', 'three', 'latterly', 'mill', 'himself', 'has', 'often', 'every', 'yourself', 'this', 'whither', 'show', 'had', 'others', 'together', 'become', 'except', 'an', 'each', 'ourselves', 'now', 'only', 'anyone', 'least', 'nevertheless', 'because', 'them', 'wherever', 'those', 'therefore', 'either', 'nothing', 'again', 'her', 'herein', 'if', 'system', 'whom', 'few', 'might', 'always', 'here', 'which', 'somehow', 'their', 'eight', 'indeed', 'empty', 'could', 'of', 'go', 'nowhere', 'namely', 'ours', 'during', 'anything', 'becoming', 'everything', 'hereby', 'may', 'along', 'around', 'thereupon', 'more', 'cannot', 'as', 'describe', 'such', 'much', 'ie', 'top', 'co', 'myself', 'before', 'eg', 'within', 'thereby', 'out', 'for', 'another', 'most', 'will', 'after', 'hers', 'have', 'these', 'made', 'twelve', 'seems', 'being', 'nor', 'herself', 'with', 'thus', 'elsewhere', 'noone', 'than', 'upon', 'whereas', 'back', 'his', 'other', 'there', 'about', 'something', 'someone', 'thick', 'four', 'anyway', 'full', 'almost', 'the', 'third', 'should', 'all', 'be', 'hereupon', 'on', 'none', 'sometime', 'move', 'put', 'from', 'serious', 'what', 'beside', 'next', 'without', 'afterwards', 'yours', 'by', 'no', 'and', 'interest', 'anywhere', 'amoungst', 'whence', 'seeming', 'hereafter', 'we', 'besides', 'done', 'alone', 'once', 'enough', 'somewhere', 'into', 'that', 'wherein', 'meanwhile', 'any', 'they', 'becomes', 'many', 'but', 'through', 'across', 're', 'bill', 'why', 'one', 'side', 'whatever', 'must', 'my', 'un', 'above', 'get', 'front', 'first', 'formerly', 'sixty', 'between', 'well', 'due', 'thin', 'two', 'still', 'off', 'beforehand', 'eleven', 'behind', 'never', 'where', 'everywhere', 'me', 'per', 'give', 'us', 'several', 'a', 'whole', 'seem', 'else', 'own', 'while', 'last', 'keep', 'further', 'sincere', 'part', 'etc', 'mostly', 'were', 'was', 'in', 'thereafter', 'detail', 'how', 'nobody', 'whereby', 'also', 'whereafter', 'nine', 'it', 'ten', 'yourselves', 'at', 'is', 'among', 'themselves', 'are', 'ever', 'when', 'ltd', 'towards', 'would', 'yet', 'under', 'although', 'rather', 'de', 'name', 'via', 'former', 'cry', 'whether', 'so', 'can', 'whoever', 'not', 'down', 'otherwise', 'fifteen', 'latter', 'i', 'less', 'seemed', 'then', 'whenever', 'fire', 'until', 'please', 'some', 'he', 'moreover', 'cant', 'found', 'even', 'thence', 'already', 'forty', 'toward', 'over', 'itself', 'same', 'anyhow', 'throughout'})\n"
     ]
    }
   ],
   "source": [
    "from sklearn.feature_extraction import stop_words\n",
    "print(stop_words.ENGLISH_STOP_WORDS)"
   ]
  },
  {
   "cell_type": "markdown",
   "metadata": {},
   "source": [
    "You should have seen a large list of words that looks like:\n",
    "\n",
    "```frozenset({'across', 'mine', 'cannot', ...})```\n",
    "\n",
    "`frozenset` is a type of Python object that is immutable. In this lab you can use it just like an array without conversion."
   ]
  },
  {
   "cell_type": "markdown",
   "metadata": {},
   "source": [
    "Next, test your function with supplying `stop_words.ENGLISH_STOP_WORDS` as the second parameter."
   ]
  },
  {
   "cell_type": "code",
   "execution_count": 6,
   "metadata": {},
   "outputs": [
    {
     "name": "stdout",
     "output_type": "stream",
     "text": [
      "{'bag_of_words': ['ironhack', 'cool', 'love', 'student'], 'term_freq': [[1, 1, 0, 0], [1, 0, 1, 0], [1, 0, 0, 1]]}\n"
     ]
    }
   ],
   "source": [
    "bow = get_bow_from_docs(docs, stop_words.ENGLISH_STOP_WORDS)\n",
    "\n",
    "print(bow)"
   ]
  },
  {
   "cell_type": "markdown",
   "metadata": {},
   "source": [
    "You should have seen:\n",
    "\n",
    "```{'bag_of_words': ['ironhack', 'cool', 'love', 'student'], 'term_freq': [[1, 1, 0, 0], [1, 0, 1, 0], [1, 0, 0, 1]]}```"
   ]
  },
  {
   "cell_type": "code",
   "execution_count": null,
   "metadata": {},
   "outputs": [],
   "source": []
  }
 ],
 "metadata": {
  "kernelspec": {
   "display_name": "Python 3",
   "language": "python",
   "name": "python3"
  },
  "language_info": {
   "codemirror_mode": {
    "name": "ipython",
    "version": 3
   },
   "file_extension": ".py",
   "mimetype": "text/x-python",
   "name": "python",
   "nbconvert_exporter": "python",
   "pygments_lexer": "ipython3",
   "version": "3.7.3"
  }
 },
 "nbformat": 4,
 "nbformat_minor": 2
}
