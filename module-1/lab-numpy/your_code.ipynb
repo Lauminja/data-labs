{
 "cells": [
  {
   "cell_type": "code",
   "execution_count": 1,
   "metadata": {
    "scrolled": true
   },
   "outputs": [],
   "source": [
    "#1. Import the NUMPY package under the name np.\n",
    "import numpy as np"
   ]
  },
  {
   "cell_type": "code",
   "execution_count": 2,
   "metadata": {},
   "outputs": [
    {
     "name": "stdout",
     "output_type": "stream",
     "text": [
      "1.16.2\n",
      "mkl_info:\n",
      "    libraries = ['mkl_rt', 'pthread']\n",
      "    library_dirs = ['/Users/laumaustupa/anaconda3/lib']\n",
      "    define_macros = [('SCIPY_MKL_H', None), ('HAVE_CBLAS', None)]\n",
      "    include_dirs = ['/Users/laumaustupa/anaconda3/include']\n",
      "blas_mkl_info:\n",
      "    libraries = ['mkl_rt', 'pthread']\n",
      "    library_dirs = ['/Users/laumaustupa/anaconda3/lib']\n",
      "    define_macros = [('SCIPY_MKL_H', None), ('HAVE_CBLAS', None)]\n",
      "    include_dirs = ['/Users/laumaustupa/anaconda3/include']\n",
      "blas_opt_info:\n",
      "    libraries = ['mkl_rt', 'pthread']\n",
      "    library_dirs = ['/Users/laumaustupa/anaconda3/lib']\n",
      "    define_macros = [('SCIPY_MKL_H', None), ('HAVE_CBLAS', None)]\n",
      "    include_dirs = ['/Users/laumaustupa/anaconda3/include']\n",
      "lapack_mkl_info:\n",
      "    libraries = ['mkl_rt', 'pthread']\n",
      "    library_dirs = ['/Users/laumaustupa/anaconda3/lib']\n",
      "    define_macros = [('SCIPY_MKL_H', None), ('HAVE_CBLAS', None)]\n",
      "    include_dirs = ['/Users/laumaustupa/anaconda3/include']\n",
      "lapack_opt_info:\n",
      "    libraries = ['mkl_rt', 'pthread']\n",
      "    library_dirs = ['/Users/laumaustupa/anaconda3/lib']\n",
      "    define_macros = [('SCIPY_MKL_H', None), ('HAVE_CBLAS', None)]\n",
      "    include_dirs = ['/Users/laumaustupa/anaconda3/include']\n",
      "None\n"
     ]
    }
   ],
   "source": [
    "#2. Print the NUMPY version and the configuration.\n",
    "\n",
    "print(np.__version__)\n",
    "print(np.show_config())"
   ]
  },
  {
   "cell_type": "code",
   "execution_count": 133,
   "metadata": {},
   "outputs": [],
   "source": [
    "#3. Generate a 2x3x5 3-dimensional array with random values. Assign the array to variable \"a\"\n",
    "# Challenge: there are at least three easy ways that use numpy to generate random arrays. How many ways can you find?\n",
    "a = np.random.random((2,3,5))\n",
    "a1 = np.random.rand(2,3,5)\n",
    "a2 = np.random.sample((2,3,5))"
   ]
  },
  {
   "cell_type": "code",
   "execution_count": 134,
   "metadata": {},
   "outputs": [
    {
     "name": "stdout",
     "output_type": "stream",
     "text": [
      "[[[0.11427418 0.04979628 0.81140941 0.7818094  0.46040113]\n",
      "  [0.53336477 0.05189276 0.19951785 0.35312953 0.35013381]\n",
      "  [0.69937469 0.18573986 0.48137168 0.7953131  0.51066461]]\n",
      "\n",
      " [[0.51384185 0.71019615 0.07705165 0.21093824 0.74619949]\n",
      "  [0.77395077 0.54191091 0.10779012 0.81466841 0.87983228]\n",
      "  [0.74362585 0.03921311 0.04846488 0.29941232 0.32301508]]]\n",
      "-----\n",
      "[[[0.0826662  0.79693515 0.91465617 0.93964837 0.93512694]\n",
      "  [0.25742113 0.13810444 0.25282265 0.50169357 0.22477266]\n",
      "  [0.66149546 0.96985066 0.7966821  0.74025975 0.92399652]]\n",
      "\n",
      " [[0.82657752 0.87219333 0.75233802 0.70819932 0.46634019]\n",
      "  [0.67396983 0.03766963 0.39464709 0.95376708 0.86426666]\n",
      "  [0.36228932 0.4678254  0.2465943  0.45888226 0.16319247]]]\n",
      "-----\n",
      "[[[0.31958744 0.72339809 0.9385796  0.84904514 0.45726868]\n",
      "  [0.03722448 0.70001655 0.87843093 0.15460449 0.2974632 ]\n",
      "  [0.53081603 0.43471381 0.89937399 0.36354203 0.23515894]]\n",
      "\n",
      " [[0.83430871 0.93804738 0.85760508 0.0297006  0.4728494 ]\n",
      "  [0.22326976 0.4108492  0.70009596 0.11261689 0.53168829]\n",
      "  [0.82784189 0.56282722 0.86314191 0.98223838 0.66067541]]]\n"
     ]
    }
   ],
   "source": [
    "#4. Print a.\n",
    "print(a)\n",
    "print(\"-----\")\n",
    "print(a1)\n",
    "print(\"-----\")\n",
    "print(a2)"
   ]
  },
  {
   "cell_type": "code",
   "execution_count": 5,
   "metadata": {},
   "outputs": [],
   "source": [
    "#5. Create a 5x2x3 3-dimensional array with all values equaling 1.\n",
    "#Assign the array to variable \"b\"\n",
    "b = np.full((5,2,3),1)"
   ]
  },
  {
   "cell_type": "code",
   "execution_count": 6,
   "metadata": {},
   "outputs": [
    {
     "name": "stdout",
     "output_type": "stream",
     "text": [
      "[[[1 1 1]\n",
      "  [1 1 1]]\n",
      "\n",
      " [[1 1 1]\n",
      "  [1 1 1]]\n",
      "\n",
      " [[1 1 1]\n",
      "  [1 1 1]]\n",
      "\n",
      " [[1 1 1]\n",
      "  [1 1 1]]\n",
      "\n",
      " [[1 1 1]\n",
      "  [1 1 1]]]\n"
     ]
    }
   ],
   "source": [
    "#6. Print b.\n",
    "print(b)"
   ]
  },
  {
   "cell_type": "code",
   "execution_count": 7,
   "metadata": {},
   "outputs": [
    {
     "data": {
      "text/plain": [
       "True"
      ]
     },
     "execution_count": 7,
     "metadata": {},
     "output_type": "execute_result"
    }
   ],
   "source": [
    "#7. Do a and b have the same size? How do you prove that in Python code?\n",
    "#Yes:\n",
    "(a.size) == (b.size)"
   ]
  },
  {
   "cell_type": "code",
   "execution_count": 8,
   "metadata": {},
   "outputs": [
    {
     "ename": "ValueError",
     "evalue": "operands could not be broadcast together with shapes (2,3,5) (5,2,3) ",
     "output_type": "error",
     "traceback": [
      "\u001b[0;31m---------------------------------------------------------------------------\u001b[0m",
      "\u001b[0;31mValueError\u001b[0m                                Traceback (most recent call last)",
      "\u001b[0;32m<ipython-input-8-b69739c8a29e>\u001b[0m in \u001b[0;36m<module>\u001b[0;34m\u001b[0m\n\u001b[1;32m      1\u001b[0m \u001b[0;31m#8. Are you able to add a and b? Why or why not?\u001b[0m\u001b[0;34m\u001b[0m\u001b[0;34m\u001b[0m\u001b[0;34m\u001b[0m\u001b[0m\n\u001b[1;32m      2\u001b[0m \u001b[0;31m#No, because they don't have the same number of elements in each list\u001b[0m\u001b[0;34m\u001b[0m\u001b[0;34m\u001b[0m\u001b[0;34m\u001b[0m\u001b[0m\n\u001b[0;32m----> 3\u001b[0;31m \u001b[0mnp\u001b[0m\u001b[0;34m.\u001b[0m\u001b[0madd\u001b[0m\u001b[0;34m(\u001b[0m\u001b[0ma\u001b[0m\u001b[0;34m,\u001b[0m\u001b[0mb\u001b[0m\u001b[0;34m)\u001b[0m\u001b[0;34m\u001b[0m\u001b[0;34m\u001b[0m\u001b[0m\n\u001b[0m",
      "\u001b[0;31mValueError\u001b[0m: operands could not be broadcast together with shapes (2,3,5) (5,2,3) "
     ]
    }
   ],
   "source": [
    "#8. Are you able to add a and b? Why or why not?\n",
    "#No, because they don't have the same number of elements in each list\n",
    "np.add(a,b)"
   ]
  },
  {
   "cell_type": "code",
   "execution_count": 9,
   "metadata": {},
   "outputs": [
    {
     "name": "stdout",
     "output_type": "stream",
     "text": [
      "[[[1 1 1 1 1]\n",
      "  [1 1 1 1 1]\n",
      "  [1 1 1 1 1]]\n",
      "\n",
      " [[1 1 1 1 1]\n",
      "  [1 1 1 1 1]\n",
      "  [1 1 1 1 1]]]\n"
     ]
    }
   ],
   "source": [
    "#9. Transpose b so that it has the same structure of a (i.e. become a 2x3x5 array). Assign the transposed array to varialbe \"c\".\n",
    "c = b.transpose([1,2,0])\n",
    "print(c)"
   ]
  },
  {
   "cell_type": "code",
   "execution_count": 10,
   "metadata": {},
   "outputs": [],
   "source": [
    "#10. Try to add a and c. Now it should work. Assign the sum to varialbe \"d\". But why does it work now?\n",
    "#Because a and c have the same structure, same number of elements in each list\n",
    "d = np.add(a,c)"
   ]
  },
  {
   "cell_type": "code",
   "execution_count": 11,
   "metadata": {},
   "outputs": [
    {
     "name": "stdout",
     "output_type": "stream",
     "text": [
      "[[[0.33457292 0.18116926 0.95245922 0.48522013 0.91689173]\n",
      "  [0.75923569 0.00536294 0.77921543 0.02841764 0.80598944]\n",
      "  [0.99625385 0.67438506 0.0082601  0.96461846 0.19112337]]\n",
      "\n",
      " [[0.11174851 0.35734245 0.4108358  0.00310479 0.5326412 ]\n",
      "  [0.03934381 0.0012602  0.69347602 0.33865762 0.89413511]\n",
      "  [0.62121848 0.11616808 0.67797584 0.52861135 0.27196021]]]\n",
      "--------\n",
      "[[[1.33457292 1.18116926 1.95245922 1.48522013 1.91689173]\n",
      "  [1.75923569 1.00536294 1.77921543 1.02841764 1.80598944]\n",
      "  [1.99625385 1.67438506 1.0082601  1.96461846 1.19112337]]\n",
      "\n",
      " [[1.11174851 1.35734245 1.4108358  1.00310479 1.5326412 ]\n",
      "  [1.03934381 1.0012602  1.69347602 1.33865762 1.89413511]\n",
      "  [1.62121848 1.11616808 1.67797584 1.52861135 1.27196021]]]\n"
     ]
    }
   ],
   "source": [
    "#11. Print a and d. Notice the difference and relation of the two array in terms of the values? Explain.\n",
    "print(a)\n",
    "print(\"--------\")\n",
    "print(d)\n",
    "# Each value in d is greather by 1 than the value in the same position in a? This is because the values in c that we added to a, were all 1."
   ]
  },
  {
   "cell_type": "code",
   "execution_count": 12,
   "metadata": {},
   "outputs": [],
   "source": [
    "#12. Multiply a and c. Assign the result to e.\n",
    "e = np.multiply(a,c)"
   ]
  },
  {
   "cell_type": "code",
   "execution_count": 13,
   "metadata": {},
   "outputs": [
    {
     "name": "stdout",
     "output_type": "stream",
     "text": [
      "[[[0.33457292 0.18116926 0.95245922 0.48522013 0.91689173]\n",
      "  [0.75923569 0.00536294 0.77921543 0.02841764 0.80598944]\n",
      "  [0.99625385 0.67438506 0.0082601  0.96461846 0.19112337]]\n",
      "\n",
      " [[0.11174851 0.35734245 0.4108358  0.00310479 0.5326412 ]\n",
      "  [0.03934381 0.0012602  0.69347602 0.33865762 0.89413511]\n",
      "  [0.62121848 0.11616808 0.67797584 0.52861135 0.27196021]]]\n"
     ]
    }
   ],
   "source": [
    "#13. Does e equal to a? Why or why not?\n",
    "print(e)\n",
    "#Yes, because all values in c are 1, any value multiplied by 1 stays the same. So values in a multiplied by 1, will stay the same."
   ]
  },
  {
   "cell_type": "code",
   "execution_count": 14,
   "metadata": {},
   "outputs": [
    {
     "name": "stdout",
     "output_type": "stream",
     "text": [
      "1.9962538465038517\n",
      "1.0012602038633602\n",
      "1.4560551567268616\n"
     ]
    }
   ],
   "source": [
    "#14. Identify the max, min, and mean values in d. Assign those values to variables \"d_max\", \"d_min\", and \"d_mean\"\n",
    "d_max = np.max(d)\n",
    "d_min = np.min(d)\n",
    "d_mean = np.mean(d)\n",
    "\n",
    "print(d_max)\n",
    "print(d_min)\n",
    "print(d_mean)"
   ]
  },
  {
   "cell_type": "code",
   "execution_count": 15,
   "metadata": {},
   "outputs": [
    {
     "name": "stdout",
     "output_type": "stream",
     "text": [
      "[[[0.33457292 0.18116926 0.95245922 0.48522013 0.91689173]\n",
      "  [0.75923569 0.00536294 0.77921543 0.02841764 0.80598944]\n",
      "  [0.99625385 0.67438506 0.0082601  0.96461846 0.19112337]]\n",
      "\n",
      " [[0.11174851 0.35734245 0.4108358  0.00310479 0.5326412 ]\n",
      "  [0.03934381 0.0012602  0.69347602 0.33865762 0.89413511]\n",
      "  [0.62121848 0.11616808 0.67797584 0.52861135 0.27196021]]]\n"
     ]
    }
   ],
   "source": [
    "#15. Now we want to label the values in d. First create an empty array \"f\" with the same shape (i.e. 2x3x5) as d using `np.empty`.\n",
    "f = np.empty((2,3,5))\n",
    "print(f)"
   ]
  },
  {
   "cell_type": "code",
   "execution_count": 94,
   "metadata": {},
   "outputs": [],
   "source": [
    "\"\"\"\n",
    "#16. Populate the values in f. For each value in d, if it's larger than d_min but smaller than d_mean, assign 25 to the corresponding value in f.\n",
    "If a value in d is larger than d_mean but smaller than d_max, assign 75 to the corresponding value in f.\n",
    "If a value equals to d_mean, assign 50 to the corresponding value in f.\n",
    "Assign 0 to the corresponding value(s) in f for d_min in d.\n",
    "Assign 100 to the corresponding value(s) in f for d_max in d.\n",
    "In the end, f should have only the following values: 0, 25, 50, 75, and 100.\n",
    "Note: you don't have to use Numpy in this question.\n",
    "\"\"\"\n",
    "for x in range(len(f)):\n",
    "    for y in range(len(f[0])):\n",
    "        for z in range(len(f[0][0])):\n",
    "            val = d[x,y,z]\n",
    "            if (val > d_min) & (val < d_mean):\n",
    "                f[x,y,z] = 25\n",
    "            elif (val > d_mean) & (val < d_max):\n",
    "                f[x,y,z] = 75\n",
    "            elif val == d_min:\n",
    "                f[x,y,z] = 0\n",
    "            elif val == d_max:\n",
    "                f[x,y,z] = 100"
   ]
  },
  {
   "cell_type": "code",
   "execution_count": 95,
   "metadata": {},
   "outputs": [
    {
     "name": "stdout",
     "output_type": "stream",
     "text": [
      "[[['25' '25' '75' '75' '75']\n",
      "  ['75' '25' '75' '25' '75']\n",
      "  ['100' '75' '25' '75' '25']]\n",
      "\n",
      " [['25' '25' '25' '25' '75']\n",
      "  ['25' '0' '75' '25' '75']\n",
      "  ['75' '25' '75' '75' '25']]]\n"
     ]
    }
   ],
   "source": [
    "#Solution with Numpy:                \n",
    "print(np.where((d > d_min) & (d < d_mean), 25, np.where(((d > d_mean) & (d < d_max)), 75, np.where(d == d_min, 0, np.where(d == d_max, 100,\"\"))))) \n",
    "\n",
    "\n",
    "#Explication step by step:\n",
    "# np.where((d > d_min) & (d < d_mean), 25, \"\")\n",
    "# np.where(((d > d_mean) & (d < d_max)), 75, \"\")\n",
    "# np.where(d == d_min, 0, \"\")\n",
    "# np.where(d == d_max, 100,\"\")"
   ]
  },
  {
   "cell_type": "code",
   "execution_count": 96,
   "metadata": {},
   "outputs": [
    {
     "name": "stdout",
     "output_type": "stream",
     "text": [
      "[[[1.33457292 1.18116926 1.95245922 1.48522013 1.91689173]\n",
      "  [1.75923569 1.00536294 1.77921543 1.02841764 1.80598944]\n",
      "  [1.99625385 1.67438506 1.0082601  1.96461846 1.19112337]]\n",
      "\n",
      " [[1.11174851 1.35734245 1.4108358  1.00310479 1.5326412 ]\n",
      "  [1.03934381 1.0012602  1.69347602 1.33865762 1.89413511]\n",
      "  [1.62121848 1.11616808 1.67797584 1.52861135 1.27196021]]]\n",
      "-----\n",
      "[[[ 25.  25.  75.  75.  75.]\n",
      "  [ 75.  25.  75.  25.  75.]\n",
      "  [100.  75.  25.  75.  25.]]\n",
      "\n",
      " [[ 25.  25.  25.  25.  75.]\n",
      "  [ 25.   0.  75.  25.  75.]\n",
      "  [ 75.  25.  75.  75.  25.]]]\n"
     ]
    }
   ],
   "source": [
    "\"\"\"\n",
    "#17. Print d and f. Do you have your expected f?\n",
    "For instance, if your d is:\n",
    "array([[[1.85836099, 1.67064465, 1.62576044, 1.40243961, 1.88454931],\n",
    "        [1.75354326, 1.69403643, 1.36729252, 1.61415071, 1.12104981],\n",
    "        [1.72201435, 1.1862918 , 1.87078449, 1.7726778 , 1.88180042]],\n",
    "\n",
    "       [[1.44747908, 1.31673383, 1.02000951, 1.52218947, 1.97066381],\n",
    "        [1.79129243, 1.74983003, 1.96028037, 1.85166831, 1.65450881],\n",
    "        [1.18068344, 1.9587381 , 1.00656599, 1.93402165, 1.73514584]]])\n",
    "\n",
    "Your f should be:\n",
    "array([[[ 75.,  75.,  75.,  25.,  75.],\n",
    "        [ 75.,  75.,  25.,  25.,  25.],\n",
    "        [ 75.,  25.,  75.,  75.,  75.]],\n",
    "\n",
    "       [[ 25.,  25.,  25.,  25., 100.],\n",
    "        [ 75.,  75.,  75.,  75.,  75.],\n",
    "        [ 25.,  75.,   0.,  75.,  75.]]])\n",
    "\"\"\"\n",
    "\n",
    "print(d)\n",
    "print('-----')\n",
    "print(f)"
   ]
  },
  {
   "cell_type": "code",
   "execution_count": 97,
   "metadata": {},
   "outputs": [
    {
     "name": "stdout",
     "output_type": "stream",
     "text": [
      "[[['A' 'A' 'B' 'B' 'B']\n",
      "  ['B' 'A' 'B' 'A' 'B']\n",
      "  ['D' 'B' 'A' 'B' 'A']]\n",
      "\n",
      " [['A' 'A' 'A' 'A' 'B']\n",
      "  ['A' 'C' 'B' 'A' 'B']\n",
      "  ['B' 'A' 'B' 'B' 'A']]]\n"
     ]
    }
   ],
   "source": [
    "\"\"\"\n",
    "#18. Bonus question: instead of using numbers (i.e. 0, 25, 50, 75, and 100), how to use string values \n",
    "(\"A\", \"B\", \"C\", \"D\", and \"E\") to label the array elements? You are expecting the result to be:\n",
    "array([[[ 'D',  'D',  'D',  'B',  'D'],\n",
    "        [ 'D',  'D',  'B',  'B',  'B'],\n",
    "        [ 'D',  'B',  'D',  'D',  'D']],\n",
    "\n",
    "       [[ 'B',  'B',  'B',  'B',  'E'],\n",
    "        [ 'D',  'D',  'D',  'D',  'D'],\n",
    "        [ 'B',  'D',   'A',  'D', 'D']]])\n",
    "Again, you don't need Numpy in this question.\n",
    "\"\"\"\n",
    "\n",
    "g = np.ndarray.astype(f, dtype = str)\n",
    "\n",
    "for x in range(len(g)):\n",
    "    for y in range(len(g[0])):\n",
    "        for z in range(len(g[0][0])):\n",
    "            val = d[x,y,z]\n",
    "            if (val > d_min) & (val < d_mean):\n",
    "                g[x,y,z] = 'A'\n",
    "            elif (val > d_mean) & (val < d_max):\n",
    "                g[x,y,z] = 'B'\n",
    "            elif val == d_min:\n",
    "                g[x,y,z] = 'C'\n",
    "            elif val == d_max:\n",
    "                g[x,y,z] = 'D'\n",
    "            else:\n",
    "                g[x,y,z] = 'E'\n",
    "                \n",
    "print(g)"
   ]
  },
  {
   "cell_type": "code",
   "execution_count": 98,
   "metadata": {},
   "outputs": [
    {
     "name": "stdout",
     "output_type": "stream",
     "text": [
      "[[['A' 'A' 'B' 'B' 'B']\n",
      "  ['B' 'A' 'B' 'A' 'B']\n",
      "  ['D' 'B' 'A' 'B' 'A']]\n",
      "\n",
      " [['A' 'A' 'A' 'A' 'B']\n",
      "  ['A' 'C' 'B' 'A' 'B']\n",
      "  ['B' 'A' 'B' 'B' 'A']]]\n"
     ]
    }
   ],
   "source": [
    "#Solution with Numpy:\n",
    "\n",
    "print(np.where((d > d_min) & (d < d_mean), 'A', np.where(((d > d_mean) & (d < d_max)), 'B', np.where(d == d_min, 'C', np.where(d == d_max, 'D','E'))))) "
   ]
  },
  {
   "cell_type": "code",
   "execution_count": null,
   "metadata": {},
   "outputs": [],
   "source": []
  }
 ],
 "metadata": {
  "kernelspec": {
   "display_name": "Python 3",
   "language": "python",
   "name": "python3"
  },
  "language_info": {
   "codemirror_mode": {
    "name": "ipython",
    "version": 3
   },
   "file_extension": ".py",
   "mimetype": "text/x-python",
   "name": "python",
   "nbconvert_exporter": "python",
   "pygments_lexer": "ipython3",
   "version": "3.7.3"
  }
 },
 "nbformat": 4,
 "nbformat_minor": 2
}
