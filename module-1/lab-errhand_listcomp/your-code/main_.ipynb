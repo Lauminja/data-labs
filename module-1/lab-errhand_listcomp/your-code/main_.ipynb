{
 "cells": [
  {
   "cell_type": "code",
   "execution_count": 1,
   "metadata": {},
   "outputs": [
    {
     "name": "stdout",
     "output_type": "stream",
     "text": [
      "[1.0, 0.3333333333333333, 0.125, 0.3333333333333333, 0.5]\n"
     ]
    }
   ],
   "source": [
    "#Example: \n",
    "\n",
    "eggs = (1,3,8,3,2)\n",
    "\n",
    "my_listComprehension = [1/egg for egg in eggs]\n",
    "\n",
    "print(my_listComprehension)"
   ]
  },
  {
   "cell_type": "code",
   "execution_count": 2,
   "metadata": {},
   "outputs": [
    {
     "name": "stdout",
     "output_type": "stream",
     "text": [
      "[0, 1, 2, 3, 4, 5, 6, 7, 8, 9, 10, 11, 12, 13, 14, 15, 16, 17, 18, 19]\n"
     ]
    }
   ],
   "source": [
    "# ?? Insert here the module/library import statements \n",
    "\n",
    "list1 = [i for i in range(0,1000)]\n",
    "print(list1[:20])"
   ]
  },
  {
   "cell_type": "code",
   "execution_count": 3,
   "metadata": {},
   "outputs": [
    {
     "data": {
      "text/plain": [
       "[0, 1, 4, 9, 16]"
      ]
     },
     "execution_count": 3,
     "metadata": {},
     "output_type": "execute_result"
    }
   ],
   "source": [
    "#1. Calculate the square number of the first 20 numbers. Use square as the name of the list.\n",
    "# Remember to use list comprehensions and to print your results\n",
    "import math\n",
    "\n",
    "number = [i for i in list1[:20] if int(math.sqrt(i)+0.5)**2 == i]\n",
    "number"
   ]
  },
  {
   "cell_type": "code",
   "execution_count": 4,
   "metadata": {},
   "outputs": [
    {
     "name": "stdout",
     "output_type": "stream",
     "text": [
      "[0, 1, 4, 9, 16, 25, 36, 49, 64, 81, 100, 121, 144, 169, 196, 225, 256, 289, 324, 361, 400, 441, 484, 529, 576, 625, 676, 729, 784, 841, 900, 961, 1024, 1089, 1156, 1225, 1296, 1369, 1444, 1521, 1600, 1681, 1764, 1849, 1936, 2025, 2116, 2209, 2304, 2401]\n"
     ]
    }
   ],
   "source": [
    "#2. Calculate the first 50 power of two. Use power_of_two as the name of the list.\n",
    "# Remember to use list comprehensions and to print your results\n",
    "\n",
    "power_of_two = [pow(i,2) for i in list1[:50]]\n",
    "print(power_of_two)"
   ]
  },
  {
   "cell_type": "code",
   "execution_count": 5,
   "metadata": {},
   "outputs": [
    {
     "name": "stdout",
     "output_type": "stream",
     "text": [
      "[0.0, 1.0, 1.4142135623730951, 1.7320508075688772, 2.0, 2.23606797749979, 2.449489742783178, 2.6457513110645907, 2.8284271247461903, 3.0, 3.1622776601683795, 3.3166247903554, 3.4641016151377544, 3.605551275463989, 3.7416573867739413, 3.872983346207417, 4.0, 4.123105625617661, 4.242640687119285, 4.358898943540674, 4.47213595499958, 4.58257569495584, 4.69041575982343, 4.795831523312719, 4.898979485566356, 5.0, 5.0990195135927845, 5.196152422706632, 5.291502622129181, 5.385164807134504, 5.477225575051661, 5.5677643628300215, 5.656854249492381, 5.744562646538029, 5.830951894845301, 5.916079783099616, 6.0, 6.082762530298219, 6.164414002968976, 6.244997998398398, 6.324555320336759, 6.4031242374328485, 6.48074069840786, 6.557438524302, 6.6332495807108, 6.708203932499369, 6.782329983125268, 6.855654600401044, 6.928203230275509, 7.0, 7.0710678118654755, 7.14142842854285, 7.211102550927978, 7.280109889280518, 7.3484692283495345, 7.416198487095663, 7.483314773547883, 7.54983443527075, 7.615773105863909, 7.681145747868608, 7.745966692414834, 7.810249675906654, 7.874007874011811, 7.937253933193772, 8.0, 8.06225774829855, 8.12403840463596, 8.18535277187245, 8.246211251235321, 8.306623862918075, 8.366600265340756, 8.426149773176359, 8.48528137423857, 8.54400374531753, 8.602325267042627, 8.660254037844387, 8.717797887081348, 8.774964387392123, 8.831760866327848, 8.888194417315589, 8.94427190999916, 9.0, 9.055385138137417, 9.1104335791443, 9.16515138991168, 9.219544457292887, 9.273618495495704, 9.327379053088816, 9.38083151964686, 9.433981132056603, 9.486832980505138, 9.539392014169456, 9.591663046625438, 9.643650760992955, 9.695359714832659, 9.746794344808963, 9.797958971132712, 9.848857801796104, 9.899494936611665, 9.9498743710662]\n"
     ]
    }
   ],
   "source": [
    "#3. Calculate the square root of the first 100 numbers. Use sqrt as the name of the list.\n",
    "# You will probably need to install math library with pip and import it in this file.  \n",
    "# Remember to use list comprehensions and to print your results\n",
    "\n",
    "sqrt = [math.sqrt(i) for i in list1[:100]]\n",
    "print(sqrt)"
   ]
  },
  {
   "cell_type": "code",
   "execution_count": 6,
   "metadata": {},
   "outputs": [
    {
     "data": {
      "text/plain": [
       "[-10, -9, -8, -7, -6, -5, -4, -3, -2, -1, 0]"
      ]
     },
     "execution_count": 6,
     "metadata": {},
     "output_type": "execute_result"
    }
   ],
   "source": [
    "#4. Create this list [-10,-9,-8,-7,-6,-5,-4,-3,-2,-1,0]. Use my_list as the name of the list.\n",
    "# Remember to use list comprehensions and to print your results\n",
    "mylist = list(reversed([-i for i in range(0,11)]))\n",
    "mylist"
   ]
  },
  {
   "cell_type": "code",
   "execution_count": 7,
   "metadata": {},
   "outputs": [
    {
     "name": "stdout",
     "output_type": "stream",
     "text": [
      "[1, 3, 5, 7, 9, 11, 13, 15, 17, 19, 21, 23, 25, 27, 29, 31, 33, 35, 37, 39, 41, 43, 45, 47, 49, 51, 53, 55, 57, 59, 61, 63, 65, 67, 69, 71, 73, 75, 77, 79, 81, 83, 85, 87, 89, 91, 93, 95, 97, 99]\n"
     ]
    }
   ],
   "source": [
    "#5. Find the odd numbers from 1-100. Use odds as the name of the list. \n",
    "# Remember to use list comprehensions and to print your results\n",
    "odds = [i for i in list1[:100] if i%2 != 0]\n",
    "print(odds)"
   ]
  },
  {
   "cell_type": "code",
   "execution_count": 8,
   "metadata": {},
   "outputs": [
    {
     "name": "stdout",
     "output_type": "stream",
     "text": [
      "[0, 7, 14, 21, 28, 35, 42, 49, 56, 63, 70, 77, 84, 91, 98, 105, 112, 119, 126, 133, 140, 147, 154, 161, 168, 175, 182, 189, 196, 203, 210, 217, 224, 231, 238, 245, 252, 259, 266, 273, 280, 287, 294, 301, 308, 315, 322, 329, 336, 343, 350, 357, 364, 371, 378, 385, 392, 399, 406, 413, 420, 427, 434, 441, 448, 455, 462, 469, 476, 483, 490, 497, 504, 511, 518, 525, 532, 539, 546, 553, 560, 567, 574, 581, 588, 595, 602, 609, 616, 623, 630, 637, 644, 651, 658, 665, 672, 679, 686, 693, 700, 707, 714, 721, 728, 735, 742, 749, 756, 763, 770, 777, 784, 791, 798, 805, 812, 819, 826, 833, 840, 847, 854, 861, 868, 875, 882, 889, 896, 903, 910, 917, 924, 931, 938, 945, 952, 959, 966, 973, 980, 987, 994]\n"
     ]
    }
   ],
   "source": [
    "#6. Find all of the numbers from 1-1000 that are divisible by 7. Use divisible_by_seven as the name of the list.\n",
    "# Remember to use list comprehensions and to print your results\n",
    "\n",
    "divisible_by_seven = [i for i in list1[:1000] if i%7 == 0]\n",
    "print(divisible_by_seven)"
   ]
  },
  {
   "cell_type": "code",
   "execution_count": 9,
   "metadata": {},
   "outputs": [
    {
     "data": {
      "text/plain": [
       "'Fnd ll f th wrds n  strng tht r mnsyllbc'"
      ]
     },
     "execution_count": 9,
     "metadata": {},
     "output_type": "execute_result"
    }
   ],
   "source": [
    "#7. Remove all of the vowels in a string. Hint: make a list of the non-vowels. Use non_vowels as the name of the list.\n",
    "# Remember to use list comprehensions and to print your results\n",
    "# You can use the following test string but feel free to modify at your convenience\n",
    "\n",
    "teststring = 'Find all of the words in a string that are monosyllabic'\n",
    "vowels = ['a', 'e', 'o', 'i', 'u']\n",
    "\n",
    "new_string = ''.join([teststring[i] for i in range(len(teststring)) if teststring[i] not in vowels])\n",
    "new_string\n"
   ]
  },
  {
   "cell_type": "code",
   "execution_count": 18,
   "metadata": {},
   "outputs": [
    {
     "name": "stdout",
     "output_type": "stream",
     "text": [
      "['T', 'Q', 'B', 'F', 'J', 'O', 'T', 'L', 'D']\n"
     ]
    }
   ],
   "source": [
    "#8. Find the capital letters (and not white space) in the sentence 'The Quick Brown Fox Jumped Over The Lazy Dog'. \n",
    "# Use capital_letters as the name of the list.  \n",
    "# Remember to use list comprehensions and to print your results\n",
    "\n",
    "sentence = 'The Quick Brown Fox Jumped Over The Lazy Dog'\n",
    "capital_letters = [sentence[i] for i in range(len(sentence)) if sentence[i].isupper() == True]\n",
    "print(capital_letters)\n"
   ]
  },
  {
   "cell_type": "code",
   "execution_count": 24,
   "metadata": {},
   "outputs": [
    {
     "name": "stdout",
     "output_type": "stream",
     "text": [
      "['T', 'h', 'q', 'c', 'k', 'b', 'r', 'w', 'n', 'f', 'x', 'j', 'm', 'p', 'd', 'o', 'v', 'r', 't', 'h', 'l', 'z', 'y', 'd', 'g']\n"
     ]
    }
   ],
   "source": [
    "#9. Find all the consonants in the sentence 'The quick brown fox jumped over the lazy dog'.\n",
    "# Use consonants as the name of the list.\n",
    "# Remember to use list comprehensions and to print your results.\n",
    "\n",
    "sentence1 = 'The quick brown fox jumped over the lazy dog'\n",
    "consonants = [sentence1[i] for i in range(len(sentence1)) if (sentence[i] not in vowels) & (sentence[i] != ' ')]\n",
    "print(consonants)"
   ]
  },
  {
   "cell_type": "code",
   "execution_count": 76,
   "metadata": {},
   "outputs": [
    {
     "data": {
      "text/plain": [
       "['.DS_Store',\n",
       " '.git',\n",
       " '.gitignore',\n",
       " 'final-project',\n",
       " 'images',\n",
       " 'LICENSE',\n",
       " 'module-1',\n",
       " 'module-2',\n",
       " 'module-3',\n",
       " 'README.md']"
      ]
     },
     "execution_count": 76,
     "metadata": {},
     "output_type": "execute_result"
    }
   ],
   "source": [
    "#10. Find the folders you have in your madrid-oct-2018 local repo. Use files as name of the list.  \n",
    "# You will probably need to import os library and some of its modules. You will need to make some online research.\n",
    "# Remember to use list comprehensions and to print your results.\n",
    "import os\n",
    "\n",
    "folders = [i for i in os.listdir('/Users/laumaustupa/Desktop/Ironhack/Cours/data-labs')]\n",
    "folders\n"
   ]
  },
  {
   "cell_type": "code",
   "execution_count": 87,
   "metadata": {},
   "outputs": [
    {
     "data": {
      "text/plain": [
       "[[83, 73, 64, 95, 70, 56, 48, 65, 56, 5],\n",
       " [96, 9, 46, 11, 17, 0, 47, 4, 52, 6],\n",
       " [75, 36, 42, 44, 26, 48, 89, 75, 6, 84],\n",
       " [3, 86, 27, 24, 35, 24, 41, 99, 17, 19]]"
      ]
     },
     "execution_count": 87,
     "metadata": {},
     "output_type": "execute_result"
    }
   ],
   "source": [
    "#11. Create 4 lists of 10 random numbers between 0 and 100 each. Use random_lists as the name of the list. \n",
    "#You will probably need to import random module\n",
    "# Remember to use list comprehensions and to print your results\n",
    "\n",
    "import random\n",
    "\n",
    "random_lists = [[random.randint(0,100) for a in range(10)] for b in range(4)]\n",
    "random_lists"
   ]
  },
  {
   "cell_type": "code",
   "execution_count": 89,
   "metadata": {},
   "outputs": [
    {
     "data": {
      "text/plain": [
       "[1, 2, 3, 4, 5, 6, 7, 8, 9]"
      ]
     },
     "execution_count": 89,
     "metadata": {},
     "output_type": "execute_result"
    }
   ],
   "source": [
    "#12. Flatten the following list of lists. Use flatten_list as the name of the output.\n",
    "# Remember to use list comprehensions and to print your results\n",
    "\n",
    "list_of_lists = [[1,2,3],[4,5,6],[7,8,9]]\n",
    "flatten_list = [number for list in list_of_lists for number in list]\n",
    "flatten_list"
   ]
  },
  {
   "cell_type": "code",
   "execution_count": 94,
   "metadata": {},
   "outputs": [
    {
     "name": "stdout",
     "output_type": "stream",
     "text": [
      "[40.0, 20.0, 10.0, 30.0, 20.0, 20.0, 20.0, 20.0, 20.0, 30.0, 20.0, 30.0, 20.0, 30.0, 50.0, 10.0, 30.0, 20.0, 20.0, 20.0, 100.0, 100.0, 100.0, 100.0, 100.0, 100.0, 100.0, 100.0, 100.0, 100.0, 100.0]\n"
     ]
    }
   ],
   "source": [
    "#13. Convert the numbers of the following nested list to floats. Use floats as the name of the list. \n",
    "# Remember to use list comprehensions and to print your results.\n",
    "\n",
    "list_of_lists = [['40', '20', '10', '30'], ['20', '20', '20', '20', '20', '30', '20'], \\\n",
    "['30', '20', '30', '50', '10', '30', '20', '20', '20'], ['100', '100'], ['100', '100', '100', '100', '100'], \\\n",
    "['100', '100', '100', '100']]\n",
    "\n",
    "floats = [float(number) for list in list_of_lists for number in list]\n",
    "print(floats)"
   ]
  },
  {
   "cell_type": "code",
   "execution_count": null,
   "metadata": {},
   "outputs": [],
   "source": [
    "#14. Handle the exception thrown by the code below by using try and except blocks. \n",
    "\n",
    "for i in ['a','b','c']:\n",
    "    print i**2\n",
    "    \n"
   ]
  },
  {
   "cell_type": "code",
   "execution_count": null,
   "metadata": {},
   "outputs": [],
   "source": [
    "#15. Handle the exception thrown by the code below by using try and except blocks. \n",
    "#Then use a finally block to print 'All Done.'\n",
    "# Check in provided resources the type of error you may use. \n",
    "\n",
    "x = 5\n",
    "y = 0\n",
    "\n",
    "z = x/y"
   ]
  },
  {
   "cell_type": "code",
   "execution_count": null,
   "metadata": {},
   "outputs": [],
   "source": [
    "#16. Handle the exception thrown by the code below by using try and except blocks. \n",
    "# Check in provided resources the type of error you may use. \n",
    "\n",
    "abc=[10,20,20]\n",
    "print(abc[3])"
   ]
  },
  {
   "cell_type": "code",
   "execution_count": null,
   "metadata": {},
   "outputs": [],
   "source": [
    "#17. Handle at least two kind of different exceptions when dividing a couple of numbers provided by the user. \n",
    "# Hint: take a look on python input function. \n",
    "# Check in provided resources the type of error you may use. "
   ]
  },
  {
   "cell_type": "code",
   "execution_count": null,
   "metadata": {},
   "outputs": [],
   "source": [
    "#18. Handle the exception thrown by the code below by using try and except blocks. \n",
    "# Check in provided resources the type of error you may use. \n",
    "\n",
    "f = open('testfile','r')\n",
    "f.write('Test write this')"
   ]
  },
  {
   "cell_type": "code",
   "execution_count": null,
   "metadata": {},
   "outputs": [],
   "source": [
    "#19. Handle the exceptions that can be thrown by the code below using try and except blocks. \n",
    "#Hint: the file could not exist and the data could not be convertable to int\n",
    "\n",
    "fp = open('myfile.txt')\n",
    "    line = f.readline()\n",
    "    i = int(s.strip())"
   ]
  },
  {
   "cell_type": "code",
   "execution_count": null,
   "metadata": {},
   "outputs": [],
   "source": [
    "#20. The following function can only run on a Linux system. \n",
    "# The assert in this function will throw an exception if you call it on an operating system other than Linux. \n",
    "# Handle this exception using try and except blocks. \n",
    "# You will probably need to import sys \n",
    "\n",
    "def linux_interaction():\n",
    "    assert ('linux' in sys.platform), \"Function can only run on Linux systems.\"\n",
    "    print('Doing something.')"
   ]
  },
  {
   "cell_type": "code",
   "execution_count": null,
   "metadata": {},
   "outputs": [],
   "source": [
    "# Bonus Questions:\n",
    "\n",
    "# You will need to make some research on dictionary comprehension to solve the following questions\n",
    "\n",
    "#21.  Write a function that asks for an integer and prints the square of it. \n",
    "# Hint: we need to continually keep checking until we get an integer.\n",
    "# Use a while loop with a try,except, else block to account for incorrect inputs.\n"
   ]
  },
  {
   "cell_type": "code",
   "execution_count": null,
   "metadata": {},
   "outputs": [],
   "source": [
    "# 22. Find all of the numbers from 1-1000 that are divisible by any single digit besides 1 (2-9). \n",
    "# Use results as the name of the list "
   ]
  },
  {
   "cell_type": "code",
   "execution_count": null,
   "metadata": {},
   "outputs": [],
   "source": [
    "# 23. Define a customised exception to handle not accepted values. \n",
    "# You have the following user inputs and the Num_of_sections can not be less than 2.\n",
    "# Hint: Create a class derived from the pre-defined Exception class in Python\n",
    "\n",
    "Total_Marks = int(input(\"Enter Total Marks Scored: \")) \n",
    "Num_of_Sections = int(input(\"Enter Num of Sections: \"))\n",
    "\n",
    "\n"
   ]
  },
  {
   "cell_type": "code",
   "execution_count": null,
   "metadata": {},
   "outputs": [],
   "source": []
  }
 ],
 "metadata": {
  "kernelspec": {
   "display_name": "Python 3",
   "language": "python",
   "name": "python3"
  },
  "language_info": {
   "codemirror_mode": {
    "name": "ipython",
    "version": 3
   },
   "file_extension": ".py",
   "mimetype": "text/x-python",
   "name": "python",
   "nbconvert_exporter": "python",
   "pygments_lexer": "ipython3",
   "version": "3.7.3"
  }
 },
 "nbformat": 4,
 "nbformat_minor": 2
}
