{
 "cells": [
  {
   "cell_type": "code",
   "execution_count": 9,
   "metadata": {},
   "outputs": [
    {
     "data": {
      "text/plain": [
       "[5.0, 6.0, 17.0, 11.5]"
      ]
     },
     "execution_count": 9,
     "metadata": {},
     "output_type": "execute_result"
    }
   ],
   "source": [
    "#Mapping:\n",
    "#A function that divides a number by 2 and returns the result:\n",
    "def half(x):\n",
    "    return x / 2\n",
    "\n",
    "#Apply to list:\n",
    "l = [10, 12, 34, 23]\n",
    "map(half, l)\n",
    "\n",
    "#The map() function creates a map object which is an iterable object. \n",
    "#To create a new list, one option is to convert the iterable into a list.\n",
    "list(map(half, l))"
   ]
  },
  {
   "cell_type": "code",
   "execution_count": 11,
   "metadata": {},
   "outputs": [
    {
     "data": {
      "text/plain": [
       "[23]"
      ]
     },
     "execution_count": 11,
     "metadata": {},
     "output_type": "execute_result"
    }
   ],
   "source": [
    "#Filtering:\n",
    "#A function that returns true if a number is odd and false if it is even; Use a lambda expression for this:\n",
    "filter(lambda x: x % 2 == 1, l)\n",
    "\n",
    "#This returns an iterable, so need to cast it to a list:\n",
    "list(filter(lambda x: x % 2 == 1, l))"
   ]
  },
  {
   "cell_type": "code",
   "execution_count": 15,
   "metadata": {},
   "outputs": [
    {
     "data": {
      "text/plain": [
       "79"
      ]
     },
     "execution_count": 15,
     "metadata": {},
     "output_type": "execute_result"
    }
   ],
   "source": [
    "#Reducing:\n",
    "#A lambda expression that will take two elements and sum them:\n",
    "summation = lambda a, b: a + b\n",
    "\n",
    "#sum all the elements of the list:\n",
    "from functools import reduce \n",
    "l = [10, 12, 34, 23] \n",
    "reduce(lambda a, b: a + b, l)\n"
   ]
  },
  {
   "cell_type": "code",
   "execution_count": 16,
   "metadata": {},
   "outputs": [
    {
     "data": {
      "text/plain": [
       "34"
      ]
     },
     "execution_count": 16,
     "metadata": {},
     "output_type": "execute_result"
    }
   ],
   "source": [
    "#find maximum of a list:\n",
    "reduce(lambda a, b: a if a > b else b, l)"
   ]
  },
  {
   "cell_type": "code",
   "execution_count": 17,
   "metadata": {},
   "outputs": [
    {
     "data": {
      "text/html": [
       "<div>\n",
       "<style scoped>\n",
       "    .dataframe tbody tr th:only-of-type {\n",
       "        vertical-align: middle;\n",
       "    }\n",
       "\n",
       "    .dataframe tbody tr th {\n",
       "        vertical-align: top;\n",
       "    }\n",
       "\n",
       "    .dataframe thead th {\n",
       "        text-align: right;\n",
       "    }\n",
       "</style>\n",
       "<table border=\"1\" class=\"dataframe\">\n",
       "  <thead>\n",
       "    <tr style=\"text-align: right;\">\n",
       "      <th></th>\n",
       "      <th>a</th>\n",
       "      <th>b</th>\n",
       "      <th>c</th>\n",
       "    </tr>\n",
       "  </thead>\n",
       "  <tbody>\n",
       "    <tr>\n",
       "      <th>0</th>\n",
       "      <td>-0.920735</td>\n",
       "      <td>0.732034</td>\n",
       "      <td>-0.306059</td>\n",
       "    </tr>\n",
       "    <tr>\n",
       "      <th>1</th>\n",
       "      <td>1.352876</td>\n",
       "      <td>-0.990821</td>\n",
       "      <td>-1.869717</td>\n",
       "    </tr>\n",
       "    <tr>\n",
       "      <th>2</th>\n",
       "      <td>0.281068</td>\n",
       "      <td>0.983842</td>\n",
       "      <td>0.633769</td>\n",
       "    </tr>\n",
       "    <tr>\n",
       "      <th>3</th>\n",
       "      <td>-1.002031</td>\n",
       "      <td>0.765687</td>\n",
       "      <td>0.023947</td>\n",
       "    </tr>\n",
       "  </tbody>\n",
       "</table>\n",
       "</div>"
      ],
      "text/plain": [
       "          a         b         c\n",
       "0 -0.920735  0.732034 -0.306059\n",
       "1  1.352876 -0.990821 -1.869717\n",
       "2  0.281068  0.983842  0.633769\n",
       "3 -1.002031  0.765687  0.023947"
      ]
     },
     "execution_count": 17,
     "metadata": {},
     "output_type": "execute_result"
    }
   ],
   "source": [
    "#Functional Programming in Pandas:\n",
    "\n",
    "import numpy as np\n",
    "import pandas as pd\n",
    "\n",
    "df = pd.DataFrame(np.random.randn(4, 3), columns=['a', 'b', 'c'])\n",
    "df"
   ]
  },
  {
   "cell_type": "code",
   "execution_count": 18,
   "metadata": {},
   "outputs": [
    {
     "data": {
      "text/html": [
       "<div>\n",
       "<style scoped>\n",
       "    .dataframe tbody tr th:only-of-type {\n",
       "        vertical-align: middle;\n",
       "    }\n",
       "\n",
       "    .dataframe tbody tr th {\n",
       "        vertical-align: top;\n",
       "    }\n",
       "\n",
       "    .dataframe thead th {\n",
       "        text-align: right;\n",
       "    }\n",
       "</style>\n",
       "<table border=\"1\" class=\"dataframe\">\n",
       "  <thead>\n",
       "    <tr style=\"text-align: right;\">\n",
       "      <th></th>\n",
       "      <th>a</th>\n",
       "      <th>b</th>\n",
       "      <th>c</th>\n",
       "    </tr>\n",
       "  </thead>\n",
       "  <tbody>\n",
       "    <tr>\n",
       "      <th>0</th>\n",
       "      <td>-0.460367</td>\n",
       "      <td>0.366017</td>\n",
       "      <td>-0.153029</td>\n",
       "    </tr>\n",
       "    <tr>\n",
       "      <th>1</th>\n",
       "      <td>0.676438</td>\n",
       "      <td>-0.495410</td>\n",
       "      <td>-0.934859</td>\n",
       "    </tr>\n",
       "    <tr>\n",
       "      <th>2</th>\n",
       "      <td>0.140534</td>\n",
       "      <td>0.491921</td>\n",
       "      <td>0.316884</td>\n",
       "    </tr>\n",
       "    <tr>\n",
       "      <th>3</th>\n",
       "      <td>-0.501015</td>\n",
       "      <td>0.382843</td>\n",
       "      <td>0.011973</td>\n",
       "    </tr>\n",
       "  </tbody>\n",
       "</table>\n",
       "</div>"
      ],
      "text/plain": [
       "          a         b         c\n",
       "0 -0.460367  0.366017 -0.153029\n",
       "1  0.676438 -0.495410 -0.934859\n",
       "2  0.140534  0.491921  0.316884\n",
       "3 -0.501015  0.382843  0.011973"
      ]
     },
     "execution_count": 18,
     "metadata": {},
     "output_type": "execute_result"
    }
   ],
   "source": [
    "#Use the half() function defined earlier and apply it to every cell in the dataframe:\n",
    "df.apply(half)"
   ]
  },
  {
   "cell_type": "code",
   "execution_count": 19,
   "metadata": {},
   "outputs": [
    {
     "data": {
      "text/plain": [
       "a    2.354907\n",
       "b    1.974663\n",
       "c    2.503486\n",
       "dtype: float64"
      ]
     },
     "execution_count": 19,
     "metadata": {},
     "output_type": "execute_result"
    }
   ],
   "source": [
    "#Define an aggregate function that will return the range of a column \n",
    "#(the difference between the maximum and the minimum values):\n",
    "def range_func(x):\n",
    "    return max(x) - min(x)\n",
    "\n",
    "#Apply the function to dataframe; it will compute the range for each column by default:\n",
    "df.apply(range_func)"
   ]
  },
  {
   "cell_type": "code",
   "execution_count": null,
   "metadata": {},
   "outputs": [],
   "source": []
  }
 ],
 "metadata": {
  "kernelspec": {
   "display_name": "Python 3",
   "language": "python",
   "name": "python3"
  },
  "language_info": {
   "codemirror_mode": {
    "name": "ipython",
    "version": 3
   },
   "file_extension": ".py",
   "mimetype": "text/x-python",
   "name": "python",
   "nbconvert_exporter": "python",
   "pygments_lexer": "ipython3",
   "version": "3.7.3"
  }
 },
 "nbformat": 4,
 "nbformat_minor": 2
}
