{
 "cells": [
  {
   "cell_type": "code",
   "execution_count": 44,
   "metadata": {},
   "outputs": [],
   "source": [
    "from scipy.stats import binom\n",
    "from scipy.stats import norm\n",
    "from scipy.stats import poisson\n",
    "from scipy.stats import expon"
   ]
  },
  {
   "cell_type": "code",
   "execution_count": 5,
   "metadata": {},
   "outputs": [],
   "source": [
    "# Binomial law:\n",
    "# binom.pmf(x,n,p) : use pmf to estimate exact probability\n",
    "# Roulette:\n",
    "# x: number of times to win\n",
    "# n: number of games\n",
    "# p: probability to win 1 number out of 37 numbers\n",
    "# estimate the probability not to win\n",
    "\n",
    "prob0 = binom.pmf(0,10,1/37)"
   ]
  },
  {
   "cell_type": "code",
   "execution_count": 6,
   "metadata": {},
   "outputs": [
    {
     "data": {
      "text/plain": [
       "0.2396601251223156"
      ]
     },
     "execution_count": 6,
     "metadata": {},
     "output_type": "execute_result"
    }
   ],
   "source": [
    "# substract the probability to win 0 times from 1 (all other proabilities to win), gives the proability to win\n",
    "# once, twice, three times etc.\n",
    "\n",
    "1 - prob0"
   ]
  },
  {
   "cell_type": "code",
   "execution_count": 17,
   "metadata": {},
   "outputs": [
    {
     "data": {
      "text/plain": [
       "0.4012630607616211"
      ]
     },
     "execution_count": 17,
     "metadata": {},
     "output_type": "execute_result"
    }
   ],
   "source": [
    "# Have a bottle under 1L: \n",
    "# Outcome yes or no: use the binomial law to find the probability same as above\n",
    "\n",
    "prob1 = binom.pmf(0,10,0.05) #calculate the probability to find 0 bottles under 5% and have no fine\n",
    "1 - prob1  #remove the above from 1 to calculate probability to have a fine"
   ]
  },
  {
   "cell_type": "code",
   "execution_count": 28,
   "metadata": {},
   "outputs": [
    {
     "data": {
      "text/plain": [
       "0.15865525393145707"
      ]
     },
     "execution_count": 28,
     "metadata": {},
     "output_type": "execute_result"
    }
   ],
   "source": [
    "# Luggage:\n",
    "# norm.cdf(x,loc,scale): use cdf not pdf, because we want to find 20kg and more\n",
    "# loc: mean\n",
    "# scale: standard deviation\n",
    "\n",
    "lug20 = norm.cdf(20, 19, 1) #put 20 for x to find the chance of finding 20kg\n",
    "1 - lug20"
   ]
  },
  {
   "cell_type": "code",
   "execution_count": 35,
   "metadata": {},
   "outputs": [
    {
     "data": {
      "text/plain": [
       "0.029252688076961127"
      ]
     },
     "execution_count": 35,
     "metadata": {},
     "output_type": "execute_result"
    }
   ],
   "source": [
    "# Poisson distribution example:\n",
    "# B2B company sales:\n",
    "# poisson.cdf(x, mu, loc)\n",
    "# x = events to find\n",
    "# mu = average\n",
    "\n",
    "poisson.cdf(4, 10, 0) #calculates everything under or equal to 4"
   ]
  },
  {
   "cell_type": "code",
   "execution_count": 62,
   "metadata": {},
   "outputs": [
    {
     "data": {
      "text/plain": [
       "4.3800518767511676e-12"
      ]
     },
     "execution_count": 62,
     "metadata": {},
     "output_type": "execute_result"
    }
   ],
   "source": [
    "#Server:\n",
    "1 - poisson.cdf(1000, 800, 0) #we look for cumulative probablity for everything above 1000 (with average 800)\n"
   ]
  },
  {
   "cell_type": "code",
   "execution_count": 59,
   "metadata": {},
   "outputs": [
    {
     "data": {
      "text/plain": [
       "0.08786571270524225"
      ]
     },
     "execution_count": 59,
     "metadata": {},
     "output_type": "execute_result"
    }
   ],
   "source": [
    "#Exponential distribution:\n",
    "# B2B company sales:\n",
    "# expon.pdf(x, loc=0, scale=1)\n",
    "# x number of events to find\n",
    "# scale = 1/lambda\n",
    "# lambda is number of events per unit time= 10 sales in 30 days (10/30)\n",
    "\n",
    "expon.pdf(4, 0, 1/(10/30))"
   ]
  },
  {
   "cell_type": "code",
   "execution_count": null,
   "metadata": {},
   "outputs": [],
   "source": []
  }
 ],
 "metadata": {
  "kernelspec": {
   "display_name": "Python 3",
   "language": "python",
   "name": "python3"
  },
  "language_info": {
   "codemirror_mode": {
    "name": "ipython",
    "version": 3
   },
   "file_extension": ".py",
   "mimetype": "text/x-python",
   "name": "python",
   "nbconvert_exporter": "python",
   "pygments_lexer": "ipython3",
   "version": "3.7.3"
  }
 },
 "nbformat": 4,
 "nbformat_minor": 2
}
