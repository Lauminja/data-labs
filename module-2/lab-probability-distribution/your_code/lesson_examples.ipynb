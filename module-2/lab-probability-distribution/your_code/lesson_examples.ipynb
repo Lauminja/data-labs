{
 "cells": [
  {
   "cell_type": "code",
   "execution_count": 1,
   "metadata": {},
   "outputs": [],
   "source": [
    "from scipy.stats import binom\n",
    "from scipy.stats import norm\n",
    "from scipy.stats import poisson\n",
    "from scipy.stats import expon"
   ]
  },
  {
   "cell_type": "code",
   "execution_count": 2,
   "metadata": {},
   "outputs": [],
   "source": [
    "# Binomial law:\n",
    "\n",
    "# binom.pmf(x,n,p) : use pmf to estimate exact probability\n",
    "\n",
    "# Roulette:\n",
    "# your friend goes to the casino to play roulette (37 number roulette)\n",
    "# he decides to go full on one specific number\n",
    "# he will play 10 games no matter the outcome\n",
    "# winning 1 game is enough to be millionaire\n",
    "# what is the probability to win at least one game ?\n",
    "\n",
    "# x: number of times to win\n",
    "# n: number of games\n",
    "# p: probability to win 1 number out of 37 numbers\n",
    "# estimate the probability not to win\n",
    "\n",
    "prob0 = binom.pmf(0,10,1/37)"
   ]
  },
  {
   "cell_type": "code",
   "execution_count": 3,
   "metadata": {},
   "outputs": [
    {
     "data": {
      "text/plain": [
       "0.2396601251223156"
      ]
     },
     "execution_count": 3,
     "metadata": {},
     "output_type": "execute_result"
    }
   ],
   "source": [
    "# substract the probability to win 0 times from 1 (all other proabilities to win), gives the proability to win\n",
    "# once, twice, three times etc.\n",
    "\n",
    "1 - prob0"
   ]
  },
  {
   "cell_type": "code",
   "execution_count": 4,
   "metadata": {},
   "outputs": [
    {
     "data": {
      "text/plain": [
       "0.4012630607616211"
      ]
     },
     "execution_count": 4,
     "metadata": {},
     "output_type": "execute_result"
    }
   ],
   "source": [
    "# A government control will randomly select 10 bottles of our brand. \n",
    "# If there is one bottle containing we will receive a fine.\n",
    "# Remember : the CEO has ajusted the mean to contain 5% of bottles under a litre.\n",
    "# What is the probability to have a fine ?\n",
    "\n",
    "# Outcome yes or no: use the binomial law to find the probability same as above\n",
    "\n",
    "prob1 = binom.pmf(0,10,0.05) #calculate the probability to find 0 bottles under 5% and have no fine\n",
    "1 - prob1  #remove the above from 1 to calculate probability to have a fine"
   ]
  },
  {
   "cell_type": "code",
   "execution_count": 5,
   "metadata": {},
   "outputs": [
    {
     "data": {
      "text/plain": [
       "0.15865525393145707"
      ]
     },
     "execution_count": 5,
     "metadata": {},
     "output_type": "execute_result"
    }
   ],
   "source": [
    "# On an airplane, the weight of luggage follows a normal distribution with mean 19kg \n",
    "# and standard deviation 1kg. What is the proability of one luggage to be more than 20kg ?\n",
    "# On a flight with 100 passengers, what is the probability to have more than 2000kg luggage on board ?\n",
    "\n",
    "# norm.cdf(x,loc,scale): use cdf not pdf, because we want to find 20kg and more\n",
    "# loc: mean\n",
    "# scale: standard deviation\n",
    "\n",
    "lug20 = norm.cdf(20, 19, 1) #put 20 for x to find the chance of finding 20kg\n",
    "1 - lug20"
   ]
  },
  {
   "cell_type": "code",
   "execution_count": 6,
   "metadata": {},
   "outputs": [
    {
     "data": {
      "text/plain": [
       "0.029252688076961127"
      ]
     },
     "execution_count": 6,
     "metadata": {},
     "output_type": "execute_result"
    }
   ],
   "source": [
    "# Poisson distribution example:\n",
    "\n",
    "# On average a small B2B company makes 10 sales per month and the number of sales follows a Poisson distribution. \n",
    "# A minimum of 5 sales is needed to pay the rent and salaries. The company considers hiring somebody and want \n",
    "# to estimate the risk that in a certain month they cannot pay out their salaries. Estimate this probability.\n",
    "\n",
    "# poisson.cdf(x, mu, loc)\n",
    "# x = events to find\n",
    "# mu = average\n",
    "\n",
    "poisson.cdf(4, 10, 0) #calculates everything under or equal to 4"
   ]
  },
  {
   "cell_type": "code",
   "execution_count": 7,
   "metadata": {},
   "outputs": [
    {
     "data": {
      "text/plain": [
       "4.3800518767511676e-12"
      ]
     },
     "execution_count": 7,
     "metadata": {},
     "output_type": "execute_result"
    }
   ],
   "source": [
    "# A server is able to handle up to 1000 requests per minute. If more requests arrive, the server becomes too \n",
    "# slow for the service agreement and the company could get in trouble. Given that request arrival follows a \n",
    "# Poisson distribution with an event rate of 800 requests per minute, should the company be worried ?\n",
    "\n",
    "1 - poisson.cdf(1000, 800, 0) #we look for cumulative probablity for everything above 1000 (with average 800)\n"
   ]
  },
  {
   "cell_type": "code",
   "execution_count": 8,
   "metadata": {},
   "outputs": [
    {
     "data": {
      "text/plain": [
       "0.08786571270524225"
      ]
     },
     "execution_count": 8,
     "metadata": {},
     "output_type": "execute_result"
    }
   ],
   "source": [
    "#Exponential distribution:\n",
    "# On average a small B2B company makes 10 sales per 30 days and the number of sales follows a Poisson \n",
    "# distribution. The CEO is getting stressed because it has been 4 days without any sales. Give the probability \n",
    "# of this number of days without sales to advice the CEO whether his stress is legitimate.\n",
    "\n",
    "# expon.pdf(x, loc=0, scale=1)\n",
    "# x number of events to find\n",
    "# scale = 1/lambda\n",
    "# lambda is number of events per unit time= 10 sales in 30 days (10/30)\n",
    "\n",
    "expon.pdf(4, 0, 1/(10/30))"
   ]
  },
  {
   "cell_type": "code",
   "execution_count": null,
   "metadata": {},
   "outputs": [],
   "source": []
  }
 ],
 "metadata": {
  "kernelspec": {
   "display_name": "Python 3",
   "language": "python",
   "name": "python3"
  },
  "language_info": {
   "codemirror_mode": {
    "name": "ipython",
    "version": 3
   },
   "file_extension": ".py",
   "mimetype": "text/x-python",
   "name": "python",
   "nbconvert_exporter": "python",
   "pygments_lexer": "ipython3",
   "version": "3.7.3"
  }
 },
 "nbformat": 4,
 "nbformat_minor": 2
}
