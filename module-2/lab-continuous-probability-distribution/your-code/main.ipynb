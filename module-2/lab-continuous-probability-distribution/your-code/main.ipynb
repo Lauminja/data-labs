{
 "cells": [
  {
   "cell_type": "markdown",
   "metadata": {},
   "source": [
    "# Before your start:\n",
    "\n",
    "    Read the README.md file\n",
    "    Comment as much as you can and use the resources (README.md file)\n",
    "    Happy learning!"
   ]
  },
  {
   "cell_type": "markdown",
   "metadata": {},
   "source": [
    "In this exercise, we  will generate random numbers from the continuous disributions we learned in the lesson. There are two ways to generate random numbers:\n",
    "\n",
    "1. Using the numpy library \n",
    "1. using the Scipy library \n",
    "\n",
    "Use either or both of the lbraries in this exercise."
   ]
  },
  {
   "cell_type": "markdown",
   "metadata": {},
   "source": [
    "## Uniform Distribution\n",
    "\n",
    "To generate uniform random numbers between any two given values using scipy, we can either use the following code or the code that we have\n",
    "discussed in class:"
   ]
  },
  {
   "cell_type": "code",
   "execution_count": 1,
   "metadata": {},
   "outputs": [],
   "source": [
    "import numpy as np\n",
    "import math\n",
    "\n",
    "%matplotlib inline\n",
    "import matplotlib.pyplot as plt\n",
    "\n",
    "from scipy.stats import uniform\n",
    "from scipy.stats import norm"
   ]
  },
  {
   "cell_type": "code",
   "execution_count": 2,
   "metadata": {},
   "outputs": [
    {
     "name": "stdout",
     "output_type": "stream",
     "text": [
      "[2.97905203 2.71265236 2.43128739 2.56379894 2.73457011 2.31224724\n",
      " 2.65397658 2.06156467 2.18292449 2.76602165]\n"
     ]
    }
   ],
   "source": [
    "x = uniform.rvs(size=10)\n",
    "a = 2\n",
    "b = 3\n",
    "randoms  = a + (b-a)*x\n",
    "print(randoms)"
   ]
  },
  {
   "cell_type": "markdown",
   "metadata": {},
   "source": [
    "**Your task:**\n",
    "\n",
    "1. Based on the code above, write a function that generates uniformly distributed random numbers. There are several requirements for your function:\n",
    "    * It should accept 3 parameters: \n",
    "        * `bottom` - the lower boundary of the generated numbers\n",
    "        * `ceiling` - the upper boundary of the generated numbers\n",
    "        * `count` - how many numbers to generate\n",
    "    * It should return an array of uniformly distributed random numbers\n",
    "\n",
    "1. Call your function with 2 sets of params below:\n",
    "    * bottom=10, ceiling=15, count=100\n",
    "    * bottom=10, ceiling=60, count=1,000\n",
    "\n",
    "1. Plot the uniform distributions generated above using histograms, where x axis is the value and y axis is the count. Let the histogram's number of bins be 10.\n",
    "\n",
    "Your output should look like below:\n",
    "\n",
    "![uniform distribution](ud.png)"
   ]
  },
  {
   "cell_type": "code",
   "execution_count": 3,
   "metadata": {},
   "outputs": [],
   "source": [
    "# your code here\n",
    "\n",
    "def rand_num(bottom, ceiling, count):\n",
    "    x = uniform.rvs(size=count)\n",
    "    a = bottom\n",
    "    b = ceiling\n",
    "    randoms  = a + (b-a)*x\n",
    "    return randoms"
   ]
  },
  {
   "cell_type": "code",
   "execution_count": 4,
   "metadata": {},
   "outputs": [
    {
     "data": {
      "image/png": "[encoded data removed]",
      "text/plain": [
       "<Figure size 432x288 with 2 Axes>"
      ]
     },
     "metadata": {
      "needs_background": "light"
     },
     "output_type": "display_data"
    }
   ],
   "source": [
    "x = rand_num(10,15,100)\n",
    "x1 = rand_num(10,60,1000)\n",
    "\n",
    "plt.subplot(1,2,1)\n",
    "plt.hist(x, bins=10)\n",
    "\n",
    "plt.subplot(1,2,2)\n",
    "plt.hist(x1, bins=10)\n",
    "\n",
    "plt.show()"
   ]
  },
  {
   "cell_type": "markdown",
   "metadata": {},
   "source": [
    "How are the two distributions different?"
   ]
  },
  {
   "cell_type": "code",
   "execution_count": 5,
   "metadata": {},
   "outputs": [],
   "source": [
    "# your answer below\n",
    "\n",
    "# The second distribution with 1000 values tends to be more homogenious than the one with 100 values; meaning\n",
    "# that in the second distribution each bin has similar number of values in it and therefore we are getting\n",
    "# closer to a uniform distribution when plotting more values."
   ]
  },
  {
   "cell_type": "markdown",
   "metadata": {},
   "source": [
    "## Normal Distribution\n",
    "\n",
    "1. In the same way in the Uniform Distribution challenge, write a function that generates normally distributed random numbers.\n",
    "1. Generate 1,000 normally distributed numbers with the average of 10 and standard deviation of 1\n",
    "1. Generate 1,000 normally distributed numbers with the average of 10 and standard deviation of 50\n",
    "2. Plot the distributions of the data generated.\n",
    "\n",
    "Expected output:\n",
    "\n",
    "![normal distribution](nd.png)"
   ]
  },
  {
   "cell_type": "code",
   "execution_count": 30,
   "metadata": {},
   "outputs": [],
   "source": [
    "# your code here\n",
    "\n",
    "def rand_norm(mean, std, count):\n",
    "    randoms = np.random.normal(mean, std, count)\n",
    "    return randoms"
   ]
  },
  {
   "cell_type": "code",
   "execution_count": 31,
   "metadata": {},
   "outputs": [],
   "source": [
    "#Generate 1,000 normally distributed numbers with the average of 10 and standard deviation of 1\n",
    "#Generate 1,000 normally distributed numbers with the average of 10 and standard deviation of 50\n",
    "\n",
    "std1=rand_norm(10,1,1000)\n",
    "std50=rand_norm(10,50,1000)"
   ]
  },
  {
   "cell_type": "code",
   "execution_count": 32,
   "metadata": {},
   "outputs": [
    {
     "data": {
      "text/plain": [
       "(array([ 10.,  26.,  77., 186., 243., 239., 136.,  54.,  23.,   6.]),\n",
       " array([-138.02390436, -107.18611988,  -76.3483354 ,  -45.51055092,\n",
       "         -14.67276644,   16.16501804,   47.00280252,   77.84058701,\n",
       "         108.67837149,  139.51615597,  170.35394045]),\n",
       " <a list of 10 Patch objects>)"
      ]
     },
     "execution_count": 32,
     "metadata": {},
     "output_type": "execute_result"
    },
    {
     "data": {
      "image/png": "[encoded data removed]",
      "text/plain": [
       "<Figure size 432x288 with 2 Axes>"
      ]
     },
     "metadata": {
      "needs_background": "light"
     },
     "output_type": "display_data"
    }
   ],
   "source": [
    "#Plot the distributions of the data generated.\n",
    "\n",
    "plt.subplot(1,2,1)\n",
    "plt.hist(std1)\n",
    "\n",
    "plt.subplot(1,2,2)\n",
    "plt.hist(std50)"
   ]
  },
  {
   "cell_type": "markdown",
   "metadata": {},
   "source": [
    "How are the two distributions different?"
   ]
  },
  {
   "cell_type": "code",
   "execution_count": 9,
   "metadata": {},
   "outputs": [],
   "source": [
    "# your answer below\n",
    "# In the first histogram with standard deviation of 1, most of the values are around 10, while\n",
    "# the histogram with standard deviation of 50 has most of the values distributed around 0."
   ]
  },
  {
   "cell_type": "markdown",
   "metadata": {},
   "source": [
    "## Normal Distribution of Real Data\n",
    "\n",
    "In this challenge we are going to take a look the real data. We will use vehicles.csv file for this exercise"
   ]
  },
  {
   "cell_type": "markdown",
   "metadata": {},
   "source": [
    "First import vehicles.csv.\n",
    "Then plot the histograms for the following variables:\n",
    "\n",
    "1. Fuel Barrels/Year"
   ]
  },
  {
   "cell_type": "code",
   "execution_count": 10,
   "metadata": {},
   "outputs": [
    {
     "data": {
      "text/plain": [
       "<matplotlib.axes._subplots.AxesSubplot at 0x1a2292b978>"
      ]
     },
     "execution_count": 10,
     "metadata": {},
     "output_type": "execute_result"
    },
    {
     "data": {
      "image/png": "[encoded data removed]",
      "text/plain": [
       "<Figure size 432x288 with 1 Axes>"
      ]
     },
     "metadata": {
      "needs_background": "light"
     },
     "output_type": "display_data"
    }
   ],
   "source": [
    "# your code here\n",
    "\n",
    "import pandas as pd\n",
    "vehicles = pd.read_csv('./vehicles.csv')\n",
    "vehicles['Fuel Barrels/Year'].hist()"
   ]
  },
  {
   "cell_type": "markdown",
   "metadata": {},
   "source": [
    "2. CO2 Emission Grams/Mile "
   ]
  },
  {
   "cell_type": "code",
   "execution_count": 11,
   "metadata": {},
   "outputs": [
    {
     "data": {
      "text/plain": [
       "<matplotlib.axes._subplots.AxesSubplot at 0x1a240619e8>"
      ]
     },
     "execution_count": 11,
     "metadata": {},
     "output_type": "execute_result"
    },
    {
     "data": {
      "image/png": "[encoded data removed]",
      "text/plain": [
       "<Figure size 432x288 with 1 Axes>"
      ]
     },
     "metadata": {
      "needs_background": "light"
     },
     "output_type": "display_data"
    }
   ],
   "source": [
    "# your code here\n",
    "vehicles['CO2 Emission Grams/Mile'].hist()"
   ]
  },
  {
   "cell_type": "markdown",
   "metadata": {},
   "source": [
    "3. Combined MPG"
   ]
  },
  {
   "cell_type": "code",
   "execution_count": 33,
   "metadata": {},
   "outputs": [
    {
     "data": {
      "text/plain": [
       "<matplotlib.axes._subplots.AxesSubplot at 0x1a235c0da0>"
      ]
     },
     "execution_count": 33,
     "metadata": {},
     "output_type": "execute_result"
    },
    {
     "data": {
      "image/png": "[encoded data removed]",
      "text/plain": [
       "<Figure size 432x288 with 1 Axes>"
      ]
     },
     "metadata": {
      "needs_background": "light"
     },
     "output_type": "display_data"
    }
   ],
   "source": [
    "# your code here\n",
    "vehicles['Combined MPG'].hist()"
   ]
  },
  {
   "cell_type": "markdown",
   "metadata": {},
   "source": [
    "Which one(s) of the variables are nearly normally distributed? How do you know?"
   ]
  },
  {
   "cell_type": "code",
   "execution_count": 13,
   "metadata": {},
   "outputs": [],
   "source": [
    "# your answer here\n",
    "\n",
    "# Fuel Barrels/Year, as the curve the histogram is forming has almost identical amount of values on both sides.\n",
    "# For other two variables there tend to be more outliers on the right side."
   ]
  },
  {
   "cell_type": "markdown",
   "metadata": {},
   "source": [
    "## Exponential Distribution"
   ]
  },
  {
   "cell_type": "markdown",
   "metadata": {},
   "source": [
    "1. Using `numpy.random.exponential`, create a function that returns a list of numbers exponentially distributed with the mean of 10. \n",
    "\n",
    "1. Use the function to generate two number sequences with the size of 1 and 100.\n",
    "\n",
    "1. Plot the distributions as histograms with the nubmer of bins as 100.\n",
    "\n",
    "Your output should look like below:\n",
    "\n",
    "![exponential distribution](ed.png)"
   ]
  },
  {
   "cell_type": "code",
   "execution_count": 23,
   "metadata": {},
   "outputs": [
    {
     "data": {
      "text/plain": [
       "(array([69., 73., 64., 69., 46., 57., 41., 46., 33., 40., 38., 26., 18.,\n",
       "        32., 23., 24., 14., 17., 24., 15., 14., 11., 13., 12., 14.,  5.,\n",
       "         7., 12., 13., 10.,  3.,  5.,  5.,  5.,  9.,  5.,  6.,  6.,  6.,\n",
       "         4.,  4.,  5.,  4.,  4.,  2.,  1.,  2.,  4.,  2.,  2.,  1.,  1.,\n",
       "         2.,  3.,  3.,  2.,  3.,  0.,  1.,  2.,  3.,  1.,  0.,  0.,  1.,\n",
       "         2.,  0.,  0.,  2.,  0.,  2.,  3.,  0.,  0.,  0.,  0.,  0.,  0.,\n",
       "         0.,  0.,  0.,  0.,  2.,  0.,  0.,  0.,  0.,  0.,  0.,  0.,  0.,\n",
       "         0.,  0.,  0.,  1.,  0.,  0.,  0.,  0.,  1.]),\n",
       " array([1.13355465e-04, 7.17251114e-03, 1.42316668e-02, 2.12908225e-02,\n",
       "        2.83499782e-02, 3.54091338e-02, 4.24682895e-02, 4.95274452e-02,\n",
       "        5.65866008e-02, 6.36457565e-02, 7.07049122e-02, 7.77640678e-02,\n",
       "        8.48232235e-02, 9.18823792e-02, 9.89415349e-02, 1.06000691e-01,\n",
       "        1.13059846e-01, 1.20119002e-01, 1.27178158e-01, 1.34237313e-01,\n",
       "        1.41296469e-01, 1.48355625e-01, 1.55414780e-01, 1.62473936e-01,\n",
       "        1.69533092e-01, 1.76592247e-01, 1.83651403e-01, 1.90710559e-01,\n",
       "        1.97769714e-01, 2.04828870e-01, 2.11888026e-01, 2.18947181e-01,\n",
       "        2.26006337e-01, 2.33065493e-01, 2.40124648e-01, 2.47183804e-01,\n",
       "        2.54242960e-01, 2.61302115e-01, 2.68361271e-01, 2.75420427e-01,\n",
       "        2.82479582e-01, 2.89538738e-01, 2.96597894e-01, 3.03657049e-01,\n",
       "        3.10716205e-01, 3.17775361e-01, 3.24834516e-01, 3.31893672e-01,\n",
       "        3.38952828e-01, 3.46011983e-01, 3.53071139e-01, 3.60130295e-01,\n",
       "        3.67189450e-01, 3.74248606e-01, 3.81307762e-01, 3.88366917e-01,\n",
       "        3.95426073e-01, 4.02485229e-01, 4.09544384e-01, 4.16603540e-01,\n",
       "        4.23662696e-01, 4.30721851e-01, 4.37781007e-01, 4.44840163e-01,\n",
       "        4.51899318e-01, 4.58958474e-01, 4.66017630e-01, 4.73076785e-01,\n",
       "        4.80135941e-01, 4.87195097e-01, 4.94254252e-01, 5.01313408e-01,\n",
       "        5.08372564e-01, 5.15431719e-01, 5.22490875e-01, 5.29550031e-01,\n",
       "        5.36609186e-01, 5.43668342e-01, 5.50727498e-01, 5.57786653e-01,\n",
       "        5.64845809e-01, 5.71904965e-01, 5.78964121e-01, 5.86023276e-01,\n",
       "        5.93082432e-01, 6.00141588e-01, 6.07200743e-01, 6.14259899e-01,\n",
       "        6.21319055e-01, 6.28378210e-01, 6.35437366e-01, 6.42496522e-01,\n",
       "        6.49555677e-01, 6.56614833e-01, 6.63673989e-01, 6.70733144e-01,\n",
       "        6.77792300e-01, 6.84851456e-01, 6.91910611e-01, 6.98969767e-01,\n",
       "        7.06028923e-01]),\n",
       " <a list of 100 Patch objects>)"
      ]
     },
     "execution_count": 23,
     "metadata": {},
     "output_type": "execute_result"
    },
    {
     "data": {
      "image/png": "[encoded data removed]",
      "text/plain": [
       "<Figure size 432x288 with 2 Axes>"
      ]
     },
     "metadata": {
      "needs_background": "light"
     },
     "output_type": "display_data"
    }
   ],
   "source": [
    "# your code here\n",
    "\n",
    "def rand_exp(scale,size):\n",
    "    return np.random.exponential(scale,size=size) #scale = 1/ event rate\n",
    "\n",
    "exp10 = rand_exp(1/10,100)\n",
    "exp100 = rand_exp(1/10,1000)\n",
    "\n",
    "plt.subplot(1,2,1)\n",
    "plt.hist(exp10, bins=10)\n",
    "\n",
    "plt.subplot(1,2,2)\n",
    "plt.hist(exp100, bins=100)"
   ]
  },
  {
   "cell_type": "markdown",
   "metadata": {},
   "source": [
    "How are the two distributions different?"
   ]
  },
  {
   "cell_type": "code",
   "execution_count": 15,
   "metadata": {},
   "outputs": [],
   "source": [
    "# your answer here\n",
    "\n",
    "#The more values there are in the data set, the further on the right side we can find some values."
   ]
  },
  {
   "cell_type": "markdown",
   "metadata": {},
   "source": [
    "## Exponential Distribution of Real Data\n",
    "\n",
    "Suppose that the amount of time one spends in a bank is exponentially distributed with mean as 10 minutes (i.e. λ = 1/10). What is the probability that a customer will spend less than fifteen minutes in the bank? \n",
    "\n",
    "Write a code in python to solve this problem"
   ]
  },
  {
   "cell_type": "code",
   "execution_count": 35,
   "metadata": {},
   "outputs": [
    {
     "data": {
      "text/plain": [
       "0.7534030360583935"
      ]
     },
     "execution_count": 35,
     "metadata": {},
     "output_type": "execute_result"
    }
   ],
   "source": [
    "# your answer here\n",
    "# Hint: This is same as saying P(x<15)\n",
    "from scipy.stats import expon\n",
    "\n",
    "expon.cdf(14, scale = 1/(1/10)) #lambda is 1 costumer per 10 minutes\n",
    "\n",
    "# cdf= cumulative distribution from left to the right; here from 0 to 15. We use 14, as we are looking for <15."
   ]
  },
  {
   "cell_type": "markdown",
   "metadata": {},
   "source": [
    "What is the probability that the customer will spend more than 15 minutes"
   ]
  },
  {
   "cell_type": "code",
   "execution_count": 29,
   "metadata": {},
   "outputs": [
    {
     "data": {
      "text/plain": [
       "0.2231301601484298"
      ]
     },
     "execution_count": 29,
     "metadata": {},
     "output_type": "execute_result"
    }
   ],
   "source": [
    "# your answer here\n",
    "1 - expon.cdf(15, 0, 1/(1/10)) #the oposite of above, but we also exclude 15, as we are looking for >15."
   ]
  },
  {
   "cell_type": "code",
   "execution_count": null,
   "metadata": {},
   "outputs": [],
   "source": [
    "\n",
    "\n"
   ]
  }
 ],
 "metadata": {
  "kernelspec": {
   "display_name": "Python 3",
   "language": "python",
   "name": "python3"
  },
  "language_info": {
   "codemirror_mode": {
    "name": "ipython",
    "version": 3
   },
   "file_extension": ".py",
   "mimetype": "text/x-python",
   "name": "python",
   "nbconvert_exporter": "python",
   "pygments_lexer": "ipython3",
   "version": "3.7.3"
  }
 },
 "nbformat": 4,
 "nbformat_minor": 2
}
