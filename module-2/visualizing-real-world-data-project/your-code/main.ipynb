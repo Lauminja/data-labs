{
 "cells": [
  {
   "cell_type": "markdown",
   "metadata": {},
   "source": [
    "# Guided Project: Visualizing Real World Data"
   ]
  },
  {
   "cell_type": "markdown",
   "metadata": {},
   "source": [
    "- Find a data set to process: a great place to start looking would be [Awesome Public Data Sets](https://github.com/awesomedata/awesome-public-datasets), [Kaggle Data Sets](https://www.kaggle.com/datasets), or the [UCI Machine Learning Repository](https://archive.ics.uci.edu/ml/index.php). A great new source is the [Google dataset search](https://toolbox.google.com/datasetsearch).\n",
    "- Perform Preliminary Analysis: use functions like `describe` to help guide you to the correct insight and data visualization.\n",
    "- Using your data, create a minimum of one scatter plot, one histogram, one box plot and one bar graph (you can add more than one visualization of each type of you choose). Graphs should contain the proper labeling of the x and y axis when appropriate as well as a title for the graph.\n",
    "- Explain what insight or information is inferred from these visualizations. The explanation should be in the notebook in markdown cells.\n",
    "- Create a data folder containing your data set."
   ]
  },
  {
   "cell_type": "code",
   "execution_count": 2,
   "metadata": {},
   "outputs": [],
   "source": [
    "import numpy as np\n",
    "import pandas as pd\n",
    "import matplotlib.pyplot as plt\n",
    "import seaborn as sns\n",
    "%matplotlib inline"
   ]
  },
  {
   "cell_type": "code",
   "execution_count": 3,
   "metadata": {
    "scrolled": true
   },
   "outputs": [
    {
     "data": {
      "text/html": [
       "<div>\n",
       "<style scoped>\n",
       "    .dataframe tbody tr th:only-of-type {\n",
       "        vertical-align: middle;\n",
       "    }\n",
       "\n",
       "    .dataframe tbody tr th {\n",
       "        vertical-align: top;\n",
       "    }\n",
       "\n",
       "    .dataframe thead th {\n",
       "        text-align: right;\n",
       "    }\n",
       "</style>\n",
       "<table border=\"1\" class=\"dataframe\">\n",
       "  <thead>\n",
       "    <tr style=\"text-align: right;\">\n",
       "      <th></th>\n",
       "      <th>Unnamed: 0</th>\n",
       "      <th>Unnamed: 0.1</th>\n",
       "      <th>shipmode</th>\n",
       "      <th>sales</th>\n",
       "      <th>quantity</th>\n",
       "      <th>discount</th>\n",
       "      <th>profit</th>\n",
       "      <th>segment</th>\n",
       "      <th>region</th>\n",
       "      <th>state</th>\n",
       "      <th>...</th>\n",
       "      <th>category</th>\n",
       "      <th>orderdate_day</th>\n",
       "      <th>orderdate_weekday</th>\n",
       "      <th>orderdate_month</th>\n",
       "      <th>orderdate_year</th>\n",
       "      <th>shipdate_day</th>\n",
       "      <th>shipdate_weekday</th>\n",
       "      <th>shipdate_month</th>\n",
       "      <th>shipdate_year</th>\n",
       "      <th>preparationtime</th>\n",
       "    </tr>\n",
       "  </thead>\n",
       "  <tbody>\n",
       "    <tr>\n",
       "      <th>0</th>\n",
       "      <td>0</td>\n",
       "      <td>1</td>\n",
       "      <td>First Class</td>\n",
       "      <td>825.174</td>\n",
       "      <td>9</td>\n",
       "      <td>0.30</td>\n",
       "      <td>-117.8820</td>\n",
       "      <td>Corporate</td>\n",
       "      <td>Central</td>\n",
       "      <td>Illinois</td>\n",
       "      <td>...</td>\n",
       "      <td>Furniture</td>\n",
       "      <td>4</td>\n",
       "      <td>Sonntag</td>\n",
       "      <td>9</td>\n",
       "      <td>2016</td>\n",
       "      <td>6</td>\n",
       "      <td>Dienstag</td>\n",
       "      <td>9</td>\n",
       "      <td>2016</td>\n",
       "      <td>2</td>\n",
       "    </tr>\n",
       "    <tr>\n",
       "      <th>1</th>\n",
       "      <td>1</td>\n",
       "      <td>2</td>\n",
       "      <td>Standard Class</td>\n",
       "      <td>411.332</td>\n",
       "      <td>4</td>\n",
       "      <td>0.15</td>\n",
       "      <td>-4.8392</td>\n",
       "      <td>Consumer</td>\n",
       "      <td>West</td>\n",
       "      <td>California</td>\n",
       "      <td>...</td>\n",
       "      <td>Furniture</td>\n",
       "      <td>5</td>\n",
       "      <td>Freitag</td>\n",
       "      <td>9</td>\n",
       "      <td>2014</td>\n",
       "      <td>9</td>\n",
       "      <td>Dienstag</td>\n",
       "      <td>9</td>\n",
       "      <td>2014</td>\n",
       "      <td>4</td>\n",
       "    </tr>\n",
       "    <tr>\n",
       "      <th>2</th>\n",
       "      <td>2</td>\n",
       "      <td>3</td>\n",
       "      <td>Same Day</td>\n",
       "      <td>411.332</td>\n",
       "      <td>4</td>\n",
       "      <td>0.15</td>\n",
       "      <td>-4.8392</td>\n",
       "      <td>Home Office</td>\n",
       "      <td>West</td>\n",
       "      <td>California</td>\n",
       "      <td>...</td>\n",
       "      <td>Furniture</td>\n",
       "      <td>28</td>\n",
       "      <td>Donnerstag</td>\n",
       "      <td>11</td>\n",
       "      <td>2013</td>\n",
       "      <td>28</td>\n",
       "      <td>Donnerstag</td>\n",
       "      <td>11</td>\n",
       "      <td>2013</td>\n",
       "      <td>0</td>\n",
       "    </tr>\n",
       "    <tr>\n",
       "      <th>3</th>\n",
       "      <td>3</td>\n",
       "      <td>4</td>\n",
       "      <td>First Class</td>\n",
       "      <td>241.960</td>\n",
       "      <td>2</td>\n",
       "      <td>0.00</td>\n",
       "      <td>33.8744</td>\n",
       "      <td>Consumer</td>\n",
       "      <td>South</td>\n",
       "      <td>Louisiana</td>\n",
       "      <td>...</td>\n",
       "      <td>Furniture</td>\n",
       "      <td>30</td>\n",
       "      <td>Montag</td>\n",
       "      <td>5</td>\n",
       "      <td>2016</td>\n",
       "      <td>31</td>\n",
       "      <td>Dienstag</td>\n",
       "      <td>5</td>\n",
       "      <td>2016</td>\n",
       "      <td>1</td>\n",
       "    </tr>\n",
       "    <tr>\n",
       "      <th>4</th>\n",
       "      <td>4</td>\n",
       "      <td>5</td>\n",
       "      <td>Standard Class</td>\n",
       "      <td>341.960</td>\n",
       "      <td>2</td>\n",
       "      <td>0.00</td>\n",
       "      <td>78.6508</td>\n",
       "      <td>Home Office</td>\n",
       "      <td>East</td>\n",
       "      <td>Rhode Island</td>\n",
       "      <td>...</td>\n",
       "      <td>Furniture</td>\n",
       "      <td>31</td>\n",
       "      <td>Dienstag</td>\n",
       "      <td>12</td>\n",
       "      <td>2013</td>\n",
       "      <td>7</td>\n",
       "      <td>Dienstag</td>\n",
       "      <td>1</td>\n",
       "      <td>2014</td>\n",
       "      <td>7</td>\n",
       "    </tr>\n",
       "  </tbody>\n",
       "</table>\n",
       "<p>5 rows × 21 columns</p>\n",
       "</div>"
      ],
      "text/plain": [
       "   Unnamed: 0  Unnamed: 0.1        shipmode    sales  quantity  discount  \\\n",
       "0           0             1     First Class  825.174         9      0.30   \n",
       "1           1             2  Standard Class  411.332         4      0.15   \n",
       "2           2             3        Same Day  411.332         4      0.15   \n",
       "3           3             4     First Class  241.960         2      0.00   \n",
       "4           4             5  Standard Class  341.960         2      0.00   \n",
       "\n",
       "     profit      segment   region         state  ...   category orderdate_day  \\\n",
       "0 -117.8820    Corporate  Central      Illinois  ...  Furniture             4   \n",
       "1   -4.8392     Consumer     West    California  ...  Furniture             5   \n",
       "2   -4.8392  Home Office     West    California  ...  Furniture            28   \n",
       "3   33.8744     Consumer    South     Louisiana  ...  Furniture            30   \n",
       "4   78.6508  Home Office     East  Rhode Island  ...  Furniture            31   \n",
       "\n",
       "   orderdate_weekday orderdate_month  orderdate_year  shipdate_day  \\\n",
       "0            Sonntag               9            2016             6   \n",
       "1            Freitag               9            2014             9   \n",
       "2         Donnerstag              11            2013            28   \n",
       "3             Montag               5            2016            31   \n",
       "4           Dienstag              12            2013             7   \n",
       "\n",
       "   shipdate_weekday shipdate_month  shipdate_year  preparationtime  \n",
       "0          Dienstag              9           2016                2  \n",
       "1          Dienstag              9           2014                4  \n",
       "2        Donnerstag             11           2013                0  \n",
       "3          Dienstag              5           2016                1  \n",
       "4          Dienstag              1           2014                7  \n",
       "\n",
       "[5 rows x 21 columns]"
      ]
     },
     "execution_count": 3,
     "metadata": {},
     "output_type": "execute_result"
    }
   ],
   "source": [
    "data = pd.read_csv('../data/data_p.csv')\n",
    "data.head()"
   ]
  },
  {
   "cell_type": "code",
   "execution_count": 4,
   "metadata": {},
   "outputs": [],
   "source": [
    "data = data.drop(['Unnamed: 0', 'Unnamed: 0.1'], axis=1)"
   ]
  },
  {
   "cell_type": "code",
   "execution_count": 5,
   "metadata": {},
   "outputs": [
    {
     "data": {
      "text/plain": [
       "Index(['shipmode', 'sales', 'quantity', 'discount', 'profit', 'segment',\n",
       "       'region', 'state', 'subcategory', 'category', 'orderdate_day',\n",
       "       'orderdate_weekday', 'orderdate_month', 'orderdate_year',\n",
       "       'shipdate_day', 'shipdate_weekday', 'shipdate_month', 'shipdate_year',\n",
       "       'preparationtime'],\n",
       "      dtype='object')"
      ]
     },
     "execution_count": 5,
     "metadata": {},
     "output_type": "execute_result"
    }
   ],
   "source": [
    "data.columns"
   ]
  },
  {
   "cell_type": "code",
   "execution_count": 6,
   "metadata": {},
   "outputs": [
    {
     "data": {
      "text/html": [
       "<div>\n",
       "<style scoped>\n",
       "    .dataframe tbody tr th:only-of-type {\n",
       "        vertical-align: middle;\n",
       "    }\n",
       "\n",
       "    .dataframe tbody tr th {\n",
       "        vertical-align: top;\n",
       "    }\n",
       "\n",
       "    .dataframe thead th {\n",
       "        text-align: right;\n",
       "    }\n",
       "</style>\n",
       "<table border=\"1\" class=\"dataframe\">\n",
       "  <thead>\n",
       "    <tr style=\"text-align: right;\">\n",
       "      <th></th>\n",
       "      <th>sales</th>\n",
       "      <th>quantity</th>\n",
       "      <th>discount</th>\n",
       "      <th>profit</th>\n",
       "      <th>orderdate_day</th>\n",
       "      <th>orderdate_month</th>\n",
       "      <th>orderdate_year</th>\n",
       "      <th>shipdate_day</th>\n",
       "      <th>shipdate_month</th>\n",
       "      <th>shipdate_year</th>\n",
       "      <th>preparationtime</th>\n",
       "    </tr>\n",
       "  </thead>\n",
       "  <tbody>\n",
       "    <tr>\n",
       "      <th>count</th>\n",
       "      <td>4000.000000</td>\n",
       "      <td>4000.000000</td>\n",
       "      <td>4000.000000</td>\n",
       "      <td>4000.000000</td>\n",
       "      <td>4000.000000</td>\n",
       "      <td>4000.000000</td>\n",
       "      <td>4000.000000</td>\n",
       "      <td>4000.000000</td>\n",
       "      <td>4000.000000</td>\n",
       "      <td>4000.000000</td>\n",
       "      <td>4000.000000</td>\n",
       "    </tr>\n",
       "    <tr>\n",
       "      <th>mean</th>\n",
       "      <td>238.656312</td>\n",
       "      <td>3.807500</td>\n",
       "      <td>0.184523</td>\n",
       "      <td>13.409610</td>\n",
       "      <td>15.644000</td>\n",
       "      <td>7.827500</td>\n",
       "      <td>2014.725500</td>\n",
       "      <td>15.925500</td>\n",
       "      <td>7.771500</td>\n",
       "      <td>2014.740250</td>\n",
       "      <td>3.973500</td>\n",
       "    </tr>\n",
       "    <tr>\n",
       "      <th>std</th>\n",
       "      <td>484.803059</td>\n",
       "      <td>2.235216</td>\n",
       "      <td>0.226589</td>\n",
       "      <td>176.418623</td>\n",
       "      <td>8.734148</td>\n",
       "      <td>3.306808</td>\n",
       "      <td>1.126706</td>\n",
       "      <td>8.843868</td>\n",
       "      <td>3.356427</td>\n",
       "      <td>1.133402</td>\n",
       "      <td>1.740705</td>\n",
       "    </tr>\n",
       "    <tr>\n",
       "      <th>min</th>\n",
       "      <td>0.444000</td>\n",
       "      <td>1.000000</td>\n",
       "      <td>0.000000</td>\n",
       "      <td>-2929.484500</td>\n",
       "      <td>1.000000</td>\n",
       "      <td>1.000000</td>\n",
       "      <td>2013.000000</td>\n",
       "      <td>1.000000</td>\n",
       "      <td>1.000000</td>\n",
       "      <td>2013.000000</td>\n",
       "      <td>0.000000</td>\n",
       "    </tr>\n",
       "    <tr>\n",
       "      <th>25%</th>\n",
       "      <td>17.520000</td>\n",
       "      <td>2.000000</td>\n",
       "      <td>0.000000</td>\n",
       "      <td>-1.965600</td>\n",
       "      <td>8.000000</td>\n",
       "      <td>5.000000</td>\n",
       "      <td>2014.000000</td>\n",
       "      <td>8.000000</td>\n",
       "      <td>5.000000</td>\n",
       "      <td>2014.000000</td>\n",
       "      <td>3.000000</td>\n",
       "    </tr>\n",
       "    <tr>\n",
       "      <th>50%</th>\n",
       "      <td>63.479000</td>\n",
       "      <td>3.000000</td>\n",
       "      <td>0.200000</td>\n",
       "      <td>6.215200</td>\n",
       "      <td>16.000000</td>\n",
       "      <td>9.000000</td>\n",
       "      <td>2015.000000</td>\n",
       "      <td>16.000000</td>\n",
       "      <td>9.000000</td>\n",
       "      <td>2015.000000</td>\n",
       "      <td>4.000000</td>\n",
       "    </tr>\n",
       "    <tr>\n",
       "      <th>75%</th>\n",
       "      <td>254.545500</td>\n",
       "      <td>5.000000</td>\n",
       "      <td>0.200000</td>\n",
       "      <td>23.652900</td>\n",
       "      <td>23.000000</td>\n",
       "      <td>11.000000</td>\n",
       "      <td>2016.000000</td>\n",
       "      <td>24.000000</td>\n",
       "      <td>11.000000</td>\n",
       "      <td>2016.000000</td>\n",
       "      <td>5.000000</td>\n",
       "    </tr>\n",
       "    <tr>\n",
       "      <th>max</th>\n",
       "      <td>9892.740000</td>\n",
       "      <td>14.000000</td>\n",
       "      <td>0.800000</td>\n",
       "      <td>4946.370000</td>\n",
       "      <td>31.000000</td>\n",
       "      <td>12.000000</td>\n",
       "      <td>2016.000000</td>\n",
       "      <td>31.000000</td>\n",
       "      <td>12.000000</td>\n",
       "      <td>2017.000000</td>\n",
       "      <td>7.000000</td>\n",
       "    </tr>\n",
       "  </tbody>\n",
       "</table>\n",
       "</div>"
      ],
      "text/plain": [
       "             sales     quantity     discount       profit  orderdate_day  \\\n",
       "count  4000.000000  4000.000000  4000.000000  4000.000000    4000.000000   \n",
       "mean    238.656312     3.807500     0.184523    13.409610      15.644000   \n",
       "std     484.803059     2.235216     0.226589   176.418623       8.734148   \n",
       "min       0.444000     1.000000     0.000000 -2929.484500       1.000000   \n",
       "25%      17.520000     2.000000     0.000000    -1.965600       8.000000   \n",
       "50%      63.479000     3.000000     0.200000     6.215200      16.000000   \n",
       "75%     254.545500     5.000000     0.200000    23.652900      23.000000   \n",
       "max    9892.740000    14.000000     0.800000  4946.370000      31.000000   \n",
       "\n",
       "       orderdate_month  orderdate_year  shipdate_day  shipdate_month  \\\n",
       "count      4000.000000     4000.000000   4000.000000     4000.000000   \n",
       "mean          7.827500     2014.725500     15.925500        7.771500   \n",
       "std           3.306808        1.126706      8.843868        3.356427   \n",
       "min           1.000000     2013.000000      1.000000        1.000000   \n",
       "25%           5.000000     2014.000000      8.000000        5.000000   \n",
       "50%           9.000000     2015.000000     16.000000        9.000000   \n",
       "75%          11.000000     2016.000000     24.000000       11.000000   \n",
       "max          12.000000     2016.000000     31.000000       12.000000   \n",
       "\n",
       "       shipdate_year  preparationtime  \n",
       "count    4000.000000      4000.000000  \n",
       "mean     2014.740250         3.973500  \n",
       "std         1.133402         1.740705  \n",
       "min      2013.000000         0.000000  \n",
       "25%      2014.000000         3.000000  \n",
       "50%      2015.000000         4.000000  \n",
       "75%      2016.000000         5.000000  \n",
       "max      2017.000000         7.000000  "
      ]
     },
     "execution_count": 6,
     "metadata": {},
     "output_type": "execute_result"
    }
   ],
   "source": [
    "data.describe()"
   ]
  },
  {
   "cell_type": "code",
   "execution_count": 7,
   "metadata": {},
   "outputs": [
    {
     "data": {
      "text/plain": [
       "<matplotlib.axes._subplots.AxesSubplot at 0x1a1aa766d8>"
      ]
     },
     "execution_count": 7,
     "metadata": {},
     "output_type": "execute_result"
    },
    {
     "data": {
      "image/png": "[encoded data removed]",
      "text/plain": [
       "<Figure size 720x576 with 2 Axes>"
      ]
     },
     "metadata": {
      "needs_background": "light"
     },
     "output_type": "display_data"
    }
   ],
   "source": [
    "#Heatmap\n",
    "plt.figure(figsize=(10, 8))\n",
    "sns.heatmap(data.corr())\n",
    "\n",
    "# The heatmap shows that there are few fields with correlation. Sales are correlated to quantity and profit \n",
    "# which makes sense as the increase in sales will increase the quanties sold and therefore the profit.\n",
    "# Alos correlated are orderdate_day and shipdate_day; logically, when an order is placed, it will be shipped\n",
    "# within more or leass the same time frame each time, so the gap between both will be similar each time."
   ]
  },
  {
   "cell_type": "code",
   "execution_count": 8,
   "metadata": {},
   "outputs": [
    {
     "data": {
      "text/plain": [
       "Text(0.5, 1.0, 'Total sales per shipmode')"
      ]
     },
     "execution_count": 8,
     "metadata": {},
     "output_type": "execute_result"
    },
    {
     "data": {
      "image/png": "[encoded data removed]",
      "text/plain": [
       "<Figure size 432x288 with 1 Axes>"
      ]
     },
     "metadata": {
      "needs_background": "light"
     },
     "output_type": "display_data"
    }
   ],
   "source": [
    "# Bar graph1\n",
    "data.groupby(['shipmode'])['sales'].sum().plot.bar()\n",
    "plt.xlabel('Shipmode')\n",
    "plt.ylabel('Sales')\n",
    "plt.title('Total sales per Shipmode')\n",
    "\n",
    "# This grap shows that most of the sales are Standar class shipmode, and very few customers \n",
    "# opt for Same Day shippment."
   ]
  },
  {
   "cell_type": "code",
   "execution_count": 20,
   "metadata": {},
   "outputs": [
    {
     "data": {
      "text/plain": [
       "Text(0.5, 1.0, 'Quantity & Sales per shipmode')"
      ]
     },
     "execution_count": 20,
     "metadata": {},
     "output_type": "execute_result"
    },
    {
     "data": {
      "image/png": "[encoded data removed]",
      "text/plain": [
       "<Figure size 432x288 with 1 Axes>"
      ]
     },
     "metadata": {
      "needs_background": "light"
     },
     "output_type": "display_data"
    }
   ],
   "source": [
    "# Bar graph2\n",
    "data_mean = data[['shipmode', 'quantity', 'sales']].groupby(['shipmode']).agg('sum') \n",
    "data_mean.plot.bar()\n",
    "\n",
    "plt.xlabel('Shipmode')\n",
    "plt.ylabel('Quantity/Sales')\n",
    "plt.title('Quantity & Sales per shipmode')\n",
    "\n",
    "# While sales volume vary a lot per shipping mode, the quanties don't change much. There's a higher volume of \n",
    "# quantities for Standard class, same as for the sales; however for all other shipping modes, quanties are \n",
    "# at the same level."
   ]
  },
  {
   "cell_type": "code",
   "execution_count": 52,
   "metadata": {},
   "outputs": [
    {
     "data": {
      "text/plain": [
       "Text(0.5, 1.0, 'Quantity vs discount')"
      ]
     },
     "execution_count": 52,
     "metadata": {},
     "output_type": "execute_result"
    },
    {
     "data": {
      "image/png": "[encoded data removed]",
      "text/plain": [
       "<Figure size 360x360 with 1 Axes>"
      ]
     },
     "metadata": {
      "needs_background": "light"
     },
     "output_type": "display_data"
    }
   ],
   "source": [
    "# Scatter plot1\n",
    "sns.lmplot('discount', 'quantity', data=data, fit_reg=False)\n",
    "plt.title('Quantity vs discount')\n",
    "\n",
    "# While we would expect that there might be a correlation between quantities ordered and the discount applied,\n",
    "# meaning that the more items are ordered, the higher the disount, the scatter plot shows that there's no \n",
    "# correlation what so ever. For any volume of quanties, any level of discount can be applied ranging from the\n",
    "# lowest to the highest."
   ]
  },
  {
   "cell_type": "code",
   "execution_count": 51,
   "metadata": {},
   "outputs": [
    {
     "data": {
      "text/plain": [
       "Text(0.5, 1.0, 'Discount vs quantity per shipmode')"
      ]
     },
     "execution_count": 51,
     "metadata": {},
     "output_type": "execute_result"
    },
    {
     "data": {
      "image/png": "[encoded data removed]",
      "text/plain": [
       "<Figure size 432x288 with 1 Axes>"
      ]
     },
     "metadata": {
      "needs_background": "light"
     },
     "output_type": "display_data"
    }
   ],
   "source": [
    "# Scatter plot2\n",
    "sns.scatterplot(x=\"quantity\", y=\"sales\", hue=\"category\", data=data)\n",
    "plt.title('Discount vs quantity per shipmode')\n",
    "\n",
    "# "
   ]
  },
  {
   "cell_type": "code",
   "execution_count": 40,
   "metadata": {},
   "outputs": [
    {
     "data": {
      "text/plain": [
       "Text(0.5, 1.0, 'Discount level per number of orders')"
      ]
     },
     "execution_count": 40,
     "metadata": {},
     "output_type": "execute_result"
    },
    {
     "data": {
      "image/png": "[encoded data removed]",
      "text/plain": [
       "<Figure size 432x288 with 1 Axes>"
      ]
     },
     "metadata": {
      "needs_background": "light"
     },
     "output_type": "display_data"
    }
   ],
   "source": [
    "# Histogram\n",
    "data['discount'].hist(bins=8)\n",
    "plt.xlabel('Number of orders')\n",
    "plt.ylabel('Discount amount')\n",
    "plt.title('Discount level per number of orders')\n",
    "\n",
    "# The histogram below shows that more than a half of the orders have received a discount; \n",
    "# the discount that's applied the most is 20%. Quite a number of orders (approx 200 for each discount) \n",
    "# have received also a discount of 50-70%."
   ]
  },
  {
   "cell_type": "code",
   "execution_count": 63,
   "metadata": {},
   "outputs": [
    {
     "name": "stdout",
     "output_type": "stream",
     "text": [
      "0.0    1746\n",
      "Name: discount, dtype: int64\n",
      "0.2    1247\n",
      "Name: discount, dtype: int64\n"
     ]
    }
   ],
   "source": [
    "print(data[data['discount']==0]['discount'].value_counts())\n",
    "print(data[data['discount']==0.2]['discount'].value_counts())"
   ]
  },
  {
   "cell_type": "code",
   "execution_count": 46,
   "metadata": {},
   "outputs": [
    {
     "data": {
      "text/plain": [
       "[Text(0, 0, 'First Class'),\n",
       " Text(0, 0, 'Standard Class'),\n",
       " Text(0, 0, 'Same Day'),\n",
       " Text(0, 0, 'Second Class')]"
      ]
     },
     "execution_count": 46,
     "metadata": {},
     "output_type": "execute_result"
    },
    {
     "data": {
      "image/png": "[encoded data removed]",
      "text/plain": [
       "<Figure size 432x288 with 1 Axes>"
      ]
     },
     "metadata": {
      "needs_background": "light"
     },
     "output_type": "display_data"
    }
   ],
   "source": [
    "# Box plot \n",
    "ax = sns.boxplot(x=\"shipmode\", y=\"discount\", data=data)\n",
    "ax.set_xticklabels(ax.get_xticklabels(),rotation=90)\n",
    "\n",
    "# The box plot below shows that there's no difference for discount distribution amongst different shippment modes.\n",
    "# We see that most of the volume receives a discount between 0-20%.\n",
    "# We see that the maximum discount for same day shippment is lower than for any other shipping mode, which is \n",
    "# logical, as it's the most expensive shippment mode. \n",
    "# All of the shippment modes have some outliers with a discount of 60-80%."
   ]
  },
  {
   "cell_type": "code",
   "execution_count": null,
   "metadata": {},
   "outputs": [],
   "source": []
  }
 ],
 "metadata": {
  "kernelspec": {
   "display_name": "Python 3",
   "language": "python",
   "name": "python3"
  },
  "language_info": {
   "codemirror_mode": {
    "name": "ipython",
    "version": 3
   },
   "file_extension": ".py",
   "mimetype": "text/x-python",
   "name": "python",
   "nbconvert_exporter": "python",
   "pygments_lexer": "ipython3",
   "version": "3.7.3"
  }
 },
 "nbformat": 4,
 "nbformat_minor": 2
}
