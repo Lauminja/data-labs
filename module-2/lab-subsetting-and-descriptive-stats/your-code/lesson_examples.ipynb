{
 "cells": [
  {
   "cell_type": "code",
   "execution_count": 1,
   "metadata": {},
   "outputs": [],
   "source": [
    "import numpy as np\n",
    "import pandas as pd\n"
   ]
  },
  {
   "cell_type": "markdown",
   "metadata": {},
   "source": [
    "# Descriptive Statistics With Pandas:"
   ]
  },
  {
   "cell_type": "code",
   "execution_count": 3,
   "metadata": {},
   "outputs": [],
   "source": [
    "#Import dataset:\n",
    "animals = pd.read_csv('/Users/laumaustupa/Desktop/Ironhack/Cours/data-labs/module-2/lab-subsetting-and-descriptive-stats/your-code/animals.csv')"
   ]
  },
  {
   "cell_type": "code",
   "execution_count": 4,
   "metadata": {},
   "outputs": [
    {
     "data": {
      "text/plain": [
       "brainwt    float64\n",
       "bodywt     float64\n",
       "animal      object\n",
       "dtype: object"
      ]
     },
     "execution_count": 4,
     "metadata": {},
     "output_type": "execute_result"
    }
   ],
   "source": [
    "#Data Types\n",
    "#In order to get a basic understanding of our dataset, we can explore the data type in each column:\n",
    "\n",
    "animals.dtypes"
   ]
  },
  {
   "cell_type": "code",
   "execution_count": 5,
   "metadata": {},
   "outputs": [
    {
     "data": {
      "text/html": [
       "<div>\n",
       "<style scoped>\n",
       "    .dataframe tbody tr th:only-of-type {\n",
       "        vertical-align: middle;\n",
       "    }\n",
       "\n",
       "    .dataframe tbody tr th {\n",
       "        vertical-align: top;\n",
       "    }\n",
       "\n",
       "    .dataframe thead th {\n",
       "        text-align: right;\n",
       "    }\n",
       "</style>\n",
       "<table border=\"1\" class=\"dataframe\">\n",
       "  <thead>\n",
       "    <tr style=\"text-align: right;\">\n",
       "      <th></th>\n",
       "      <th>brainwt</th>\n",
       "      <th>bodywt</th>\n",
       "    </tr>\n",
       "  </thead>\n",
       "  <tbody>\n",
       "    <tr>\n",
       "      <th>count</th>\n",
       "      <td>62.000000</td>\n",
       "      <td>62.000000</td>\n",
       "    </tr>\n",
       "    <tr>\n",
       "      <th>mean</th>\n",
       "      <td>198.794290</td>\n",
       "      <td>283.135355</td>\n",
       "    </tr>\n",
       "    <tr>\n",
       "      <th>std</th>\n",
       "      <td>899.182313</td>\n",
       "      <td>930.278876</td>\n",
       "    </tr>\n",
       "    <tr>\n",
       "      <th>min</th>\n",
       "      <td>0.005000</td>\n",
       "      <td>0.140000</td>\n",
       "    </tr>\n",
       "    <tr>\n",
       "      <th>25%</th>\n",
       "      <td>0.600000</td>\n",
       "      <td>4.250000</td>\n",
       "    </tr>\n",
       "    <tr>\n",
       "      <th>50%</th>\n",
       "      <td>3.342500</td>\n",
       "      <td>17.250000</td>\n",
       "    </tr>\n",
       "    <tr>\n",
       "      <th>75%</th>\n",
       "      <td>48.201250</td>\n",
       "      <td>165.998250</td>\n",
       "    </tr>\n",
       "    <tr>\n",
       "      <th>max</th>\n",
       "      <td>6654.180000</td>\n",
       "      <td>5711.860000</td>\n",
       "    </tr>\n",
       "  </tbody>\n",
       "</table>\n",
       "</div>"
      ],
      "text/plain": [
       "           brainwt       bodywt\n",
       "count    62.000000    62.000000\n",
       "mean    198.794290   283.135355\n",
       "std     899.182313   930.278876\n",
       "min       0.005000     0.140000\n",
       "25%       0.600000     4.250000\n",
       "50%       3.342500    17.250000\n",
       "75%      48.201250   165.998250\n",
       "max    6654.180000  5711.860000"
      ]
     },
     "execution_count": 5,
     "metadata": {},
     "output_type": "execute_result"
    }
   ],
   "source": [
    "#Summarizing the Data\n",
    "#In order to look at multiple descriptive statistics at once:\n",
    "animals.describe()"
   ]
  },
  {
   "cell_type": "code",
   "execution_count": 6,
   "metadata": {},
   "outputs": [
    {
     "data": {
      "text/plain": [
       "brainwt                  6654.18\n",
       "bodywt                   5711.86\n",
       "animal     Yellow-bellied_marmot\n",
       "dtype: object"
      ]
     },
     "execution_count": 6,
     "metadata": {},
     "output_type": "execute_result"
    }
   ],
   "source": [
    "#We can also look at each statistic separately but still for all columns.\n",
    "#Maximum:\n",
    "animals.max()"
   ]
  },
  {
   "cell_type": "code",
   "execution_count": 7,
   "metadata": {},
   "outputs": [
    {
     "data": {
      "text/plain": [
       "brainwt               0.005\n",
       "bodywt                 0.14\n",
       "animal     African_elephant\n",
       "dtype: object"
      ]
     },
     "execution_count": 7,
     "metadata": {},
     "output_type": "execute_result"
    }
   ],
   "source": [
    "animals.min()"
   ]
  },
  {
   "cell_type": "code",
   "execution_count": 8,
   "metadata": {},
   "outputs": [
    {
     "data": {
      "text/plain": [
       "brainwt    198.794290\n",
       "bodywt     283.135355\n",
       "dtype: float64"
      ]
     },
     "execution_count": 8,
     "metadata": {},
     "output_type": "execute_result"
    }
   ],
   "source": [
    "animals.mean()"
   ]
  },
  {
   "cell_type": "code",
   "execution_count": 9,
   "metadata": {},
   "outputs": [
    {
     "data": {
      "text/plain": [
       "brainwt    899.182313\n",
       "bodywt     930.278876\n",
       "dtype: float64"
      ]
     },
     "execution_count": 9,
     "metadata": {},
     "output_type": "execute_result"
    }
   ],
   "source": [
    "#Standard Deviation:\n",
    "animals.std()"
   ]
  },
  {
   "cell_type": "code",
   "execution_count": 10,
   "metadata": {},
   "outputs": [
    {
     "data": {
      "text/plain": [
       "brainwt     3.3425\n",
       "bodywt     17.2500\n",
       "dtype: float64"
      ]
     },
     "execution_count": 10,
     "metadata": {},
     "output_type": "execute_result"
    }
   ],
   "source": [
    "animals.median()"
   ]
  },
  {
   "cell_type": "code",
   "execution_count": 11,
   "metadata": {},
   "outputs": [
    {
     "data": {
      "text/plain": [
       "brainwt    0.60\n",
       "bodywt     4.25\n",
       "Name: 0.25, dtype: float64"
      ]
     },
     "execution_count": 11,
     "metadata": {},
     "output_type": "execute_result"
    }
   ],
   "source": [
    "#25th Percentile:\n",
    "animals.quantile(0.25)"
   ]
  },
  {
   "cell_type": "code",
   "execution_count": 12,
   "metadata": {},
   "outputs": [
    {
     "data": {
      "text/plain": [
       "brainwt     48.20125\n",
       "bodywt     165.99825\n",
       "Name: 0.75, dtype: float64"
      ]
     },
     "execution_count": 12,
     "metadata": {},
     "output_type": "execute_result"
    }
   ],
   "source": [
    "#75th Percentile:\n",
    "animals.quantile(0.75)"
   ]
  },
  {
   "cell_type": "code",
   "execution_count": 13,
   "metadata": {},
   "outputs": [
    {
     "data": {
      "text/plain": [
       "283.1353548387098"
      ]
     },
     "execution_count": 13,
     "metadata": {},
     "output_type": "execute_result"
    }
   ],
   "source": [
    "#Summary statistics for each column separately by subsetting the column. For example:\n",
    "animals['bodywt'].mean()"
   ]
  },
  {
   "cell_type": "code",
   "execution_count": 14,
   "metadata": {},
   "outputs": [
    {
     "data": {
      "text/plain": [
       "<matplotlib.axes._subplots.AxesSubplot at 0x11be5cac8>"
      ]
     },
     "execution_count": 14,
     "metadata": {},
     "output_type": "execute_result"
    },
    {
     "data": {
      "image/png": "[encoded data removed]",
      "text/plain": [
       "<Figure size 432x288 with 1 Axes>"
      ]
     },
     "metadata": {
      "needs_background": "light"
     },
     "output_type": "display_data"
    }
   ],
   "source": [
    "#Box Plot\n",
    "import matplotlib\n",
    "%matplotlib inline\n",
    "\n",
    "animals.boxplot()"
   ]
  },
  {
   "cell_type": "code",
   "execution_count": 15,
   "metadata": {},
   "outputs": [
    {
     "data": {
      "text/plain": [
       "array([[<matplotlib.axes._subplots.AxesSubplot object at 0x11b3f0ef0>,\n",
       "        <matplotlib.axes._subplots.AxesSubplot object at 0x11c022438>]],\n",
       "      dtype=object)"
      ]
     },
     "execution_count": 15,
     "metadata": {},
     "output_type": "execute_result"
    },
    {
     "data": {
      "image/png": "[encoded data removed]",
      "text/plain": [
       "<Figure size 432x288 with 2 Axes>"
      ]
     },
     "metadata": {
      "needs_background": "light"
     },
     "output_type": "display_data"
    }
   ],
   "source": [
    "#Histogram:\n",
    "animals.hist()"
   ]
  },
  {
   "cell_type": "code",
   "execution_count": 16,
   "metadata": {},
   "outputs": [
    {
     "data": {
      "text/plain": [
       "array([[<matplotlib.axes._subplots.AxesSubplot object at 0x11bfdc400>,\n",
       "        <matplotlib.axes._subplots.AxesSubplot object at 0x11c1a8518>]],\n",
       "      dtype=object)"
      ]
     },
     "execution_count": 16,
     "metadata": {},
     "output_type": "execute_result"
    },
    {
     "data": {
      "image/png": "[encoded data removed]",
      "text/plain": [
       "<Figure size 432x288 with 2 Axes>"
      ]
     },
     "metadata": {
      "needs_background": "light"
     },
     "output_type": "display_data"
    }
   ],
   "source": [
    "#Here is an example of a histogram with 20 bins:\n",
    "animals.hist(bins=20)"
   ]
  },
  {
   "cell_type": "markdown",
   "metadata": {},
   "source": [
    "# Subsetting and Filtering with Pandas"
   ]
  },
  {
   "cell_type": "code",
   "execution_count": 17,
   "metadata": {},
   "outputs": [
    {
     "data": {
      "text/plain": [
       "array([ 0,  1,  2,  3,  4,  5,  6,  7,  8,  9, 10, 11, 12, 13, 14, 15, 16,\n",
       "       17, 18, 19, 20, 21, 22, 23, 24, 25, 26, 27, 28, 29, 30, 31, 32, 33,\n",
       "       34, 35, 36, 37, 38, 39, 40, 41, 42, 43, 44, 45, 46, 47, 48, 49, 50,\n",
       "       51, 52, 53, 54, 55, 56, 57, 58, 59, 60, 61])"
      ]
     },
     "execution_count": 17,
     "metadata": {},
     "output_type": "execute_result"
    }
   ],
   "source": [
    "#Indexing:\n",
    "animals.index.values"
   ]
  },
  {
   "cell_type": "code",
   "execution_count": 18,
   "metadata": {},
   "outputs": [
    {
     "data": {
      "text/plain": [
       "0       44.500\n",
       "1       15.499\n",
       "2        8.100\n",
       "3      423.012\n",
       "4      119.498\n",
       "5      114.996\n",
       "6       98.199\n",
       "7        5.500\n",
       "8       57.998\n",
       "9        6.400\n",
       "10       4.000\n",
       "11       5.700\n",
       "12       6.600\n",
       "13       0.140\n",
       "14       1.000\n",
       "15      10.800\n",
       "16      12.300\n",
       "17       6.300\n",
       "18    4603.170\n",
       "19       0.300\n",
       "20     419.012\n",
       "21     654.977\n",
       "22       3.500\n",
       "23     114.996\n",
       "24      25.600\n",
       "25       5.000\n",
       "26      17.500\n",
       "27     680.005\n",
       "28     406.019\n",
       "29     324.992\n",
       "        ...   \n",
       "32    5711.860\n",
       "33       3.900\n",
       "34     179.003\n",
       "35      56.003\n",
       "36      17.000\n",
       "37       1.000\n",
       "38       0.400\n",
       "39       0.250\n",
       "40      12.500\n",
       "41     489.997\n",
       "42      12.100\n",
       "43     175.002\n",
       "44     156.993\n",
       "45     440.011\n",
       "46     179.504\n",
       "47       2.400\n",
       "48      80.996\n",
       "49      21.000\n",
       "50      39.201\n",
       "51       1.900\n",
       "52       1.200\n",
       "53       3.000\n",
       "54       0.330\n",
       "55     180.008\n",
       "56      25.001\n",
       "57     169.000\n",
       "58       2.600\n",
       "59      11.400\n",
       "60       2.500\n",
       "61      50.400\n",
       "Name: bodywt, Length: 62, dtype: float64"
      ]
     },
     "execution_count": 18,
     "metadata": {},
     "output_type": "execute_result"
    }
   ],
   "source": [
    "#Selecting Rows and Columns:\n",
    "#calling the bodywt column using square brackets:\n",
    "animals['bodywt']"
   ]
  },
  {
   "cell_type": "code",
   "execution_count": 19,
   "metadata": {},
   "outputs": [
    {
     "data": {
      "text/plain": [
       "0        3.385\n",
       "1        0.480\n",
       "2        1.350\n",
       "3      464.983\n",
       "4       36.328\n",
       "5       27.660\n",
       "6       14.831\n",
       "7        1.040\n",
       "8        4.190\n",
       "9        0.425\n",
       "10       0.101\n",
       "11       0.920\n",
       "12       1.000\n",
       "13       0.005\n",
       "14       0.060\n",
       "15       3.500\n",
       "16       2.000\n",
       "17       1.700\n",
       "18    2547.070\n",
       "19       0.023\n",
       "20     187.092\n",
       "21     521.026\n",
       "22       0.785\n",
       "23      10.000\n",
       "24       3.300\n",
       "25       0.200\n",
       "26       1.410\n",
       "27     529.006\n",
       "28     206.996\n",
       "29      85.004\n",
       "        ...   \n",
       "32    6654.180\n",
       "33       3.500\n",
       "34       6.800\n",
       "35      34.998\n",
       "36       4.050\n",
       "37       0.120\n",
       "38       0.023\n",
       "39       0.010\n",
       "40       1.400\n",
       "41     250.010\n",
       "42       2.500\n",
       "43      55.501\n",
       "44     100.003\n",
       "45      52.159\n",
       "46      10.550\n",
       "47       0.550\n",
       "48      59.997\n",
       "49       3.600\n",
       "50       4.288\n",
       "51       0.280\n",
       "52       0.075\n",
       "53       0.122\n",
       "54       0.048\n",
       "55     192.001\n",
       "56       3.000\n",
       "57     160.004\n",
       "58       0.900\n",
       "59       1.620\n",
       "60       0.104\n",
       "61       4.235\n",
       "Name: brainwt, Length: 62, dtype: float64"
      ]
     },
     "execution_count": 19,
     "metadata": {},
     "output_type": "execute_result"
    }
   ],
   "source": [
    "#calling the brainwt column as an attribute of the DataFrame:\n",
    "animals.brainwt"
   ]
  },
  {
   "cell_type": "code",
   "execution_count": 20,
   "metadata": {},
   "outputs": [
    {
     "data": {
      "text/html": [
       "<div>\n",
       "<style scoped>\n",
       "    .dataframe tbody tr th:only-of-type {\n",
       "        vertical-align: middle;\n",
       "    }\n",
       "\n",
       "    .dataframe tbody tr th {\n",
       "        vertical-align: top;\n",
       "    }\n",
       "\n",
       "    .dataframe thead th {\n",
       "        text-align: right;\n",
       "    }\n",
       "</style>\n",
       "<table border=\"1\" class=\"dataframe\">\n",
       "  <thead>\n",
       "    <tr style=\"text-align: right;\">\n",
       "      <th></th>\n",
       "      <th>brainwt</th>\n",
       "      <th>bodywt</th>\n",
       "      <th>animal</th>\n",
       "    </tr>\n",
       "  </thead>\n",
       "  <tbody>\n",
       "    <tr>\n",
       "      <th>11</th>\n",
       "      <td>0.920</td>\n",
       "      <td>5.70</td>\n",
       "      <td>Arctic</td>\n",
       "    </tr>\n",
       "    <tr>\n",
       "      <th>12</th>\n",
       "      <td>1.000</td>\n",
       "      <td>6.60</td>\n",
       "      <td>African_giant_pouched_rat</td>\n",
       "    </tr>\n",
       "    <tr>\n",
       "      <th>13</th>\n",
       "      <td>0.005</td>\n",
       "      <td>0.14</td>\n",
       "      <td>Lesser_short-tailed-shrew</td>\n",
       "    </tr>\n",
       "    <tr>\n",
       "      <th>14</th>\n",
       "      <td>0.060</td>\n",
       "      <td>1.00</td>\n",
       "      <td>Star-nosed_mole</td>\n",
       "    </tr>\n",
       "    <tr>\n",
       "      <th>15</th>\n",
       "      <td>3.500</td>\n",
       "      <td>10.80</td>\n",
       "      <td>Nine-banded_armadillo</td>\n",
       "    </tr>\n",
       "    <tr>\n",
       "      <th>16</th>\n",
       "      <td>2.000</td>\n",
       "      <td>12.30</td>\n",
       "      <td>Tree_hyrax</td>\n",
       "    </tr>\n",
       "    <tr>\n",
       "      <th>17</th>\n",
       "      <td>1.700</td>\n",
       "      <td>6.30</td>\n",
       "      <td>N._American</td>\n",
       "    </tr>\n",
       "    <tr>\n",
       "      <th>18</th>\n",
       "      <td>2547.070</td>\n",
       "      <td>4603.17</td>\n",
       "      <td>Asian_elephant</td>\n",
       "    </tr>\n",
       "    <tr>\n",
       "      <th>19</th>\n",
       "      <td>0.023</td>\n",
       "      <td>0.30</td>\n",
       "      <td>Big_brown_bat</td>\n",
       "    </tr>\n",
       "  </tbody>\n",
       "</table>\n",
       "</div>"
      ],
      "text/plain": [
       "     brainwt   bodywt                     animal\n",
       "11     0.920     5.70                     Arctic\n",
       "12     1.000     6.60  African_giant_pouched_rat\n",
       "13     0.005     0.14  Lesser_short-tailed-shrew\n",
       "14     0.060     1.00            Star-nosed_mole\n",
       "15     3.500    10.80      Nine-banded_armadillo\n",
       "16     2.000    12.30                 Tree_hyrax\n",
       "17     1.700     6.30                N._American\n",
       "18  2547.070  4603.17             Asian_elephant\n",
       "19     0.023     0.30              Big_brown_bat"
      ]
     },
     "execution_count": 20,
     "metadata": {},
     "output_type": "execute_result"
    }
   ],
   "source": [
    "#Selecting Rows:\n",
    "animals[11:20]"
   ]
  },
  {
   "cell_type": "code",
   "execution_count": 22,
   "metadata": {},
   "outputs": [
    {
     "data": {
      "text/html": [
       "<div>\n",
       "<style scoped>\n",
       "    .dataframe tbody tr th:only-of-type {\n",
       "        vertical-align: middle;\n",
       "    }\n",
       "\n",
       "    .dataframe tbody tr th {\n",
       "        vertical-align: top;\n",
       "    }\n",
       "\n",
       "    .dataframe thead th {\n",
       "        text-align: right;\n",
       "    }\n",
       "</style>\n",
       "<table border=\"1\" class=\"dataframe\">\n",
       "  <thead>\n",
       "    <tr style=\"text-align: right;\">\n",
       "      <th></th>\n",
       "      <th>brainwt</th>\n",
       "      <th>bodywt</th>\n",
       "      <th>animal</th>\n",
       "    </tr>\n",
       "  </thead>\n",
       "  <tbody>\n",
       "    <tr>\n",
       "      <th>0</th>\n",
       "      <td>3.385</td>\n",
       "      <td>44.500</td>\n",
       "      <td>Arctic_fox</td>\n",
       "    </tr>\n",
       "    <tr>\n",
       "      <th>1</th>\n",
       "      <td>0.480</td>\n",
       "      <td>15.499</td>\n",
       "      <td>Owl_monkey</td>\n",
       "    </tr>\n",
       "    <tr>\n",
       "      <th>2</th>\n",
       "      <td>1.350</td>\n",
       "      <td>8.100</td>\n",
       "      <td>Beaver</td>\n",
       "    </tr>\n",
       "    <tr>\n",
       "      <th>3</th>\n",
       "      <td>464.983</td>\n",
       "      <td>423.012</td>\n",
       "      <td>Cow</td>\n",
       "    </tr>\n",
       "    <tr>\n",
       "      <th>4</th>\n",
       "      <td>36.328</td>\n",
       "      <td>119.498</td>\n",
       "      <td>Gray_wolf</td>\n",
       "    </tr>\n",
       "    <tr>\n",
       "      <th>5</th>\n",
       "      <td>27.660</td>\n",
       "      <td>114.996</td>\n",
       "      <td>Goat</td>\n",
       "    </tr>\n",
       "    <tr>\n",
       "      <th>6</th>\n",
       "      <td>14.831</td>\n",
       "      <td>98.199</td>\n",
       "      <td>Roe_deer</td>\n",
       "    </tr>\n",
       "    <tr>\n",
       "      <th>7</th>\n",
       "      <td>1.040</td>\n",
       "      <td>5.500</td>\n",
       "      <td>Guinea_pig</td>\n",
       "    </tr>\n",
       "    <tr>\n",
       "      <th>8</th>\n",
       "      <td>4.190</td>\n",
       "      <td>57.998</td>\n",
       "      <td>Vervet</td>\n",
       "    </tr>\n",
       "    <tr>\n",
       "      <th>9</th>\n",
       "      <td>0.425</td>\n",
       "      <td>6.400</td>\n",
       "      <td>Chinchilla</td>\n",
       "    </tr>\n",
       "  </tbody>\n",
       "</table>\n",
       "</div>"
      ],
      "text/plain": [
       "   brainwt   bodywt      animal\n",
       "0    3.385   44.500  Arctic_fox\n",
       "1    0.480   15.499  Owl_monkey\n",
       "2    1.350    8.100      Beaver\n",
       "3  464.983  423.012         Cow\n",
       "4   36.328  119.498   Gray_wolf\n",
       "5   27.660  114.996        Goat\n",
       "6   14.831   98.199    Roe_deer\n",
       "7    1.040    5.500  Guinea_pig\n",
       "8    4.190   57.998      Vervet\n",
       "9    0.425    6.400  Chinchilla"
      ]
     },
     "execution_count": 22,
     "metadata": {},
     "output_type": "execute_result"
    }
   ],
   "source": [
    "animals[:10]"
   ]
  },
  {
   "cell_type": "code",
   "execution_count": 24,
   "metadata": {},
   "outputs": [
    {
     "data": {
      "text/html": [
       "<div>\n",
       "<style scoped>\n",
       "    .dataframe tbody tr th:only-of-type {\n",
       "        vertical-align: middle;\n",
       "    }\n",
       "\n",
       "    .dataframe tbody tr th {\n",
       "        vertical-align: top;\n",
       "    }\n",
       "\n",
       "    .dataframe thead th {\n",
       "        text-align: right;\n",
       "    }\n",
       "</style>\n",
       "<table border=\"1\" class=\"dataframe\">\n",
       "  <thead>\n",
       "    <tr style=\"text-align: right;\">\n",
       "      <th></th>\n",
       "      <th>brainwt</th>\n",
       "      <th>bodywt</th>\n",
       "      <th>animal</th>\n",
       "    </tr>\n",
       "  </thead>\n",
       "  <tbody>\n",
       "    <tr>\n",
       "      <th>55</th>\n",
       "      <td>192.001</td>\n",
       "      <td>180.008</td>\n",
       "      <td>Pig</td>\n",
       "    </tr>\n",
       "    <tr>\n",
       "      <th>56</th>\n",
       "      <td>3.000</td>\n",
       "      <td>25.001</td>\n",
       "      <td>Echidna</td>\n",
       "    </tr>\n",
       "    <tr>\n",
       "      <th>57</th>\n",
       "      <td>160.004</td>\n",
       "      <td>169.000</td>\n",
       "      <td>Brazilian_tapir</td>\n",
       "    </tr>\n",
       "    <tr>\n",
       "      <th>58</th>\n",
       "      <td>0.900</td>\n",
       "      <td>2.600</td>\n",
       "      <td>Tenrec</td>\n",
       "    </tr>\n",
       "    <tr>\n",
       "      <th>59</th>\n",
       "      <td>1.620</td>\n",
       "      <td>11.400</td>\n",
       "      <td>Phalanger</td>\n",
       "    </tr>\n",
       "    <tr>\n",
       "      <th>60</th>\n",
       "      <td>0.104</td>\n",
       "      <td>2.500</td>\n",
       "      <td>Tree_shrew</td>\n",
       "    </tr>\n",
       "    <tr>\n",
       "      <th>61</th>\n",
       "      <td>4.235</td>\n",
       "      <td>50.400</td>\n",
       "      <td>Red_fox</td>\n",
       "    </tr>\n",
       "  </tbody>\n",
       "</table>\n",
       "</div>"
      ],
      "text/plain": [
       "    brainwt   bodywt           animal\n",
       "55  192.001  180.008              Pig\n",
       "56    3.000   25.001          Echidna\n",
       "57  160.004  169.000  Brazilian_tapir\n",
       "58    0.900    2.600           Tenrec\n",
       "59    1.620   11.400        Phalanger\n",
       "60    0.104    2.500       Tree_shrew\n",
       "61    4.235   50.400          Red_fox"
      ]
     },
     "execution_count": 24,
     "metadata": {},
     "output_type": "execute_result"
    }
   ],
   "source": [
    "animals[55:]"
   ]
  },
  {
   "cell_type": "code",
   "execution_count": 25,
   "metadata": {},
   "outputs": [
    {
     "data": {
      "text/html": [
       "<div>\n",
       "<style scoped>\n",
       "    .dataframe tbody tr th:only-of-type {\n",
       "        vertical-align: middle;\n",
       "    }\n",
       "\n",
       "    .dataframe tbody tr th {\n",
       "        vertical-align: top;\n",
       "    }\n",
       "\n",
       "    .dataframe thead th {\n",
       "        text-align: right;\n",
       "    }\n",
       "</style>\n",
       "<table border=\"1\" class=\"dataframe\">\n",
       "  <thead>\n",
       "    <tr style=\"text-align: right;\">\n",
       "      <th></th>\n",
       "      <th>brainwt</th>\n",
       "      <th>bodywt</th>\n",
       "    </tr>\n",
       "  </thead>\n",
       "  <tbody>\n",
       "    <tr>\n",
       "      <th>5</th>\n",
       "      <td>27.660</td>\n",
       "      <td>114.996</td>\n",
       "    </tr>\n",
       "    <tr>\n",
       "      <th>6</th>\n",
       "      <td>14.831</td>\n",
       "      <td>98.199</td>\n",
       "    </tr>\n",
       "    <tr>\n",
       "      <th>7</th>\n",
       "      <td>1.040</td>\n",
       "      <td>5.500</td>\n",
       "    </tr>\n",
       "    <tr>\n",
       "      <th>8</th>\n",
       "      <td>4.190</td>\n",
       "      <td>57.998</td>\n",
       "    </tr>\n",
       "    <tr>\n",
       "      <th>9</th>\n",
       "      <td>0.425</td>\n",
       "      <td>6.400</td>\n",
       "    </tr>\n",
       "  </tbody>\n",
       "</table>\n",
       "</div>"
      ],
      "text/plain": [
       "   brainwt   bodywt\n",
       "5   27.660  114.996\n",
       "6   14.831   98.199\n",
       "7    1.040    5.500\n",
       "8    4.190   57.998\n",
       "9    0.425    6.400"
      ]
     },
     "execution_count": 25,
     "metadata": {},
     "output_type": "execute_result"
    }
   ],
   "source": [
    "#Subsetting Using Functions:\n",
    "#There are two functions for more complex subsetting: .loc and .iloc.\n",
    "animals.iloc[5:10, 0:2]"
   ]
  },
  {
   "cell_type": "code",
   "execution_count": 26,
   "metadata": {},
   "outputs": [
    {
     "data": {
      "text/plain": [
       "2      8.100\n",
       "3    423.012\n",
       "4    119.498\n",
       "5    114.996\n",
       "6     98.199\n",
       "Name: bodywt, dtype: float64"
      ]
     },
     "execution_count": 26,
     "metadata": {},
     "output_type": "execute_result"
    }
   ],
   "source": [
    "animals.loc[2:6, 'bodywt']"
   ]
  },
  {
   "cell_type": "code",
   "execution_count": 27,
   "metadata": {},
   "outputs": [
    {
     "data": {
      "text/html": [
       "<div>\n",
       "<style scoped>\n",
       "    .dataframe tbody tr th:only-of-type {\n",
       "        vertical-align: middle;\n",
       "    }\n",
       "\n",
       "    .dataframe tbody tr th {\n",
       "        vertical-align: top;\n",
       "    }\n",
       "\n",
       "    .dataframe thead th {\n",
       "        text-align: right;\n",
       "    }\n",
       "</style>\n",
       "<table border=\"1\" class=\"dataframe\">\n",
       "  <thead>\n",
       "    <tr style=\"text-align: right;\">\n",
       "      <th></th>\n",
       "      <th>bodywt</th>\n",
       "      <th>brainwt</th>\n",
       "    </tr>\n",
       "  </thead>\n",
       "  <tbody>\n",
       "    <tr>\n",
       "      <th>1</th>\n",
       "      <td>15.499</td>\n",
       "      <td>0.480</td>\n",
       "    </tr>\n",
       "    <tr>\n",
       "      <th>2</th>\n",
       "      <td>8.100</td>\n",
       "      <td>1.350</td>\n",
       "    </tr>\n",
       "    <tr>\n",
       "      <th>3</th>\n",
       "      <td>423.012</td>\n",
       "      <td>464.983</td>\n",
       "    </tr>\n",
       "    <tr>\n",
       "      <th>4</th>\n",
       "      <td>119.498</td>\n",
       "      <td>36.328</td>\n",
       "    </tr>\n",
       "  </tbody>\n",
       "</table>\n",
       "</div>"
      ],
      "text/plain": [
       "    bodywt  brainwt\n",
       "1   15.499    0.480\n",
       "2    8.100    1.350\n",
       "3  423.012  464.983\n",
       "4  119.498   36.328"
      ]
     },
     "execution_count": 27,
     "metadata": {},
     "output_type": "execute_result"
    }
   ],
   "source": [
    "animals.loc[1:4, ['bodywt', 'brainwt']]"
   ]
  },
  {
   "cell_type": "code",
   "execution_count": 31,
   "metadata": {},
   "outputs": [
    {
     "data": {
      "text/html": [
       "<div>\n",
       "<style scoped>\n",
       "    .dataframe tbody tr th:only-of-type {\n",
       "        vertical-align: middle;\n",
       "    }\n",
       "\n",
       "    .dataframe tbody tr th {\n",
       "        vertical-align: top;\n",
       "    }\n",
       "\n",
       "    .dataframe thead th {\n",
       "        text-align: right;\n",
       "    }\n",
       "</style>\n",
       "<table border=\"1\" class=\"dataframe\">\n",
       "  <thead>\n",
       "    <tr style=\"text-align: right;\">\n",
       "      <th></th>\n",
       "      <th>brainwt</th>\n",
       "      <th>bodywt</th>\n",
       "      <th>animal</th>\n",
       "    </tr>\n",
       "  </thead>\n",
       "  <tbody>\n",
       "    <tr>\n",
       "      <th>13</th>\n",
       "      <td>0.005</td>\n",
       "      <td>0.14</td>\n",
       "      <td>Lesser_short-tailed-shrew</td>\n",
       "    </tr>\n",
       "    <tr>\n",
       "      <th>14</th>\n",
       "      <td>0.060</td>\n",
       "      <td>1.00</td>\n",
       "      <td>Star-nosed_mole</td>\n",
       "    </tr>\n",
       "    <tr>\n",
       "      <th>19</th>\n",
       "      <td>0.023</td>\n",
       "      <td>0.30</td>\n",
       "      <td>Big_brown_bat</td>\n",
       "    </tr>\n",
       "    <tr>\n",
       "      <th>37</th>\n",
       "      <td>0.120</td>\n",
       "      <td>1.00</td>\n",
       "      <td>Golden_hamster</td>\n",
       "    </tr>\n",
       "    <tr>\n",
       "      <th>38</th>\n",
       "      <td>0.023</td>\n",
       "      <td>0.40</td>\n",
       "      <td>Mouse</td>\n",
       "    </tr>\n",
       "    <tr>\n",
       "      <th>39</th>\n",
       "      <td>0.010</td>\n",
       "      <td>0.25</td>\n",
       "      <td>Little_brown_bat</td>\n",
       "    </tr>\n",
       "    <tr>\n",
       "      <th>51</th>\n",
       "      <td>0.280</td>\n",
       "      <td>1.90</td>\n",
       "      <td>Rat</td>\n",
       "    </tr>\n",
       "    <tr>\n",
       "      <th>52</th>\n",
       "      <td>0.075</td>\n",
       "      <td>1.20</td>\n",
       "      <td>E._American_mole</td>\n",
       "    </tr>\n",
       "    <tr>\n",
       "      <th>54</th>\n",
       "      <td>0.048</td>\n",
       "      <td>0.33</td>\n",
       "      <td>Musk_shrew</td>\n",
       "    </tr>\n",
       "  </tbody>\n",
       "</table>\n",
       "</div>"
      ],
      "text/plain": [
       "    brainwt  bodywt                     animal\n",
       "13    0.005    0.14  Lesser_short-tailed-shrew\n",
       "14    0.060    1.00            Star-nosed_mole\n",
       "19    0.023    0.30              Big_brown_bat\n",
       "37    0.120    1.00             Golden_hamster\n",
       "38    0.023    0.40                      Mouse\n",
       "39    0.010    0.25           Little_brown_bat\n",
       "51    0.280    1.90                        Rat\n",
       "52    0.075    1.20           E._American_mole\n",
       "54    0.048    0.33                 Musk_shrew"
      ]
     },
     "execution_count": 31,
     "metadata": {},
     "output_type": "execute_result"
    }
   ],
   "source": [
    "#Filtering:\n",
    "animals[animals.bodywt < 2]"
   ]
  },
  {
   "cell_type": "code",
   "execution_count": 30,
   "metadata": {},
   "outputs": [
    {
     "data": {
      "text/html": [
       "<div>\n",
       "<style scoped>\n",
       "    .dataframe tbody tr th:only-of-type {\n",
       "        vertical-align: middle;\n",
       "    }\n",
       "\n",
       "    .dataframe tbody tr th {\n",
       "        vertical-align: top;\n",
       "    }\n",
       "\n",
       "    .dataframe thead th {\n",
       "        text-align: right;\n",
       "    }\n",
       "</style>\n",
       "<table border=\"1\" class=\"dataframe\">\n",
       "  <thead>\n",
       "    <tr style=\"text-align: right;\">\n",
       "      <th></th>\n",
       "      <th>brainwt</th>\n",
       "      <th>bodywt</th>\n",
       "      <th>animal</th>\n",
       "    </tr>\n",
       "  </thead>\n",
       "  <tbody>\n",
       "    <tr>\n",
       "      <th>1</th>\n",
       "      <td>0.480</td>\n",
       "      <td>15.499</td>\n",
       "      <td>Owl_monkey</td>\n",
       "    </tr>\n",
       "    <tr>\n",
       "      <th>10</th>\n",
       "      <td>0.101</td>\n",
       "      <td>4.000</td>\n",
       "      <td>Ground_squirrel</td>\n",
       "    </tr>\n",
       "    <tr>\n",
       "      <th>13</th>\n",
       "      <td>0.005</td>\n",
       "      <td>0.140</td>\n",
       "      <td>Lesser_short-tailed-shrew</td>\n",
       "    </tr>\n",
       "    <tr>\n",
       "      <th>34</th>\n",
       "      <td>6.800</td>\n",
       "      <td>179.003</td>\n",
       "      <td>Rhesus_monkey</td>\n",
       "    </tr>\n",
       "  </tbody>\n",
       "</table>\n",
       "</div>"
      ],
      "text/plain": [
       "    brainwt   bodywt                     animal\n",
       "1     0.480   15.499                 Owl_monkey\n",
       "10    0.101    4.000            Ground_squirrel\n",
       "13    0.005    0.140  Lesser_short-tailed-shrew\n",
       "34    6.800  179.003              Rhesus_monkey"
      ]
     },
     "execution_count": 30,
     "metadata": {},
     "output_type": "execute_result"
    }
   ],
   "source": [
    "animals[animals.bodywt > 25 * animals.brainwt]"
   ]
  },
  {
   "cell_type": "code",
   "execution_count": 29,
   "metadata": {},
   "outputs": [
    {
     "data": {
      "text/plain": [
       "1                    Owl_monkey\n",
       "10              Ground_squirrel\n",
       "13    Lesser_short-tailed-shrew\n",
       "34                Rhesus_monkey\n",
       "Name: animal, dtype: object"
      ]
     },
     "execution_count": 29,
     "metadata": {},
     "output_type": "execute_result"
    }
   ],
   "source": [
    "animals[animals.bodywt > 25 * animals.brainwt]['animal']"
   ]
  },
  {
   "cell_type": "code",
   "execution_count": null,
   "metadata": {},
   "outputs": [],
   "source": []
  }
 ],
 "metadata": {
  "kernelspec": {
   "display_name": "Python 3",
   "language": "python",
   "name": "python3"
  },
  "language_info": {
   "codemirror_mode": {
    "name": "ipython",
    "version": 3
   },
   "file_extension": ".py",
   "mimetype": "text/x-python",
   "name": "python",
   "nbconvert_exporter": "python",
   "pygments_lexer": "ipython3",
   "version": "3.7.3"
  }
 },
 "nbformat": 4,
 "nbformat_minor": 2
}
